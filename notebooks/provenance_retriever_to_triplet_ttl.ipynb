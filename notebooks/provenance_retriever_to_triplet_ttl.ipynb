{
 "cells": [
  {
   "cell_type": "markdown",
   "source": [
    "# Demonstrate provenance system"
   ],
   "metadata": {
    "collapsed": false
   },
   "id": "7fc8b9dd2ec0f4b1"
  },
  {
   "cell_type": "code",
   "execution_count": 1,
   "id": "initial_id",
   "metadata": {
    "collapsed": true,
    "ExecuteTime": {
     "end_time": "2024-04-12T16:01:14.897291Z",
     "start_time": "2024-04-12T16:01:11.945553Z"
    }
   },
   "outputs": [],
   "source": [
    "from pydantic import BaseModel\n",
    "\n",
    "from text2graph.xdd import USGSRetriever\n",
    "from text2graph.llm import ask_llm\n",
    "from text2graph.prompt import PromptHandlerV3\n",
    "from text2graph.alignment import AlignmentHandler\n",
    "from text2graph.schema import Provenance\n",
    "from text2graph.gkm.gkm import triplet_to_rdf, graph_to_ttl_string\n",
    "\n",
    "import logging\n",
    "\n",
    "logging.basicConfig(level=logging.INFO)"
   ]
  },
  {
   "cell_type": "markdown",
   "source": [
    "# run RAG Hybrid endpoint with given query"
   ],
   "metadata": {
    "collapsed": false
   },
   "id": "14c23d64bb3d42cb"
  },
  {
   "cell_type": "code",
   "outputs": [
    {
     "data": {
      "text/plain": "Paragraph(paper_id='5da51b57998e17af8253d343', preprocessor_id='haystack_v0.0.2', doc_type='paragraph', topic_list=['criticalmaas', 'dolomites'], text_content='The Silurian system in the Sequatchie Valley is composed of a thinto medium-bedded alternation of shale~ limestone, siltstone, sandstonej and beds of red iron ore., In the southern part of the valley the succession is more sandy and ferruginouso These beds of Silurian age lie on limestone or shale of Ordovician age, and are overlain disconformably by the Upper\\nDevonian Chattanooga shaleo The Ordovician and Silurian Rockwood group of Tennessee is not everywhere easily divisible into its two componentso The chief lithologic difference is the relative proportion of red shale and limestone: the Ordovician Sequatchie formation is characterized by more of the red shale, and the Silurian beds by more of the limestoneo In Alabama the Silurian Red Mountain formation lies on limestone of Ordovician age o The Silurian succession ranges in thickness from a few feet near the north end of the valley to about 200 feet south of Guntersville, Alao', hashed_text='396da108006a14ff003feb1d3aba1d661598962a3e82cd4e3d0238fa12e48778', cosmos_object_id=None, distance=-69.364685, url=Url('https://pubs.er.usgs.gov/publication/tei470'), provenance=Provenance(id=UUID('15096d05-51bc-4718-99ce-3a51ffe8c854'), source_name='Ask_xDD_hybrid_API', source_url='http://cosmos0001.chtc.wisc.edu:4502', source_version=None, requested=datetime.datetime(2024, 4, 12, 16, 1, 12, 175105), additional_values={'paper_id': '5da51b57998e17af8253d343', 'url': 'https://pubs.er.usgs.gov/publication/tei470', 'preprocessor_id': 'haystack_v0.0.2', 'doc_type': 'paragraph', 'topic_list': ['criticalmaas', 'dolomites'], 'hashed_text': '396da108006a14ff003feb1d3aba1d661598962a3e82cd4e3d0238fa12e48778', 'cosmos_object_id': None, 'distance': -69.364685}, previous=None))"
     },
     "execution_count": 2,
     "metadata": {},
     "output_type": "execute_result"
    }
   ],
   "source": [
    "retriever = USGSRetriever()\n",
    "paragraph = retriever.query_ask_xdd(\"Waldron Shale geological formation Silurian\")\n",
    "paragraph"
   ],
   "metadata": {
    "collapsed": false,
    "ExecuteTime": {
     "end_time": "2024-04-12T16:01:15.415863Z",
     "start_time": "2024-04-12T16:01:14.899758Z"
    }
   },
   "id": "955368f30557eb96",
   "execution_count": 2
  },
  {
   "cell_type": "markdown",
   "source": [
    "# convert paragaph to graph request/ API input\n"
   ],
   "metadata": {
    "collapsed": false
   },
   "id": "79660e33faf03514"
  },
  {
   "cell_type": "code",
   "outputs": [
    {
     "data": {
      "text/plain": "GraphRequest(text='The Silurian system in the Sequatchie Valley is composed of a thinto medium-bedded alternation of shale~ limestone, siltstone, sandstonej and beds of red iron ore., In the southern part of the valley the succession is more sandy and ferruginouso These beds of Silurian age lie on limestone or shale of Ordovician age, and are overlain disconformably by the Upper\\nDevonian Chattanooga shaleo The Ordovician and Silurian Rockwood group of Tennessee is not everywhere easily divisible into its two componentso The chief lithologic difference is the relative proportion of red shale and limestone: the Ordovician Sequatchie formation is characterized by more of the red shale, and the Silurian beds by more of the limestoneo In Alabama the Silurian Red Mountain formation lies on limestone of Ordovician age o The Silurian succession ranges in thickness from a few feet near the north end of the valley to about 200 feet south of Guntersville, Alao', model='gpt-4-turbo-preview', doc_ids=['5da51b57998e17af8253d343'], provenance=Provenance(id=UUID('15096d05-51bc-4718-99ce-3a51ffe8c854'), source_name='Ask_xDD_hybrid_API', source_url='http://cosmos0001.chtc.wisc.edu:4502', source_version=None, requested=datetime.datetime(2024, 4, 12, 16, 1, 12, 175105), additional_values={'paper_id': '5da51b57998e17af8253d343', 'url': 'https://pubs.er.usgs.gov/publication/tei470', 'preprocessor_id': 'haystack_v0.0.2', 'doc_type': 'paragraph', 'topic_list': ['criticalmaas', 'dolomites'], 'hashed_text': '396da108006a14ff003feb1d3aba1d661598962a3e82cd4e3d0238fa12e48778', 'cosmos_object_id': None, 'distance': -69.364685}, previous=None))"
     },
     "execution_count": 3,
     "metadata": {},
     "output_type": "execute_result"
    }
   ],
   "source": [
    "class GraphRequest(BaseModel):\n",
    "    text: str\n",
    "    model: str = \"mixtral\"\n",
    "    doc_ids: list[str] | None = None\n",
    "    provenance: Provenance | None = None\n",
    "    \n",
    "\n",
    "gr = GraphRequest(\n",
    "    text=paragraph.text_content,\n",
    "    model=\"gpt-4-turbo-preview\",\n",
    "    doc_ids = [paragraph.paper_id],\n",
    "    provenance=paragraph.provenance\n",
    ")\n",
    "\n",
    "gr"
   ],
   "metadata": {
    "collapsed": false,
    "ExecuteTime": {
     "end_time": "2024-04-12T16:01:15.424260Z",
     "start_time": "2024-04-12T16:01:15.417077Z"
    }
   },
   "id": "46c233b5b7ca225",
   "execution_count": 3
  },
  {
   "cell_type": "markdown",
   "source": [
    "# Simulate API call"
   ],
   "metadata": {
    "collapsed": false
   },
   "id": "c90ab515c7d97b13"
  },
  {
   "cell_type": "code",
   "outputs": [
    {
     "name": "stderr",
     "output_type": "stream",
     "text": [
      "INFO:sentence_transformers.SentenceTransformer:Load pretrained SentenceTransformer: all-MiniLM-L6-v2\n",
      "INFO:httpx:HTTP Request: POST https://api.openai.com/v1/chat/completions \"HTTP/1.1 200 OK\"\n"
     ]
    },
    {
     "data": {
      "text/plain": "Batches:   0%|          | 0/1 [00:00<?, ?it/s]",
      "application/vnd.jupyter.widget-view+json": {
       "version_major": 2,
       "version_minor": 0,
       "model_id": "bf9a7eecbdd243e9bbf1cb4acc091e06"
      }
     },
     "metadata": {},
     "output_type": "display_data"
    },
    {
     "data": {
      "text/plain": "Batches:   0%|          | 0/1 [00:00<?, ?it/s]",
      "application/vnd.jupyter.widget-view+json": {
       "version_major": 2,
       "version_minor": 0,
       "model_id": "d00ed7fea4144280b806c9ac0db0c691"
      }
     },
     "metadata": {},
     "output_type": "display_data"
    },
    {
     "data": {
      "text/plain": "Batches:   0%|          | 0/1 [00:00<?, ?it/s]",
      "application/vnd.jupyter.widget-view+json": {
       "version_major": 2,
       "version_minor": 0,
       "model_id": "2393451d960d4eb49d58ff785e49c684"
      }
     },
     "metadata": {},
     "output_type": "display_data"
    },
    {
     "data": {
      "text/plain": "Batches:   0%|          | 0/1 [00:00<?, ?it/s]",
      "application/vnd.jupyter.widget-view+json": {
       "version_major": 2,
       "version_minor": 0,
       "model_id": "6e889322d0c143f6b764a64f7569d5fa"
      }
     },
     "metadata": {},
     "output_type": "display_data"
    },
    {
     "data": {
      "text/plain": "Batches:   0%|          | 0/1 [00:00<?, ?it/s]",
      "application/vnd.jupyter.widget-view+json": {
       "version_major": 2,
       "version_minor": 0,
       "model_id": "fcec4fb0dc2e43ddabf3e523da387eb9"
      }
     },
     "metadata": {},
     "output_type": "display_data"
    },
    {
     "name": "stderr",
     "output_type": "stream",
     "text": [
      "INFO:httpx:HTTP Request: GET https://macrostrat.org/api/defs/strat_names?strat_name=Chattanooga \"HTTP/1.1 200 OK\"\n",
      "INFO:httpx:HTTP Request: GET https://macrostrat.org/api/defs/strat_names?strat_name=Sequatchie \"HTTP/1.1 200 OK\"\n",
      "INFO:httpx:HTTP Request: GET https://macrostrat.org/api/defs/strat_names?strat_name=Silurian%20system \"HTTP/1.1 200 OK\"\n",
      "INFO:httpx:HTTP Request: GET https://macrostrat.org/api/defs/strat_names?strat_name=Red%20Mountain \"HTTP/1.1 200 OK\"\n",
      "INFO:httpx:HTTP Request: GET https://macrostrat.org/api/defs/strat_names?strat_name=Rockwood%20group \"HTTP/1.1 200 OK\"\n",
      "WARNING:root:No stratigraphic name found for 'Silurian system'\n",
      "WARNING:root:No stratigraphic name found for 'Rockwood group'\n",
      "INFO:root:No records found for stratigraphy 'Silurian system'\n",
      "INFO:root:No records found for stratigraphy 'Rockwood group'\n",
      "INFO:httpx:HTTP Request: GET https://serpapi.com/search.json?engine=google_maps&q=Sequatchie%20Valley&api_key=7e3bd7b2ab5828e1e23fa6e5bf36775d6de81d9f8b7667b5ce28d2cd4f535e39 \"HTTP/1.1 200 OK\"\n",
      "INFO:httpx:HTTP Request: GET https://serpapi.com/search.json?engine=google_maps&q=Tennessee&api_key=7e3bd7b2ab5828e1e23fa6e5bf36775d6de81d9f8b7667b5ce28d2cd4f535e39 \"HTTP/1.1 200 OK\"\n",
      "INFO:httpx:HTTP Request: GET https://serpapi.com/search.json?engine=google_maps&q=Tennessee&api_key=7e3bd7b2ab5828e1e23fa6e5bf36775d6de81d9f8b7667b5ce28d2cd4f535e39 \"HTTP/1.1 200 OK\"\n",
      "INFO:httpx:HTTP Request: GET https://serpapi.com/search.json?engine=google_maps&q=Alabama&api_key=7e3bd7b2ab5828e1e23fa6e5bf36775d6de81d9f8b7667b5ce28d2cd4f535e39 \"HTTP/1.1 200 OK\"\n",
      "INFO:httpx:HTTP Request: GET https://serpapi.com/search.json?engine=google_maps&q=Sequatchie%20Valley&api_key=7e3bd7b2ab5828e1e23fa6e5bf36775d6de81d9f8b7667b5ce28d2cd4f535e39 \"HTTP/1.1 200 OK\"\n"
     ]
    }
   ],
   "source": [
    "triplets_result = await ask_llm(\n",
    "    text=gr.text,\n",
    "    prompt_handler=PromptHandlerV3(),\n",
    "    model=gr.model,\n",
    "    temperature=0,\n",
    "    to_triplets=True,\n",
    "    alignment_handler=AlignmentHandler.load(\n",
    "            \"data/known_entity_embeddings/all-MiniLM-L6-v2\"\n",
    "        ),\n",
    "    doc_ids=gr.doc_ids,\n",
    "    provenance=gr.provenance,\n",
    ")"
   ],
   "metadata": {
    "collapsed": false,
    "ExecuteTime": {
     "end_time": "2024-04-12T16:01:29.475086Z",
     "start_time": "2024-04-12T16:01:15.425518Z"
    }
   },
   "id": "3fa651e914a75205",
   "execution_count": 4
  },
  {
   "cell_type": "code",
   "outputs": [],
   "source": [
    "# View results\n",
    "# triplets_result.model_dump()"
   ],
   "metadata": {
    "collapsed": false,
    "ExecuteTime": {
     "end_time": "2024-04-12T16:01:29.479802Z",
     "start_time": "2024-04-12T16:01:29.476888Z"
    }
   },
   "id": "d54e2a0383e417f",
   "execution_count": 5
  },
  {
   "cell_type": "markdown",
   "source": [
    "# Persist to disk"
   ],
   "metadata": {
    "collapsed": false
   },
   "id": "662c2fbaa2294c6b"
  },
  {
   "cell_type": "code",
   "outputs": [],
   "source": [
    "from text2graph.gkm.gkm import triplet_to_rdf, graph_to_ttl_string\n",
    "\n",
    "import logging\n",
    "\n",
    "logging.basicConfig(level=logging.INFO)\n",
    "\n",
    "\n",
    "from text2graph.schema import GraphOutput\n",
    "from pathlib import Path\n",
    "import json\n",
    "from uuid import UUID \n",
    "from datetime import datetime\n",
    "#GraphOutput(**triplets_result.model_dump())\n",
    "\n",
    "class MyEncoder(json.JSONEncoder):\n",
    "    def default(self, obj):\n",
    "        if isinstance(obj, UUID):\n",
    "            # if the obj is uuid, we simply return the value of uuid\n",
    "            return obj.hex\n",
    "        if isinstance(obj, datetime):\n",
    "            return obj.isoformat()\n",
    "        return json.JSONEncoder.default(self, obj)\n",
    "\n",
    "\n",
    "testing_triplets_path = Path(\"data/testing_triplets.json\")\n",
    "if not testing_triplets_path.exists():\n",
    "    with open(testing_triplets_path, 'w') as f:\n",
    "        json.dump(triplets_result.model_dump(), f, cls=MyEncoder)\n",
    "\n",
    "with open(testing_triplets_path, 'r') as f:\n",
    "    testing_triplets = GraphOutput(**json.load(f))\n"
   ],
   "metadata": {
    "collapsed": false,
    "ExecuteTime": {
     "end_time": "2024-04-12T16:07:38.481234Z",
     "start_time": "2024-04-12T16:07:38.473731Z"
    }
   },
   "id": "86b57a802346d59",
   "execution_count": 28
  },
  {
   "cell_type": "markdown",
   "source": [
    "# show example hydrated Stratigraphy"
   ],
   "metadata": {
    "collapsed": false
   },
   "id": "f3caef0c5fe44761"
  },
  {
   "cell_type": "code",
   "outputs": [
    {
     "data": {
      "text/plain": "Stratigraphy(strat_name='Chattanooga', strat_name_long='Chattanooga Formation', rank='Fm', strat_name_id=7412, concept_id=1000, bed='', bed_id=0, mbr='', mbr_id=0, fm='Chattanooga', fm_id=7412, subgp='', subgp_id=0, gp='', gp_id=0, sgp='', sgp_id=0, b_age=393.3, t_age=351.5, b_period='Devonian', t_period='Carboniferous', c_interval='', t_units=1, ref_id=19, provenance=Provenance(id=UUID('87599786-af32-4d47-8e48-2fbe4194e774'), source_name='Macrostrat', source_url='https://macrostrat.org/api/defs/strat_names?strat_name_id=7412', source_version=2, requested=datetime.datetime(2024, 4, 12, 16, 1, 12, 175105), additional_values=None, previous=Provenance(id=UUID('c2010a5c-10fe-4e63-ad51-50df68ea964d'), source_name='OpenAIModel', source_url=None, source_version='gpt-4-turbo-preview', requested=datetime.datetime(2024, 4, 12, 16, 1, 12, 175105), additional_values={'temperature': 0, 'prompt': 'v3', 'doc_ids': ['5da51b57998e17af8253d343']}, previous=Provenance(id=UUID('15096d05-51bc-4718-99ce-3a51ffe8c854'), source_name='Ask_xDD_hybrid_API', source_url='http://cosmos0001.chtc.wisc.edu:4502', source_version=None, requested=datetime.datetime(2024, 4, 12, 16, 1, 12, 175105), additional_values={'paper_id': '5da51b57998e17af8253d343', 'url': 'https://pubs.er.usgs.gov/publication/tei470', 'preprocessor_id': 'haystack_v0.0.2', 'doc_type': 'paragraph', 'topic_list': ['criticalmaas', 'dolomites'], 'hashed_text': '396da108006a14ff003feb1d3aba1d661598962a3e82cd4e3d0238fa12e48778', 'cosmos_object_id': None, 'distance': -69.364685}, previous=None))))"
     },
     "execution_count": 30,
     "metadata": {},
     "output_type": "execute_result"
    }
   ],
   "source": [
    "example_triplet = testing_triplets.triplets[1]\n",
    "example_triplet.object"
   ],
   "metadata": {
    "collapsed": false,
    "ExecuteTime": {
     "end_time": "2024-04-12T16:07:44.945203Z",
     "start_time": "2024-04-12T16:07:44.941341Z"
    }
   },
   "id": "d85af537c41fdf25",
   "execution_count": 30
  },
  {
   "cell_type": "markdown",
   "source": [
    "# Create TTL formatted triple output "
   ],
   "metadata": {
    "collapsed": false
   },
   "id": "7bbd792fee7e9f91"
  },
  {
   "cell_type": "code",
   "outputs": [
    {
     "name": "stdout",
     "output_type": "stream",
     "text": [
      "@prefix gsgu: <https://w3id.org/gso/geologicunit/> .\n",
      "@prefix gsoc: <https://w3id.org/gso/1.0/common/> .\n",
      "@prefix gsog: <https://w3id.org/gso/geology/> .\n",
      "@prefix gspr: <https://w3id.org/gso/geologicprocess/> .\n",
      "@prefix gst: <https://w3id.org/gso/geologictime/> .\n",
      "@prefix msl: <https://macrostrat.org/lexicon/> .\n",
      "@prefix pav: <http://purl.org/pav/> .\n",
      "@prefix prov: <http://www.w3.org/ns/prov#> .\n",
      "@prefix rdfs: <http://www.w3.org/2000/01/rdf-schema#> .\n",
      "@prefix xdd: <https://xdd.wisc.edu/lexicon/> .\n",
      "@prefix xsd: <http://www.w3.org/2001/XMLSchema#> .\n",
      "\n",
      "msl:ChattanoogaFormation a gsgu:Formation ;\n",
      "    rdfs:label \"Chattanooga Formation\"@en ;\n",
      "    prov:wasGeneratedBy xdd:OpenAIModel_query ;\n",
      "    gsoc:hasQuality [ a gsoc:SpatialLocation ;\n",
      "            gsoc:hasValue [ a gsoc:WKT_Value ;\n",
      "                    prov:wasGeneratedBy xdd:SERPAPIQuery ;\n",
      "                    gsoc:hasDataValue \"( POINT -85.6180227 35.0195229 )\" ;\n",
      "                    gsoc:hasReferenceSystem <https://epsg.io/4326> ],\n",
      "                [ a gsoc:SpatialValue ;\n",
      "                    gsoc:hasDataValue \"Sequatchie Valley\"@en ] ] ;\n",
      "    gsoc:isParticipantIn [ a gspr:Deposition ;\n",
      "            rdfs:label \"Deposition during Devonian\"@en ;\n",
      "            prov:wasGeneratedBy msl:MacrostratQuery ;\n",
      "            gsoc:occupiesTimeDirectly gst:DevonianPeriod ],\n",
      "        [ a gspr:Deposition ;\n",
      "            rdfs:label \"Deposition during Carboniferous\"@en ;\n",
      "            prov:wasGeneratedBy msl:MacrostratQuery ;\n",
      "            gsoc:occupiesTimeDirectly gst:CarboniferousPeriod ] ;\n",
      "    gsoc:occupiesTimeDirectly [ a gsog:Geologic_Time_Interval ;\n",
      "            prov:wasGeneratedBy msl:MacrostratQuery ;\n",
      "            gsoc:hasQuality [ a gsoc:Time_Interval_Location ;\n",
      "                    gsoc:hasValue [ a gsoc:Temporal_Range ;\n",
      "                            gsoc:hasEndValue [ a gsoc:Time_Numeric_Value ;\n",
      "                                    gsoc:hasDataValue 3.515e+02 ] ;\n",
      "                            gsoc:hasStartValue [ a gsoc:Time_Numeric_Value ;\n",
      "                                    gsoc:hasDataValue 3.933e+02 ] ] ] ] .\n",
      "\n",
      "<https://epsg.io/4326> a gsoc:Geographic_Coordinate_System .\n",
      "\n",
      "msl:Macrostrat a prov:entity ;\n",
      "    pav:version \"2\"^^xsd:string .\n",
      "\n",
      "xdd:Ask_xDD_hybrid_API a prov:entity ;\n",
      "    rdfs:label \"Ask_xDD_hybrid_API\"@en ;\n",
      "    pav:version \"None\"^^xsd:string ;\n",
      "    prov:used xdd:XDDCorpus .\n",
      "\n",
      "xdd:OpenAIModel a prov:entity ;\n",
      "    pav:version \"gpt-4-turbo-preview\"^^xsd:string .\n",
      "\n",
      "xdd:OpenAIModel_query a prov:activity ;\n",
      "    prov:startedAtTime \"2024-04-12T16:01:12.175105\"^^xsd:dateTime ;\n",
      "    prov:used xdd:Ask_xDD_hybrid_API,\n",
      "        xdd:OpenAIModel .\n",
      "\n",
      "xdd:SERPAPI a prov:entity ;\n",
      "    pav:version \"None\"^^xsd:string .\n",
      "\n",
      "xdd:SERPAPIQuery a prov:activity ;\n",
      "    prov:atLocation \"https://serpapi.com/search.json?engine=google_maps&q=Sequatchie Valley\"^^xsd:anyURI ;\n",
      "    prov:requestedAt \"2024-04-12T11:01:29.414995\"^^xsd:dateTime ;\n",
      "    prov:used xdd:SERPAPI .\n",
      "\n",
      "xdd:XDDCorpus a prov:entity ;\n",
      "    rdfs:label \"xDD document ids\"@en ;\n",
      "    prov:used xdd:XDDTextPreProcessor ;\n",
      "    xdd:docID \"5da51b57998e17af8253d343\"^^xsd:string ;\n",
      "    xdd:docURL \"https://pubs.er.usgs.gov/publication/tei470\"^^xsd:anyURI .\n",
      "\n",
      "xdd:XDDTextPreProcessor a prov:entity ;\n",
      "    rdfs:label \"haystack_v0.0.2\"@en ;\n",
      "    pav:version \"haystack_v0.0.2\"^^xsd:string .\n",
      "\n",
      "msl:MacrostratQuery a prov:activity ;\n",
      "    prov:atLocation \"https://macrostrat.org/api/defs/strat_names?strat_name_id=7412\"^^xsd:anyURI ;\n",
      "    prov:requestedAt \"2024-04-12T16:01:12.175105\"^^xsd:dateTime ;\n",
      "    prov:used msl:Macrostrat .\n"
     ]
    }
   ],
   "source": [
    "output_ttl_path = Path(\"data/test_triplet.ttl\")\n",
    "print(\n",
    "    graph_to_ttl_string(\n",
    "        g=triplet_to_rdf(triplet=example_triplet),\n",
    "        filename=output_ttl_path\n",
    "    )\n",
    ")"
   ],
   "metadata": {
    "collapsed": false,
    "ExecuteTime": {
     "end_time": "2024-04-12T16:07:52.030291Z",
     "start_time": "2024-04-12T16:07:52.019873Z"
    }
   },
   "id": "afd432df72d8a99",
   "execution_count": 31
  },
  {
   "cell_type": "code",
   "outputs": [],
   "source": [],
   "metadata": {
    "collapsed": false,
    "ExecuteTime": {
     "end_time": "2024-04-12T16:01:29.545460Z",
     "start_time": "2024-04-12T16:01:29.542830Z"
    }
   },
   "id": "b4ce2448ab69c16d",
   "execution_count": 11
  }
 ],
 "metadata": {
  "kernelspec": {
   "display_name": "Python 3",
   "language": "python",
   "name": "python3"
  },
  "language_info": {
   "codemirror_mode": {
    "name": "ipython",
    "version": 2
   },
   "file_extension": ".py",
   "mimetype": "text/x-python",
   "name": "python",
   "nbconvert_exporter": "python",
   "pygments_lexer": "ipython2",
   "version": "2.7.6"
  }
 },
 "nbformat": 4,
 "nbformat_minor": 5
}
