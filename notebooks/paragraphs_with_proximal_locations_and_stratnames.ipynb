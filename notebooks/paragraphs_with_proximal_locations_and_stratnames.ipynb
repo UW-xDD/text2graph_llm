{
 "cells": [
  {
   "metadata": {
    "ExecuteTime": {
     "end_time": "2024-04-29T16:15:39.128780Z",
     "start_time": "2024-04-29T16:15:39.125347Z"
    }
   },
   "cell_type": "code",
   "source": [
    "# use jason's pre processed docs in the squlite DB\n",
    "# for each triplet in triplets table\n",
    "# desearlized pydantic triplet\n",
    "# if subjet/Stratigraphy has t_unts (i.e. location data available, keeper)\n",
    "# else not keeper\n",
    "\n",
    "# for each keeper triplet:\n",
    "#   subject and object have geolocation? (no -> not use bucket)\n",
    "#   subject and object within cutoff distance of each other? (no -> not use bucket)\n",
    "#   \n",
    "# \n",
    "# get paragrpah from vectorDB w/ hash ID\n",
    "\n",
    "# crate "
   ],
   "id": "486f88a8aaad0c43",
   "outputs": [],
   "execution_count": 1
  },
  {
   "metadata": {},
   "cell_type": "markdown",
   "source": "# open DB, get triplets in graphooutputs",
   "id": "255463caa9256965"
  },
  {
   "metadata": {
    "ExecuteTime": {
     "end_time": "2024-04-30T19:25:13.719937Z",
     "start_time": "2024-04-30T19:25:08.874909Z"
    }
   },
   "cell_type": "code",
   "source": [
    "import sqlite3\n",
    "from datetime import datetime\n",
    "\n",
    "# con = sqlite3.connect(\"data/triplets.db\")\n",
    "con = sqlite3.connect(\"data/data_dump_240430.db\")\n",
    "cur = con.cursor()\n",
    "\n",
    "#get DB table schema\n",
    "# res = cur.execute(\"\"\"SELECT *\n",
    "#   FROM sqlite_schema AS m\n",
    "#  WHERE m.type='table'\n",
    "#  ORDER BY 1;\"\"\")\n",
    "# res.fetchone()\n",
    "\n",
    "COLUMN_LOOKUP = { \n",
    "    'index': 0,\n",
    "    'id': 1,\n",
    "    \"job_id\": 2,\n",
    "    \"hashed_txt\": 3,\n",
    "    \"paper_id\": 4,\n",
    "    \"triplets\": 5\n",
    "}\n",
    "\n",
    "res = cur.execute(\"\"\"SELECT * FROM triplets;\"\"\")\n",
    "triplet_db_tuples = res.fetchall()\n"
   ],
   "id": "6a682095dfa61bb8",
   "outputs": [],
   "execution_count": 33
  },
  {
   "metadata": {
    "ExecuteTime": {
     "end_time": "2024-04-30T19:26:00.259543Z",
     "start_time": "2024-04-30T19:26:00.255395Z"
    }
   },
   "cell_type": "code",
   "source": "triplet_db_tuples[0][COLUMN_LOOKUP['id']]",
   "id": "3d1947f85968a1d3",
   "outputs": [
    {
     "data": {
      "text/plain": [
       "'5223e6aa-bcd9-4e32-b3f2-eaa070ef356e'"
      ]
     },
     "execution_count": 40,
     "metadata": {},
     "output_type": "execute_result"
    }
   ],
   "execution_count": 40
  },
  {
   "metadata": {},
   "cell_type": "code",
   "outputs": [],
   "execution_count": null,
   "source": "",
   "id": "5f064332cd27d0e1"
  },
  {
   "metadata": {},
   "cell_type": "markdown",
   "source": "# create graphoutput objects - cram triplet db info into provenance",
   "id": "a8ec40e55f832f64"
  },
  {
   "metadata": {
    "ExecuteTime": {
     "end_time": "2024-04-30T21:44:16.017529Z",
     "start_time": "2024-04-30T21:42:56.037730Z"
    }
   },
   "cell_type": "code",
   "source": [
    "import asyncio\n",
    "from typing import Any\n",
    "from tqdm.auto import tqdm\n",
    "from pydantic import ValidationError\n",
    "from collections import Counter\n",
    "\n",
    "from text2graph.schema import GraphOutput\n",
    "from text2graph.geolocation.geocode import RateLimitedClient\n",
    "\n",
    "def filter_triplet_db_tuples(triplet_db_tuples: list[tuple[Any, Any, Any, Any, Any]]) -> tuple[list[GraphOutput], list[int]]:\n",
    "    \"\"\"\n",
    "    read db tuples, ignore those with no triplets and those with validation errs\n",
    "    :param triplet_db_tuples: listof tuples from sqlite3 db triplet table\n",
    "    :return: list of graphoutput objects, list of triplet_tuples indexes with validation errors\n",
    "    \"\"\"\n",
    "    filtered_graphoutputs = []\n",
    "    triplet_counts = []\n",
    "    validation_error_indexes = []\n",
    "    for i, graphoutput in tqdm(enumerate(triplet_db_tuples)):\n",
    "        \n",
    "        if not graphoutput[COLUMN_LOOKUP['triplets']]:\n",
    "            continue\n",
    "        try:\n",
    "            go = GraphOutput.model_validate_json(graphoutput[COLUMN_LOOKUP['triplets']])\n",
    "        except ValidationError:\n",
    "            validation_error_indexes.append(i)\n",
    "            continue\n",
    "        \n",
    "        if go.triplets:\n",
    "            for triplet in go.triplets:\n",
    "               triplet.provenance.additional_values[\"triplet_db\"] = {\n",
    "                 \"triplet_db_pk\": graphoutput[COLUMN_LOOKUP['id']], \"paragraph_hash\": COLUMN_LOOKUP['hashed_txt'], \"xdd_id\":graphoutput[COLUMN_LOOKUP['paper_id']] \n",
    "               }\n",
    "            triplet_counts.append(len(go.triplets))\n",
    "            filtered_graphoutputs.append(go)\n",
    "    print(f\"total_triplets_output: {sum(triplet_counts)}\")\n",
    "    return filtered_graphoutputs, validation_error_indexes\n",
    "\n",
    "filtered_graphoutputs, validation_error_indexes = filter_triplet_db_tuples(triplet_db_tuples)\n",
    "print(len(filtered_graphoutputs), len(validation_error_indexes))"
   ],
   "id": "8eb8627d02ac316e",
   "outputs": [
    {
     "data": {
      "text/plain": [
       "0it [00:00, ?it/s]"
      ],
      "application/vnd.jupyter.widget-view+json": {
       "version_major": 2,
       "version_minor": 0,
       "model_id": "1bae0fa4bb9c4f07a5181314337a8722"
      }
     },
     "metadata": {},
     "output_type": "display_data"
    },
    {
     "name": "stdout",
     "output_type": "stream",
     "text": [
      "total_triplets_output: 783856\n",
      "153074 0\n"
     ]
    }
   ],
   "execution_count": 99
  },
  {
   "metadata": {
    "ExecuteTime": {
     "end_time": "2024-04-30T21:50:26.380111Z",
     "start_time": "2024-04-30T21:50:25.822167Z"
    }
   },
   "cell_type": "code",
   "source": [
    "print(len(filtered_graphoutputs), len(validation_error_indexes))\n",
    "print(\n",
    "    f\"number of pre-existing t_units entries (hydration check): \"\n",
    "    f\"{sum([1 for go in filtered_graphoutputs for triplet in go.triplets if triplet.object.t_units and triplet.object.t_units > 0])}\"\n",
    ")\n",
    "filtered_graphoutputs[1]"
   ],
   "id": "6381942f7db6c9fb",
   "outputs": [
    {
     "name": "stdout",
     "output_type": "stream",
     "text": [
      "153074 0\n",
      "number of pre-existing t_units entries (hydration check): 1\n"
     ]
    },
    {
     "data": {
      "text/plain": [
       "GraphOutput(triplets=[RelationshipTriplet(subject=Location(name='Australia', lat=None, lon=None, provenance=Provenance(id=UUID('ac501d4a-e290-4f95-8cd9-5369e244a9b2'), source_name='OpenSourceModel', source_url=None, source_version='mixtral', requested=datetime.datetime(2024, 4, 29, 16, 15, 39, 540622, tzinfo=datetime.timezone.utc), additional_values={'temperature': 0.0, 'prompt': 'v3', 'doc_ids': ['620c0c1fad0e9c819b020518']}, previous=None)), predicate='has', object=Stratigraphy(strat_name='gold reserves', strat_name_long=None, rank=None, strat_name_id=None, concept_id=None, bed=None, bed_id=None, mbr=None, mbr_id=None, fm=None, fm_id=None, subgp=None, subgp_id=None, gp=None, gp_id=None, sgp=None, sgp_id=None, b_age=None, t_age=None, b_period=None, t_period=None, c_interval=None, t_units=None, ref_id=None, lat=None, lon=None, provenance=Provenance(id=UUID('c3952bfc-09e0-41aa-b24c-2a90af2730b4'), source_name='OpenSourceModel', source_url=None, source_version='mixtral', requested=datetime.datetime(2024, 4, 29, 16, 15, 39, 540622, tzinfo=datetime.timezone.utc), additional_values={'temperature': 0.0, 'prompt': 'v3', 'doc_ids': ['620c0c1fad0e9c819b020518']}, previous=None)), provenance=Provenance(id=UUID('51152a59-bd05-41af-afff-414834d7ec57'), source_name='OpenSourceModel', source_url=None, source_version='mixtral', requested=datetime.datetime(2024, 4, 29, 16, 15, 39, 540622, tzinfo=datetime.timezone.utc), additional_values={'temperature': 0.0, 'prompt': 'v3', 'doc_ids': ['620c0c1fad0e9c819b020518'], 'triplet_db': {'triplet_db_pk': '51d2c1c4-2bc5-4371-b772-b149fd908574', 'paragraph_hash': 3, 'xdd_id': '620c0c1fad0e9c819b020518'}}, previous=None)), RelationshipTriplet(subject=Location(name='South Africa', lat=None, lon=None, provenance=Provenance(id=UUID('8577fe3d-ff8a-4759-8ff1-43e07ec6ece9'), source_name='OpenSourceModel', source_url=None, source_version='mixtral', requested=datetime.datetime(2024, 4, 29, 16, 15, 39, 540622, tzinfo=datetime.timezone.utc), additional_values={'temperature': 0.0, 'prompt': 'v3', 'doc_ids': ['620c0c1fad0e9c819b020518']}, previous=None)), predicate='has', object=Stratigraphy(strat_name='gold reserves', strat_name_long=None, rank=None, strat_name_id=None, concept_id=None, bed=None, bed_id=None, mbr=None, mbr_id=None, fm=None, fm_id=None, subgp=None, subgp_id=None, gp=None, gp_id=None, sgp=None, sgp_id=None, b_age=None, t_age=None, b_period=None, t_period=None, c_interval=None, t_units=None, ref_id=None, lat=None, lon=None, provenance=Provenance(id=UUID('4bbfdb67-5642-4ecb-9cfd-8a529f6e6052'), source_name='OpenSourceModel', source_url=None, source_version='mixtral', requested=datetime.datetime(2024, 4, 29, 16, 15, 39, 540622, tzinfo=datetime.timezone.utc), additional_values={'temperature': 0.0, 'prompt': 'v3', 'doc_ids': ['620c0c1fad0e9c819b020518']}, previous=None)), provenance=Provenance(id=UUID('f0cdaab2-3be3-4716-8f1b-dc26fafd596c'), source_name='OpenSourceModel', source_url=None, source_version='mixtral', requested=datetime.datetime(2024, 4, 29, 16, 15, 39, 540622, tzinfo=datetime.timezone.utc), additional_values={'temperature': 0.0, 'prompt': 'v3', 'doc_ids': ['620c0c1fad0e9c819b020518'], 'triplet_db': {'triplet_db_pk': '51d2c1c4-2bc5-4371-b772-b149fd908574', 'paragraph_hash': 3, 'xdd_id': '620c0c1fad0e9c819b020518'}}, previous=None)), RelationshipTriplet(subject=Location(name='Russia', lat=None, lon=None, provenance=Provenance(id=UUID('b2848ead-aebc-4713-80e0-9d31bf2990d9'), source_name='OpenSourceModel', source_url=None, source_version='mixtral', requested=datetime.datetime(2024, 4, 29, 16, 15, 39, 540622, tzinfo=datetime.timezone.utc), additional_values={'temperature': 0.0, 'prompt': 'v3', 'doc_ids': ['620c0c1fad0e9c819b020518']}, previous=None)), predicate='has', object=Stratigraphy(strat_name='gold reserves', strat_name_long=None, rank=None, strat_name_id=None, concept_id=None, bed=None, bed_id=None, mbr=None, mbr_id=None, fm=None, fm_id=None, subgp=None, subgp_id=None, gp=None, gp_id=None, sgp=None, sgp_id=None, b_age=None, t_age=None, b_period=None, t_period=None, c_interval=None, t_units=None, ref_id=None, lat=None, lon=None, provenance=Provenance(id=UUID('7ac62186-5b41-47c4-8865-1ff5b37b0d71'), source_name='OpenSourceModel', source_url=None, source_version='mixtral', requested=datetime.datetime(2024, 4, 29, 16, 15, 39, 540622, tzinfo=datetime.timezone.utc), additional_values={'temperature': 0.0, 'prompt': 'v3', 'doc_ids': ['620c0c1fad0e9c819b020518']}, previous=None)), provenance=Provenance(id=UUID('adbed16d-8fb1-471d-930c-59e47226fba1'), source_name='OpenSourceModel', source_url=None, source_version='mixtral', requested=datetime.datetime(2024, 4, 29, 16, 15, 39, 540622, tzinfo=datetime.timezone.utc), additional_values={'temperature': 0.0, 'prompt': 'v3', 'doc_ids': ['620c0c1fad0e9c819b020518'], 'triplet_db': {'triplet_db_pk': '51d2c1c4-2bc5-4371-b772-b149fd908574', 'paragraph_hash': 3, 'xdd_id': '620c0c1fad0e9c819b020518'}}, previous=None)), RelationshipTriplet(subject=Location(name='Chile', lat=None, lon=None, provenance=Provenance(id=UUID('d21e3c1e-d7b8-4b0b-b5c6-5ecfb3f9db2b'), source_name='OpenSourceModel', source_url=None, source_version='mixtral', requested=datetime.datetime(2024, 4, 29, 16, 15, 39, 540622, tzinfo=datetime.timezone.utc), additional_values={'temperature': 0.0, 'prompt': 'v3', 'doc_ids': ['620c0c1fad0e9c819b020518']}, previous=None)), predicate='has', object=Stratigraphy(strat_name='gold reserves', strat_name_long=None, rank=None, strat_name_id=None, concept_id=None, bed=None, bed_id=None, mbr=None, mbr_id=None, fm=None, fm_id=None, subgp=None, subgp_id=None, gp=None, gp_id=None, sgp=None, sgp_id=None, b_age=None, t_age=None, b_period=None, t_period=None, c_interval=None, t_units=None, ref_id=None, lat=None, lon=None, provenance=Provenance(id=UUID('46555bab-b7a4-4303-b725-61f12995991d'), source_name='OpenSourceModel', source_url=None, source_version='mixtral', requested=datetime.datetime(2024, 4, 29, 16, 15, 39, 540622, tzinfo=datetime.timezone.utc), additional_values={'temperature': 0.0, 'prompt': 'v3', 'doc_ids': ['620c0c1fad0e9c819b020518']}, previous=None)), provenance=Provenance(id=UUID('6d78f061-dd56-4fb5-87aa-95dbc246d15f'), source_name='OpenSourceModel', source_url=None, source_version='mixtral', requested=datetime.datetime(2024, 4, 29, 16, 15, 39, 540622, tzinfo=datetime.timezone.utc), additional_values={'temperature': 0.0, 'prompt': 'v3', 'doc_ids': ['620c0c1fad0e9c819b020518'], 'triplet_db': {'triplet_db_pk': '51d2c1c4-2bc5-4371-b772-b149fd908574', 'paragraph_hash': 3, 'xdd_id': '620c0c1fad0e9c819b020518'}}, previous=None)), RelationshipTriplet(subject=Location(name='United States', lat=None, lon=None, provenance=Provenance(id=UUID('4093cb00-a2e0-48ba-b757-c4045e1c4890'), source_name='OpenSourceModel', source_url=None, source_version='mixtral', requested=datetime.datetime(2024, 4, 29, 16, 15, 39, 540622, tzinfo=datetime.timezone.utc), additional_values={'temperature': 0.0, 'prompt': 'v3', 'doc_ids': ['620c0c1fad0e9c819b020518']}, previous=None)), predicate='has', object=Stratigraphy(strat_name='gold reserves', strat_name_long=None, rank=None, strat_name_id=None, concept_id=None, bed=None, bed_id=None, mbr=None, mbr_id=None, fm=None, fm_id=None, subgp=None, subgp_id=None, gp=None, gp_id=None, sgp=None, sgp_id=None, b_age=None, t_age=None, b_period=None, t_period=None, c_interval=None, t_units=None, ref_id=None, lat=None, lon=None, provenance=Provenance(id=UUID('4a9dbcc9-6132-4a5a-ba15-8d2b8461ba65'), source_name='OpenSourceModel', source_url=None, source_version='mixtral', requested=datetime.datetime(2024, 4, 29, 16, 15, 39, 540622, tzinfo=datetime.timezone.utc), additional_values={'temperature': 0.0, 'prompt': 'v3', 'doc_ids': ['620c0c1fad0e9c819b020518']}, previous=None)), provenance=Provenance(id=UUID('d8f43cd9-1580-4dbe-995d-e0f7a07b78c0'), source_name='OpenSourceModel', source_url=None, source_version='mixtral', requested=datetime.datetime(2024, 4, 29, 16, 15, 39, 540622, tzinfo=datetime.timezone.utc), additional_values={'temperature': 0.0, 'prompt': 'v3', 'doc_ids': ['620c0c1fad0e9c819b020518'], 'triplet_db': {'triplet_db_pk': '51d2c1c4-2bc5-4371-b772-b149fd908574', 'paragraph_hash': 3, 'xdd_id': '620c0c1fad0e9c819b020518'}}, previous=None)), RelationshipTriplet(subject=Location(name='Indonesia', lat=None, lon=None, provenance=Provenance(id=UUID('39b64df5-fbc8-4f3e-9503-25c3ef6e5c0d'), source_name='OpenSourceModel', source_url=None, source_version='mixtral', requested=datetime.datetime(2024, 4, 29, 16, 15, 39, 540622, tzinfo=datetime.timezone.utc), additional_values={'temperature': 0.0, 'prompt': 'v3', 'doc_ids': ['620c0c1fad0e9c819b020518']}, previous=None)), predicate='has', object=Stratigraphy(strat_name='gold reserves', strat_name_long=None, rank=None, strat_name_id=None, concept_id=None, bed=None, bed_id=None, mbr=None, mbr_id=None, fm=None, fm_id=None, subgp=None, subgp_id=None, gp=None, gp_id=None, sgp=None, sgp_id=None, b_age=None, t_age=None, b_period=None, t_period=None, c_interval=None, t_units=None, ref_id=None, lat=None, lon=None, provenance=Provenance(id=UUID('7be91129-d871-4616-92c3-251b3a90bd4a'), source_name='OpenSourceModel', source_url=None, source_version='mixtral', requested=datetime.datetime(2024, 4, 29, 16, 15, 39, 540622, tzinfo=datetime.timezone.utc), additional_values={'temperature': 0.0, 'prompt': 'v3', 'doc_ids': ['620c0c1fad0e9c819b020518']}, previous=None)), provenance=Provenance(id=UUID('1452a1a8-a1fd-4ee0-b7b0-037c406365cb'), source_name='OpenSourceModel', source_url=None, source_version='mixtral', requested=datetime.datetime(2024, 4, 29, 16, 15, 39, 540622, tzinfo=datetime.timezone.utc), additional_values={'temperature': 0.0, 'prompt': 'v3', 'doc_ids': ['620c0c1fad0e9c819b020518'], 'triplet_db': {'triplet_db_pk': '51d2c1c4-2bc5-4371-b772-b149fd908574', 'paragraph_hash': 3, 'xdd_id': '620c0c1fad0e9c819b020518'}}, previous=None)), RelationshipTriplet(subject=Location(name='Ghana', lat=None, lon=None, provenance=Provenance(id=UUID('63ed7b78-8c58-491e-8630-ecf1438ca751'), source_name='OpenSourceModel', source_url=None, source_version='mixtral', requested=datetime.datetime(2024, 4, 29, 16, 15, 39, 540622, tzinfo=datetime.timezone.utc), additional_values={'temperature': 0.0, 'prompt': 'v3', 'doc_ids': ['620c0c1fad0e9c819b020518']}, previous=None)), predicate='ranks', object=Stratigraphy(strat_name='11th in global gold reserve tonnages', strat_name_long=None, rank=None, strat_name_id=None, concept_id=None, bed=None, bed_id=None, mbr=None, mbr_id=None, fm=None, fm_id=None, subgp=None, subgp_id=None, gp=None, gp_id=None, sgp=None, sgp_id=None, b_age=None, t_age=None, b_period=None, t_period=None, c_interval=None, t_units=None, ref_id=None, lat=None, lon=None, provenance=Provenance(id=UUID('3f467f2d-56c8-401d-9d72-7bba332df77b'), source_name='OpenSourceModel', source_url=None, source_version='mixtral', requested=datetime.datetime(2024, 4, 29, 16, 15, 39, 540622, tzinfo=datetime.timezone.utc), additional_values={'temperature': 0.0, 'prompt': 'v3', 'doc_ids': ['620c0c1fad0e9c819b020518']}, previous=None)), provenance=Provenance(id=UUID('37fa231e-8902-415b-a288-347cc3fa6762'), source_name='OpenSourceModel', source_url=None, source_version='mixtral', requested=datetime.datetime(2024, 4, 29, 16, 15, 39, 540622, tzinfo=datetime.timezone.utc), additional_values={'temperature': 0.0, 'prompt': 'v3', 'doc_ids': ['620c0c1fad0e9c819b020518'], 'triplet_db': {'triplet_db_pk': '51d2c1c4-2bc5-4371-b772-b149fd908574', 'paragraph_hash': 3, 'xdd_id': '620c0c1fad0e9c819b020518'}}, previous=None)), RelationshipTriplet(subject=Location(name='Mali', lat=None, lon=None, provenance=Provenance(id=UUID('9bc2f348-e63e-4604-92f7-c81c2ed329a4'), source_name='OpenSourceModel', source_url=None, source_version='mixtral', requested=datetime.datetime(2024, 4, 29, 16, 15, 39, 540622, tzinfo=datetime.timezone.utc), additional_values={'temperature': 0.0, 'prompt': 'v3', 'doc_ids': ['620c0c1fad0e9c819b020518']}, previous=None)), predicate='is included in', object=Stratigraphy(strat_name=\"'other countries' classification\", strat_name_long=None, rank=None, strat_name_id=None, concept_id=None, bed=None, bed_id=None, mbr=None, mbr_id=None, fm=None, fm_id=None, subgp=None, subgp_id=None, gp=None, gp_id=None, sgp=None, sgp_id=None, b_age=None, t_age=None, b_period=None, t_period=None, c_interval=None, t_units=None, ref_id=None, lat=None, lon=None, provenance=Provenance(id=UUID('3ba08e1a-5982-400d-addb-6dadfa34b66e'), source_name='OpenSourceModel', source_url=None, source_version='mixtral', requested=datetime.datetime(2024, 4, 29, 16, 15, 39, 540622, tzinfo=datetime.timezone.utc), additional_values={'temperature': 0.0, 'prompt': 'v3', 'doc_ids': ['620c0c1fad0e9c819b020518']}, previous=None)), provenance=Provenance(id=UUID('133e9879-eb8c-4a2d-8401-72d8616b68aa'), source_name='OpenSourceModel', source_url=None, source_version='mixtral', requested=datetime.datetime(2024, 4, 29, 16, 15, 39, 540622, tzinfo=datetime.timezone.utc), additional_values={'temperature': 0.0, 'prompt': 'v3', 'doc_ids': ['620c0c1fad0e9c819b020518'], 'triplet_db': {'triplet_db_pk': '51d2c1c4-2bc5-4371-b772-b149fd908574', 'paragraph_hash': 3, 'xdd_id': '620c0c1fad0e9c819b020518'}}, previous=None)), RelationshipTriplet(subject=Location(name='Tanzania', lat=None, lon=None, provenance=Provenance(id=UUID('1ccf6abd-15fe-468d-abca-b5cbada638e7'), source_name='OpenSourceModel', source_url=None, source_version='mixtral', requested=datetime.datetime(2024, 4, 29, 16, 15, 39, 540622, tzinfo=datetime.timezone.utc), additional_values={'temperature': 0.0, 'prompt': 'v3', 'doc_ids': ['620c0c1fad0e9c819b020518']}, previous=None)), predicate='is included in', object=Stratigraphy(strat_name=\"'other countries' classification\", strat_name_long=None, rank=None, strat_name_id=None, concept_id=None, bed=None, bed_id=None, mbr=None, mbr_id=None, fm=None, fm_id=None, subgp=None, subgp_id=None, gp=None, gp_id=None, sgp=None, sgp_id=None, b_age=None, t_age=None, b_period=None, t_period=None, c_interval=None, t_units=None, ref_id=None, lat=None, lon=None, provenance=Provenance(id=UUID('e345a0de-f3df-4f2d-b766-696efd7aa46a'), source_name='OpenSourceModel', source_url=None, source_version='mixtral', requested=datetime.datetime(2024, 4, 29, 16, 15, 39, 540622, tzinfo=datetime.timezone.utc), additional_values={'temperature': 0.0, 'prompt': 'v3', 'doc_ids': ['620c0c1fad0e9c819b020518']}, previous=None)), provenance=Provenance(id=UUID('7fb1f4d4-f938-403c-9d4f-5726a644ede2'), source_name='OpenSourceModel', source_url=None, source_version='mixtral', requested=datetime.datetime(2024, 4, 29, 16, 15, 39, 540622, tzinfo=datetime.timezone.utc), additional_values={'temperature': 0.0, 'prompt': 'v3', 'doc_ids': ['620c0c1fad0e9c819b020518'], 'triplet_db': {'triplet_db_pk': '51d2c1c4-2bc5-4371-b772-b149fd908574', 'paragraph_hash': 3, 'xdd_id': '620c0c1fad0e9c819b020518'}}, previous=None)), RelationshipTriplet(subject=Location(name='Democratic Republic of Congo', lat=None, lon=None, provenance=Provenance(id=UUID('5cd692aa-7afa-4033-8558-ec1afe2e222b'), source_name='OpenSourceModel', source_url=None, source_version='mixtral', requested=datetime.datetime(2024, 4, 29, 16, 15, 39, 540622, tzinfo=datetime.timezone.utc), additional_values={'temperature': 0.0, 'prompt': 'v3', 'doc_ids': ['620c0c1fad0e9c819b020518']}, previous=None)), predicate='is included in', object=Stratigraphy(strat_name=\"'other countries' classification\", strat_name_long=None, rank=None, strat_name_id=None, concept_id=None, bed=None, bed_id=None, mbr=None, mbr_id=None, fm=None, fm_id=None, subgp=None, subgp_id=None, gp=None, gp_id=None, sgp=None, sgp_id=None, b_age=None, t_age=None, b_period=None, t_period=None, c_interval=None, t_units=None, ref_id=None, lat=None, lon=None, provenance=Provenance(id=UUID('6f3fe04a-3c5b-453c-a418-1677c102bf91'), source_name='OpenSourceModel', source_url=None, source_version='mixtral', requested=datetime.datetime(2024, 4, 29, 16, 15, 39, 540622, tzinfo=datetime.timezone.utc), additional_values={'temperature': 0.0, 'prompt': 'v3', 'doc_ids': ['620c0c1fad0e9c819b020518']}, previous=None)), provenance=Provenance(id=UUID('bd18a252-a022-4253-8039-61ee380864ee'), source_name='OpenSourceModel', source_url=None, source_version='mixtral', requested=datetime.datetime(2024, 4, 29, 16, 15, 39, 540622, tzinfo=datetime.timezone.utc), additional_values={'temperature': 0.0, 'prompt': 'v3', 'doc_ids': ['620c0c1fad0e9c819b020518'], 'triplet_db': {'triplet_db_pk': '51d2c1c4-2bc5-4371-b772-b149fd908574', 'paragraph_hash': 3, 'xdd_id': '620c0c1fad0e9c819b020518'}}, previous=None)), RelationshipTriplet(subject=Location(name='Zimbabwe', lat=None, lon=None, provenance=Provenance(id=UUID('8b8bb1e7-ba56-4dbd-a78a-00ad43f63dd1'), source_name='OpenSourceModel', source_url=None, source_version='mixtral', requested=datetime.datetime(2024, 4, 29, 16, 15, 39, 540622, tzinfo=datetime.timezone.utc), additional_values={'temperature': 0.0, 'prompt': 'v3', 'doc_ids': ['620c0c1fad0e9c819b020518']}, previous=None)), predicate='is included in', object=Stratigraphy(strat_name=\"'other countries' classification\", strat_name_long=None, rank=None, strat_name_id=None, concept_id=None, bed=None, bed_id=None, mbr=None, mbr_id=None, fm=None, fm_id=None, subgp=None, subgp_id=None, gp=None, gp_id=None, sgp=None, sgp_id=None, b_age=None, t_age=None, b_period=None, t_period=None, c_interval=None, t_units=None, ref_id=None, lat=None, lon=None, provenance=Provenance(id=UUID('394fcd5f-5a23-485c-b7bf-7df829cab8dc'), source_name='OpenSourceModel', source_url=None, source_version='mixtral', requested=datetime.datetime(2024, 4, 29, 16, 15, 39, 540622, tzinfo=datetime.timezone.utc), additional_values={'temperature': 0.0, 'prompt': 'v3', 'doc_ids': ['620c0c1fad0e9c819b020518']}, previous=None)), provenance=Provenance(id=UUID('90737013-cf4f-4124-b189-8f42a1a771ad'), source_name='OpenSourceModel', source_url=None, source_version='mixtral', requested=datetime.datetime(2024, 4, 29, 16, 15, 39, 540622, tzinfo=datetime.timezone.utc), additional_values={'temperature': 0.0, 'prompt': 'v3', 'doc_ids': ['620c0c1fad0e9c819b020518'], 'triplet_db': {'triplet_db_pk': '51d2c1c4-2bc5-4371-b772-b149fd908574', 'paragraph_hash': 3, 'xdd_id': '620c0c1fad0e9c819b020518'}}, previous=None)), RelationshipTriplet(subject=Location(name='Mozambique', lat=None, lon=None, provenance=Provenance(id=UUID('dca4d727-c7d6-4c31-b9a0-4feaf7b96be4'), source_name='OpenSourceModel', source_url=None, source_version='mixtral', requested=datetime.datetime(2024, 4, 29, 16, 15, 39, 540622, tzinfo=datetime.timezone.utc), additional_values={'temperature': 0.0, 'prompt': 'v3', 'doc_ids': ['620c0c1fad0e9c819b020518']}, previous=None)), predicate='is included in', object=Stratigraphy(strat_name=\"'other countries' classification\", strat_name_long=None, rank=None, strat_name_id=None, concept_id=None, bed=None, bed_id=None, mbr=None, mbr_id=None, fm=None, fm_id=None, subgp=None, subgp_id=None, gp=None, gp_id=None, sgp=None, sgp_id=None, b_age=None, t_age=None, b_period=None, t_period=None, c_interval=None, t_units=None, ref_id=None, lat=None, lon=None, provenance=Provenance(id=UUID('a1d67f33-6ac2-4189-b32f-1db60a4f08de'), source_name='OpenSourceModel', source_url=None, source_version='mixtral', requested=datetime.datetime(2024, 4, 29, 16, 15, 39, 540622, tzinfo=datetime.timezone.utc), additional_values={'temperature': 0.0, 'prompt': 'v3', 'doc_ids': ['620c0c1fad0e9c819b020518']}, previous=None)), provenance=Provenance(id=UUID('c1b1c6e7-6299-45e3-a83f-e3df44f7160b'), source_name='OpenSourceModel', source_url=None, source_version='mixtral', requested=datetime.datetime(2024, 4, 29, 16, 15, 39, 540622, tzinfo=datetime.timezone.utc), additional_values={'temperature': 0.0, 'prompt': 'v3', 'doc_ids': ['620c0c1fad0e9c819b020518'], 'triplet_db': {'triplet_db_pk': '51d2c1c4-2bc5-4371-b772-b149fd908574', 'paragraph_hash': 3, 'xdd_id': '620c0c1fad0e9c819b020518'}}, previous=None))])"
      ]
     },
     "execution_count": 107,
     "metadata": {},
     "output_type": "execute_result"
    }
   ],
   "execution_count": 107
  },
  {
   "metadata": {
    "ExecuteTime": {
     "end_time": "2024-04-30T21:50:36.053060Z",
     "start_time": "2024-04-30T21:50:36.048889Z"
    }
   },
   "cell_type": "code",
   "source": "len(filtered_graphoutputs[::1000])",
   "id": "af5e78ff19deb377",
   "outputs": [
    {
     "data": {
      "text/plain": [
       "154"
      ]
     },
     "execution_count": 108,
     "metadata": {},
     "output_type": "execute_result"
    }
   ],
   "execution_count": 108
  },
  {
   "metadata": {
    "ExecuteTime": {
     "end_time": "2024-04-30T21:55:22.302974Z",
     "start_time": "2024-04-30T21:50:36.381929Z"
    }
   },
   "cell_type": "code",
   "source": [
    "# hydrate subsample of filtered GraphOutputs, and test for keepers \n",
    "import logging\n",
    "\n",
    "logging.basicConfig(level=logging.INFO)\n",
    "\n",
    "keeper_triplets = []\n",
    "not_keeper_triplets = []\n",
    "keeper_counts = []\n",
    "not_keeper_counts = []\n",
    "for i, go in tqdm(enumerate(filtered_graphoutputs[::1000])):\n",
    "    await go.hydrate(client=RateLimitedClient(interval=1.5))\n",
    "    for triplet in go.triplets:\n",
    "        if triplet.object.t_units and triplet.object.t_units >= 1:\n",
    "            keeper_triplets.append(triplet)\n",
    "        else:\n",
    "            not_keeper_triplets.append(triplet)\n",
    "    \n",
    "    keeper_counts.append(len(keeper_triplets))\n",
    "    not_keeper_counts.append(len(not_keeper_triplets))\n",
    "\n",
    "print(f\"keeper_counts: {sum(keeper_counts)}, not_keeper_counts: {sum(not_keeper_counts)}\") \n",
    "    "
   ],
   "id": "8a29fed16512be1",
   "outputs": [
    {
     "data": {
      "text/plain": [
       "0it [00:00, ?it/s]"
      ],
      "application/vnd.jupyter.widget-view+json": {
       "version_major": 2,
       "version_minor": 0,
       "model_id": "418d857703fa451db7b2914e3a2cf8c5"
      }
     },
     "metadata": {},
     "output_type": "display_data"
    },
    {
     "name": "stderr",
     "output_type": "stream",
     "text": [
      "WARNING:root:No stratigraphic name found for 'Vedron'\n",
      "WARNING:root:No stratigraphic name found for 'Simpson Lake'\n",
      "WARNING:root:Location hydrate geocode api request failed for 31 Zone structure projections: response.status_code=200 response.content=b'[]'\n",
      "WARNING:root:Location hydrate geocode api request failed for 31 Zone structure projections: response.status_code=200 response.content=b'[]'\n",
      "WARNING:root:No stratigraphic name found for 'Millard County'\n",
      "WARNING:root:No stratigraphic name found for 'Harvest Pond 2'\n",
      "WARNING:root:No stratigraphic name found for 'Pre-Concentration Pond 1'\n",
      "WARNING:root:No stratigraphic name found for 'Harvest Pond 3'\n",
      "WARNING:root:No stratigraphic name found for 'Harvest Pond 1'\n",
      "WARNING:root:Location hydrate geocode api request failed for Sevier Playa Potash Project: response.status_code=200 response.content=b'[]'\n",
      "WARNING:root:Location hydrate geocode api request failed for Southern end of the Playa: response.status_code=200 response.content=b'[]'\n",
      "WARNING:root:Location hydrate geocode api request failed for Southern end of the Playa: response.status_code=200 response.content=b'[]'\n",
      "WARNING:root:Location hydrate geocode api request failed for Southern end of the Playa: response.status_code=200 response.content=b'[]'\n",
      "WARNING:root:Location hydrate geocode api request failed for Southern end of the Playa: response.status_code=200 response.content=b'[]'\n",
      "WARNING:root:No stratigraphic name found for 'Lakefield'\n",
      "WARNING:root:Location hydrate geocode api request failed for QCM warehouse: response.status_code=200 response.content=b'[]'\n",
      "WARNING:root:No stratigraphic name found for 'volcanogenic massive sulphide (VMS) type deposits'\n",
      "WARNING:root:No stratigraphic name found for 'volcanogenic massive sulphide (VMS) type deposits'\n",
      "WARNING:root:No stratigraphic name found for 'gold occurrence and arsenic (1.2 g/t Au and 12.5% As)'\n",
      "WARNING:root:Location hydrate geocode api request failed for Lac des Montagnes volcano-sedimentary formation: response.status_code=200 response.content=b'[]'\n",
      "WARNING:root:Location hydrate geocode api request failed for Horne Mine in Rouyn-Noranda and the Matagami Lake Mine in Matagami: response.status_code=200 response.content=b'[]'\n",
      "WARNING:root:Location hydrate geocode api request failed for Lac Sillimanite area: response.status_code=200 response.content=b'[]'\n",
      "WARNING:root:No stratigraphic name found for 'Tanzania'\n",
      "WARNING:root:No stratigraphic name found for 'road network'\n",
      "WARNING:root:No stratigraphic name found for 'road network'\n",
      "WARNING:root:No stratigraphic name found for 'Nghai Schist Belt'\n",
      "WARNING:root:No stratigraphic name found for 'Ntaka Hill area'\n",
      "WARNING:root:No stratigraphic name found for 'Nachingwea joint venture'\n",
      "WARNING:root:No stratigraphic name found for 'Nachingwea joint venture'\n",
      "WARNING:root:Location hydrate geocode api request failed for Nachingwea joint venture: response.status_code=200 response.content=b'[]'\n",
      "WARNING:root:Location hydrate geocode api request failed for Nghai Schist Belt: response.status_code=200 response.content=b'[]'\n",
      "WARNING:root:Location hydrate geocode api request failed for sealed highway: response.status_code=200 response.content=b'[]'\n",
      "WARNING:root:Location hydrate geocode api request failed for all-weather dirt road: response.status_code=200 response.content=b'[]'\n",
      "WARNING:root:Location hydrate geocode api request failed for Ntaka Hill area: response.status_code=200 response.content=b'[]'\n",
      "WARNING:root:Location hydrate geocode api request failed for Mnero village/mission: response.status_code=200 response.content=b'[]'\n",
      "WARNING:root:No stratigraphic name found for 'tripuhyite'\n",
      "WARNING:root:No stratigraphic name found for 'tetrahedrite'\n",
      "WARNING:root:No stratigraphic name found for 'Hess Offset Dyke'\n",
      "WARNING:root:No stratigraphic name found for 'a trend of EM anomalies'\n",
      "WARNING:root:No stratigraphic name found for 'Hess Offset Dyke'\n",
      "WARNING:root:No stratigraphic name found for 'Nort h Range of the SIC'\n",
      "WARNING:root:No stratigraphic name found for 'approximately 13km2 of the SIC contact'\n",
      "WARNING:root:No stratigraphic name found for 'SIC contact'\n",
      "WARNING:root:Location hydrate geocode api request failed for Ermatinger Property: response.status_code=200 response.content=b'[]'\n",
      "WARNING:root:Location hydrate geocode api request failed for Trill West Property: response.status_code=200 response.content=b'[]'\n",
      "WARNING:root:Location hydrate geocode api request failed for Windy Lake property: response.status_code=200 response.content=b'[]'\n",
      "WARNING:root:Location hydrate geocode api request failed for Windy Lake property: response.status_code=200 response.content=b'[]'\n",
      "WARNING:root:Location hydrate geocode api request failed for an important ore hosting environment in Sudbury: response.status_code=200 response.content=b'[]'\n",
      "WARNING:root:No stratigraphic name found for 'paste pH close to neutral value of 7'\n",
      "WARNING:root:No stratigraphic name found for 'non-PAG or PAG'\n",
      "WARNING:root:No stratigraphic name found for 'NPR in the range of 1 – 2'\n",
      "WARNING:root:Location hydrate geocode api request failed for NPR range of 1 – 2: response.status_code=200 response.content=b'[]'\n",
      "WARNING:root:Location hydrate geocode api request failed for ELK project samples: response.status_code=200 response.content=b'[]'\n",
      "WARNING:root:Location hydrate geocode api request failed for ELK samples: response.status_code=200 response.content=b'[]'\n",
      "WARNING:root:No stratigraphic name found for 'April 30, 2003'\n",
      "WARNING:root:No stratigraphic name found for 'March 23, 2004'\n",
      "WARNING:root:No stratigraphic name found for 'Mineral Properties'\n",
      "WARNING:root:No stratigraphic name found for 'FNX Mining Company Inc.'\n",
      "WARNING:root:No stratigraphic name found for 'Fort Knox Gold Resources Inc.'\n",
      "WARNING:root:No stratigraphic name found for 'March 23, 2002'\n",
      "WARNING:root:No stratigraphic name found for 'February 28, 2005'\n",
      "WARNING:root:No stratigraphic name found for 'Malmani Subgroup'\n",
      "WARNING:root:No stratigraphic name found for 'Magaliesberg Formation of the Proterozoic Transvaal Supergroup'\n",
      "WARNING:root:No stratigraphic name found for 'Magaliesberg Formation of the Proterozoic Transvaal Supergroup'\n",
      "WARNING:root:No stratigraphic name found for 'Duitschland Formation'\n",
      "WARNING:root:No stratigraphic name found for 'Chromitite Zone (CZ)'\n",
      "WARNING:root:No stratigraphic name found for 'UG2 chromitite'\n",
      "WARNING:root:No stratigraphic name found for 'Merensky Reef'\n",
      "WARNING:root:No stratigraphic name found for 'Marginal Zone (MZN)'\n",
      "WARNING:root:No stratigraphic name found for 'Platreef'\n",
      "WARNING:root:Location hydrate geocode api request failed for East and West Limbs of the Bushveld Igneous Complex (BIC): response.status_code=200 response.content=b'[]'\n",
      "WARNING:root:Location hydrate geocode api request failed for East and West Limbs of the BIC: response.status_code=200 response.content=b'[]'\n",
      "WARNING:root:Location hydrate geocode api request failed for North Limb of the BIC: response.status_code=200 response.content=b'[]'\n",
      "WARNING:root:Location hydrate geocode api request failed for North Limb of the BIC: response.status_code=200 response.content=b'[]'\n",
      "WARNING:root:Location hydrate geocode api request failed for North Limb of the BIC: response.status_code=200 response.content=b'[]'\n",
      "WARNING:root:Location hydrate geocode api request failed for East and West Limbs of the BIC: response.status_code=200 response.content=b'[]'\n",
      "WARNING:root:Location hydrate geocode api request failed for East and West Limbs of the BIC: response.status_code=200 response.content=b'[]'\n",
      "WARNING:root:Location hydrate geocode api request failed for East and West Limbs of the BIC: response.status_code=200 response.content=b'[]'\n",
      "WARNING:root:Location hydrate geocode api request failed for North Limb of the BIC: response.status_code=200 response.content=b'[]'\n",
      "WARNING:root:No stratigraphic name found for 'foliated granite'\n",
      "WARNING:root:No stratigraphic name found for 'anorthosite suite of rocks'\n",
      "WARNING:root:No stratigraphic name found for 'pyrometallurgical process for Mingan'\n",
      "WARNING:root:Location hydrate geocode api request failed for Rigaud, Mingan: response.status_code=200 response.content=b'[]'\n",
      "WARNING:root:Location hydrate geocode api request failed for larger scale: response.status_code=200 response.content=b'[]'\n",
      "WARNING:root:Location hydrate geocode api request failed for Magpie deposits: response.status_code=200 response.content=b'[]'\n",
      "WARNING:root:Location hydrate geocode api request failed for Magpie deposits: response.status_code=200 response.content=b'[]'\n",
      "WARNING:root:No stratigraphic name found for 'maroon, hematized, silicified and brecciated sections'\n",
      "WARNING:root:No stratigraphic name found for 'fault/shear zone in the upper portion of the altered mafic volcanics'\n",
      "WARNING:root:No stratigraphic name found for 'brecciated quartz-carbonate veins, pyrite and chalcopyrite'\n",
      "WARNING:root:No stratigraphic name found for 'graphitic zone'\n",
      "WARNING:root:No stratigraphic name found for 'specular hematite, magnetite and pyrite'\n",
      "WARNING:root:No stratigraphic name found for 'mafic volcanic rocks'\n",
      "WARNING:root:Location hydrate geocode api request failed for dark red, very siliceous jasper/chert units: response.status_code=200 response.content=b'[]'\n",
      "WARNING:root:Location hydrate geocode api request failed for a bleached, silicified, iron-carbonate-bearing zone: response.status_code=200 response.content=b'[]'\n",
      "WARNING:root:Location hydrate geocode api request failed for local sections: response.status_code=200 response.content=b'[]'\n",
      "WARNING:root:No stratigraphic name found for 'NA'\n",
      "WARNING:root:No stratigraphic name found for 'NA'\n",
      "WARNING:root:No stratigraphic name found for 'NA'\n",
      "WARNING:root:No stratigraphic name found for 'NA'\n",
      "WARNING:root:No stratigraphic name found for '61% Fe'\n",
      "WARNING:root:No stratigraphic name found for 'NA'\n",
      "WARNING:root:No stratigraphic name found for 'NA'\n",
      "WARNING:root:No stratigraphic name found for 'NA'\n",
      "WARNING:root:Location hydrate geocode api request failed for El Gallo Inferior: response.status_code=200 response.content=b'[]'\n",
      "WARNING:root:Location hydrate geocode api request failed for Chimeneas-Brechas: response.status_code=200 response.content=b'[]'\n",
      "WARNING:root:Location hydrate geocode api request failed for Tajo 6900 and Tajo Mogote: response.status_code=200 response.content=b'[]'\n",
      "WARNING:root:Location hydrate geocode api request failed for Iron ore concentrates: response.status_code=200 response.content=b'[]'\n",
      "WARNING:root:No stratigraphic name found for 'not specified'\n",
      "WARNING:root:No stratigraphic name found for 'not specified'\n",
      "WARNING:root:No stratigraphic name found for 'not specified'\n",
      "WARNING:root:No stratigraphic name found for 'not specified'\n",
      "WARNING:root:No stratigraphic name found for 'not specified'\n",
      "WARNING:root:Location hydrate geocode api request failed for Robinson: response.status_code=429 response.content=b'HTTP 429: Too Many Requests\\r\\n\\r\\nYou are submitting too many requests, i.e. more than allowed by your geocoding plan subscription (1 per second for free accounts).\\r\\n\\r\\nFor faster geocoding, please upgrade at https://geocode.maps.co/plans/\\r\\n\\r\\nIf you continue to submit too many requests you may be permanently blocked.'\n",
      "WARNING:root:Location hydrate geocode api request failed for not specified: response.status_code=200 response.content=b'[]'\n",
      "WARNING:root:Location hydrate geocode api request failed for not specified: response.status_code=200 response.content=b'[]'\n",
      "WARNING:root:No stratigraphic name found for 'contract drilling personnel'\n",
      "WARNING:root:No stratigraphic name found for 'Stawell Gold Mines’ Geology Team'\n",
      "WARNING:root:No stratigraphic name found for 'casing advancing technologies'\n",
      "WARNING:root:Location hydrate geocode api request failed for some project areas: response.status_code=200 response.content=b'[]'\n",
      "WARNING:root:No stratigraphic name found for 'sample intervals'\n",
      "WARNING:root:No stratigraphic name found for 'stratigraphic position'\n",
      "WARNING:root:Location hydrate geocode api request failed for Copperbelt-style mineralisation: response.status_code=200 response.content=b'[]'\n",
      "WARNING:root:No stratigraphic name found for 'flotation tailings'\n",
      "WARNING:root:No stratigraphic name found for 'pyrite concentrate from the +75 micron feed'\n",
      "WARNING:root:No stratigraphic name found for 'a significant amount of gold follows the uranium'\n",
      "WARNING:root:No stratigraphic name found for 'uranium will be concentrated'\n",
      "WARNING:root:Location hydrate geocode api request failed for MWS plant: response.status_code=429 response.content=b'HTTP 429: Too Many Requests\\r\\n\\r\\nYou are submitting too many requests, i.e. more than allowed by your geocoding plan subscription (1 per second for free accounts).\\r\\n\\r\\nFor faster geocoding, please upgrade at https://geocode.maps.co/plans/\\r\\n\\r\\nIf you continue to submit too many requests you may be permanently blocked.'\n",
      "WARNING:root:Location hydrate geocode api request failed for CIL circuit: response.status_code=200 response.content=b'[]'\n",
      "WARNING:root:Location hydrate geocode api request failed for gold plant expansion: response.status_code=200 response.content=b'[]'\n",
      "WARNING:root:Location hydrate geocode api request failed for test work: response.status_code=200 response.content=b'[]'\n",
      "WARNING:root:No stratigraphic name found for 'Unit Asm'\n",
      "WARNING:root:Location hydrate geocode api request failed for Slave craton: response.status_code=429 response.content=b'HTTP 429: Too Many Requests\\r\\n\\r\\nYou are submitting too many requests, i.e. more than allowed by your geocoding plan subscription (1 per second for free accounts).\\r\\n\\r\\nFor faster geocoding, please upgrade at https://geocode.maps.co/plans/\\r\\n\\r\\nIf you continue to submit too many requests you may be permanently blocked.'\n",
      "WARNING:root:No stratigraphic name found for 'Vein K'\n",
      "WARNING:root:No stratigraphic name found for 'beryl'\n",
      "WARNING:root:No stratigraphic name found for 'spodumene'\n",
      "WARNING:root:Location hydrate geocode api request failed for Mobale: response.status_code=429 response.content=b'HTTP 429: Too Many Requests\\r\\n\\r\\nYou are submitting too many requests, i.e. more than allowed by your geocoding plan subscription (1 per second for free accounts).\\r\\n\\r\\nFor faster geocoding, please upgrade at https://geocode.maps.co/plans/\\r\\n\\r\\nIf you continue to submit too many requests you may be permanently blocked.'\n",
      "WARNING:root:Location hydrate geocode api request failed for pegmatites north of D3: response.status_code=200 response.content=b'[]'\n",
      "WARNING:root:Location hydrate geocode api request failed for pegmatites within D3 and to the south: response.status_code=200 response.content=b'[]'\n",
      "WARNING:root:Location hydrate geocode api request failed for Morrison property: response.status_code=429 response.content=b'HTTP 429: Too Many Requests\\r\\n\\r\\nYou are submitting too many requests, i.e. more than allowed by your geocoding plan subscription (1 per second for free accounts).\\r\\n\\r\\nFor faster geocoding, please upgrade at https://geocode.maps.co/plans/\\r\\n\\r\\nIf you continue to submit too many requests you may be permanently blocked.'\n",
      "WARNING:root:No stratigraphic name found for '>ŝƐƚ Durban'\n",
      "WARNING:root:No stratigraphic name found for 'ŝĚĞŶƚŝĨŝĞĚ Boven'\n",
      "WARNING:root:No stratigraphic name found for 'ĂƵŶĂ Pearson'\n",
      "WARNING:root:No stratigraphic name found for 'ĂŶĚ Beaufort'\n",
      "WARNING:root:No stratigraphic name found for 'ŚŝŐŚůǇ Beaufort'\n",
      "WARNING:root:No stratigraphic name found for 'ĂƐ Ecca'\n",
      "WARNING:root:No stratigraphic name found for 'ĚƵƌŝŶŐ Ecca'\n",
      "WARNING:root:No stratigraphic name found for 'ŵĂŵŵĂů Pearon'\n",
      "WARNING:root:No stratigraphic name found for 'WƌŝŽƌŝƚǇ Clairwood'\n",
      "WARNING:root:No stratigraphic name found for '70.0 million tonnes'\n",
      "WARNING:root:No stratigraphic name found for '91.2 million tonnes'\n",
      "WARNING:root:No stratigraphic name found for '657.9 million tonnes'\n",
      "WARNING:root:No stratigraphic name found for '100 million tonnes per year'\n",
      "WARNING:root:No stratigraphic name found for '1.78 billion tonnes'\n",
      "WARNING:root:No stratigraphic name found for '0.58'\n",
      "WARNING:root:No stratigraphic name found for 'tonnages'\n",
      "WARNING:root:Location hydrate geocode api request failed for life of mine total material from the pit: response.status_code=200 response.content=b'[]'\n",
      "WARNING:root:Location hydrate geocode api request failed for preproduction: response.status_code=200 response.content=b'[]'\n",
      "WARNING:root:Location hydrate geocode api request failed for Year 1 total material: response.status_code=200 response.content=b'[]'\n",
      "WARNING:root:Location hydrate geocode api request failed for peak material movement: response.status_code=200 response.content=b'[]'\n",
      "WARNING:root:Location hydrate geocode api request failed for total waste: response.status_code=200 response.content=b'[]'\n",
      "WARNING:root:Location hydrate geocode api request failed for waste to ore ratio: response.status_code=200 response.content=b'[]'\n",
      "WARNING:root:Location hydrate geocode api request failed for this report: response.status_code=200 response.content=b'[]'\n",
      "WARNING:root:No stratigraphic name found for 'Mr Brett Gossage'\n",
      "WARNING:root:No stratigraphic name found for 'the following individuals'\n",
      "WARNING:root:No stratigraphic name found for 'Mr Robert Penter'\n",
      "WARNING:root:Location hydrate geocode api request failed for each of these areas of the report: response.status_code=200 response.content=b'[]'\n",
      "WARNING:root:Location hydrate geocode api request failed for this report: response.status_code=200 response.content=b'[]'\n",
      "WARNING:root:No stratigraphic name found for 'Ag'\n",
      "WARNING:root:No stratigraphic name found for 'Au'\n",
      "WARNING:root:No stratigraphic name found for 'Residual Magnetics'\n",
      "WARNING:root:No stratigraphic name found for 'Double Decker'\n",
      "WARNING:root:No stratigraphic name found for 'As'\n",
      "WARNING:root:No stratigraphic name found for 'Engineer'\n",
      "WARNING:root:No stratigraphic name found for 'Shear A'\n",
      "WARNING:root:No stratigraphic name found for 'Shear B'\n",
      "WARNING:root:No stratigraphic name found for 'Sb'\n",
      "WARNING:root:No stratigraphic name found for 'Shear Zones'\n",
      "WARNING:root:No stratigraphic name found for 'Gold-Rich MMI Anomalies'\n",
      "WARNING:root:Location hydrate geocode api request failed for SkyTEM Total Field Magnetics with Simplified Geology and Mineral Showings: response.status_code=200 response.content=b'[]'\n",
      "WARNING:root:Location hydrate geocode api request failed for Gold-Rich MMI Anomalies overlaying Shear Zones and Residual Magnetics: response.status_code=200 response.content=b'[]'\n",
      "WARNING:root:Location hydrate geocode api request failed for Gold-Rich MMI Anomalies overlaying Shear Zones and Residual Magnetics: response.status_code=200 response.content=b'[]'\n",
      "WARNING:root:Location hydrate geocode api request failed for Gold-Rich MMI Anomalies overlaying Shear Zones and Residual Magnetics: response.status_code=200 response.content=b'[]'\n",
      "WARNING:root:No stratigraphic name found for 'Kennecott assays'\n",
      "WARNING:root:No stratigraphic name found for 'Kennecott assays'\n",
      "WARNING:root:Location hydrate geocode api request failed for Skyline Labs, Tucson, Arizona: response.status_code=200 response.content=b'[]'\n",
      "WARNING:root:Location hydrate geocode api request failed for Rocky Mountain Geochemical, Salt Lake City, Utah: response.status_code=200 response.content=b'[]'\n",
      "WARNING:root:No stratigraphic name found for 'greywackes, phyllites, argillites and shales'\n",
      "WARNING:root:No stratigraphic name found for 'De Kock et al., (2002), Allibone et al., (2002), Perrouty et al., (2012) and work conducted by Siddorn et al., (2005)'\n",
      "WARNING:root:No stratigraphic name found for '6 basic units; non-magnetic turbidites, EM and Magnetically responsive turbidites with strong graphitic content, non-magnetic sediments, dominated by greywacke (minor argillite), metavolcanics (non-magnetic), metavolcanics (magnetic) and granite'\n",
      "WARNING:root:No stratigraphic name found for 'isoclinally folded sequence of metasediments'\n",
      "WARNING:root:Location hydrate geocode api request failed for Kumasi Basin: response.status_code=429 response.content=b'HTTP 429: Too Many Requests\\r\\n\\r\\nYou are submitting too many requests, i.e. more than allowed by your geocoding plan subscription (1 per second for free accounts).\\r\\n\\r\\nFor faster geocoding, please upgrade at https://geocode.maps.co/plans/\\r\\n\\r\\nIf you continue to submit too many requests you may be permanently blocked.'\n",
      "WARNING:root:No stratigraphic name found for 'None'\n",
      "WARNING:root:No stratigraphic name found for 'Kalahari sand'\n",
      "WARNING:root:No stratigraphic name found for 'two anomalies of >100ppb Au'\n",
      "WARNING:root:No stratigraphic name found for '>100ppb gold-in-soil anomalies'\n",
      "WARNING:root:Location hydrate geocode api request failed for central part of the gridded area: response.status_code=200 response.content=b'[]'\n",
      "WARNING:root:Location hydrate geocode api request failed for 600m x 200m area underlain by a Karoo dolerite dyke: response.status_code=200 response.content=b'[]'\n",
      "WARNING:root:Location hydrate geocode api request failed for dyke margins: response.status_code=200 response.content=b'[]'\n",
      "WARNING:root:Location hydrate geocode api request failed for this environment (i.e. 38m of calcrete covered by up to 1m of transported Kalahari sand): response.status_code=200 response.content=b'[]'\n",
      "WARNING:root:No stratigraphic name found for '406,000 m2'\n",
      "WARNING:root:No stratigraphic name found for '471,000 m2'\n",
      "WARNING:root:No stratigraphic name found for '698,000 m2'\n",
      "WARNING:root:No stratigraphic name found for '49 Mt'\n",
      "WARNING:root:No stratigraphic name found for '166 Mt'\n",
      "WARNING:root:Location hydrate geocode api request failed for South HLF: response.status_code=429 response.content=b'HTTP 429: Too Many Requests\\r\\n\\r\\nYou are submitting too many requests, i.e. more than allowed by your geocoding plan subscription (1 per second for free accounts).\\r\\n\\r\\nFor faster geocoding, please upgrade at https://geocode.maps.co/plans/\\r\\n\\r\\nIf you continue to submit too many requests you may be permanently blocked.'\n",
      "WARNING:root:No stratigraphic name found for '46 Mt'\n",
      "WARNING:root:No stratigraphic name found for '64% completed'\n",
      "WARNING:root:No stratigraphic name found for '71 Mt'\n",
      "WARNING:root:No stratigraphic name found for '2,048,000 m2'\n",
      "WARNING:root:Location hydrate geocode api request failed for North HLF (Phases 3 to 5): response.status_code=200 response.content=b'[]'\n",
      "WARNING:root:Location hydrate geocode api request failed for North HLF (Phases 3 to 5): response.status_code=200 response.content=b'[]'\n",
      "WARNING:root:Location hydrate geocode api request failed for all 7 phases: response.status_code=200 response.content=b'[]'\n",
      "WARNING:root:Location hydrate geocode api request failed for all 7 phases: response.status_code=200 response.content=b'[]'\n",
      "WARNING:root:No stratigraphic name found for 're-sampled gold assays'\n",
      "WARNING:root:No stratigraphic name found for 'none (not a stratigraphic name)'\n",
      "WARNING:root:No stratigraphic name found for 'none (not a stratigraphic name)'\n",
      "WARNING:root:No stratigraphic name found for 'none (not a stratigraphic name)'\n",
      "WARNING:root:No stratigraphic name found for 're-sampled silver average grades'\n",
      "WARNING:root:Location hydrate geocode api request failed for intervals not previously sampled by MHM: response.status_code=200 response.content=b'[]'\n",
      "WARNING:root:Location hydrate geocode api request failed for zones of narrow stockwork veining: response.status_code=200 response.content=b'[]'\n",
      "WARNING:root:Location hydrate geocode api request failed for the biggest veins: response.status_code=200 response.content=b'[]'\n",
      "WARNING:root:No stratigraphic name found for 'limited amount of mass'\n",
      "WARNING:root:No stratigraphic name found for 'life‐of‐mine (LOM) tonnage'\n",
      "WARNING:root:No stratigraphic name found for 'saprolite and saprock samples'\n",
      "WARNING:root:No stratigraphic name found for 'additional BWi tests'\n",
      "WARNING:root:Location hydrate geocode api request failed for Boto 2/Malikoundi: response.status_code=429 response.content=b'HTTP 429: Too Many Requests\\r\\n\\r\\nYou are submitting too many requests, i.e. more than allowed by your geocoding plan subscription (1 per second for free accounts).\\r\\n\\r\\nFor faster geocoding, please upgrade at https://geocode.maps.co/plans/\\r\\n\\r\\nIf you continue to submit too many requests you may be permanently blocked.'\n",
      "WARNING:root:Location hydrate geocode api request failed for Boto 2/Malikoundi: response.status_code=200 response.content=b'[]'\n",
      "WARNING:root:Location hydrate geocode api request failed for Boto 2/Malikoundi: response.status_code=200 response.content=b'[]'\n",
      "WARNING:root:No stratigraphic name found for 'unknown'\n",
      "WARNING:root:No stratigraphic name found for 'unknown'\n",
      "WARNING:root:No stratigraphic name found for 'unknown'\n",
      "WARNING:root:No stratigraphic name found for 'unknown'\n",
      "WARNING:root:No stratigraphic name found for 'unknown'\n",
      "WARNING:root:No stratigraphic name found for 'unknown'\n",
      "WARNING:root:No stratigraphic name found for 'Morton (2001a)'\n",
      "WARNING:root:Location hydrate geocode api request failed for GBRM site: response.status_code=200 response.content=b'[]'\n",
      "WARNING:root:Location hydrate geocode api request failed for underground sampling: response.status_code=200 response.content=b'[]'\n",
      "WARNING:root:Location hydrate geocode api request failed for mineralized material exposed in crosscuts and stopes: response.status_code=200 response.content=b'[]'\n",
      "WARNING:root:Location hydrate geocode api request failed for underground survey stations: response.status_code=200 response.content=b'[]'\n",
      "WARNING:root:Location hydrate geocode api request failed for host lithologies: response.status_code=200 response.content=b'[]'\n",
      "WARNING:root:Location hydrate geocode api request failed for approximately 1.5 m from, and parallel to, the sill: response.status_code=200 response.content=b'[]'\n",
      "WARNING:root:Location hydrate geocode api request failed for clean 20L buckets: response.status_code=200 response.content=b'[]'\n",
      "WARNING:root:Location hydrate geocode api request failed for 18 cm by 24 cm plastic sample bag: response.status_code=200 response.content=b'[]'\n",
      "WARNING:root:No stratigraphic name found for 'polishing pond east dam'\n",
      "WARNING:root:No stratigraphic name found for 'Three Duck Lakes (Upper)'\n",
      "WARNING:root:No stratigraphic name found for 'Chester Lake'\n",
      "WARNING:root:No stratigraphic name found for 'Côté Lake dam'\n",
      "WARNING:root:Location hydrate geocode api request failed for Clam Lake: response.status_code=429 response.content=b'HTTP 429: Too Many Requests\\r\\n\\r\\nYou are submitting too many requests, i.e. more than allowed by your geocoding plan subscription (1 per second for free accounts).\\r\\n\\r\\nFor faster geocoding, please upgrade at https://geocode.maps.co/plans/\\r\\n\\r\\nIf you continue to submit too many requests you may be permanently blocked.'\n",
      "WARNING:root:Location hydrate geocode api request failed for Three Duck Lakes (Upper): response.status_code=200 response.content=b'[]'\n",
      "WARNING:root:No stratigraphic name found for 'sulphide-rich gold mineralization'\n",
      "WARNING:root:No stratigraphic name found for 'sulphide-poor quartz vein stockwork'\n",
      "WARNING:root:No stratigraphic name found for 'episode 2'\n",
      "WARNING:root:No stratigraphic name found for 'episode 1'\n",
      "WARNING:root:Location hydrate geocode api request failed for Detour Lake and West Detour deposits: response.status_code=200 response.content=b'[]'\n",
      "WARNING:root:Location hydrate geocode api request failed for hangingwall of the SLDZ: response.status_code=200 response.content=b'[]'\n",
      "WARNING:root:Location hydrate geocode api request failed for hangingwall of the SLDZ: response.status_code=200 response.content=b'[]'\n",
      "WARNING:root:Location hydrate geocode api request failed for structural sites in deformed quartz veins, fractures and veins crosscutting the foliation fabric but also in pillow: response.status_code=200 response.content=b'[]'\n",
      "WARNING:root:No stratigraphic name found for 'west of the George Lake belt'\n",
      "WARNING:root:No stratigraphic name found for 'late, north to northeast steep-dipping brittle faults'\n",
      "WARNING:root:No stratigraphic name found for 'Kanosak High Strain Zone'\n",
      "WARNING:root:Location hydrate geocode api request failed for Kanosak High Strain Zone: response.status_code=429 response.content=b'HTTP 429: Too Many Requests\\r\\n\\r\\nYou are submitting too many requests, i.e. more than allowed by your geocoding plan subscription (1 per second for free accounts).\\r\\n\\r\\nFor faster geocoding, please upgrade at https://geocode.maps.co/plans/\\r\\n\\r\\nIf you continue to submit too many requests you may be permanently blocked.'\n",
      "WARNING:root:No stratigraphic name found for 'Drill Lake'\n",
      "WARNING:root:No stratigraphic name found for 'All Night Lake'\n",
      "WARNING:root:No stratigraphic name found for 'float, wheel, and skied aircraft and helicopters'\n",
      "WARNING:root:No stratigraphic name found for 'municipal airport'\n",
      "WARNING:root:No stratigraphic name found for 'Speers Lake'\n",
      "WARNING:root:No stratigraphic name found for 'Mouse Lake'\n",
      "WARNING:root:No stratigraphic name found for 'float, wheel, and skied aircraft and helicopters'\n",
      "WARNING:root:No stratigraphic name found for 'daily commuter flights to and from Kugluktuk'\n",
      "WARNING:root:No stratigraphic name found for 'Kugluktuk'\n",
      "WARNING:root:Location hydrate geocode api request failed for MIE property: response.status_code=429 response.content=b'HTTP 429: Too Many Requests\\r\\n\\r\\nYou are submitting too many requests, i.e. more than allowed by your geocoding plan subscription (1 per second for free accounts).\\r\\n\\r\\nFor faster geocoding, please upgrade at https://geocode.maps.co/plans/\\r\\n\\r\\nIf you continue to submit too many requests you may be permanently blocked.'\n",
      "WARNING:root:Location hydrate geocode api request failed for MIE property: response.status_code=200 response.content=b'[]'\n",
      "WARNING:root:Location hydrate geocode api request failed for MIE property: response.status_code=200 response.content=b'[]'\n",
      "WARNING:root:Location hydrate geocode api request failed for MIE property: response.status_code=200 response.content=b'[]'\n",
      "WARNING:root:Location hydrate geocode api request failed for nearest to the MIE property: response.status_code=200 response.content=b'[]'\n",
      "WARNING:root:No stratigraphic name found for 'uranium production'\n",
      "WARNING:root:No stratigraphic name found for 'approximately 23% of the world's production'\n",
      "WARNING:root:No stratigraphic name found for '1 million pounds of U3O8'\n",
      "WARNING:root:No stratigraphic name found for 'Cigar Lake production'\n",
      "WARNING:root:No stratigraphic name found for 'AMEC Minproc Limited'\n",
      "WARNING:root:No stratigraphic name found for 'Barton A., Lewis S., Binks G., Wylie C.'\n",
      "WARNING:root:No stratigraphic name found for 'Snowden Associates'\n",
      "WARNING:root:No stratigraphic name found for 'AMEC Minproc Limited'\n",
      "WARNING:root:No stratigraphic name found for 'Barton A.'\n",
      "WARNING:root:No stratigraphic name found for 'Snowden Associates'\n",
      "WARNING:root:No stratigraphic name found for 'Barton A.'\n",
      "WARNING:root:Location hydrate geocode api request failed for Taysan Copper Gold Project: response.status_code=200 response.content=b'[]'\n",
      "WARNING:root:Location hydrate geocode api request failed for Taysan Copper Gold Project: response.status_code=200 response.content=b'[]'\n",
      "WARNING:root:Location hydrate geocode api request failed for Taysan Copper Project: response.status_code=200 response.content=b'[]'\n",
      "WARNING:root:Location hydrate geocode api request failed for Taysan Copper Project: response.status_code=200 response.content=b'[]'\n",
      "WARNING:root:Location hydrate geocode api request failed for Taysan Copper Gold Project: response.status_code=200 response.content=b'[]'\n",
      "WARNING:root:Location hydrate geocode api request failed for Taysan Copper-Gold Project: response.status_code=200 response.content=b'[]'\n",
      "WARNING:root:Location hydrate geocode api request failed for Taysan Copper-Gold Project: response.status_code=200 response.content=b'[]'\n",
      "WARNING:root:Location hydrate geocode api request failed for Fox Creek Property: response.status_code=200 response.content=b'[]'\n",
      "WARNING:root:No stratigraphic name found for 'Ontario'\n",
      "WARNING:root:No stratigraphic name found for 'site infrastructure, crushing area, process plant building and equipment, maintenance shop/warehouse, water treatment plant and gate building'\n",
      "WARNING:root:Location hydrate geocode api request failed for Marathon Palladium & Copper Project: response.status_code=429 response.content=b'HTTP 429: Too Many Requests\\r\\n\\r\\nYou are submitting too many requests, i.e. more than allowed by your geocoding plan subscription (1 per second for free accounts).\\r\\n\\r\\nFor faster geocoding, please upgrade at https://geocode.maps.co/plans/\\r\\n\\r\\nIf you continue to submit too many requests you may be permanently blocked.'\n",
      "WARNING:root:Location hydrate geocode api request failed for Marathon Palladium & Copper Project: response.status_code=200 response.content=b'[]'\n",
      "WARNING:root:No stratigraphic name found for 'NA'\n",
      "WARNING:root:No stratigraphic name found for 'NA'\n",
      "WARNING:root:No stratigraphic name found for 'NA'\n",
      "WARNING:root:No stratigraphic name found for 'NA'\n",
      "WARNING:root:No stratigraphic name found for 'NA'\n",
      "WARNING:root:No stratigraphic name found for 'NA'\n",
      "WARNING:root:No stratigraphic name found for 'NA'\n",
      "WARNING:root:No stratigraphic name found for 'NA'\n",
      "WARNING:root:No stratigraphic name found for 'NA'\n",
      "WARNING:root:No stratigraphic name found for 'NA'\n",
      "WARNING:root:No stratigraphic name found for 'NA'\n",
      "WARNING:root:No stratigraphic name found for 'NA'\n",
      "WARNING:root:No stratigraphic name found for 'NA'\n",
      "WARNING:root:No stratigraphic name found for 'NA'\n",
      "WARNING:root:No stratigraphic name found for 'NA'\n",
      "WARNING:root:No stratigraphic name found for 'NA'\n",
      "WARNING:root:No stratigraphic name found for 'NA'\n",
      "WARNING:root:No stratigraphic name found for 'NA'\n",
      "WARNING:root:No stratigraphic name found for 'NA'\n",
      "WARNING:root:No stratigraphic name found for 'NA'\n",
      "WARNING:root:No stratigraphic name found for 'NA'\n",
      "WARNING:root:No stratigraphic name found for 'NA'\n",
      "WARNING:root:No stratigraphic name found for 'NA'\n",
      "WARNING:root:No stratigraphic name found for 'NA'\n",
      "WARNING:root:No stratigraphic name found for 'NA'\n",
      "WARNING:root:No stratigraphic name found for 'NA'\n",
      "WARNING:root:Location hydrate geocode api request failed for Mine Power Supply: response.status_code=200 response.content=b'[]'\n",
      "WARNING:root:Location hydrate geocode api request failed for 73.1 – 73.1m: response.status_code=200 response.content=b'[]'\n",
      "WARNING:root:No stratigraphic name found for 'CA'\n",
      "WARNING:root:No stratigraphic name found for 'CaCO3/ZnCO3 veins'\n",
      "WARNING:root:No stratigraphic name found for 'Serpentine'\n",
      "WARNING:root:No stratigraphic name found for 'G'\n",
      "WARNING:root:No stratigraphic name found for 'BRF'\n",
      "WARNING:root:No stratigraphic name found for 'DBM'\n",
      "WARNING:root:No stratigraphic name found for 'MS'\n",
      "WARNING:root:Location hydrate geocode api request failed for 73.1 – 115.8m: response.status_code=200 response.content=b'[]'\n",
      "WARNING:root:Location hydrate geocode api request failed for 81.9 – 82.3m: response.status_code=200 response.content=b'[]'\n",
      "WARNING:root:Location hydrate geocode api request failed for 92.9 – 94.3m: response.status_code=200 response.content=b'[]'\n",
      "WARNING:root:Location hydrate geocode api request failed for 103.0 – 103.6m: response.status_code=200 response.content=b'[]'\n"
     ]
    },
    {
     "ename": "ReadTimeout",
     "evalue": "",
     "output_type": "error",
     "traceback": [
      "\u001B[0;31m---------------------------------------------------------------------------\u001B[0m",
      "\u001B[0;31mSSLWantReadError\u001B[0m                          Traceback (most recent call last)",
      "File \u001B[0;32m/usr/local/anaconda3/envs/usgs2023/lib/python3.11/site-packages/anyio/streams/tls.py:140\u001B[0m, in \u001B[0;36mTLSStream._call_sslobject_method\u001B[0;34m(self, func, *args)\u001B[0m\n\u001B[1;32m    139\u001B[0m \u001B[38;5;28;01mtry\u001B[39;00m:\n\u001B[0;32m--> 140\u001B[0m     result \u001B[38;5;241m=\u001B[39m \u001B[43mfunc\u001B[49m\u001B[43m(\u001B[49m\u001B[38;5;241;43m*\u001B[39;49m\u001B[43margs\u001B[49m\u001B[43m)\u001B[49m\n\u001B[1;32m    141\u001B[0m \u001B[38;5;28;01mexcept\u001B[39;00m ssl\u001B[38;5;241m.\u001B[39mSSLWantReadError:\n",
      "File \u001B[0;32m/usr/local/anaconda3/envs/usgs2023/lib/python3.11/ssl.py:921\u001B[0m, in \u001B[0;36mSSLObject.read\u001B[0;34m(self, len, buffer)\u001B[0m\n\u001B[1;32m    920\u001B[0m \u001B[38;5;28;01melse\u001B[39;00m:\n\u001B[0;32m--> 921\u001B[0m     v \u001B[38;5;241m=\u001B[39m \u001B[38;5;28;43mself\u001B[39;49m\u001B[38;5;241;43m.\u001B[39;49m\u001B[43m_sslobj\u001B[49m\u001B[38;5;241;43m.\u001B[39;49m\u001B[43mread\u001B[49m\u001B[43m(\u001B[49m\u001B[38;5;28;43mlen\u001B[39;49m\u001B[43m)\u001B[49m\n\u001B[1;32m    922\u001B[0m \u001B[38;5;28;01mreturn\u001B[39;00m v\n",
      "\u001B[0;31mSSLWantReadError\u001B[0m: The operation did not complete (read) (_ssl.c:2580)",
      "\nDuring handling of the above exception, another exception occurred:\n",
      "\u001B[0;31mCancelledError\u001B[0m                            Traceback (most recent call last)",
      "File \u001B[0;32m/usr/local/anaconda3/envs/usgs2023/lib/python3.11/site-packages/anyio/_core/_tasks.py:115\u001B[0m, in \u001B[0;36mfail_after\u001B[0;34m(delay, shield)\u001B[0m\n\u001B[1;32m    112\u001B[0m \u001B[38;5;28;01mwith\u001B[39;00m get_async_backend()\u001B[38;5;241m.\u001B[39mcreate_cancel_scope(\n\u001B[1;32m    113\u001B[0m     deadline\u001B[38;5;241m=\u001B[39mdeadline, shield\u001B[38;5;241m=\u001B[39mshield\n\u001B[1;32m    114\u001B[0m ) \u001B[38;5;28;01mas\u001B[39;00m cancel_scope:\n\u001B[0;32m--> 115\u001B[0m     \u001B[38;5;28;01myield\u001B[39;00m cancel_scope\n\u001B[1;32m    117\u001B[0m \u001B[38;5;28;01mif\u001B[39;00m cancel_scope\u001B[38;5;241m.\u001B[39mcancelled_caught \u001B[38;5;129;01mand\u001B[39;00m current_time() \u001B[38;5;241m>\u001B[39m\u001B[38;5;241m=\u001B[39m cancel_scope\u001B[38;5;241m.\u001B[39mdeadline:\n",
      "File \u001B[0;32m/usr/local/anaconda3/envs/usgs2023/lib/python3.11/site-packages/httpcore/_backends/anyio.py:34\u001B[0m, in \u001B[0;36mAnyIOStream.read\u001B[0;34m(self, max_bytes, timeout)\u001B[0m\n\u001B[1;32m     33\u001B[0m \u001B[38;5;28;01mtry\u001B[39;00m:\n\u001B[0;32m---> 34\u001B[0m     \u001B[38;5;28;01mreturn\u001B[39;00m \u001B[38;5;28;01mawait\u001B[39;00m \u001B[38;5;28mself\u001B[39m\u001B[38;5;241m.\u001B[39m_stream\u001B[38;5;241m.\u001B[39mreceive(max_bytes\u001B[38;5;241m=\u001B[39mmax_bytes)\n\u001B[1;32m     35\u001B[0m \u001B[38;5;28;01mexcept\u001B[39;00m anyio\u001B[38;5;241m.\u001B[39mEndOfStream:  \u001B[38;5;66;03m# pragma: nocover\u001B[39;00m\n",
      "File \u001B[0;32m/usr/local/anaconda3/envs/usgs2023/lib/python3.11/site-packages/anyio/streams/tls.py:205\u001B[0m, in \u001B[0;36mTLSStream.receive\u001B[0;34m(self, max_bytes)\u001B[0m\n\u001B[1;32m    204\u001B[0m \u001B[38;5;28;01masync\u001B[39;00m \u001B[38;5;28;01mdef\u001B[39;00m \u001B[38;5;21mreceive\u001B[39m(\u001B[38;5;28mself\u001B[39m, max_bytes: \u001B[38;5;28mint\u001B[39m \u001B[38;5;241m=\u001B[39m \u001B[38;5;241m65536\u001B[39m) \u001B[38;5;241m-\u001B[39m\u001B[38;5;241m>\u001B[39m \u001B[38;5;28mbytes\u001B[39m:\n\u001B[0;32m--> 205\u001B[0m     data \u001B[38;5;241m=\u001B[39m \u001B[38;5;28;01mawait\u001B[39;00m \u001B[38;5;28mself\u001B[39m\u001B[38;5;241m.\u001B[39m_call_sslobject_method(\u001B[38;5;28mself\u001B[39m\u001B[38;5;241m.\u001B[39m_ssl_object\u001B[38;5;241m.\u001B[39mread, max_bytes)\n\u001B[1;32m    206\u001B[0m     \u001B[38;5;28;01mif\u001B[39;00m \u001B[38;5;129;01mnot\u001B[39;00m data:\n",
      "File \u001B[0;32m/usr/local/anaconda3/envs/usgs2023/lib/python3.11/site-packages/anyio/streams/tls.py:147\u001B[0m, in \u001B[0;36mTLSStream._call_sslobject_method\u001B[0;34m(self, func, *args)\u001B[0m\n\u001B[1;32m    145\u001B[0m         \u001B[38;5;28;01mawait\u001B[39;00m \u001B[38;5;28mself\u001B[39m\u001B[38;5;241m.\u001B[39mtransport_stream\u001B[38;5;241m.\u001B[39msend(\u001B[38;5;28mself\u001B[39m\u001B[38;5;241m.\u001B[39m_write_bio\u001B[38;5;241m.\u001B[39mread())\n\u001B[0;32m--> 147\u001B[0m     data \u001B[38;5;241m=\u001B[39m \u001B[38;5;28;01mawait\u001B[39;00m \u001B[38;5;28mself\u001B[39m\u001B[38;5;241m.\u001B[39mtransport_stream\u001B[38;5;241m.\u001B[39mreceive()\n\u001B[1;32m    148\u001B[0m \u001B[38;5;28;01mexcept\u001B[39;00m EndOfStream:\n",
      "File \u001B[0;32m/usr/local/anaconda3/envs/usgs2023/lib/python3.11/site-packages/anyio/_backends/_asyncio.py:1123\u001B[0m, in \u001B[0;36mSocketStream.receive\u001B[0;34m(self, max_bytes)\u001B[0m\n\u001B[1;32m   1122\u001B[0m \u001B[38;5;28mself\u001B[39m\u001B[38;5;241m.\u001B[39m_transport\u001B[38;5;241m.\u001B[39mresume_reading()\n\u001B[0;32m-> 1123\u001B[0m \u001B[38;5;28;01mawait\u001B[39;00m \u001B[38;5;28mself\u001B[39m\u001B[38;5;241m.\u001B[39m_protocol\u001B[38;5;241m.\u001B[39mread_event\u001B[38;5;241m.\u001B[39mwait()\n\u001B[1;32m   1124\u001B[0m \u001B[38;5;28mself\u001B[39m\u001B[38;5;241m.\u001B[39m_transport\u001B[38;5;241m.\u001B[39mpause_reading()\n",
      "File \u001B[0;32m/usr/local/anaconda3/envs/usgs2023/lib/python3.11/asyncio/locks.py:213\u001B[0m, in \u001B[0;36mEvent.wait\u001B[0;34m(self)\u001B[0m\n\u001B[1;32m    212\u001B[0m \u001B[38;5;28;01mtry\u001B[39;00m:\n\u001B[0;32m--> 213\u001B[0m     \u001B[38;5;28;01mawait\u001B[39;00m fut\n\u001B[1;32m    214\u001B[0m     \u001B[38;5;28;01mreturn\u001B[39;00m \u001B[38;5;28;01mTrue\u001B[39;00m\n",
      "\u001B[0;31mCancelledError\u001B[0m: Cancelled by cancel scope 4f40426d0",
      "\nDuring handling of the above exception, another exception occurred:\n",
      "\u001B[0;31mTimeoutError\u001B[0m                              Traceback (most recent call last)",
      "File \u001B[0;32m/usr/local/anaconda3/envs/usgs2023/lib/python3.11/site-packages/httpcore/_exceptions.py:10\u001B[0m, in \u001B[0;36mmap_exceptions\u001B[0;34m(map)\u001B[0m\n\u001B[1;32m      9\u001B[0m \u001B[38;5;28;01mtry\u001B[39;00m:\n\u001B[0;32m---> 10\u001B[0m     \u001B[38;5;28;01myield\u001B[39;00m\n\u001B[1;32m     11\u001B[0m \u001B[38;5;28;01mexcept\u001B[39;00m \u001B[38;5;167;01mException\u001B[39;00m \u001B[38;5;28;01mas\u001B[39;00m exc:  \u001B[38;5;66;03m# noqa: PIE786\u001B[39;00m\n",
      "File \u001B[0;32m/usr/local/anaconda3/envs/usgs2023/lib/python3.11/site-packages/httpcore/_backends/anyio.py:32\u001B[0m, in \u001B[0;36mAnyIOStream.read\u001B[0;34m(self, max_bytes, timeout)\u001B[0m\n\u001B[1;32m     31\u001B[0m \u001B[38;5;28;01mwith\u001B[39;00m map_exceptions(exc_map):\n\u001B[0;32m---> 32\u001B[0m \u001B[43m    \u001B[49m\u001B[38;5;28;43;01mwith\u001B[39;49;00m\u001B[43m \u001B[49m\u001B[43manyio\u001B[49m\u001B[38;5;241;43m.\u001B[39;49m\u001B[43mfail_after\u001B[49m\u001B[43m(\u001B[49m\u001B[43mtimeout\u001B[49m\u001B[43m)\u001B[49m\u001B[43m:\u001B[49m\n\u001B[1;32m     33\u001B[0m \u001B[43m        \u001B[49m\u001B[38;5;28;43;01mtry\u001B[39;49;00m\u001B[43m:\u001B[49m\n",
      "File \u001B[0;32m/usr/local/anaconda3/envs/usgs2023/lib/python3.11/contextlib.py:158\u001B[0m, in \u001B[0;36m_GeneratorContextManager.__exit__\u001B[0;34m(self, typ, value, traceback)\u001B[0m\n\u001B[1;32m    157\u001B[0m \u001B[38;5;28;01mtry\u001B[39;00m:\n\u001B[0;32m--> 158\u001B[0m     \u001B[38;5;28mself\u001B[39m\u001B[38;5;241m.\u001B[39mgen\u001B[38;5;241m.\u001B[39mthrow(typ, value, traceback)\n\u001B[1;32m    159\u001B[0m \u001B[38;5;28;01mexcept\u001B[39;00m \u001B[38;5;167;01mStopIteration\u001B[39;00m \u001B[38;5;28;01mas\u001B[39;00m exc:\n\u001B[1;32m    160\u001B[0m     \u001B[38;5;66;03m# Suppress StopIteration *unless* it's the same exception that\u001B[39;00m\n\u001B[1;32m    161\u001B[0m     \u001B[38;5;66;03m# was passed to throw().  This prevents a StopIteration\u001B[39;00m\n\u001B[1;32m    162\u001B[0m     \u001B[38;5;66;03m# raised inside the \"with\" statement from being suppressed.\u001B[39;00m\n",
      "File \u001B[0;32m/usr/local/anaconda3/envs/usgs2023/lib/python3.11/site-packages/anyio/_core/_tasks.py:118\u001B[0m, in \u001B[0;36mfail_after\u001B[0;34m(delay, shield)\u001B[0m\n\u001B[1;32m    117\u001B[0m \u001B[38;5;28;01mif\u001B[39;00m cancel_scope\u001B[38;5;241m.\u001B[39mcancelled_caught \u001B[38;5;129;01mand\u001B[39;00m current_time() \u001B[38;5;241m>\u001B[39m\u001B[38;5;241m=\u001B[39m cancel_scope\u001B[38;5;241m.\u001B[39mdeadline:\n\u001B[0;32m--> 118\u001B[0m     \u001B[38;5;28;01mraise\u001B[39;00m \u001B[38;5;167;01mTimeoutError\u001B[39;00m\n",
      "\u001B[0;31mTimeoutError\u001B[0m: ",
      "\nThe above exception was the direct cause of the following exception:\n",
      "\u001B[0;31mReadTimeout\u001B[0m                               Traceback (most recent call last)",
      "File \u001B[0;32m/usr/local/anaconda3/envs/usgs2023/lib/python3.11/site-packages/httpx/_transports/default.py:66\u001B[0m, in \u001B[0;36mmap_httpcore_exceptions\u001B[0;34m()\u001B[0m\n\u001B[1;32m     65\u001B[0m \u001B[38;5;28;01mtry\u001B[39;00m:\n\u001B[0;32m---> 66\u001B[0m     \u001B[38;5;28;01myield\u001B[39;00m\n\u001B[1;32m     67\u001B[0m \u001B[38;5;28;01mexcept\u001B[39;00m \u001B[38;5;167;01mException\u001B[39;00m \u001B[38;5;28;01mas\u001B[39;00m exc:\n",
      "File \u001B[0;32m/usr/local/anaconda3/envs/usgs2023/lib/python3.11/site-packages/httpx/_transports/default.py:366\u001B[0m, in \u001B[0;36mAsyncHTTPTransport.handle_async_request\u001B[0;34m(self, request)\u001B[0m\n\u001B[1;32m    365\u001B[0m \u001B[38;5;28;01mwith\u001B[39;00m map_httpcore_exceptions():\n\u001B[0;32m--> 366\u001B[0m     resp \u001B[38;5;241m=\u001B[39m \u001B[38;5;28;01mawait\u001B[39;00m \u001B[38;5;28mself\u001B[39m\u001B[38;5;241m.\u001B[39m_pool\u001B[38;5;241m.\u001B[39mhandle_async_request(req)\n\u001B[1;32m    368\u001B[0m \u001B[38;5;28;01massert\u001B[39;00m \u001B[38;5;28misinstance\u001B[39m(resp\u001B[38;5;241m.\u001B[39mstream, typing\u001B[38;5;241m.\u001B[39mAsyncIterable)\n",
      "File \u001B[0;32m/usr/local/anaconda3/envs/usgs2023/lib/python3.11/site-packages/httpcore/_async/connection_pool.py:268\u001B[0m, in \u001B[0;36mAsyncConnectionPool.handle_async_request\u001B[0;34m(self, request)\u001B[0m\n\u001B[1;32m    267\u001B[0m         \u001B[38;5;28;01mawait\u001B[39;00m \u001B[38;5;28mself\u001B[39m\u001B[38;5;241m.\u001B[39mresponse_closed(status)\n\u001B[0;32m--> 268\u001B[0m     \u001B[38;5;28;01mraise\u001B[39;00m exc\n\u001B[1;32m    269\u001B[0m \u001B[38;5;28;01melse\u001B[39;00m:\n",
      "File \u001B[0;32m/usr/local/anaconda3/envs/usgs2023/lib/python3.11/site-packages/httpcore/_async/connection_pool.py:251\u001B[0m, in \u001B[0;36mAsyncConnectionPool.handle_async_request\u001B[0;34m(self, request)\u001B[0m\n\u001B[1;32m    250\u001B[0m \u001B[38;5;28;01mtry\u001B[39;00m:\n\u001B[0;32m--> 251\u001B[0m     response \u001B[38;5;241m=\u001B[39m \u001B[38;5;28;01mawait\u001B[39;00m connection\u001B[38;5;241m.\u001B[39mhandle_async_request(request)\n\u001B[1;32m    252\u001B[0m \u001B[38;5;28;01mexcept\u001B[39;00m ConnectionNotAvailable:\n\u001B[1;32m    253\u001B[0m     \u001B[38;5;66;03m# The ConnectionNotAvailable exception is a special case, that\u001B[39;00m\n\u001B[1;32m    254\u001B[0m     \u001B[38;5;66;03m# indicates we need to retry the request on a new connection.\u001B[39;00m\n\u001B[0;32m   (...)\u001B[0m\n\u001B[1;32m    258\u001B[0m     \u001B[38;5;66;03m# might end up as an HTTP/2 connection, but which actually ends\u001B[39;00m\n\u001B[1;32m    259\u001B[0m     \u001B[38;5;66;03m# up as HTTP/1.1.\u001B[39;00m\n",
      "File \u001B[0;32m/usr/local/anaconda3/envs/usgs2023/lib/python3.11/site-packages/httpcore/_async/connection.py:103\u001B[0m, in \u001B[0;36mAsyncHTTPConnection.handle_async_request\u001B[0;34m(self, request)\u001B[0m\n\u001B[1;32m    101\u001B[0m         \u001B[38;5;28;01mraise\u001B[39;00m ConnectionNotAvailable()\n\u001B[0;32m--> 103\u001B[0m \u001B[38;5;28;01mreturn\u001B[39;00m \u001B[38;5;28;01mawait\u001B[39;00m \u001B[38;5;28mself\u001B[39m\u001B[38;5;241m.\u001B[39m_connection\u001B[38;5;241m.\u001B[39mhandle_async_request(request)\n",
      "File \u001B[0;32m/usr/local/anaconda3/envs/usgs2023/lib/python3.11/site-packages/httpcore/_async/http11.py:133\u001B[0m, in \u001B[0;36mAsyncHTTP11Connection.handle_async_request\u001B[0;34m(self, request)\u001B[0m\n\u001B[1;32m    132\u001B[0m         \u001B[38;5;28;01mawait\u001B[39;00m \u001B[38;5;28mself\u001B[39m\u001B[38;5;241m.\u001B[39m_response_closed()\n\u001B[0;32m--> 133\u001B[0m \u001B[38;5;28;01mraise\u001B[39;00m exc\n",
      "File \u001B[0;32m/usr/local/anaconda3/envs/usgs2023/lib/python3.11/site-packages/httpcore/_async/http11.py:111\u001B[0m, in \u001B[0;36mAsyncHTTP11Connection.handle_async_request\u001B[0;34m(self, request)\u001B[0m\n\u001B[1;32m    103\u001B[0m \u001B[38;5;28;01masync\u001B[39;00m \u001B[38;5;28;01mwith\u001B[39;00m Trace(\n\u001B[1;32m    104\u001B[0m     \u001B[38;5;124m\"\u001B[39m\u001B[38;5;124mreceive_response_headers\u001B[39m\u001B[38;5;124m\"\u001B[39m, logger, request, kwargs\n\u001B[1;32m    105\u001B[0m ) \u001B[38;5;28;01mas\u001B[39;00m trace:\n\u001B[1;32m    106\u001B[0m     (\n\u001B[1;32m    107\u001B[0m         http_version,\n\u001B[1;32m    108\u001B[0m         status,\n\u001B[1;32m    109\u001B[0m         reason_phrase,\n\u001B[1;32m    110\u001B[0m         headers,\n\u001B[0;32m--> 111\u001B[0m     ) \u001B[38;5;241m=\u001B[39m \u001B[38;5;28;01mawait\u001B[39;00m \u001B[38;5;28mself\u001B[39m\u001B[38;5;241m.\u001B[39m_receive_response_headers(\u001B[38;5;241m*\u001B[39m\u001B[38;5;241m*\u001B[39mkwargs)\n\u001B[1;32m    112\u001B[0m     trace\u001B[38;5;241m.\u001B[39mreturn_value \u001B[38;5;241m=\u001B[39m (\n\u001B[1;32m    113\u001B[0m         http_version,\n\u001B[1;32m    114\u001B[0m         status,\n\u001B[1;32m    115\u001B[0m         reason_phrase,\n\u001B[1;32m    116\u001B[0m         headers,\n\u001B[1;32m    117\u001B[0m     )\n",
      "File \u001B[0;32m/usr/local/anaconda3/envs/usgs2023/lib/python3.11/site-packages/httpcore/_async/http11.py:176\u001B[0m, in \u001B[0;36mAsyncHTTP11Connection._receive_response_headers\u001B[0;34m(self, request)\u001B[0m\n\u001B[1;32m    175\u001B[0m \u001B[38;5;28;01mwhile\u001B[39;00m \u001B[38;5;28;01mTrue\u001B[39;00m:\n\u001B[0;32m--> 176\u001B[0m     event \u001B[38;5;241m=\u001B[39m \u001B[38;5;28;01mawait\u001B[39;00m \u001B[38;5;28mself\u001B[39m\u001B[38;5;241m.\u001B[39m_receive_event(timeout\u001B[38;5;241m=\u001B[39mtimeout)\n\u001B[1;32m    177\u001B[0m     \u001B[38;5;28;01mif\u001B[39;00m \u001B[38;5;28misinstance\u001B[39m(event, h11\u001B[38;5;241m.\u001B[39mResponse):\n",
      "File \u001B[0;32m/usr/local/anaconda3/envs/usgs2023/lib/python3.11/site-packages/httpcore/_async/http11.py:212\u001B[0m, in \u001B[0;36mAsyncHTTP11Connection._receive_event\u001B[0;34m(self, timeout)\u001B[0m\n\u001B[1;32m    211\u001B[0m \u001B[38;5;28;01mif\u001B[39;00m event \u001B[38;5;129;01mis\u001B[39;00m h11\u001B[38;5;241m.\u001B[39mNEED_DATA:\n\u001B[0;32m--> 212\u001B[0m     data \u001B[38;5;241m=\u001B[39m \u001B[38;5;28;01mawait\u001B[39;00m \u001B[38;5;28mself\u001B[39m\u001B[38;5;241m.\u001B[39m_network_stream\u001B[38;5;241m.\u001B[39mread(\n\u001B[1;32m    213\u001B[0m         \u001B[38;5;28mself\u001B[39m\u001B[38;5;241m.\u001B[39mREAD_NUM_BYTES, timeout\u001B[38;5;241m=\u001B[39mtimeout\n\u001B[1;32m    214\u001B[0m     )\n\u001B[1;32m    216\u001B[0m     \u001B[38;5;66;03m# If we feed this case through h11 we'll raise an exception like:\u001B[39;00m\n\u001B[1;32m    217\u001B[0m     \u001B[38;5;66;03m#\u001B[39;00m\n\u001B[1;32m    218\u001B[0m     \u001B[38;5;66;03m#     httpcore.RemoteProtocolError: can't handle event type\u001B[39;00m\n\u001B[0;32m   (...)\u001B[0m\n\u001B[1;32m    222\u001B[0m     \u001B[38;5;66;03m# perspective. Instead we handle this case distinctly and treat\u001B[39;00m\n\u001B[1;32m    223\u001B[0m     \u001B[38;5;66;03m# it as a ConnectError.\u001B[39;00m\n",
      "File \u001B[0;32m/usr/local/anaconda3/envs/usgs2023/lib/python3.11/site-packages/httpcore/_backends/anyio.py:31\u001B[0m, in \u001B[0;36mAnyIOStream.read\u001B[0;34m(self, max_bytes, timeout)\u001B[0m\n\u001B[1;32m     26\u001B[0m exc_map \u001B[38;5;241m=\u001B[39m {\n\u001B[1;32m     27\u001B[0m     \u001B[38;5;167;01mTimeoutError\u001B[39;00m: ReadTimeout,\n\u001B[1;32m     28\u001B[0m     anyio\u001B[38;5;241m.\u001B[39mBrokenResourceError: ReadError,\n\u001B[1;32m     29\u001B[0m     anyio\u001B[38;5;241m.\u001B[39mClosedResourceError: ReadError,\n\u001B[1;32m     30\u001B[0m }\n\u001B[0;32m---> 31\u001B[0m \u001B[43m\u001B[49m\u001B[38;5;28;43;01mwith\u001B[39;49;00m\u001B[43m \u001B[49m\u001B[43mmap_exceptions\u001B[49m\u001B[43m(\u001B[49m\u001B[43mexc_map\u001B[49m\u001B[43m)\u001B[49m\u001B[43m:\u001B[49m\n\u001B[1;32m     32\u001B[0m \u001B[43m    \u001B[49m\u001B[38;5;28;43;01mwith\u001B[39;49;00m\u001B[43m \u001B[49m\u001B[43manyio\u001B[49m\u001B[38;5;241;43m.\u001B[39;49m\u001B[43mfail_after\u001B[49m\u001B[43m(\u001B[49m\u001B[43mtimeout\u001B[49m\u001B[43m)\u001B[49m\u001B[43m:\u001B[49m\n",
      "File \u001B[0;32m/usr/local/anaconda3/envs/usgs2023/lib/python3.11/contextlib.py:158\u001B[0m, in \u001B[0;36m_GeneratorContextManager.__exit__\u001B[0;34m(self, typ, value, traceback)\u001B[0m\n\u001B[1;32m    157\u001B[0m \u001B[38;5;28;01mtry\u001B[39;00m:\n\u001B[0;32m--> 158\u001B[0m     \u001B[38;5;28mself\u001B[39m\u001B[38;5;241m.\u001B[39mgen\u001B[38;5;241m.\u001B[39mthrow(typ, value, traceback)\n\u001B[1;32m    159\u001B[0m \u001B[38;5;28;01mexcept\u001B[39;00m \u001B[38;5;167;01mStopIteration\u001B[39;00m \u001B[38;5;28;01mas\u001B[39;00m exc:\n\u001B[1;32m    160\u001B[0m     \u001B[38;5;66;03m# Suppress StopIteration *unless* it's the same exception that\u001B[39;00m\n\u001B[1;32m    161\u001B[0m     \u001B[38;5;66;03m# was passed to throw().  This prevents a StopIteration\u001B[39;00m\n\u001B[1;32m    162\u001B[0m     \u001B[38;5;66;03m# raised inside the \"with\" statement from being suppressed.\u001B[39;00m\n",
      "File \u001B[0;32m/usr/local/anaconda3/envs/usgs2023/lib/python3.11/site-packages/httpcore/_exceptions.py:14\u001B[0m, in \u001B[0;36mmap_exceptions\u001B[0;34m(map)\u001B[0m\n\u001B[1;32m     13\u001B[0m     \u001B[38;5;28;01mif\u001B[39;00m \u001B[38;5;28misinstance\u001B[39m(exc, from_exc):\n\u001B[0;32m---> 14\u001B[0m         \u001B[38;5;28;01mraise\u001B[39;00m to_exc(exc) \u001B[38;5;28;01mfrom\u001B[39;00m \u001B[38;5;21;01mexc\u001B[39;00m\n\u001B[1;32m     15\u001B[0m \u001B[38;5;28;01mraise\u001B[39;00m\n",
      "\u001B[0;31mReadTimeout\u001B[0m: ",
      "\nThe above exception was the direct cause of the following exception:\n",
      "\u001B[0;31mReadTimeout\u001B[0m                               Traceback (most recent call last)",
      "Cell \u001B[0;32mIn[109], line 11\u001B[0m\n\u001B[1;32m      9\u001B[0m not_keeper_counts \u001B[38;5;241m=\u001B[39m []\n\u001B[1;32m     10\u001B[0m \u001B[38;5;28;01mfor\u001B[39;00m i, go \u001B[38;5;129;01min\u001B[39;00m tqdm(\u001B[38;5;28menumerate\u001B[39m(filtered_graphoutputs[::\u001B[38;5;241m1000\u001B[39m])):\n\u001B[0;32m---> 11\u001B[0m     \u001B[38;5;28;01mawait\u001B[39;00m go\u001B[38;5;241m.\u001B[39mhydrate(client\u001B[38;5;241m=\u001B[39mRateLimitedClient(interval\u001B[38;5;241m=\u001B[39m\u001B[38;5;241m1.5\u001B[39m))\n\u001B[1;32m     12\u001B[0m     \u001B[38;5;28;01mfor\u001B[39;00m triplet \u001B[38;5;129;01min\u001B[39;00m go\u001B[38;5;241m.\u001B[39mtriplets:\n\u001B[1;32m     13\u001B[0m         \u001B[38;5;28;01mif\u001B[39;00m triplet\u001B[38;5;241m.\u001B[39mobject\u001B[38;5;241m.\u001B[39mt_units \u001B[38;5;129;01mand\u001B[39;00m triplet\u001B[38;5;241m.\u001B[39mobject\u001B[38;5;241m.\u001B[39mt_units \u001B[38;5;241m>\u001B[39m\u001B[38;5;241m=\u001B[39m \u001B[38;5;241m1\u001B[39m:\n",
      "File \u001B[0;32m~/PycharmProjects/text2graph_llm/text2graph/schema.py:222\u001B[0m, in \u001B[0;36mGraphOutput.hydrate\u001B[0;34m(self, client)\u001B[0m\n\u001B[1;32m    219\u001B[0m \u001B[38;5;28;01masync\u001B[39;00m \u001B[38;5;28;01mdef\u001B[39;00m \u001B[38;5;21mhydrate\u001B[39m(\u001B[38;5;28mself\u001B[39m, client) \u001B[38;5;241m-\u001B[39m\u001B[38;5;241m>\u001B[39m \u001B[38;5;28;01mNone\u001B[39;00m:\n\u001B[1;32m    220\u001B[0m \u001B[38;5;250m    \u001B[39m\u001B[38;5;124;03m\"\"\"Hydrate all objects in the graph.\"\"\"\u001B[39;00m\n\u001B[0;32m--> 222\u001B[0m     \u001B[38;5;28;01mawait\u001B[39;00m asyncio\u001B[38;5;241m.\u001B[39mgather(\n\u001B[1;32m    223\u001B[0m         \u001B[38;5;241m*\u001B[39m[triplet\u001B[38;5;241m.\u001B[39msubject\u001B[38;5;241m.\u001B[39mhydrate(client\u001B[38;5;241m=\u001B[39mclient) \u001B[38;5;28;01mfor\u001B[39;00m triplet \u001B[38;5;129;01min\u001B[39;00m \u001B[38;5;28mself\u001B[39m\u001B[38;5;241m.\u001B[39mtriplets],\n\u001B[1;32m    224\u001B[0m         \u001B[38;5;241m*\u001B[39m[triplet\u001B[38;5;241m.\u001B[39mobject\u001B[38;5;241m.\u001B[39mhydrate() \u001B[38;5;28;01mfor\u001B[39;00m triplet \u001B[38;5;129;01min\u001B[39;00m \u001B[38;5;28mself\u001B[39m\u001B[38;5;241m.\u001B[39mtriplets],\n\u001B[1;32m    225\u001B[0m     )\n",
      "File \u001B[0;32m~/PycharmProjects/text2graph_llm/text2graph/schema.py:181\u001B[0m, in \u001B[0;36mLocation.hydrate\u001B[0;34m(self, client)\u001B[0m\n\u001B[1;32m    176\u001B[0m \u001B[38;5;28;01masync\u001B[39;00m \u001B[38;5;28;01mdef\u001B[39;00m \u001B[38;5;21mhydrate\u001B[39m(\u001B[38;5;28mself\u001B[39m, client: httpx\u001B[38;5;241m.\u001B[39mAsyncClient) \u001B[38;5;241m-\u001B[39m\u001B[38;5;241m>\u001B[39m \u001B[38;5;28;01mNone\u001B[39;00m:\n\u001B[1;32m    177\u001B[0m \u001B[38;5;250m    \u001B[39m\u001B[38;5;124;03m\"\"\"\u001B[39;00m\n\u001B[1;32m    178\u001B[0m \u001B[38;5;124;03m    Hydrate Location (from geocode API)\u001B[39;00m\n\u001B[1;32m    179\u001B[0m \u001B[38;5;124;03m    client: httpx.AsyncClient for geocode API use RateLimitedClient\u001B[39;00m\n\u001B[1;32m    180\u001B[0m \u001B[38;5;124;03m    \"\"\"\u001B[39;00m\n\u001B[0;32m--> 181\u001B[0m     \u001B[38;5;28mself\u001B[39m\u001B[38;5;241m.\u001B[39mlat, \u001B[38;5;28mself\u001B[39m\u001B[38;5;241m.\u001B[39mlon, request_url \u001B[38;5;241m=\u001B[39m \u001B[38;5;28;01mawait\u001B[39;00m get_gps(\u001B[38;5;28mself\u001B[39m\u001B[38;5;241m.\u001B[39mname, client\u001B[38;5;241m=\u001B[39mclient)\n\u001B[1;32m    182\u001B[0m     \u001B[38;5;28;01mif\u001B[39;00m \u001B[38;5;28mself\u001B[39m\u001B[38;5;241m.\u001B[39mlat \u001B[38;5;129;01mand\u001B[39;00m \u001B[38;5;28mself\u001B[39m\u001B[38;5;241m.\u001B[39mlon:\n\u001B[1;32m    183\u001B[0m         \u001B[38;5;28mself\u001B[39m\u001B[38;5;241m.\u001B[39mprovenance \u001B[38;5;241m=\u001B[39m Provenance(\n\u001B[1;32m    184\u001B[0m             source_name\u001B[38;5;241m=\u001B[39m\u001B[38;5;124m\"\u001B[39m\u001B[38;5;124mGeocodeAPI\u001B[39m\u001B[38;5;124m\"\u001B[39m,\n\u001B[1;32m    185\u001B[0m             source_url\u001B[38;5;241m=\u001B[39mrequest_url,\n\u001B[1;32m    186\u001B[0m             requested\u001B[38;5;241m=\u001B[39mdatetime\u001B[38;5;241m.\u001B[39mnow(),\n\u001B[1;32m    187\u001B[0m             previous\u001B[38;5;241m=\u001B[39m\u001B[38;5;28mself\u001B[39m\u001B[38;5;241m.\u001B[39mprovenance,\n\u001B[1;32m    188\u001B[0m         )\n",
      "File \u001B[0;32m~/PycharmProjects/text2graph_llm/text2graph/geolocation/geocode.py:65\u001B[0m, in \u001B[0;36mget_gps\u001B[0;34m(query, client)\u001B[0m\n\u001B[1;32m     63\u001B[0m request_url_no_key \u001B[38;5;241m=\u001B[39m \u001B[38;5;124mf\u001B[39m\u001B[38;5;124m\"\u001B[39m\u001B[38;5;132;01m{\u001B[39;00mGEOCODE_API_BASE_URL\u001B[38;5;132;01m}\u001B[39;00m\u001B[38;5;124m&q=\u001B[39m\u001B[38;5;132;01m{\u001B[39;00mquery\u001B[38;5;132;01m}\u001B[39;00m\u001B[38;5;124m\"\u001B[39m\n\u001B[1;32m     64\u001B[0m request_url \u001B[38;5;241m=\u001B[39m request_url_no_key \u001B[38;5;241m+\u001B[39m \u001B[38;5;124mf\u001B[39m\u001B[38;5;124m\"\u001B[39m\u001B[38;5;124m&api_key=\u001B[39m\u001B[38;5;132;01m{\u001B[39;00mgeocode_api_key\u001B[38;5;132;01m}\u001B[39;00m\u001B[38;5;124m\"\u001B[39m\n\u001B[0;32m---> 65\u001B[0m response \u001B[38;5;241m=\u001B[39m \u001B[38;5;28;01mawait\u001B[39;00m client\u001B[38;5;241m.\u001B[39mget(request_url)\n\u001B[1;32m     66\u001B[0m \u001B[38;5;28;01mtry\u001B[39;00m:\n\u001B[1;32m     67\u001B[0m     lat \u001B[38;5;241m=\u001B[39m response\u001B[38;5;241m.\u001B[39mjson()[\u001B[38;5;241m0\u001B[39m][\u001B[38;5;124m\"\u001B[39m\u001B[38;5;124mlat\u001B[39m\u001B[38;5;124m\"\u001B[39m]\n",
      "File \u001B[0;32m/usr/local/anaconda3/envs/usgs2023/lib/python3.11/site-packages/httpx/_client.py:1757\u001B[0m, in \u001B[0;36mAsyncClient.get\u001B[0;34m(self, url, params, headers, cookies, auth, follow_redirects, timeout, extensions)\u001B[0m\n\u001B[1;32m   1740\u001B[0m \u001B[38;5;28;01masync\u001B[39;00m \u001B[38;5;28;01mdef\u001B[39;00m \u001B[38;5;21mget\u001B[39m(\n\u001B[1;32m   1741\u001B[0m     \u001B[38;5;28mself\u001B[39m,\n\u001B[1;32m   1742\u001B[0m     url: URLTypes,\n\u001B[0;32m   (...)\u001B[0m\n\u001B[1;32m   1750\u001B[0m     extensions: typing\u001B[38;5;241m.\u001B[39mOptional[RequestExtensions] \u001B[38;5;241m=\u001B[39m \u001B[38;5;28;01mNone\u001B[39;00m,\n\u001B[1;32m   1751\u001B[0m ) \u001B[38;5;241m-\u001B[39m\u001B[38;5;241m>\u001B[39m Response:\n\u001B[1;32m   1752\u001B[0m \u001B[38;5;250m    \u001B[39m\u001B[38;5;124;03m\"\"\"\u001B[39;00m\n\u001B[1;32m   1753\u001B[0m \u001B[38;5;124;03m    Send a `GET` request.\u001B[39;00m\n\u001B[1;32m   1754\u001B[0m \n\u001B[1;32m   1755\u001B[0m \u001B[38;5;124;03m    **Parameters**: See `httpx.request`.\u001B[39;00m\n\u001B[1;32m   1756\u001B[0m \u001B[38;5;124;03m    \"\"\"\u001B[39;00m\n\u001B[0;32m-> 1757\u001B[0m     \u001B[38;5;28;01mreturn\u001B[39;00m \u001B[38;5;28;01mawait\u001B[39;00m \u001B[38;5;28mself\u001B[39m\u001B[38;5;241m.\u001B[39mrequest(\n\u001B[1;32m   1758\u001B[0m         \u001B[38;5;124m\"\u001B[39m\u001B[38;5;124mGET\u001B[39m\u001B[38;5;124m\"\u001B[39m,\n\u001B[1;32m   1759\u001B[0m         url,\n\u001B[1;32m   1760\u001B[0m         params\u001B[38;5;241m=\u001B[39mparams,\n\u001B[1;32m   1761\u001B[0m         headers\u001B[38;5;241m=\u001B[39mheaders,\n\u001B[1;32m   1762\u001B[0m         cookies\u001B[38;5;241m=\u001B[39mcookies,\n\u001B[1;32m   1763\u001B[0m         auth\u001B[38;5;241m=\u001B[39mauth,\n\u001B[1;32m   1764\u001B[0m         follow_redirects\u001B[38;5;241m=\u001B[39mfollow_redirects,\n\u001B[1;32m   1765\u001B[0m         timeout\u001B[38;5;241m=\u001B[39mtimeout,\n\u001B[1;32m   1766\u001B[0m         extensions\u001B[38;5;241m=\u001B[39mextensions,\n\u001B[1;32m   1767\u001B[0m     )\n",
      "File \u001B[0;32m/usr/local/anaconda3/envs/usgs2023/lib/python3.11/site-packages/httpx/_client.py:1530\u001B[0m, in \u001B[0;36mAsyncClient.request\u001B[0;34m(self, method, url, content, data, files, json, params, headers, cookies, auth, follow_redirects, timeout, extensions)\u001B[0m\n\u001B[1;32m   1501\u001B[0m \u001B[38;5;250m\u001B[39m\u001B[38;5;124;03m\"\"\"\u001B[39;00m\n\u001B[1;32m   1502\u001B[0m \u001B[38;5;124;03mBuild and send a request.\u001B[39;00m\n\u001B[1;32m   1503\u001B[0m \n\u001B[0;32m   (...)\u001B[0m\n\u001B[1;32m   1515\u001B[0m \u001B[38;5;124;03m[0]: /advanced/#merging-of-configuration\u001B[39;00m\n\u001B[1;32m   1516\u001B[0m \u001B[38;5;124;03m\"\"\"\u001B[39;00m\n\u001B[1;32m   1517\u001B[0m request \u001B[38;5;241m=\u001B[39m \u001B[38;5;28mself\u001B[39m\u001B[38;5;241m.\u001B[39mbuild_request(\n\u001B[1;32m   1518\u001B[0m     method\u001B[38;5;241m=\u001B[39mmethod,\n\u001B[1;32m   1519\u001B[0m     url\u001B[38;5;241m=\u001B[39murl,\n\u001B[0;32m   (...)\u001B[0m\n\u001B[1;32m   1528\u001B[0m     extensions\u001B[38;5;241m=\u001B[39mextensions,\n\u001B[1;32m   1529\u001B[0m )\n\u001B[0;32m-> 1530\u001B[0m \u001B[38;5;28;01mreturn\u001B[39;00m \u001B[38;5;28;01mawait\u001B[39;00m \u001B[38;5;28mself\u001B[39m\u001B[38;5;241m.\u001B[39msend(request, auth\u001B[38;5;241m=\u001B[39mauth, follow_redirects\u001B[38;5;241m=\u001B[39mfollow_redirects)\n",
      "File \u001B[0;32m~/PycharmProjects/text2graph_llm/text2graph/geolocation/geocode.py:54\u001B[0m, in \u001B[0;36msend\u001B[0;34m(self, *args, **kwargs)\u001B[0m\n\u001B[1;32m     51\u001B[0m     \u001B[38;5;28mself\u001B[39m\u001B[38;5;241m.\u001B[39mlast_ten_send_times\u001B[38;5;241m.\u001B[39mappend(dt\u001B[38;5;241m.\u001B[39mdatetime\u001B[38;5;241m.\u001B[39mnow())\n\u001B[1;32m     52\u001B[0m     \u001B[38;5;28mself\u001B[39m\u001B[38;5;241m.\u001B[39mlast_ten_send_times \u001B[38;5;241m=\u001B[39m \u001B[38;5;28mself\u001B[39m\u001B[38;5;241m.\u001B[39mlast_ten_send_times[\u001B[38;5;241m-\u001B[39m\u001B[38;5;241m10\u001B[39m:]\n\u001B[0;32m---> 54\u001B[0m \u001B[38;5;129m@wraps\u001B[39m(AsyncClient\u001B[38;5;241m.\u001B[39msend)\n\u001B[1;32m     55\u001B[0m \u001B[38;5;28;01masync\u001B[39;00m \u001B[38;5;28;01mdef\u001B[39;00m \u001B[38;5;21msend\u001B[39m(\u001B[38;5;28mself\u001B[39m, \u001B[38;5;241m*\u001B[39margs, \u001B[38;5;241m*\u001B[39m\u001B[38;5;241m*\u001B[39mkwargs):\n\u001B[1;32m     56\u001B[0m     \u001B[38;5;28;01mawait\u001B[39;00m \u001B[38;5;28mself\u001B[39m\u001B[38;5;241m.\u001B[39msemaphore\u001B[38;5;241m.\u001B[39macquire()\n\u001B[1;32m     57\u001B[0m     \u001B[38;5;28mself\u001B[39m\u001B[38;5;241m.\u001B[39mtrack_send_times()\n",
      "File \u001B[0;32m/usr/local/anaconda3/envs/usgs2023/lib/python3.11/site-packages/httpx/_client.py:1617\u001B[0m, in \u001B[0;36mAsyncClient.send\u001B[0;34m(self, request, stream, auth, follow_redirects)\u001B[0m\n\u001B[1;32m   1609\u001B[0m follow_redirects \u001B[38;5;241m=\u001B[39m (\n\u001B[1;32m   1610\u001B[0m     \u001B[38;5;28mself\u001B[39m\u001B[38;5;241m.\u001B[39mfollow_redirects\n\u001B[1;32m   1611\u001B[0m     \u001B[38;5;28;01mif\u001B[39;00m \u001B[38;5;28misinstance\u001B[39m(follow_redirects, UseClientDefault)\n\u001B[1;32m   1612\u001B[0m     \u001B[38;5;28;01melse\u001B[39;00m follow_redirects\n\u001B[1;32m   1613\u001B[0m )\n\u001B[1;32m   1615\u001B[0m auth \u001B[38;5;241m=\u001B[39m \u001B[38;5;28mself\u001B[39m\u001B[38;5;241m.\u001B[39m_build_request_auth(request, auth)\n\u001B[0;32m-> 1617\u001B[0m response \u001B[38;5;241m=\u001B[39m \u001B[38;5;28;01mawait\u001B[39;00m \u001B[38;5;28mself\u001B[39m\u001B[38;5;241m.\u001B[39m_send_handling_auth(\n\u001B[1;32m   1618\u001B[0m     request,\n\u001B[1;32m   1619\u001B[0m     auth\u001B[38;5;241m=\u001B[39mauth,\n\u001B[1;32m   1620\u001B[0m     follow_redirects\u001B[38;5;241m=\u001B[39mfollow_redirects,\n\u001B[1;32m   1621\u001B[0m     history\u001B[38;5;241m=\u001B[39m[],\n\u001B[1;32m   1622\u001B[0m )\n\u001B[1;32m   1623\u001B[0m \u001B[38;5;28;01mtry\u001B[39;00m:\n\u001B[1;32m   1624\u001B[0m     \u001B[38;5;28;01mif\u001B[39;00m \u001B[38;5;129;01mnot\u001B[39;00m stream:\n",
      "File \u001B[0;32m/usr/local/anaconda3/envs/usgs2023/lib/python3.11/site-packages/httpx/_client.py:1645\u001B[0m, in \u001B[0;36mAsyncClient._send_handling_auth\u001B[0;34m(self, request, auth, follow_redirects, history)\u001B[0m\n\u001B[1;32m   1642\u001B[0m request \u001B[38;5;241m=\u001B[39m \u001B[38;5;28;01mawait\u001B[39;00m auth_flow\u001B[38;5;241m.\u001B[39m\u001B[38;5;21m__anext__\u001B[39m()\n\u001B[1;32m   1644\u001B[0m \u001B[38;5;28;01mwhile\u001B[39;00m \u001B[38;5;28;01mTrue\u001B[39;00m:\n\u001B[0;32m-> 1645\u001B[0m     response \u001B[38;5;241m=\u001B[39m \u001B[38;5;28;01mawait\u001B[39;00m \u001B[38;5;28mself\u001B[39m\u001B[38;5;241m.\u001B[39m_send_handling_redirects(\n\u001B[1;32m   1646\u001B[0m         request,\n\u001B[1;32m   1647\u001B[0m         follow_redirects\u001B[38;5;241m=\u001B[39mfollow_redirects,\n\u001B[1;32m   1648\u001B[0m         history\u001B[38;5;241m=\u001B[39mhistory,\n\u001B[1;32m   1649\u001B[0m     )\n\u001B[1;32m   1650\u001B[0m     \u001B[38;5;28;01mtry\u001B[39;00m:\n\u001B[1;32m   1651\u001B[0m         \u001B[38;5;28;01mtry\u001B[39;00m:\n",
      "File \u001B[0;32m/usr/local/anaconda3/envs/usgs2023/lib/python3.11/site-packages/httpx/_client.py:1682\u001B[0m, in \u001B[0;36mAsyncClient._send_handling_redirects\u001B[0;34m(self, request, follow_redirects, history)\u001B[0m\n\u001B[1;32m   1679\u001B[0m \u001B[38;5;28;01mfor\u001B[39;00m hook \u001B[38;5;129;01min\u001B[39;00m \u001B[38;5;28mself\u001B[39m\u001B[38;5;241m.\u001B[39m_event_hooks[\u001B[38;5;124m\"\u001B[39m\u001B[38;5;124mrequest\u001B[39m\u001B[38;5;124m\"\u001B[39m]:\n\u001B[1;32m   1680\u001B[0m     \u001B[38;5;28;01mawait\u001B[39;00m hook(request)\n\u001B[0;32m-> 1682\u001B[0m response \u001B[38;5;241m=\u001B[39m \u001B[38;5;28;01mawait\u001B[39;00m \u001B[38;5;28mself\u001B[39m\u001B[38;5;241m.\u001B[39m_send_single_request(request)\n\u001B[1;32m   1683\u001B[0m \u001B[38;5;28;01mtry\u001B[39;00m:\n\u001B[1;32m   1684\u001B[0m     \u001B[38;5;28;01mfor\u001B[39;00m hook \u001B[38;5;129;01min\u001B[39;00m \u001B[38;5;28mself\u001B[39m\u001B[38;5;241m.\u001B[39m_event_hooks[\u001B[38;5;124m\"\u001B[39m\u001B[38;5;124mresponse\u001B[39m\u001B[38;5;124m\"\u001B[39m]:\n",
      "File \u001B[0;32m/usr/local/anaconda3/envs/usgs2023/lib/python3.11/site-packages/httpx/_client.py:1719\u001B[0m, in \u001B[0;36mAsyncClient._send_single_request\u001B[0;34m(self, request)\u001B[0m\n\u001B[1;32m   1714\u001B[0m     \u001B[38;5;28;01mraise\u001B[39;00m \u001B[38;5;167;01mRuntimeError\u001B[39;00m(\n\u001B[1;32m   1715\u001B[0m         \u001B[38;5;124m\"\u001B[39m\u001B[38;5;124mAttempted to send an sync request with an AsyncClient instance.\u001B[39m\u001B[38;5;124m\"\u001B[39m\n\u001B[1;32m   1716\u001B[0m     )\n\u001B[1;32m   1718\u001B[0m \u001B[38;5;28;01mwith\u001B[39;00m request_context(request\u001B[38;5;241m=\u001B[39mrequest):\n\u001B[0;32m-> 1719\u001B[0m     response \u001B[38;5;241m=\u001B[39m \u001B[38;5;28;01mawait\u001B[39;00m transport\u001B[38;5;241m.\u001B[39mhandle_async_request(request)\n\u001B[1;32m   1721\u001B[0m \u001B[38;5;28;01massert\u001B[39;00m \u001B[38;5;28misinstance\u001B[39m(response\u001B[38;5;241m.\u001B[39mstream, AsyncByteStream)\n\u001B[1;32m   1722\u001B[0m response\u001B[38;5;241m.\u001B[39mrequest \u001B[38;5;241m=\u001B[39m request\n",
      "File \u001B[0;32m/usr/local/anaconda3/envs/usgs2023/lib/python3.11/site-packages/httpx/_transports/default.py:365\u001B[0m, in \u001B[0;36mAsyncHTTPTransport.handle_async_request\u001B[0;34m(self, request)\u001B[0m\n\u001B[1;32m    351\u001B[0m \u001B[38;5;28;01massert\u001B[39;00m \u001B[38;5;28misinstance\u001B[39m(request\u001B[38;5;241m.\u001B[39mstream, AsyncByteStream)\n\u001B[1;32m    353\u001B[0m req \u001B[38;5;241m=\u001B[39m httpcore\u001B[38;5;241m.\u001B[39mRequest(\n\u001B[1;32m    354\u001B[0m     method\u001B[38;5;241m=\u001B[39mrequest\u001B[38;5;241m.\u001B[39mmethod,\n\u001B[1;32m    355\u001B[0m     url\u001B[38;5;241m=\u001B[39mhttpcore\u001B[38;5;241m.\u001B[39mURL(\n\u001B[0;32m   (...)\u001B[0m\n\u001B[1;32m    363\u001B[0m     extensions\u001B[38;5;241m=\u001B[39mrequest\u001B[38;5;241m.\u001B[39mextensions,\n\u001B[1;32m    364\u001B[0m )\n\u001B[0;32m--> 365\u001B[0m \u001B[43m\u001B[49m\u001B[38;5;28;43;01mwith\u001B[39;49;00m\u001B[43m \u001B[49m\u001B[43mmap_httpcore_exceptions\u001B[49m\u001B[43m(\u001B[49m\u001B[43m)\u001B[49m\u001B[43m:\u001B[49m\n\u001B[1;32m    366\u001B[0m \u001B[43m    \u001B[49m\u001B[43mresp\u001B[49m\u001B[43m \u001B[49m\u001B[38;5;241;43m=\u001B[39;49m\u001B[43m \u001B[49m\u001B[38;5;28;43;01mawait\u001B[39;49;00m\u001B[43m \u001B[49m\u001B[38;5;28;43mself\u001B[39;49m\u001B[38;5;241;43m.\u001B[39;49m\u001B[43m_pool\u001B[49m\u001B[38;5;241;43m.\u001B[39;49m\u001B[43mhandle_async_request\u001B[49m\u001B[43m(\u001B[49m\u001B[43mreq\u001B[49m\u001B[43m)\u001B[49m\n\u001B[1;32m    368\u001B[0m \u001B[38;5;28;01massert\u001B[39;00m \u001B[38;5;28misinstance\u001B[39m(resp\u001B[38;5;241m.\u001B[39mstream, typing\u001B[38;5;241m.\u001B[39mAsyncIterable)\n",
      "File \u001B[0;32m/usr/local/anaconda3/envs/usgs2023/lib/python3.11/contextlib.py:158\u001B[0m, in \u001B[0;36m_GeneratorContextManager.__exit__\u001B[0;34m(self, typ, value, traceback)\u001B[0m\n\u001B[1;32m    156\u001B[0m     value \u001B[38;5;241m=\u001B[39m typ()\n\u001B[1;32m    157\u001B[0m \u001B[38;5;28;01mtry\u001B[39;00m:\n\u001B[0;32m--> 158\u001B[0m     \u001B[38;5;28mself\u001B[39m\u001B[38;5;241m.\u001B[39mgen\u001B[38;5;241m.\u001B[39mthrow(typ, value, traceback)\n\u001B[1;32m    159\u001B[0m \u001B[38;5;28;01mexcept\u001B[39;00m \u001B[38;5;167;01mStopIteration\u001B[39;00m \u001B[38;5;28;01mas\u001B[39;00m exc:\n\u001B[1;32m    160\u001B[0m     \u001B[38;5;66;03m# Suppress StopIteration *unless* it's the same exception that\u001B[39;00m\n\u001B[1;32m    161\u001B[0m     \u001B[38;5;66;03m# was passed to throw().  This prevents a StopIteration\u001B[39;00m\n\u001B[1;32m    162\u001B[0m     \u001B[38;5;66;03m# raised inside the \"with\" statement from being suppressed.\u001B[39;00m\n\u001B[1;32m    163\u001B[0m     \u001B[38;5;28;01mreturn\u001B[39;00m exc \u001B[38;5;129;01mis\u001B[39;00m \u001B[38;5;129;01mnot\u001B[39;00m value\n",
      "File \u001B[0;32m/usr/local/anaconda3/envs/usgs2023/lib/python3.11/site-packages/httpx/_transports/default.py:83\u001B[0m, in \u001B[0;36mmap_httpcore_exceptions\u001B[0;34m()\u001B[0m\n\u001B[1;32m     80\u001B[0m     \u001B[38;5;28;01mraise\u001B[39;00m\n\u001B[1;32m     82\u001B[0m message \u001B[38;5;241m=\u001B[39m \u001B[38;5;28mstr\u001B[39m(exc)\n\u001B[0;32m---> 83\u001B[0m \u001B[38;5;28;01mraise\u001B[39;00m mapped_exc(message) \u001B[38;5;28;01mfrom\u001B[39;00m \u001B[38;5;21;01mexc\u001B[39;00m\n",
      "\u001B[0;31mReadTimeout\u001B[0m: "
     ]
    }
   ],
   "execution_count": 109
  },
  {
   "metadata": {
    "ExecuteTime": {
     "end_time": "2024-04-30T21:56:17.789446Z",
     "start_time": "2024-04-30T21:56:17.786033Z"
    }
   },
   "cell_type": "code",
   "source": "print(f\"keeper_counts: {sum(keeper_counts)}, not_keeper_counts: {sum(not_keeper_counts)}\") ",
   "id": "d89e2b10fa48e159",
   "outputs": [
    {
     "name": "stdout",
     "output_type": "stream",
     "text": [
      "keeper_counts: 80, not_keeper_counts: 3735\n"
     ]
    }
   ],
   "execution_count": 110
  },
  {
   "metadata": {
    "ExecuteTime": {
     "end_time": "2024-04-30T22:21:17.001688Z",
     "start_time": "2024-04-30T22:21:16.996564Z"
    }
   },
   "cell_type": "code",
   "source": [
    "import pyproj\n",
    "from text2graph.schema import RelationshipTriplet\n",
    "\n",
    "\n",
    "def subject_object_distance(triplet: RelationshipTriplet, geod: pyproj.Geod = pyproj.Geod(ellps='WGS84')) -> float | None:\n",
    "    if not triplet.object.lon or not triplet.object.lat or not triplet.subject.lon or not triplet.subject.lat:\n",
    "        return None\n",
    "    _, _, distance_in_meters = geod.inv(\n",
    "                triplet.object.lon,triplet.object.lat, triplet.subject.lon, triplet.subject.lat\n",
    "            )\n",
    "    return distance_in_meters\n",
    "\n",
    "\n",
    "def triplet_subject_object_within_distance_threshold(triplet: RelationshipTriplet, threshold_km: float | None = None) -> bool:\n",
    "    if not threshold_km:\n",
    "        threshold_km = 500 / 0.621371  # 500 mi\n",
    "    \n",
    "    distance_in_meters = subject_object_distance(triplet)\n",
    "    if distance_in_meters and distance_in_meters / 1000 < threshold_km:\n",
    "        return True\n",
    "    \n",
    "    else:\n",
    "        return False\n",
    "    \n",
    "    \n",
    "    \n",
    "\n",
    "    "
   ],
   "id": "e8c3557af81cb262",
   "outputs": [],
   "execution_count": 133
  },
  {
   "metadata": {
    "ExecuteTime": {
     "end_time": "2024-04-30T22:22:06.608174Z",
     "start_time": "2024-04-30T22:22:06.603282Z"
    }
   },
   "cell_type": "code",
   "source": [
    "both_located_count = 0\n",
    "for i, triplet in enumerate(keeper_triplets):\n",
    "    if triplet_subject_object_within_distance_threshold(triplet):\n",
    "        both_located_count += 1\n",
    "        print(i)\n",
    "        print(triplet.subject.name, triplet.subject.lat, triplet.subject.lon)\n",
    "        print(triplet.object.strat_name, triplet.object.lat, triplet.object.lon)\n",
    "        print(f\"{subject_object_distance(triplet)/1000} km\")\n",
    "        print()\n",
    "    else:\n",
    "        pass\n",
    "    \n",
    "        \n",
    "        \n",
    "print(f\"{both_located_count=}\")\n",
    "    "
   ],
   "id": "a649ece12f098391",
   "outputs": [
    {
     "name": "stdout",
     "output_type": "stream",
     "text": [
      "2\n",
      "CanTech 43.5099594 -79.6329023\n",
      "Sample 39.425 -86.241\n",
      "714.1328970406075 km\n",
      "\n",
      "4\n",
      "Alberta 55.001251 -115.002136\n",
      "Swan Hills 56.305 -121.468\n",
      "431.9365265045756 km\n",
      "\n",
      "both_located_count=2\n"
     ]
    }
   ],
   "execution_count": 136
  },
  {
   "metadata": {
    "ExecuteTime": {
     "end_time": "2024-04-30T22:02:46.304462Z",
     "start_time": "2024-04-30T22:02:46.300645Z"
    }
   },
   "cell_type": "code",
   "source": "keeper_triplets[4]",
   "id": "f7848adbd708d5e4",
   "outputs": [
    {
     "data": {
      "text/plain": [
       "RelationshipTriplet(subject=Location(name='Alberta', lat='55.001251', lon='-115.002136', provenance=Provenance(id=UUID('c7b3fed8-425e-4f7a-8eb7-70e8f8e20c98'), source_name='GeocodeAPI', source_url='https://geocode.maps.co/search?&q=Alberta', source_version=None, requested=datetime.datetime(2024, 4, 30, 16, 54, 27, 716503), additional_values={}, previous=Provenance(id=UUID('a74690b8-99ff-4fac-8e31-0edab86611d5'), source_name='OpenSourceModel', source_url=None, source_version='mixtral', requested=datetime.datetime(2024, 4, 29, 16, 15, 39, 540622, tzinfo=datetime.timezone.utc), additional_values={'temperature': 0.0, 'prompt': 'v3', 'doc_ids': ['620d1066ad0e9c819b058301']}, previous=None))), predicate='is located in', object=Stratigraphy(strat_name='Swan Hills', strat_name_long='Swan Hills Formation', rank='Fm', strat_name_id=5996, concept_id=29699, bed='', bed_id=0, mbr='', mbr_id=0, fm='Swan Hills', fm_id=5996, subgp='', subgp_id=0, gp='Beaverhill Lake', gp_id=8154, sgp='', sgp_id=0, b_age=384.3667, t_age=381.3875, b_period='Devonian', t_period='Devonian', c_interval='', t_units=3, ref_id=2, lat=56.305, lon=-121.468, provenance=Provenance(id=UUID('0f07cd67-f418-4636-8e40-e5fcc977dc1a'), source_name='Macrostrat', source_url='https://macrostrat.org/api/defs/strat_names?strat_name_id=5996', source_version=2, requested=datetime.datetime(2024, 4, 29, 16, 15, 39, 540622, tzinfo=datetime.timezone.utc), additional_values={}, previous=Provenance(id=UUID('68dbd99b-812b-4753-a630-9fcded63642d'), source_name='OpenSourceModel', source_url=None, source_version='mixtral', requested=datetime.datetime(2024, 4, 29, 16, 15, 39, 540622, tzinfo=datetime.timezone.utc), additional_values={'temperature': 0.0, 'prompt': 'v3', 'doc_ids': ['620d1066ad0e9c819b058301']}, previous=None))), provenance=Provenance(id=UUID('116a6dc2-35de-4022-9b70-02392e07e436'), source_name='OpenSourceModel', source_url=None, source_version='mixtral', requested=datetime.datetime(2024, 4, 29, 16, 15, 39, 540622, tzinfo=datetime.timezone.utc), additional_values={'temperature': 0.0, 'prompt': 'v3', 'doc_ids': ['620d1066ad0e9c819b058301'], 'triplet_db': {'triplet_db_pk': '96582ced-ec09-4636-b44f-5adbfc73a3e0', 'paragraph_hash': 3, 'xdd_id': '620d1066ad0e9c819b058301'}}, previous=None))"
      ]
     },
     "execution_count": 122,
     "metadata": {},
     "output_type": "execute_result"
    }
   ],
   "execution_count": 122
  },
  {
   "metadata": {
    "ExecuteTime": {
     "end_time": "2024-04-30T20:55:00.875922Z",
     "start_time": "2024-04-30T20:55:00.870426Z"
    }
   },
   "cell_type": "code",
   "source": [
    "for i, triplet in enumerate(not_keeper_triplets):\n",
    "    print(i, \" \", triplet.subject.name, \"\\n\\t\", triplet.predicate, \"\\n\\t\", triplet.object.strat_name)\n",
    "    "
   ],
   "id": "3eb9ed1da55389e2",
   "outputs": [
    {
     "name": "stdout",
     "output_type": "stream",
     "text": [
      "0   centre of the deposit \n",
      "\t MINERALOGICAL ZONING (CENTER) \n",
      "\t corundum-chlorite > spinel - chlorite > enstatite > talcose rock > friable dunite > dunite\n",
      "1   rim of the deposit \n",
      "\t MINERALOGICAL ZONING (RIM) \n",
      "\t plumasite > biotitite > pegmatite > serpentinite\n",
      "2   intermediate portion of the deposit \n",
      "\t MINERALOGICAL ZONING (INTERMEDIATE) \n",
      "\t aplite> plumasite>spinel-magnetite rock > vermiculite and/or chlorite > actinolite >talc>serpentinite\n",
      "3   pegmatite may not be present \n",
      "\t MINERALOGICAL ZONING (BARREN) \n",
      "\t barren pegmatite> marundite > talc-chlorite zone>amphibolite\n",
      "4   CH-33 \n",
      "\t discovered by prospecting in an area of abundant kimberlite boulders and cobbles \n",
      "\t kimberlite\n",
      "5   CH-33 \n",
      "\t has an estimated surface expression of \n",
      "\t five hectares\n",
      "6   CH-44 \n",
      "\t discovered by RC drilling \n",
      "\t kimberlite\n",
      "7   FS \n",
      "\t supportable by \n",
      "\t 2019 resource estimate\n",
      "8   FS \n",
      "\t development from \n",
      "\t previously reviewed 2017 and 2018 resource estimates\n",
      "9   northern region \n",
      "\t can be used for refining \n",
      "\t tonnes and grade estimates\n",
      "10   isolated drill holes in Indicated Mineral Resource \n",
      "\t should be downgraded to \n",
      "\t Inferred Mineral Resource\n",
      "11   NW \n",
      "\t comprising \n",
      "\t Mako sequences\n",
      "12   NW \n",
      "\t consisting of \n",
      "\t greywackes, wackes, siltstones, tuffs,\n",
      "13   Ox Lake Claims \n",
      "\t is located in \n",
      "\t British Columbia\n",
      "14   Block Model Parameters, Origin in UTM NAD83 Coordinates \n",
      "\t has coordinates in \n",
      "\t UTM NAD83\n",
      "15   Sample Selection Criteria for Grade Interpolation \n",
      "\t is used for \n",
      "\t Grade Interpolation\n",
      "16   Grade Interpolation Parameters for Copper and Molybdenum \n",
      "\t are parameters for \n",
      "\t Grade Interpolation\n",
      "17   Inferred Mineral Resources at 20 USD Equivalent Cutoff \n",
      "\t are reported at \n",
      "\t 20 USD Equivalent Cutoff\n",
      "18   Blizzard Deposit \n",
      "\t safely removing uranium from \n",
      "\t Blizzard\n",
      "19   west of Corvette Lake \n",
      "\t occur \n",
      "\t Andesitic flows\n",
      "20   west of Corvette Lake \n",
      "\t occur \n",
      "\t Dacitic flows\n",
      "21   freshly broken surface of Andesitic flows \n",
      "\t has patina \n",
      "\t gray to whitish grey, and greenish grey to light grey\n",
      "22   freshly broken surface of Dacitic flows \n",
      "\t has patina \n",
      "\t grayish beige that turns medium grey\n",
      "23   Andesitic flows \n",
      "\t composed of \n",
      "\t plagioclase and amphibole\n",
      "24   Chelopech Project \n",
      "\t spatially associated or finely intergrown with \n",
      "\t silver bearing minerals and native silver\n",
      "25   Chelopech Project \n",
      "\t finely intergrown with \n",
      "\t pyrite and galena\n",
      "26   Chelopech Project \n",
      "\t finely intergrown with \n",
      "\t enargite, tennantite and tetrahedrite\n",
      "27   Chelopech Project \n",
      "\t occurs as accretions within \n",
      "\t fine-grained chalcedonic silica\n",
      "28   Chelopech Project \n",
      "\t predominantly associated with \n",
      "\t native gold grains and as electrum\n",
      "29   Chelopech Project \n",
      "\t occurs in a number of forms \n",
      "\t pyrite\n",
      "30   Quebec \n",
      "\t mining and refining \n",
      "\t spodumene pegmatite\n",
      "31   rock and overburden \n",
      "\t calculated \n",
      "\t $0.86/tonne\n",
      "32   1940 bench \n",
      "\t additional haul cost below \n",
      "\t $0.01/tonne per bench\n",
      "33   mine \n",
      "\t life-of-mine weighted average \n",
      "\t $0.95 waste and $1.05 ore\n",
      "34   milled \n",
      "\t $4.30/tonne \n",
      "\t Peñasco/Azul\n",
      "35   ROM heap leach \n",
      "\t $1.30/tonne \n",
      "\t Peñasco/Azul\n",
      "36   milled \n",
      "\t $0.25/tonne \n",
      "\t Chile Colorado\n",
      "37   Inspectorate Laboratory facility located in Hermosillo \n",
      "\t prepared \n",
      "\t surface rock chip samples from sampling carried out by Yale staff\n",
      "38   massive strongly altered black clay \n",
      "\t mineralization occurs in \n",
      "\t N/A\n",
      "39   black clay matrix \n",
      "\t mineralization is disseminated in \n",
      "\t sandstone\n",
      "40   Robin Mineralized Zone \n",
      "\t colored_pink \n",
      "\t None\n",
      "41   Griffon Mineralized Zone \n",
      "\t colored_green \n",
      "\t None\n",
      "42   Shamrock Mineralized Zone \n",
      "\t colored_teal \n",
      "\t Shamrock\n",
      "43   Trecesson Property \n",
      "\t located in \n",
      "\t Amos region\n",
      "44   west part of Trecesson Township \n",
      "\t mapped by \n",
      "\t D.E Vogel\n",
      "45   east part of Trecesson Township \n",
      "\t mapped by \n",
      "\t D.E Vogel\n",
      "46   Trecesson Property \n",
      "\t reported on \n",
      "\t Cossette vein\n",
      "47   Cossette vein \n",
      "\t a 159-kg (350-lb) bulk sample taken by Transcona Exploration returned \n",
      "\t 7.77 oz/t Au\n",
      "48   Regency \n",
      "\t collected_from \n",
      "\t unknown\n",
      "49   First Majestic \n",
      "\t collected_from \n",
      "\t unknown\n",
      "50   NS Gold/NS Silver \n",
      "\t collected_from \n",
      "\t unknown\n",
      "51   SGS Servicios Minerales (SGS) laboratory in Ciudad Durango \n",
      "\t located_in \n",
      "\t Ciudad Durango\n",
      "52   Durango, Mexico (SGS method G_PHY17V) \n",
      "\t used_for \n",
      "\t determination of bulk density\n",
      "53   Republic of Botswana \n",
      "\t owns mineral rights \n",
      "\t NA\n",
      "54   Project area \n",
      "\t Giyani holds exclusive right to prospect for Metals through issued permit \n",
      "\t NA\n",
      "55   Prospecting Licence No. 322/2016 \n",
      "\t K-Hill project is located within \n",
      "\t NA\n",
      "56   K-Hill prospecting area \n",
      "\t is 444 km2 of the total area Menzi Battery Minerals holds prospecting rights to \n",
      "\t NA\n",
      "57   drill hole collar \n",
      "\t surveyed using \n",
      "\t differential GPS\n",
      "58   some drill holes \n",
      "\t broke through into \n",
      "\t previously mined (stopes/drifts) areas\n",
      "59   Phase One core samples \n",
      "\t cut by rock saw and sent to \n",
      "\t Dome Mine Lab of South Porcupine\n",
      "60   remaining half core of Phase One \n",
      "\t stored on the \n",
      "\t Dome Mine property\n",
      "61   Phase Two drilling \n",
      "\t whole core sampled and sent to \n",
      "\t Dome Mine Lab\n",
      "62   dyke zones \n",
      "\t decreases outward to the north and south \n",
      "\t Vein density\n",
      "63   two high-grade zones \n",
      "\t lacks sharp geologic boundaries \n",
      "\t Vein density\n",
      "64   dykes \n",
      "\t controls the distribution of epithermal vein system at Ixtaca \n",
      "\t Epithermal vein system\n",
      "65   dykes \n",
      "\t an important rheological contrast resulting in vein formation within and along the margins individual dykes, and laterally within the adjacent limestone \n",
      "\t Vein formation\n"
     ]
    }
   ],
   "execution_count": 92
  },
  {
   "metadata": {
    "ExecuteTime": {
     "end_time": "2024-04-30T22:03:50.789012Z",
     "start_time": "2024-04-30T22:03:50.785237Z"
    }
   },
   "cell_type": "code",
   "source": [
    "# def create_graph_outputs(triplet_db_tuples: list[tuple[Any, Any, Any, Any, Any]]) -> tuple[list[GraphOutput], list[GraphOutput]]:\n",
    "#     keepers = []\n",
    "#     out_bucket = []\n",
    "#     triplet_counts = []\n",
    "#     keeper_counts = []\n",
    "#     out_bucket_counts = []\n",
    "#     validation_error_indexes = []\n",
    "#     for i, graphoutput in tqdm(enumerate(triplet_db_tuples)):\n",
    "#         if not graphoutput[COLUMN_LOOKUP['triplets']]:\n",
    "#             continue\n",
    "#         try:\n",
    "#             go = GraphOutput.model_validate_json(graphoutput[COLUMN_LOOKUP['triplets']])\n",
    "#         except ValidationError:\n",
    "#             validation_error_indexes.append(i)\n",
    "#             continue\n",
    "#         triplet_counts.append(len(go.triplets))\n",
    "#         keeper_triplets = []\n",
    "#         outbucket_triplets = []\n",
    "#         if go.triplets:\n",
    "#             await go.hydrate(client=RateLimitedClient(interval=1.5))\n",
    "#             for triplet in go.triplets:\n",
    "#                 triplet.provenance.additional_values[\"triplet_db\"] = {\n",
    "#                     \"triplet_db_pk\": graphoutput[COLUMN_LOOKUP['id']], \"paragraph_hash\": COLUMN_LOOKUP['hashed_txt'], \"xdd_id\":graphoutput[COLUMN_LOOKUP['paper_id']] \n",
    "#                 }\n",
    "#                 if triplet.object.t_units and triplet.object.t_units >= 1:\n",
    "#                     keeper_triplets.append(triplet)\n",
    "#                 else:\n",
    "#                     outbucket_triplets.append(triplet)\n",
    "# \n",
    "#             keeper_counts.append(len(keeper_triplets))\n",
    "#             out_bucket_counts.append(len(outbucket_triplets))\n",
    "#             if len(keeper_triplets) > 0:\n",
    "#                 keeper_go = GraphOutput(triplets=keeper_triplets)\n",
    "#                 keepers.append(keeper_go)\n",
    "#             if len(outbucket_triplets) > 0:\n",
    "#                 out_bucket_go = GraphOutput(triplets=outbucket_triplets)\n",
    "#                 out_bucket.append(out_bucket_go)\n",
    "# \n",
    "# \n",
    "#     count_counter = Counter(triplet_counts)\n",
    "#     keeper_counter = Counter(keeper_counts)\n",
    "#     out_bucket_counter = Counter(out_bucket_counts)\n",
    "#     print(f\"{out_bucket_counter=}\")\n",
    "#     print(f\"{keeper_counter=}\")\n",
    "#     print(f\"{sum([v for k, v in keeper_counter.items() if k != 0])=}\")\n",
    "#     print(f\"validation error index ct: {len(validation_error_indexes)}\")\n",
    "#     print(f\"validation error indexes: {validation_error_indexes}\")\n",
    "#     return keepers, out_bucket\n",
    "# \n",
    "# keepers, out_bucket = create_graph_outputs(triplet_db_tuples[:10000])\n"
   ],
   "id": "6f4481f5bb4f7c65",
   "outputs": [],
   "execution_count": 123
  },
  {
   "metadata": {},
   "cell_type": "markdown",
   "source": "# calculate distances between points if exist",
   "id": "bddb36b0a7b0c3a2"
  },
  {
   "metadata": {
    "ExecuteTime": {
     "end_time": "2024-04-30T22:09:56.940608Z",
     "start_time": "2024-04-30T22:09:56.936146Z"
    }
   },
   "cell_type": "code",
   "source": "",
   "id": "f733ff1269ba5eea",
   "outputs": [],
   "execution_count": 124
  },
  {
   "metadata": {
    "ExecuteTime": {
     "end_time": "2024-04-29T18:14:35.475708Z",
     "start_time": "2024-04-29T18:12:36.814465Z"
    }
   },
   "cell_type": "code",
   "source": [
    "from tqdm.auto import tqdm\n",
    "import pyproj\n",
    "\n",
    "from text2graph.geolocation.geocode import RateLimitedClient \n",
    "\n",
    "threshold_meters = 500 / 0.621371 * 1000  # 500 mi\n",
    "\n",
    "correct = []\n",
    "incorrect = []\n",
    "\n",
    "geod = pyproj.Geod(ellps='WGS84')\n",
    "\n",
    "client = RateLimitedClient(interval=1.5, count=1, timeout=30) \n",
    "\n",
    "for graphoutput in tqdm(keepers):\n",
    "    await graphoutput.hydrate(client=client)\n",
    "    for triplet in graphoutput.triplets:\n",
    "        # print(triplet.object.strat_name_long, triplet.object.lat, triplet.object.lon) \n",
    "        # print(triplet.subject.name, triplet.subject.lat, triplet.subject.lon)\n",
    "        distance_in_meters = None\n",
    "        if triplet.object.lon and triplet.object.lat and triplet.subject.lon and triplet.subject.lat:\n",
    "            _, _, distance_in_meters = geod.inv(\n",
    "                triplet.object.lon,triplet.object.lat, triplet.subject.lon, triplet.subject.lat\n",
    "            )\n",
    "            # print(f\"{distance_in_meters=}\")\n",
    "            if distance_in_meters <= threshold_meters:\n",
    "                correct.append(triplet)\n",
    "                continue\n",
    "                \n",
    "        incorrect.append(triplet)\n",
    "\n",
    "print(f\"total triplets: {sum([len(x.triplets) for x in keepers])}\")\n",
    "print(f\"{len(correct)=}\")\n",
    "print(f\"{len(incorrect)=}\")\n"
   ],
   "id": "9c5c36bbef0ba67e",
   "outputs": [
    {
     "data": {
      "text/plain": [
       "  0%|          | 0/41 [00:00<?, ?it/s]"
      ],
      "application/vnd.jupyter.widget-view+json": {
       "version_major": 2,
       "version_minor": 0,
       "model_id": "7b3292b622e845cd851e7e037c5fc294"
      }
     },
     "metadata": {},
     "output_type": "display_data"
    },
    {
     "name": "stderr",
     "output_type": "stream",
     "text": [
      "WARNING:root:Location hydrate geocode api request failed for The Elder project: response.status_code=200 response.content=b'[]'\n",
      "WARNING:root:Location hydrate geocode api request failed for Elder property: response.status_code=200 response.content=b'[]'\n",
      "WARNING:root:Location hydrate geocode api request failed for along the southwest wall: response.status_code=200 response.content=b'[]'\n",
      "WARNING:root:Location hydrate geocode api request failed for Process Plant fresh water and fire protection water tank near the Process Plant structure under the Dome: response.status_code=200 response.content=b'[]'\n",
      "WARNING:root:Location hydrate geocode api request failed for Timmins Site: response.status_code=200 response.content=b'[]'\n",
      "WARNING:root:Location hydrate geocode api request failed for Humboldt Wedag – Coal and Mineral Technologies: response.status_code=200 response.content=b'[]'\n",
      "WARNING:root:Location hydrate geocode api request failed for LabMag General Partnership: response.status_code=200 response.content=b'[]'\n",
      "WARNING:root:Location hydrate geocode api request failed for Labrador Iron Mines Ltd.: response.status_code=200 response.content=b'[]'\n",
      "WARNING:root:Location hydrate geocode api request failed for Labrador Mining and Exploration Co. Ltd.: response.status_code=200 response.content=b'[]'\n",
      "WARNING:root:Location hydrate geocode api request failed for Timmins Site: response.status_code=200 response.content=b'[]'\n",
      "WARNING:root:Location hydrate geocode api request failed for DSO Project area: response.status_code=200 response.content=b'[]'\n",
      "WARNING:root:Location hydrate geocode api request failed for Labrador portion of the DSO Project: response.status_code=200 response.content=b'[]'\n",
      "WARNING:root:Location hydrate geocode api request failed for stockyard and ship loading facilities owned and operated by WM at Pointe-Noire, Sept-Îles, Quebec.: response.status_code=200 response.content=b'[]'\n",
      "WARNING:root:Location hydrate geocode api request failed for high cost domestic producers (China): response.status_code=200 response.content=b'[]'\n",
      "WARNING:root:Location hydrate geocode api request failed for DSO Property: response.status_code=200 response.content=b'[]'\n",
      "WARNING:root:Location hydrate geocode api request failed for Castelo de Sonhos Gold Project, Pará State, Brazil: response.status_code=200 response.content=b'[]'\n",
      "WARNING:root:Location hydrate geocode api request failed for Castelo de Sonhos Gold Project: response.status_code=200 response.content=b'[]'\n",
      "WARNING:root:Location hydrate geocode api request failed for Timmins 3N zone B and C: response.status_code=200 response.content=b'[]'\n",
      "WARNING:root:Location hydrate geocode api request failed for Castelo de Sonhos Gold Project, Pará State, Brazil: response.status_code=200 response.content=b'[]'\n",
      "WARNING:root:Location hydrate geocode api request failed for supergene enrichment: response.status_code=200 response.content=b'[]'\n",
      "WARNING:root:Location hydrate geocode api request failed for Castelo de Sonhos Gold Project: response.status_code=200 response.content=b'[]'\n",
      "WARNING:root:Location hydrate geocode api request failed for Castelo de Sonhos Gold Project: response.status_code=200 response.content=b'[]'\n",
      "WARNING:root:Location hydrate geocode api request failed for Castelo de Sonhos Gold Project: response.status_code=200 response.content=b'[]'\n",
      "WARNING:root:Location hydrate geocode api request failed for Castelo de Sonhos Gold Project, Pará State, Brazil: response.status_code=200 response.content=b'[]'\n",
      "WARNING:root:Location hydrate geocode api request failed for Castelo de Sonhos Gold Project, Pará State, Brazil: response.status_code=200 response.content=b'[]'\n",
      "WARNING:root:Location hydrate geocode api request failed for Castelo de Sonhos Gold Project, Pará State, Brazil: response.status_code=200 response.content=b'[]'\n",
      "WARNING:root:Location hydrate geocode api request failed for Castelo de Sonhos Gold Project, Pará State, Brazil: response.status_code=200 response.content=b'[]'\n",
      "WARNING:root:Location hydrate geocode api request failed for Castelo de Sonhos Gold Project: response.status_code=200 response.content=b'[]'\n",
      "WARNING:root:Location hydrate geocode api request failed for Sartenga Prospect: response.status_code=200 response.content=b'[]'\n",
      "WARNING:root:Location hydrate geocode api request failed for Sartenga Prospect: response.status_code=200 response.content=b'[]'\n",
      "WARNING:root:Location hydrate geocode api request failed for Sartenga South Prospect: response.status_code=200 response.content=b'[]'\n",
      "WARNING:root:Location hydrate geocode api request failed for Moktedu Prospect: response.status_code=200 response.content=b'[]'\n",
      "WARNING:root:Location hydrate geocode api request failed for Meguet and Fatmatenga Prospects: response.status_code=200 response.content=b'[]'\n",
      "WARNING:root:Location hydrate geocode api request failed for Moktedu Prospect: response.status_code=200 response.content=b'[]'\n",
      "WARNING:root:Location hydrate geocode api request failed for Moktedu Prospect: response.status_code=200 response.content=b'[]'\n",
      "WARNING:root:Location hydrate geocode api request failed for Moktedu Prospect: response.status_code=200 response.content=b'[]'\n",
      "WARNING:root:Location hydrate geocode api request failed for Moktedu Prospect: response.status_code=200 response.content=b'[]'\n",
      "WARNING:root:Location hydrate geocode api request failed for EMZ deposit: response.status_code=200 response.content=b'[]'\n",
      "WARNING:root:Location hydrate geocode api request failed for twins and extensions: response.status_code=200 response.content=b'[]'\n",
      "WARNING:root:Location hydrate geocode api request failed for BHP trenches: response.status_code=200 response.content=b'[]'\n"
     ]
    },
    {
     "name": "stdout",
     "output_type": "stream",
     "text": [
      "total triplets: 63\n",
      "len(correct)=4\n",
      "len(incorrect)=59\n"
     ]
    }
   ],
   "execution_count": 9
  },
  {
   "metadata": {
    "ExecuteTime": {
     "end_time": "2024-04-29T18:15:02.431459Z",
     "start_time": "2024-04-29T18:15:02.427874Z"
    }
   },
   "cell_type": "code",
   "source": [
    "print(f\"total triplets: {sum([len(x.triplets) for x in keepers])}\")\n",
    "print(f\"{len(correct)=}\")\n",
    "print(f\"{len(incorrect)=}\")"
   ],
   "id": "a66937b9403f2d46",
   "outputs": [
    {
     "name": "stdout",
     "output_type": "stream",
     "text": [
      "total triplets: 63\n",
      "len(correct)=4\n",
      "len(incorrect)=59\n"
     ]
    }
   ],
   "execution_count": 10
  },
  {
   "metadata": {},
   "cell_type": "markdown",
   "source": "# eval incorrect",
   "id": "af6a1ae0caa7dc7c"
  },
  {
   "metadata": {
    "ExecuteTime": {
     "end_time": "2024-04-29T18:15:58.651065Z",
     "start_time": "2024-04-29T18:15:58.512303Z"
    }
   },
   "cell_type": "code",
   "source": [
    "import matplotlib.pyplot as plt\n",
    "\n",
    "\n",
    "triplet_km_tuples = [] \n",
    "for i, triplet in enumerate(correct):\n",
    "    if triplet.subject.lat and triplet.object.lat:\n",
    "        _, _, distance_in_meters = geod.inv(\n",
    "            triplet.object.lon,triplet.object.lat, triplet.subject.lon, triplet.subject.lat\n",
    "        )\n",
    "        triplet_km_tuples.append((triplet, distance_in_meters / 1000))\n",
    "\n",
    "km_distances = sorted([x[1] for x in triplet_km_tuples])\n",
    "print(f\"{len(km_distances)=}\")\n",
    "plt.hist(km_distances)\n",
    "plt.show()"
   ],
   "id": "377f2a28d9bc5e18",
   "outputs": [
    {
     "name": "stdout",
     "output_type": "stream",
     "text": [
      "len(km_distances)=4\n"
     ]
    },
    {
     "data": {
      "text/plain": [
       "<Figure size 640x480 with 1 Axes>"
      ],
      "image/png": "[encoded data removed]"
     },
     "metadata": {},
     "output_type": "display_data"
    }
   ],
   "execution_count": 12
  },
  {
   "metadata": {
    "ExecuteTime": {
     "end_time": "2024-04-29T18:19:22.208929Z",
     "start_time": "2024-04-29T18:19:22.203820Z"
    }
   },
   "cell_type": "code",
   "source": "km_distances[:5]",
   "id": "83649a093a977bbb",
   "outputs": [
    {
     "data": {
      "text/plain": [
       "[212.4893813433834, 682.3628427832246, 795.1683952262764, 795.517890661869]"
      ]
     },
     "execution_count": 13,
     "metadata": {},
     "output_type": "execute_result"
    }
   ],
   "execution_count": 13
  },
  {
   "metadata": {
    "ExecuteTime": {
     "end_time": "2024-04-29T15:11:25.314424Z",
     "start_time": "2024-04-29T15:11:25.304737Z"
    }
   },
   "cell_type": "code",
   "source": [
    "import pandas as pd\n",
    "\n",
    "pd.DataFrame(\n",
    "        [\n",
    "            (\n",
    "                x[0].subject.name, \n",
    "                x[0].predicate, \n",
    "                x[0].object.strat_name_long, \n",
    "                x[1], \n",
    "                x[0].provenance.additional_values[\"triplet_db\"][\"paragraph_hash\"],\n",
    "                x[0].provenance.additional_values[\"triplet_db\"][\"xdd_id\"]\n",
    "            ) \n",
    "            for x in triplet_km_tuples if x[1] in km_distances[:5]\n",
    "        ],\n",
    "    columns=[\"subject\", \"predicate\", \"object\", \"distance\", \"paragraph_hash\", \"xdd_id\"]\n",
    ").sort_values(by=\"distance\")"
   ],
   "id": "375b3fc8f125d8d2",
   "outputs": [
    {
     "data": {
      "text/plain": [
       "           subject                                predicate        object  \\\n",
       "3        Sept-Îles                           has flights to  Quebec Group   \n",
       "2    Schefferville                    operates flights from  Quebec Group   \n",
       "4  parts of Québec  Innu Nation may assert claims in and to  Quebec Group   \n",
       "1     Hydro-Quebec                    is located in or near  Quebec Group   \n",
       "0    Rouyn-Noranda               located in the Province of  Quebec Group   \n",
       "\n",
       "      distance                                     paragraph_hash  \\\n",
       "3   212.489381  84b32395781f6e5898f66a6a4b6bb12a44997c3ff188b3...   \n",
       "2   682.362843  84b32395781f6e5898f66a6a4b6bb12a44997c3ff188b3...   \n",
       "4   795.168395  c6e1c82be4563d0d6cbbdb559bee48cf07982851af4011...   \n",
       "1   795.517891  5efbdaa62e323613f7e91c465f26627cf0f37ec91ac334...   \n",
       "0  1088.226905  b9f0b046a20f4051a871def3715ee233d8b88e2e3d20d8...   \n",
       "\n",
       "                     xdd_id  \n",
       "3  6520b4ae4f5dbdaca31aaea9  \n",
       "2  6520b4ae4f5dbdaca31aaea9  \n",
       "4  6520b4ae4f5dbdaca31aaea9  \n",
       "1  6520b4ae4f5dbdaca31aaea9  \n",
       "0  6520ab4f4f5dbdaca31a68da  "
      ],
      "text/html": [
       "<div>\n",
       "<style scoped>\n",
       "    .dataframe tbody tr th:only-of-type {\n",
       "        vertical-align: middle;\n",
       "    }\n",
       "\n",
       "    .dataframe tbody tr th {\n",
       "        vertical-align: top;\n",
       "    }\n",
       "\n",
       "    .dataframe thead th {\n",
       "        text-align: right;\n",
       "    }\n",
       "</style>\n",
       "<table border=\"1\" class=\"dataframe\">\n",
       "  <thead>\n",
       "    <tr style=\"text-align: right;\">\n",
       "      <th></th>\n",
       "      <th>subject</th>\n",
       "      <th>predicate</th>\n",
       "      <th>object</th>\n",
       "      <th>distance</th>\n",
       "      <th>paragraph_hash</th>\n",
       "      <th>xdd_id</th>\n",
       "    </tr>\n",
       "  </thead>\n",
       "  <tbody>\n",
       "    <tr>\n",
       "      <th>3</th>\n",
       "      <td>Sept-Îles</td>\n",
       "      <td>has flights to</td>\n",
       "      <td>Quebec Group</td>\n",
       "      <td>212.489381</td>\n",
       "      <td>84b32395781f6e5898f66a6a4b6bb12a44997c3ff188b3...</td>\n",
       "      <td>6520b4ae4f5dbdaca31aaea9</td>\n",
       "    </tr>\n",
       "    <tr>\n",
       "      <th>2</th>\n",
       "      <td>Schefferville</td>\n",
       "      <td>operates flights from</td>\n",
       "      <td>Quebec Group</td>\n",
       "      <td>682.362843</td>\n",
       "      <td>84b32395781f6e5898f66a6a4b6bb12a44997c3ff188b3...</td>\n",
       "      <td>6520b4ae4f5dbdaca31aaea9</td>\n",
       "    </tr>\n",
       "    <tr>\n",
       "      <th>4</th>\n",
       "      <td>parts of Québec</td>\n",
       "      <td>Innu Nation may assert claims in and to</td>\n",
       "      <td>Quebec Group</td>\n",
       "      <td>795.168395</td>\n",
       "      <td>c6e1c82be4563d0d6cbbdb559bee48cf07982851af4011...</td>\n",
       "      <td>6520b4ae4f5dbdaca31aaea9</td>\n",
       "    </tr>\n",
       "    <tr>\n",
       "      <th>1</th>\n",
       "      <td>Hydro-Quebec</td>\n",
       "      <td>is located in or near</td>\n",
       "      <td>Quebec Group</td>\n",
       "      <td>795.517891</td>\n",
       "      <td>5efbdaa62e323613f7e91c465f26627cf0f37ec91ac334...</td>\n",
       "      <td>6520b4ae4f5dbdaca31aaea9</td>\n",
       "    </tr>\n",
       "    <tr>\n",
       "      <th>0</th>\n",
       "      <td>Rouyn-Noranda</td>\n",
       "      <td>located in the Province of</td>\n",
       "      <td>Quebec Group</td>\n",
       "      <td>1088.226905</td>\n",
       "      <td>b9f0b046a20f4051a871def3715ee233d8b88e2e3d20d8...</td>\n",
       "      <td>6520ab4f4f5dbdaca31a68da</td>\n",
       "    </tr>\n",
       "  </tbody>\n",
       "</table>\n",
       "</div>"
      ]
     },
     "execution_count": 49,
     "metadata": {},
     "output_type": "execute_result"
    }
   ],
   "execution_count": 49
  },
  {
   "metadata": {
    "ExecuteTime": {
     "end_time": "2024-04-29T14:55:31.933741Z",
     "start_time": "2024-04-29T14:55:31.929603Z"
    }
   },
   "cell_type": "code",
   "source": "triplet_km_tuples[0][0].provenance.additional_values[\"triplet_db\"]",
   "id": "93b3691b2b88c60b",
   "outputs": [
    {
     "data": {
      "text/plain": [
       "{'triplet_db_pk': '03c7b997-27c2-458c-a91c-6836bcd43f79',\n",
       " 'paragraph_hash': 'b9f0b046a20f4051a871def3715ee233d8b88e2e3d20d8a11b4c083a5a689ed7',\n",
       " 'xdd_id': '6520ab4f4f5dbdaca31a68da'}"
      ]
     },
     "execution_count": 45,
     "metadata": {},
     "output_type": "execute_result"
    }
   ],
   "execution_count": 45
  },
  {
   "metadata": {
    "ExecuteTime": {
     "end_time": "2024-04-26T16:31:26.633209Z",
     "start_time": "2024-04-26T16:31:26.627450Z"
    }
   },
   "cell_type": "code",
   "source": [
    "print(keepers[n].triplets[0].object.strat_name_long, keepers[n].triplets[0].object.lat, keepers[n].triplets[0].object.lon) \n",
    "print(keepers[n].triplets[0].subject.name, keepers[n].triplets[0].subject.lat, keepers[n].triplets[0].subject.lon)"
   ],
   "id": "99e027f3986fdc4a",
   "outputs": [
    {
     "data": {
      "text/plain": [
       "GraphOutput(triplets=[RelationshipTriplet(subject=Location(name='property', lat='47.36820575', lon='-93.37904373616992', provenance=Provenance(id=UUID('41a2371a-77a3-4725-9e05-965700a8f9a7'), source_name='GeocodeAPI', source_url='https://geocode.maps.co/search?&q=property', source_version=None, requested=datetime.datetime(2024, 4, 26, 11, 30, 39, 783271), additional_values={}, previous=Provenance(id=UUID('51e560a4-e203-48e0-8d34-0c9f537feece'), source_name='OpenSourceModel', source_url=None, source_version='mixtral', requested=datetime.datetime(2024, 4, 24, 21, 35, 23, 392241, tzinfo=datetime.timezone.utc), additional_values={'temperature': 0.0, 'prompt': 'v3', 'doc_ids': []}, previous=None))), predicate='legally surveyed prior to the issue of the mining concession', object=Stratigraphy(strat_name='Quebec', strat_name_long='Quebec Group', rank='Gp', strat_name_id=7947, concept_id=29319, bed='', bed_id=0, mbr='', mbr_id=0, fm='', fm_id=0, subgp='', subgp_id=0, gp='Quebec', gp_id=7947, sgp='', sgp_id=0, b_age=503.5, t_age=451, b_period='Cambrian', t_period='Ordovician', c_interval='', t_units=9, ref_id=2, provenance=Provenance(id=UUID('a9bf6ba2-fed9-43e7-8c18-015bb8eb8fca'), source_name='Macrostrat', source_url='https://macrostrat.org/api/defs/strat_names?strat_name_id=7947', source_version=2, requested=datetime.datetime(2024, 4, 24, 21, 35, 23, 392241, tzinfo=datetime.timezone.utc), additional_values={}, previous=Provenance(id=UUID('0a2dfbd4-1334-433f-a248-0f33fb0f215a'), source_name='Macrostrat', source_url='https://macrostrat.org/api/defs/strat_names?strat_name_id=7947', source_version=2, requested=datetime.datetime(2024, 4, 24, 21, 35, 23, 392241, tzinfo=datetime.timezone.utc), additional_values={}, previous=Provenance(id=UUID('dde740ac-cbcb-49c9-8bee-0a3e29e810ca'), source_name='OpenSourceModel', source_url=None, source_version='mixtral', requested=datetime.datetime(2024, 4, 24, 21, 35, 23, 392241, tzinfo=datetime.timezone.utc), additional_values={'temperature': 0.0, 'prompt': 'v3', 'doc_ids': []}, previous=None)))), provenance=Provenance(id=UUID('abe3f3d0-3e0a-4f50-b1d0-622812dd8e95'), source_name='OpenSourceModel', source_url=None, source_version='mixtral', requested=datetime.datetime(2024, 4, 24, 21, 35, 23, 392241, tzinfo=datetime.timezone.utc), additional_values={'temperature': 0.0, 'prompt': 'v3', 'doc_ids': [], 'triplet_db': {'triplet_db_pk': '03c7b997-27c2-458c-a91c-6836bcd43f79', 'paragraph_hash': 'b9f0b046a20f4051a871def3715ee233d8b88e2e3d20d8a11b4c083a5a689ed7', 'xdd_id': '6520ab4f4f5dbdaca31a68da'}}, previous=None)), RelationshipTriplet(subject=Location(name='mine site', lat=None, lon=None, provenance=Provenance(id=UUID('926bacee-7efb-4462-a11f-f1cba821c616'), source_name='OpenSourceModel', source_url=None, source_version='mixtral', requested=datetime.datetime(2024, 4, 24, 21, 35, 23, 392241, tzinfo=datetime.timezone.utc), additional_values={'temperature': 0.0, 'prompt': 'v3', 'doc_ids': []}, previous=None)), predicate='the legal survey is on file at', object=Stratigraphy(strat_name='Quebec', strat_name_long='Quebec Group', rank='Gp', strat_name_id=7947, concept_id=29319, bed='', bed_id=0, mbr='', mbr_id=0, fm='', fm_id=0, subgp='', subgp_id=0, gp='Quebec', gp_id=7947, sgp='', sgp_id=0, b_age=503.5, t_age=451, b_period='Cambrian', t_period='Ordovician', c_interval='', t_units=9, ref_id=2, provenance=Provenance(id=UUID('a1b3d06b-2022-4bc6-805b-048d6463adb2'), source_name='Macrostrat', source_url='https://macrostrat.org/api/defs/strat_names?strat_name_id=7947', source_version=2, requested=datetime.datetime(2024, 4, 24, 21, 35, 23, 392241, tzinfo=datetime.timezone.utc), additional_values={}, previous=Provenance(id=UUID('808f784a-b589-4912-8fb9-038dc5455bfd'), source_name='Macrostrat', source_url='https://macrostrat.org/api/defs/strat_names?strat_name_id=7947', source_version=2, requested=datetime.datetime(2024, 4, 24, 21, 35, 23, 392241, tzinfo=datetime.timezone.utc), additional_values={}, previous=Provenance(id=UUID('be870e94-7f55-4893-bbfb-c91c32cc20a1'), source_name='OpenSourceModel', source_url=None, source_version='mixtral', requested=datetime.datetime(2024, 4, 24, 21, 35, 23, 392241, tzinfo=datetime.timezone.utc), additional_values={'temperature': 0.0, 'prompt': 'v3', 'doc_ids': []}, previous=None)))), provenance=Provenance(id=UUID('607fcacc-9da0-4871-8ed8-addd03f6a194'), source_name='OpenSourceModel', source_url=None, source_version='mixtral', requested=datetime.datetime(2024, 4, 24, 21, 35, 23, 392241, tzinfo=datetime.timezone.utc), additional_values={'temperature': 0.0, 'prompt': 'v3', 'doc_ids': [], 'triplet_db': {'triplet_db_pk': '03c7b997-27c2-458c-a91c-6836bcd43f79', 'paragraph_hash': 'b9f0b046a20f4051a871def3715ee233d8b88e2e3d20d8a11b4c083a5a689ed7', 'xdd_id': '6520ab4f4f5dbdaca31a68da'}}, previous=None)), RelationshipTriplet(subject=Location(name='property', lat=None, lon=None, provenance=Provenance(id=UUID('f553fd7a-2f4a-4bf0-b016-ce9499bde1fe'), source_name='OpenSourceModel', source_url=None, source_version='mixtral', requested=datetime.datetime(2024, 4, 24, 21, 35, 23, 392241, tzinfo=datetime.timezone.utc), additional_values={'temperature': 0.0, 'prompt': 'v3', 'doc_ids': []}, previous=None)), predicate='no known environmental liabilities on', object=Stratigraphy(strat_name='Quebec', strat_name_long='Quebec Group', rank='Gp', strat_name_id=7947, concept_id=29319, bed='', bed_id=0, mbr='', mbr_id=0, fm='', fm_id=0, subgp='', subgp_id=0, gp='Quebec', gp_id=7947, sgp='', sgp_id=0, b_age=503.5, t_age=451, b_period='Cambrian', t_period='Ordovician', c_interval='', t_units=9, ref_id=2, provenance=Provenance(id=UUID('0c2457c2-45d6-494d-bc23-055505c06111'), source_name='Macrostrat', source_url='https://macrostrat.org/api/defs/strat_names?strat_name_id=7947', source_version=2, requested=datetime.datetime(2024, 4, 24, 21, 35, 23, 392241, tzinfo=datetime.timezone.utc), additional_values={}, previous=Provenance(id=UUID('0faeea75-fd1c-4cab-8b6e-4ed204a0af2e'), source_name='Macrostrat', source_url='https://macrostrat.org/api/defs/strat_names?strat_name_id=7947', source_version=2, requested=datetime.datetime(2024, 4, 24, 21, 35, 23, 392241, tzinfo=datetime.timezone.utc), additional_values={}, previous=Provenance(id=UUID('f499d608-7c54-4dfb-9c32-3b42f70eb9ab'), source_name='OpenSourceModel', source_url=None, source_version='mixtral', requested=datetime.datetime(2024, 4, 24, 21, 35, 23, 392241, tzinfo=datetime.timezone.utc), additional_values={'temperature': 0.0, 'prompt': 'v3', 'doc_ids': []}, previous=None)))), provenance=Provenance(id=UUID('1a1ca6fd-f3cf-4f2e-9f83-24fbc84f8652'), source_name='OpenSourceModel', source_url=None, source_version='mixtral', requested=datetime.datetime(2024, 4, 24, 21, 35, 23, 392241, tzinfo=datetime.timezone.utc), additional_values={'temperature': 0.0, 'prompt': 'v3', 'doc_ids': [], 'triplet_db': {'triplet_db_pk': '03c7b997-27c2-458c-a91c-6836bcd43f79', 'paragraph_hash': 'b9f0b046a20f4051a871def3715ee233d8b88e2e3d20d8a11b4c083a5a689ed7', 'xdd_id': '6520ab4f4f5dbdaca31a68da'}}, previous=None)), RelationshipTriplet(subject=Location(name='Rouyn-Noranda', lat=None, lon=None, provenance=Provenance(id=UUID('31a1a46b-9796-49bd-9e9e-d0778785f23c'), source_name='OpenSourceModel', source_url=None, source_version='mixtral', requested=datetime.datetime(2024, 4, 24, 21, 35, 23, 392241, tzinfo=datetime.timezone.utc), additional_values={'temperature': 0.0, 'prompt': 'v3', 'doc_ids': []}, previous=None)), predicate='located in the Province of', object=Stratigraphy(strat_name='Quebec', strat_name_long='Quebec Group', rank='Gp', strat_name_id=7947, concept_id=29319, bed='', bed_id=0, mbr='', mbr_id=0, fm='', fm_id=0, subgp='', subgp_id=0, gp='Quebec', gp_id=7947, sgp='', sgp_id=0, b_age=503.5, t_age=451, b_period='Cambrian', t_period='Ordovician', c_interval='', t_units=9, ref_id=2, provenance=Provenance(id=UUID('8e17e87f-b30b-45e7-870f-6a45475c02d9'), source_name='Macrostrat', source_url='https://macrostrat.org/api/defs/strat_names?strat_name_id=7947', source_version=2, requested=datetime.datetime(2024, 4, 24, 21, 35, 23, 392241, tzinfo=datetime.timezone.utc), additional_values={}, previous=Provenance(id=UUID('b806af30-69de-4177-977f-6bd8a274aec3'), source_name='Macrostrat', source_url='https://macrostrat.org/api/defs/strat_names?strat_name_id=7947', source_version=2, requested=datetime.datetime(2024, 4, 24, 21, 35, 23, 392241, tzinfo=datetime.timezone.utc), additional_values={}, previous=Provenance(id=UUID('c1ed5b83-6e4d-43ab-97e1-30439f89d3ce'), source_name='OpenSourceModel', source_url=None, source_version='mixtral', requested=datetime.datetime(2024, 4, 24, 21, 35, 23, 392241, tzinfo=datetime.timezone.utc), additional_values={'temperature': 0.0, 'prompt': 'v3', 'doc_ids': []}, previous=None)))), provenance=Provenance(id=UUID('c9f8cab5-6fd4-4dcb-bb1f-da1696b0413e'), source_name='OpenSourceModel', source_url=None, source_version='mixtral', requested=datetime.datetime(2024, 4, 24, 21, 35, 23, 392241, tzinfo=datetime.timezone.utc), additional_values={'temperature': 0.0, 'prompt': 'v3', 'doc_ids': [], 'triplet_db': {'triplet_db_pk': '03c7b997-27c2-458c-a91c-6836bcd43f79', 'paragraph_hash': 'b9f0b046a20f4051a871def3715ee233d8b88e2e3d20d8a11b4c083a5a689ed7', 'xdd_id': '6520ab4f4f5dbdaca31a68da'}}, previous=None))])"
      ]
     },
     "execution_count": 90,
     "metadata": {},
     "output_type": "execute_result"
    }
   ],
   "execution_count": 90
  },
  {
   "metadata": {
    "ExecuteTime": {
     "end_time": "2024-04-26T17:21:19.415979Z",
     "start_time": "2024-04-26T17:21:19.334164Z"
    }
   },
   "cell_type": "code",
   "source": [
    "import requests\n",
    "\n",
    "\n",
    "def mean_and_stdev(l: list[float | int]) -> tuple[float, float]:\n",
    "    \"\"\"\n",
    "    return mean and std dev of a list of numbers, ignores Nones\n",
    "    if len(list) = 1, return only value and zero\n",
    "    \"\"\"\n",
    "    l = [x for x in l if x]\n",
    "    if len(l) == 1:\n",
    "        return l[0], 0.\n",
    "    mean = sum(l)/len(l)\n",
    "    std_dev = sum([(x-mean)**2 for x in l])/(len(l)-1)\n",
    "    return mean, std_dev\n",
    "\n",
    "\n",
    "def strat_name_id_lat_lons(strat_name_id: int) -> tuple[list[float], list[float]] | tuple[None, None]:\n",
    "    \"\"\"\n",
    "    retrieve all column lat lons from macrostrat for a given strat_name_id\n",
    "    :param strat_name_id: macrostrat strat_name_id\n",
    "    :return: lists of lats and lons \n",
    "    \"\"\"\n",
    "    url = f\"https://macrostrat.org/api/columns?strat_name_id={strat_name_id}\"\n",
    "    r = requests.get(url)\n",
    "    rj = r.json()\n",
    "    lats = None\n",
    "    lons = None\n",
    "    if rj['success']['data']:\n",
    "        lats = []\n",
    "        lons = []\n",
    "        for col in rj['success']['data']:\n",
    "            lats.append(float(col[\"lat\"]))\n",
    "            lons.append(float(col[\"lng\"]))    \n",
    "    return lats, lons\n",
    "\n",
    "\n",
    "strat_name_id = keepers[1].triplets[0].object.strat_name_id\n",
    "lats, lons = strat_name_id_lat_lons(strat_name_id=strat_name_id)\n",
    "print(f\"{mean_and_stdev(lats)=}\")\n",
    "print(f\"{mean_and_stdev(lons)=}\")\n",
    "\n",
    "        \n"
   ],
   "id": "af7e0d9caada119c",
   "outputs": [
    {
     "name": "stdout",
     "output_type": "stream",
     "text": [
      "mean_and_stdev(lats)=(48.56175, 0.372928916666665)\n",
      "mean_and_stdev(lons)=(-66.56275000000001, 4.186016250000002)\n"
     ]
    }
   ],
   "execution_count": 98
  },
  {
   "metadata": {
    "ExecuteTime": {
     "end_time": "2024-04-26T16:17:30.644841Z",
     "start_time": "2024-04-26T16:17:29.363122Z"
    }
   },
   "cell_type": "code",
   "source": [
    "import matplotlib.pyplot as plt\n",
    "\n",
    "plt.bar(out_bucket_counter.keys(), out_bucket_counter.values())"
   ],
   "id": "312913da2952a91a",
   "outputs": [
    {
     "data": {
      "text/plain": [
       "<BarContainer object of 30 artists>"
      ]
     },
     "execution_count": 76,
     "metadata": {},
     "output_type": "execute_result"
    },
    {
     "data": {
      "text/plain": [
       "<Figure size 640x480 with 1 Axes>"
      ],
      "image/png": "[encoded data removed]"
     },
     "metadata": {},
     "output_type": "display_data"
    }
   ],
   "execution_count": 76
  },
  {
   "metadata": {},
   "cell_type": "code",
   "outputs": [],
   "execution_count": null,
   "source": [
    "for go in all_graph_outputs:\n",
    "    for triplet in go.triplets:\n",
    "        "
   ],
   "id": "175732e25c6e6d6e"
  },
  {
   "metadata": {
    "ExecuteTime": {
     "end_time": "2024-04-24T21:49:54.451335Z",
     "start_time": "2024-04-24T21:49:54.446636Z"
    }
   },
   "cell_type": "code",
   "source": [
    "from text2graph.schema import GraphOutput, RelationshipTriplet\n",
    "go = GraphOutput.model_validate_json(triplet_db_tuple[3])\n",
    "go.triplets[0].provenance.additional_values[\"triplet_db\"] = {\"triplet_db_pk\": triplet_db_tuple[0], \"paragraph_hash\": triplet_db_tuple[1], \"xdd_id\":triplet_db_tuple[2] }\n",
    "go.triplets[0].provenance.additional_values"
   ],
   "id": "43557c55939bc5bb",
   "outputs": [
    {
     "data": {
      "text/plain": [
       "{'temperature': 0.0,\n",
       " 'prompt': 'v3',\n",
       " 'doc_ids': [],\n",
       " 'triplet_db': {'triplet_db_pk': '955616ce-f846-4665-9c64-d4709a34680d',\n",
       "  'paragraph_hash': '19a82f930b2ced3767b49d6fa8235fb15831785ca26b10c5e0755c96408cf93e',\n",
       "  'xdd_id': '6520ab4f4f5dbdaca31a68da'}}"
      ]
     },
     "execution_count": 54,
     "metadata": {},
     "output_type": "execute_result"
    }
   ],
   "execution_count": 54
  },
  {
   "metadata": {
    "ExecuteTime": {
     "end_time": "2024-04-24T21:38:07.194204Z",
     "start_time": "2024-04-24T21:38:06.649938Z"
    }
   },
   "cell_type": "code",
   "source": [
    "await go.hydrate()\n",
    "go.triplets[0]"
   ],
   "id": "9d0ead8c0bedc433",
   "outputs": [
    {
     "name": "stderr",
     "output_type": "stream",
     "text": [
      "WARNING:root:Location hydrate geocode api request failed for some similarities with the Elder Mine: response.status_code=200 response.content=b'[]'\n"
     ]
    },
    {
     "data": {
      "text/plain": [
       "RelationshipTriplet(subject=Location(name='some similarities with the Elder Mine', lat=None, lon=None, provenance=Provenance(id=UUID('8dcf7538-d314-4ba0-800a-08a4efb1782e'), source_name='OpenSourceModel', source_url=None, source_version='mixtral', requested=datetime.datetime(2024, 4, 24, 21, 35, 23, 392241, tzinfo=datetime.timezone.utc), additional_values={'temperature': 0.0, 'prompt': 'v3', 'doc_ids': []}, previous=None)), predicate='shares', object=Stratigraphy(strat_name='Elder', strat_name_long='Elder Subgroup', rank='SubGp', strat_name_id=92908, concept_id=30327, bed='', bed_id=0, mbr='', mbr_id=0, fm='', fm_id=0, subgp='Elder', subgp_id=92908, gp='Goose Hole', gp_id=85858, sgp='', sgp_id=0, b_age=511, t_age=485.4, b_period='Cambrian', t_period='Cambrian', c_interval='', t_units=0, ref_id=22, provenance=Provenance(id=UUID('b21871b2-3710-4b6c-9a51-0e696c86d5f7'), source_name='Macrostrat', source_url='https://macrostrat.org/api/defs/strat_names?strat_name_id=92908', source_version=2, requested=datetime.datetime(2024, 4, 24, 21, 35, 23, 392241, tzinfo=datetime.timezone.utc), additional_values={}, previous=Provenance(id=UUID('60c4da8c-03b6-4d40-b1b6-7a2dd4431ede'), source_name='Macrostrat', source_url='https://macrostrat.org/api/defs/strat_names?strat_name_id=92908', source_version=2, requested=datetime.datetime(2024, 4, 24, 21, 35, 23, 392241, tzinfo=datetime.timezone.utc), additional_values={}, previous=Provenance(id=UUID('ea27fd82-f1a2-4698-a47e-a1b06cdacaaa'), source_name='OpenSourceModel', source_url=None, source_version='mixtral', requested=datetime.datetime(2024, 4, 24, 21, 35, 23, 392241, tzinfo=datetime.timezone.utc), additional_values={'temperature': 0.0, 'prompt': 'v3', 'doc_ids': []}, previous=None)))), provenance=Provenance(id=UUID('fb2f6832-3962-4713-b352-ab3e5c111019'), source_name='OpenSourceModel', source_url=None, source_version='mixtral', requested=datetime.datetime(2024, 4, 24, 21, 35, 23, 392241, tzinfo=datetime.timezone.utc), additional_values={'temperature': 0.0, 'prompt': 'v3', 'doc_ids': []}, previous=None))"
      ]
     },
     "execution_count": 41,
     "metadata": {},
     "output_type": "execute_result"
    }
   ],
   "execution_count": 41
  },
  {
   "metadata": {
    "ExecuteTime": {
     "end_time": "2024-04-23T21:59:32.865672Z",
     "start_time": "2024-04-23T21:59:32.257979Z"
    }
   },
   "cell_type": "code",
   "source": [
    "import os\n",
    "from dotenv import load_dotenv\n",
    "import weaviate\n",
    "\n",
    "load_dotenv()\n",
    "weaviate_apikey = os.getenv(\"ASK_XDD_APIKEY\")\n",
    "\n",
    "client = weaviate.Client(\n",
    "    \"http://cosmos0001.chtc.wisc.edu:8080\",\n",
    "    auth_client_secret=weaviate.auth.AuthApiKey(weaviate_apikey),\n",
    ")\n",
    "\n",
    "hashed_text = \"19a82f930b2ced3767b49d6fa8235fb15831785ca26b10c5e0755c96408cf93e\"\n",
    "where_filter = {\n",
    "    \"path\": [\"hashed_text\"],\n",
    "    \"operator\": \"Equal\",\n",
    "    \"valueText\": hashed_text,\n",
    "}\n",
    "client.query.get(\"Paragraph\", [\"hashed_text\", \"text_content\"]).with_where(\n",
    "    where_filter\n",
    ").do()"
   ],
   "id": "57131ab2051a05d7",
   "outputs": [
    {
     "name": "stderr",
     "output_type": "stream",
     "text": [
      "/usr/local/anaconda3/envs/usgs2023/lib/python3.11/site-packages/weaviate/warnings.py:121: DeprecationWarning: Dep005: You are using weaviate-client version 3.25.3. The latest version is 4.5.6.\n",
      "            Please consider upgrading to the latest version. See https://weaviate.io/developers/weaviate/client-libraries/python for details.\n",
      "  warnings.warn(\n"
     ]
    },
    {
     "data": {
      "text/plain": [
       "{'data': {'Get': {'Paragraph': [{'hashed_text': '19a82f930b2ced3767b49d6fa8235fb15831785ca26b10c5e0755c96408cf93e',\n",
       "     'text_content': 'ABCOURT purchased the property from the joint venture, the CDR Zone from Cambior and the Tagami property from AUNORE and Metall Mining Corp. ABCOURT reactivated the project from 1995 to 1998 and increased the mineral resources on the east end of the mine. The project was put on a care and maintenance basis after a sharp and steady decline of the price of gold in the fall of 1998.\\nThe project is located 10 km northwest of Rouyn-Noranda and is easily accessible. Water and electric power are already available on the property. The mining plant is well equipped with its 2,606-feet deep 3-compartment, vertical shaft giving access to 16 levels. Substantial underground resources are still accessible and pre-production start-up may be initiated rapidly. The adjacent Tagami property covers very good gold targets sharing some similarities with the Elder Mine.'}]}}}"
      ]
     },
     "execution_count": 13,
     "metadata": {},
     "output_type": "execute_result"
    }
   ],
   "execution_count": 13
  },
  {
   "metadata": {
    "ExecuteTime": {
     "end_time": "2024-04-30T15:11:18.579040Z",
     "start_time": "2024-04-30T15:11:18.287040Z"
    }
   },
   "cell_type": "code",
   "source": [
    "from text2graph.geolocation.geocode import get_gps, RateLimitedClient\n",
    "\n",
    "lat, lon, url = await get_gps(query=\"Madison, WI\", client=RateLimitedClient(interval=1.5))"
   ],
   "id": "c96b5ada202b9e7e",
   "outputs": [],
   "execution_count": 16
  },
  {
   "metadata": {
    "ExecuteTime": {
     "end_time": "2024-04-30T15:12:15.208022Z",
     "start_time": "2024-04-30T15:12:15.203339Z"
    }
   },
   "cell_type": "code",
   "source": "type(lat)",
   "id": "2508e86824caafd7",
   "outputs": [
    {
     "data": {
      "text/plain": [
       "str"
      ]
     },
     "execution_count": 20,
     "metadata": {},
     "output_type": "execute_result"
    }
   ],
   "execution_count": 20
  },
  {
   "metadata": {
    "ExecuteTime": {
     "end_time": "2024-04-30T15:11:22.864991Z",
     "start_time": "2024-04-30T15:11:22.861177Z"
    }
   },
   "cell_type": "code",
   "source": "lon",
   "id": "68dea699f5bc4d79",
   "outputs": [
    {
     "data": {
      "text/plain": [
       "'-89.3837613'"
      ]
     },
     "execution_count": 18,
     "metadata": {},
     "output_type": "execute_result"
    }
   ],
   "execution_count": 18
  },
  {
   "metadata": {
    "ExecuteTime": {
     "end_time": "2024-04-30T15:11:24.865748Z",
     "start_time": "2024-04-30T15:11:24.862419Z"
    }
   },
   "cell_type": "code",
   "source": "url",
   "id": "2ac893e7c37f6100",
   "outputs": [
    {
     "data": {
      "text/plain": [
       "'https://geocode.maps.co/search?&q=Madison, WI'"
      ]
     },
     "execution_count": 19,
     "metadata": {},
     "output_type": "execute_result"
    }
   ],
   "execution_count": 19
  },
  {
   "metadata": {
    "ExecuteTime": {
     "end_time": "2024-04-30T18:49:33.962572Z",
     "start_time": "2024-04-30T18:49:30.979623Z"
    }
   },
   "cell_type": "code",
   "source": [
    "from text2graph.alignment import AlignmentHandler\n",
    "\n",
    "ah = AlignmentHandler()"
   ],
   "id": "450c2e38970f5aae",
   "outputs": [
    {
     "ename": "TypeError",
     "evalue": "AlignmentHandler.__init__() missing 1 required positional argument: 'known_entity_names'",
     "output_type": "error",
     "traceback": [
      "\u001B[0;31m---------------------------------------------------------------------------\u001B[0m",
      "\u001B[0;31mTypeError\u001B[0m                                 Traceback (most recent call last)",
      "Cell \u001B[0;32mIn[25], line 3\u001B[0m\n\u001B[1;32m      1\u001B[0m \u001B[38;5;28;01mfrom\u001B[39;00m \u001B[38;5;21;01mtext2graph\u001B[39;00m\u001B[38;5;21;01m.\u001B[39;00m\u001B[38;5;21;01malignment\u001B[39;00m \u001B[38;5;28;01mimport\u001B[39;00m AlignmentHandler\n\u001B[0;32m----> 3\u001B[0m ah \u001B[38;5;241m=\u001B[39m \u001B[43mAlignmentHandler\u001B[49m\u001B[43m(\u001B[49m\u001B[43m)\u001B[49m\n",
      "\u001B[0;31mTypeError\u001B[0m: AlignmentHandler.__init__() missing 1 required positional argument: 'known_entity_names'"
     ]
    }
   ],
   "execution_count": 25
  },
  {
   "metadata": {},
   "cell_type": "code",
   "outputs": [],
   "execution_count": null,
   "source": "",
   "id": "6d1d4d384c2ea313"
  }
 ],
 "metadata": {
  "kernelspec": {
   "display_name": "Python 3",
   "language": "python",
   "name": "python3"
  },
  "language_info": {
   "codemirror_mode": {
    "name": "ipython",
    "version": 2
   },
   "file_extension": ".py",
   "mimetype": "text/x-python",
   "name": "python",
   "nbconvert_exporter": "python",
   "pygments_lexer": "ipython2",
   "version": "2.7.6"
  }
 },
 "nbformat": 4,
 "nbformat_minor": 5
}
