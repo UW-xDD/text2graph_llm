{
 "cells": [
  {
   "cell_type": "markdown",
   "source": [
    "# GKM scratch"
   ],
   "metadata": {
    "collapsed": false
   },
   "id": "d4347718b771b217"
  },
  {
   "cell_type": "markdown",
   "source": [
    "## load macrostrat unit dicts"
   ],
   "metadata": {
    "collapsed": false
   },
   "id": "386de6ccabd82e19"
  },
  {
   "cell_type": "code",
   "execution_count": 1,
   "id": "initial_id",
   "metadata": {
    "collapsed": true,
    "ExecuteTime": {
     "end_time": "2024-03-06T17:03:07.272813Z",
     "start_time": "2024-03-06T17:03:06.267375Z"
    }
   },
   "outputs": [],
   "source": [
    "import json\n",
    "\n",
    "with open(\"../data/macrostrat_stratname_data.json\", 'r') as f:\n",
    "    sn_dcts = json.load(f)\n",
    "    \n",
    "sn_dct = sn_dcts[10]\n",
    "sn_dct"
   ]
  },
  {
   "cell_type": "markdown",
   "source": [
    "## create GKM format description for one macrostrat dict"
   ],
   "metadata": {
    "collapsed": false
   },
   "id": "89a963dba514b793"
  },
  {
   "cell_type": "code",
   "outputs": [
    {
     "name": "stdout",
     "output_type": "stream",
     "text": [
      "@prefix xdd: <https://w3id.org/gso/1.0/ex-xddlexicon#> .\n",
      "@prefix dct: <http://purl.org/dc/terms/> .\n",
      "@prefix gsel: <https://w3id.org/gso/1.0/element/> .\n",
      "@prefix gsen: <https://w3id.org/gso/1.0/geologicsetting/> .\n",
      "@prefix gsgu: <https://w3id.org/gso/1.0/geologicunit/> .\n",
      "@prefix gsmin: <https://w3id.org/gso/1.0/mineral/> .\n",
      "@prefix gsoc: <https://w3id.org/gso/1.0/common/> .\n",
      "@prefix gsog: <https://w3id.org/gso/1.0/geology/> .\n",
      "@prefix gsoq: <https://w3id.org/gso/1.0/quality/> .\n",
      "@prefix gspd: <https://w3id.org/gso/1.0/perdurant/> .\n",
      "@prefix gspr: <https://w3id.org/gso/1.0/geologicprocess/> .\n",
      "@prefix gsps: <https://w3id.org/gso/1.0/lithology/particleroundness/> .\n",
      "@prefix gsrm: <https://w3id.org/gso/1.0/rockmaterial/> .\n",
      "@prefix gstime: <https://w3id.org/gso/1.0/ischart/> .\n",
      "@prefix owl: <http://www.w3.org/2002/07/owl#> .\n",
      "@prefix ppbc: <https://w3id.org/gso/1.0/ex-petrophysics-bc#> .\n",
      "@prefix rdf: <http://www.w3.org/1999/02/22-rdf-syntax-ns#> .\n",
      "@prefix rdfs: <http://www.w3.org/2000/01/rdf-schema#> .\n",
      "@prefix schema: <https://schema.org/> .\n",
      "@prefix skos: <http://www.w3.org/2004/02/skos/core#> .\n",
      "@prefix turtle: <http://www.semanticweb.org/owl/owlapi/turtle#> .\n",
      "@prefix unit: <http://qudt.org/vocab/unit/> .\n",
      "@prefix xsd: <http://www.w3.org/2001/XMLSchema#> .\n",
      "\n",
      "xdd:AbbotsfordFm ;\n",
      "\trdf:type: gsgu:Formation ;\n",
      "\tgsoc:hasConstituent: xdd:AbbotsfordFm-mudstone ;\n",
      "\tgsoc:hasQuality: xdd:AbbotsfordFm-location-0 ;\n",
      ".\n",
      "xdd:AbbotsfordFm-mudstone ;\n",
      "\trdf:type: gsrm:AbbotsfordFm-mudstone ;\n",
      ".\n",
      "xdd:AbbotsfordFm-location-0 ;\n",
      "\trdf:type: gsoc:SpatialLocation ;\n",
      "\tgsoc:hasSpatialValue: [gsoc:WKTValue: POINT (-46.163 170.433)] ;\n",
      "\tgsoc:hasReferenceSystem: AbbotsfordFm-WGS84 ;\n",
      ".\n",
      "xdd:AbbotsfordFm-WGS84 ;\n",
      "\trdf:type: gsoc:GeographicCoordinateSystem ;\n",
      "\tgsoc:hasValue: WGS 84 ;\n",
      ".\n"
     ]
    }
   ],
   "source": [
    "from text2graph.dict2ttl.gkm import(\n",
    "    gkm_xdd_entity_from_macrostrat_unit_dict,\n",
    "    final_gkm_file\n",
    ")\n",
    "gxe = gkm_xdd_entity_from_macrostrat_unit_dict(macrostrat_unit_dict=sn_dcts[10])\n",
    "final_gkm_str = final_gkm_file([gxe])\n",
    "print(final_gkm_str)\n",
    "    \n"
   ],
   "metadata": {
    "collapsed": false,
    "ExecuteTime": {
     "end_time": "2024-03-06T17:05:00.905760Z",
     "start_time": "2024-03-06T17:05:00.902025Z"
    }
   },
   "id": "58ca44e23a5947a3",
   "execution_count": 5
  },
  {
   "cell_type": "code",
   "outputs": [],
   "source": [],
   "metadata": {
    "collapsed": false,
    "ExecuteTime": {
     "end_time": "2024-03-06T17:03:07.292333Z",
     "start_time": "2024-03-06T17:03:07.290374Z"
    }
   },
   "id": "4c83a4feda70fdd1",
   "execution_count": 3
  }
 ],
 "metadata": {
  "kernelspec": {
   "display_name": "Python 3",
   "language": "python",
   "name": "python3"
  },
  "language_info": {
   "codemirror_mode": {
    "name": "ipython",
    "version": 2
   },
   "file_extension": ".py",
   "mimetype": "text/x-python",
   "name": "python",
   "nbconvert_exporter": "python",
   "pygments_lexer": "ipython2",
   "version": "2.7.6"
  }
 },
 "nbformat": 4,
 "nbformat_minor": 5
}
