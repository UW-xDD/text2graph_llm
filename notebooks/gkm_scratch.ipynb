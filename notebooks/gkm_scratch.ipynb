{
 "cells": [
  {
   "cell_type": "markdown",
   "source": [
    "# GKM scratch"
   ],
   "metadata": {
    "collapsed": false
   },
   "id": "d4347718b771b217"
  },
  {
   "cell_type": "markdown",
   "source": [
    "## load macrostrat unit dicts"
   ],
   "metadata": {
    "collapsed": false
   },
   "id": "386de6ccabd82e19"
  },
  {
   "cell_type": "code",
   "execution_count": 1,
   "id": "initial_id",
   "metadata": {
    "collapsed": true,
    "ExecuteTime": {
     "end_time": "2024-03-07T03:42:11.241569Z",
     "start_time": "2024-03-07T03:42:10.298549Z"
    }
   },
   "outputs": [
    {
     "data": {
      "text/plain": "{'unit_id': 24166,\n 'section_id': 6949,\n 'col_id': 1024,\n 'project_id': 5,\n 'col_area': 1788.19,\n 'unit_name': 'Abbotsford Fm',\n 'strat_name_id': 8498,\n 'Mbr': '',\n 'Fm': 'Abbotsford',\n 'Gp': '',\n 'SGp': '',\n 't_age': 48.1,\n 'b_age': 58.5,\n 'max_thick': 0,\n 'min_thick': 0,\n 'outcrop': '',\n 'pbdb_collections': 0,\n 'pbdb_occurrences': 0,\n 'lith': [{'atts': [],\n   'name': 'mudstone',\n   'prop': 1,\n   'lith_id': 7,\n   'type': 'siliciclastic',\n   'class': 'sedimentary'}],\n 'environ': [{'class': 'marine',\n   'type': '',\n   'name': 'inferred marine',\n   'environ_id': 93}],\n 'econ': [],\n 'measure': [],\n 'notes': '',\n 'color': '#999999',\n 'text_color': '#000000',\n 't_int_id': 386,\n 't_int_name': 'Heretaungan',\n 't_int_age': 45.7,\n 't_prop': 0.25,\n 'units_above': [24167],\n 'b_int_id': 389,\n 'b_int_name': 'Teurian',\n 'b_int_age': 66,\n 'b_prop': 0.75,\n 'units_below': [24165],\n 'strat_name_long': 'Abbotsford Formation',\n 'refs': [5],\n 'clat': -46.163,\n 'clng': 170.433,\n 't_plat': -48.414,\n 't_plng': -155.931,\n 'b_plat': -50.841,\n 'b_plng': -154.81}"
     },
     "execution_count": 1,
     "metadata": {},
     "output_type": "execute_result"
    }
   ],
   "source": [
    "import json\n",
    "\n",
    "with open(\"../data/macrostrat_stratname_data.json\", 'r') as f:\n",
    "    sn_dcts = json.load(f)\n",
    "    \n",
    "sn_dct = sn_dcts[10]\n",
    "sn_dct"
   ]
  },
  {
   "cell_type": "markdown",
   "source": [
    "# types of strat units"
   ],
   "metadata": {
    "collapsed": false
   },
   "id": "39820a721d8aeea0"
  },
  {
   "cell_type": "code",
   "outputs": [],
   "source": [
    "from collections import Counter\n",
    "c = Counter(\n",
    "    [x['strat_name_long'].split()[-1] for x in sn_dcts]\n",
    ")\n"
   ],
   "metadata": {
    "collapsed": false,
    "ExecuteTime": {
     "end_time": "2024-03-07T03:42:11.266328Z",
     "start_time": "2024-03-07T03:42:11.243421Z"
    }
   },
   "id": "228ac7cf0bf88579",
   "execution_count": 2
  },
  {
   "cell_type": "markdown",
   "source": [
    "# names of Members, Formations, Groups and SuperGroups"
   ],
   "metadata": {
    "collapsed": false
   },
   "id": "faad368a27a74ba7"
  },
  {
   "cell_type": "code",
   "outputs": [
    {
     "data": {
      "text/plain": "Counter({'': 2054,\n         'Turi': 242,\n         'Manganui': 186,\n         'Farewell': 150,\n         'Wapiabi': 136,\n         'Whangai': 136,\n         'Fernie': 117,\n         'Carbondale': 117,\n         'St Peter Sandstone': 116,\n         'Otaraoa': 115,\n         'North Cape': 111,\n         'Pedra de Fogo': 110,\n         'Amuri Limestone': 105,\n         'Niobrara': 101,\n         'Kaimiro': 96,\n         'Mangahewa': 84,\n         'Monterey': 83,\n         'Chinle': 83,\n         'Heiberg': 79,\n         'Marambaia': 78,\n         'Rose Hill': 77,\n         'Rio Bonito': 77,\n         'Ste Genevieve Limestone': 75,\n         'Glenburn': 75,\n         'Mohakatino': 75,\n         'Cantuar': 73,\n         'Carlile Shale': 73,\n         'Tikorangi': 72,\n         'Sulphur Mountain': 71,\n         'Keyser Limestone': 70,\n         'Mount Simon Sandstone': 70,\n         'Urenui': 70,\n         'Morrison': 69,\n         'Broken River': 68,\n         'Temblor': 66,\n         'Kokoamu Greensand': 66,\n         'Moki': 66,\n         'Lee': 64,\n         'Piper': 64,\n         'Mount Messenger': 64,\n         'Duperow': 63,\n         'Ponta Grossa': 63,\n         'Stony Mountain': 62,\n         'New Albany Shale': 62,\n         'Hosston': 62,\n         'Catskill': 62,\n         'Mahantango': 62,\n         'Piaui': 60,\n         'Waterways': 60,\n         'Itanhaem': 60,\n         'Giant Foresets': 60,\n         'Rakopi': 60,\n         'Chattanooga Shale': 59,\n         'Ponta Aguda': 58,\n         'Taimana': 58,\n         'Kaiata': 57,\n         'Greenhorn': 56,\n         'Itajai-Acu': 56,\n         'Lodgepole Limestone': 56,\n         'Irati': 54,\n         'Kowai': 54,\n         'Weber': 54,\n         'Eau Claire': 54,\n         'Waikato': 54,\n         'Rio do Rasto': 54,\n         'Tuscaloosa': 52,\n         'Cook Mountain': 51,\n         'Borden': 51,\n         'Waipawa Black Shale': 51,\n         'Rome': 50,\n         'Red River': 50,\n         'Spoon': 50,\n         'Ashley Mudstone': 48,\n         'Trenton Limestone': 48,\n         'Keefer Sandstone': 48,\n         'Yazoo': 48,\n         'Marias River Shale': 48,\n         'Souris River': 48,\n         'Smackover': 47,\n         'Copper Ridge Dolomite': 47,\n         'Barrow': 46,\n         'Beekmantown': 46,\n         'Waicoe': 45,\n         'Thermopolis Shale': 45,\n         'Picarras': 44,\n         'Sunbury Shale': 44,\n         'Christopher': 43,\n         'Wonewoc': 43,\n         'Berea Sandstone': 42,\n         'Mowry Shale': 42,\n         'Davis': 42,\n         'Hinton': 42,\n         'Mangakotuku': 42,\n         'Mission Canyon': 42,\n         'Wanstead': 42,\n         'Tallahatta': 41,\n         'Phosphoria': 41,\n         'Whitehorse': 40,\n         'Martinsburg': 40,\n         'Yeso': 40,\n         'Homebush Sandstone': 40,\n         'Marcellus Shale': 40,\n         'Takaka': 40,\n         'Blackleaf': 39,\n         'Dakota': 39,\n         'Isachsen': 39,\n         'Dorcheat': 38,\n         'Irene Bay': 38,\n         'Thumb Mountain': 38,\n         'Decorah': 38,\n         'Rierdon': 38,\n         'Bond': 37,\n         'Conasauga': 37,\n         'Swift': 37,\n         'Oneota Dolomite': 36,\n         'Clayton': 36,\n         'Entrada Sandstone': 36,\n         'Park City': 36,\n         'Hoyle Bay': 36,\n         'Wabash': 36,\n         'Graneros Shale': 35,\n         'Jameson Bay': 35,\n         'Dawson Bay': 35,\n         'Kayak Shale': 35,\n         'Platteville': 35,\n         'Pierre': 35,\n         'Bakken': 34,\n         'Hatchetigbee': 34,\n         'Birdbear': 34,\n         'Fleming': 34,\n         'Haynesville': 34,\n         'Brownsport': 33,\n         'Bjorne': 33,\n         'Jeffersonville Limestone': 33,\n         'Prairie': 33,\n         'Glen Massey': 33,\n         'Mead Hill': 33,\n         'Springhill': 33,\n         'Porters Creek': 33,\n         'Joachim Dolomite': 32,\n         'Caseyville': 32,\n         'Golconda': 32,\n         'Omihi': 32,\n         'Conococheague': 32,\n         'Wasatch': 32,\n         'Brunner': 32,\n         'Campo Mourao': 32,\n         'Yorktown': 32,\n         'Rochester Shale': 32,\n         'Mancos Shale': 32,\n         'Marcellus': 32,\n         'Murray Harbour': 32,\n         'Napo': 32,\n         'Frontier': 31,\n         'Green River': 31,\n         'Fort Union': 31,\n         'Kaskapau': 31,\n         'Blackstone': 30,\n         'Alto das Garcas': 30,\n         'Seabee': 30,\n         'Motuca': 30,\n         'Bay Fiord': 30,\n         'Winnipeg': 30,\n         'Cobden Limestone': 30,\n         'Wickliffe': 30,\n         'Potosi Dolomite': 30,\n         'Norphlet': 30,\n         'Pottsville': 30,\n         'Allen Bay': 29,\n         'Needmore Shale': 29,\n         'Coosawhatchie': 29,\n         'Blind Fiord': 29,\n         'Calloway Creek Limestone': 29,\n         'Calvert': 29,\n         'Pleasant Mills': 29,\n         'Ashern': 28,\n         'Tradewater': 28,\n         'Orr': 28,\n         'Cadomin': 28,\n         'Cabot Head': 28,\n         'Roche Point': 28,\n         'Frio': 28,\n         'Charles': 28,\n         'Winnipegosis': 28,\n         'Kauru': 28,\n         'Fort Payne': 28,\n         'Hecla Bay': 28,\n         'Juniata': 28,\n         'Waima': 28,\n         'Salem Limestone': 28,\n         'Sligo': 28,\n         'St Lawrence Dolomite': 28,\n         'Santana': 27,\n         'Awingak': 27,\n         'Stonehenge Limestone': 27,\n         'Brassfield': 27,\n         'Pearsall': 27,\n         'Franconia': 27,\n         'St Louis Limestone': 27,\n         'Peace River': 27,\n         'Ripley': 27,\n         'Laing': 27,\n         'Belle Fourche': 26,\n         'Bluestone': 26,\n         'Bonner Springs': 26,\n         'Breathitt': 26,\n         'Cass Fiord': 26,\n         'Manitoulin Dolomite': 26,\n         'Ohio Shale': 26,\n         'Elbrook Dolomite': 26,\n         'Drum Limestone': 26,\n         'Waipara Greensand': 26,\n         'Loburn Mudstone': 26,\n         'Flathead Sandstone': 26,\n         'Gatesburg': 26,\n         'Waikari': 26,\n         'Palermo': 26,\n         'Wapiti': 25,\n         'Blackmount': 25,\n         'Parry Islands': 25,\n         'Skull Creek': 25,\n         'Echooka': 25,\n         'Three Forks': 25,\n         'Barreirinha': 24,\n         'Amsden': 24,\n         'Cardium': 24,\n         'Nova Olinda': 24,\n         'Southesk': 24,\n         'Macnamara': 24,\n         'Barra Velha': 24,\n         'Pecatonica': 24,\n         'Buda Limestone': 24,\n         'Cape Clay': 24,\n         'Carmel': 24,\n         'Mowry': 24,\n         'Fox Hills': 24,\n         'Galesburg Shale': 24,\n         'Gentle Annie': 24,\n         'Orauea Mudstone': 24,\n         'Tangaruhe': 24,\n         'Prospect': 24,\n         'Imbe': 24,\n         'Karekare': 24,\n         'Telegraph Creek': 24,\n         'Tokama Siltstone': 24,\n         'Shakopee': 24,\n         'Pat Bay': 24,\n         'Rodessa': 24,\n         'Wellington': 24,\n         'Conemaugh': 23,\n         'Lodo': 23,\n         'Stonewall': 23,\n         'Byram': 23,\n         'Harpers': 23,\n         'Genesee': 23,\n         'Ivishak': 23,\n         'Altamont': 22,\n         'Magothy': 22,\n         'Bandera Shale': 22,\n         'North Vernon Limestone': 22,\n         'Kibbey': 22,\n         'Otuk': 22,\n         'Calhoun Shale': 22,\n         'Carrizo': 22,\n         'Maynardville Limestone': 22,\n         'Chepultepec Dolomite': 22,\n         'Moreno': 22,\n         'Mesaverde': 22,\n         'Deer Creek': 22,\n         'Eminence': 22,\n         'Kekiktuk Conglomerate': 22,\n         'Kanayut Conglomerate': 22,\n         'Ferry Lake Anhydrite': 22,\n         'Pierre Shale': 22,\n         'Glen Dean Limestone': 22,\n         'Nanafalia': 22,\n         'Rusk': 22,\n         'Panoche': 21,\n         'West Falls': 21,\n         'Ariki': 21,\n         'Shady Dolomite': 21,\n         'Bonanza King': 21,\n         'Stillwater Mudstone': 21,\n         'Scatter': 21,\n         'Sonyea': 21,\n         'Eastover': 21,\n         'Old Port': 21,\n         'Wangaloa': 21,\n         'Monteagle Limestone': 21,\n         'Pennington': 21,\n         'Oriskany Sandstone': 21,\n         'Spearfish': 21,\n         'Sheepbed': 21,\n         'Road River': 21,\n         'Abbotsford': 20,\n         'Antietam': 20,\n         'Makah': 20,\n         'Ridenhower': 20,\n         'Camp Nelson Limestone': 20,\n         'Canyon Fiord': 20,\n         'Newman Limestone': 20,\n         'Charteris Bay Sandstone': 20,\n         'Cherryvale': 20,\n         'Sparta': 20,\n         'Conway': 20,\n         'Mifflintown': 20,\n         'Crystal River': 20,\n         'Kootenai': 20,\n         'Deadwood': 20,\n         'Deer Bay': 20,\n         'Santa Rosa Sandstone': 20,\n         'Hunt Fork Shale': 20,\n         'Waihao': 20,\n         'Paluxy': 20,\n         'Furnas': 20,\n         'Gros Ventre': 20,\n         'Wood River': 20,\n         'Hertha Limestone': 20,\n         'Judith River': 20,\n         'Kaipuke': 20,\n         'Purilactis': 20,\n         'Mount Head': 20,\n         'Ridgeley Sandstone': 20,\n         'Otekaike Limestone': 20,\n         'PirambÃ³ia': 20,\n         'Tonoloway Limestone': 20,\n         'Tunnel Burn': 20,\n         'Bedford Shale': 19,\n         'Foreknobs': 19,\n         'Catoctin': 19,\n         'Moccasin': 19,\n         'Cockfield': 19,\n         'Louann Salt': 19,\n         'Ringnes': 19,\n         'Sandy Point': 19,\n         'Tuscarora Sandstone': 19,\n         'Alter do Chao': 18,\n         'Dutchtown': 18,\n         'Aotea': 18,\n         \"O'Keefe\": 18,\n         'Eight Mile': 18,\n         'Inangahua': 18,\n         'Matiri': 18,\n         'Bonneterre': 18,\n         'New Providence Shale': 18,\n         'Twin Creek Limestone': 18,\n         'Brallier': 18,\n         'Brainard': 18,\n         'Renault Limestone': 18,\n         'Chanute Shale': 18,\n         'Eggleston Limestone': 18,\n         'Puskwaskau': 18,\n         'Cidreira': 18,\n         'Lisbon': 18,\n         'Gowganda': 18,\n         'Wanapum Basalt': 18,\n         'Curiosity Shop Sandstone': 18,\n         'Owambo': 18,\n         'Dennis Limestone': 18,\n         'Lucas': 18,\n         'Doswell': 18,\n         'Douro': 18,\n         'Kanguk': 18,\n         'Keg River': 18,\n         'Iron Creek Greensand': 18,\n         'Spirit River': 18,\n         'Fort Atkinson Limestone': 18,\n         'Fort Scott Limestone': 18,\n         'Jureia': 18,\n         'Mungaroa': 18,\n         'Taratu': 18,\n         'Twitya': 18,\n         'New Creek Limestone': 18,\n         'Ranquil': 18,\n         'Iola Limestone': 18,\n         'Moodys Branch': 18,\n         'Swope Limestone': 18,\n         'Ladore Shale': 18,\n         'Kiamichi': 18,\n         'Stanton Limestone': 18,\n         'Vilas Shale': 18,\n         'Plattsburg Limestone': 18,\n         'Lime Creek': 18,\n         'Scales Shale': 18,\n         'Matemateaonga': 18,\n         'Traverse': 18,\n         'New Market Limestone': 18,\n         'Oneota': 18,\n         'Osgood': 18,\n         'Teresina': 18,\n         'Pekisko': 18,\n         'Reagan Sandstone': 18,\n         'Warsaw': 18,\n         'Sequatchie': 18,\n         'Tarakohe': 18,\n         'Tititira': 18,\n         'Waldron Shale': 18,\n         'Tyler': 17,\n         'Jefferson': 17,\n         'Bloomsburg': 17,\n         'Boquillas': 17,\n         'Cedar Valley': 17,\n         'Clinch Sandstone': 17,\n         'Joli Fou': 17,\n         'Eutaw': 17,\n         'Taciba': 17,\n         'Lane Shale': 17,\n         'Ngaumu Mudstone': 17,\n         'Mattoon': 17,\n         'Moenkopi': 17,\n         'Sundance': 17,\n         'Whaingaroa': 17,\n         'Wills Creek': 17,\n         'Anahuac': 16,\n         'Budden Canyon': 16,\n         'Cloud Chief': 16,\n         'Kirkwood': 16,\n         'Amherstburg': 16,\n         'Ariri': 16,\n         'Ashville': 16,\n         'Atkinson': 16,\n         'Auburn Shale': 16,\n         'Awarua Limestone': 16,\n         'Backbone Limestone': 16,\n         'Banff': 16,\n         'Bearpaw Shale': 16,\n         'Slave Point': 16,\n         'Otter': 16,\n         'Lance': 16,\n         'Plattin': 16,\n         'Choptank': 16,\n         'Brule': 16,\n         'Burlington Limestone': 16,\n         'Camsell': 16,\n         'Kreyenhagen Shale': 16,\n         'Cape De Bray': 16,\n         'Dugger': 16,\n         'Linton': 16,\n         'Galeros': 16,\n         'Catahoula': 16,\n         'Chadron': 16,\n         'Patoka': 16,\n         'Foraker Limestone': 16,\n         'Split Rock': 16,\n         'Curtis': 16,\n         'Salina': 16,\n         'Del Rio Clay': 16,\n         'Derby-Doerun Dolomite': 16,\n         'Dinwoody': 16,\n         'Dixon': 16,\n         'Tecovas': 16,\n         'Eagle Sandstone': 16,\n         'Emporia': 16,\n         'Siksikpuk': 16,\n         'Nessing Greensand': 16,\n         'Karetu Sandstone': 16,\n         'View Hill Volcanics': 16,\n         'Exshaw': 16,\n         'Mount Hawk': 16,\n         'Fantasque': 16,\n         'Navajo Sandstone': 16,\n         'Hardinsburg Sandstone': 16,\n         'Hassel': 16,\n         'Hazen': 16,\n         'Licking Creek Limestone': 16,\n         'Mandata Shale': 16,\n         'Kamik': 16,\n         'Kanwaka Shale': 16,\n         'Wyandotte Limestone': 16,\n         'Keokuk Limestone': 16,\n         'Kincaid': 16,\n         'Puente': 16,\n         'Labette Shale': 16,\n         'Landry': 16,\n         'Laurel Limestone': 16,\n         'Lecompton Limestone': 16,\n         'Lenapah Limestone': 16,\n         'Lockport Dolomite': 16,\n         'Mackenzie Dikes': 16,\n         'Nowata Shale': 16,\n         'Pawnee Limestone': 16,\n         'Martin Creek': 16,\n         'McConnell Island': 16,\n         'McGuire': 16,\n         'Sagavanirktok': 16,\n         'Ogallala': 16,\n         'Oread Limestone': 16,\n         'Strathcona Fiord': 16,\n         'Vaqueros': 16,\n         'Tangahoe': 16,\n         'Vila Maria': 16,\n         'Shunda': 16,\n         'Topeka Limestone': 16,\n         'Tecumseh Shale': 16,\n         'Chamberlains Brook': 15,\n         'Earl Mountains Sandstone': 15,\n         'Bangor Limestone': 15,\n         'Nevada': 15,\n         'Pocono': 15,\n         'Tuscahoma': 15,\n         'Spokane': 15,\n         'Sandpit Tuff': 15,\n         'Chalk Hill Clay': 15,\n         'Cherry Canyon': 15,\n         'Weverton': 15,\n         'Chonta': 15,\n         'Maquoketa': 15,\n         'Lakota': 15,\n         'Eagle Mills': 15,\n         'Ely Springs Dolomite': 15,\n         'Eureka Quartzite': 15,\n         'Hannibal Shale': 15,\n         'Weka Pass Limestone': 15,\n         'Modesto': 15,\n         'Mount Kindle': 15,\n         'Onondaga Limestone': 15,\n         'Orahiri Limestone': 15,\n         'Van Hauen': 15,\n         'Werner': 15,\n         'Janesville Shale': 14,\n         'Falls City Limestone': 14,\n         'Monte Cristo Limestone': 14,\n         'Astoria': 14,\n         'Aquia': 14,\n         'Arcadia': 14,\n         'Atherton': 14,\n         'Atoka': 14,\n         'Tamiami': 14,\n         'Beaver Mines': 14,\n         'Bell Canyon': 14,\n         'Greenhorn Limestone': 14,\n         'Bern Limestone': 14,\n         'Bethel Sandstone': 14,\n         'Black Island': 14,\n         'Blaine': 14,\n         'Gladstone': 14,\n         'Blue Fiord': 14,\n         'Brazil': 14,\n         'Harrell': 14,\n         'Cannonball': 14,\n         'Sturgis': 14,\n         'Munising': 14,\n         'Chemung': 14,\n         'Witten': 14,\n         'Naheola': 14,\n         'Cobourg': 14,\n         'First White Speckled Shale': 14,\n         'Grande Ronde Basalt': 14,\n         'Nolichucky Shale': 14,\n         'Duck Creek': 14,\n         'Watt Mountain': 14,\n         'Sawtooth': 14,\n         'Esopus Shale': 14,\n         'Forest Hill': 14,\n         'Greenbrier Limestone': 14,\n         'Parachucla': 14,\n         'Howard Limestone': 14,\n         'Iapo': 14,\n         'Icebox': 14,\n         'Imperial': 14,\n         'Kindle': 14,\n         'Kaherekoau': 14,\n         'Knife and Steel': 14,\n         'Mist Mountain': 14,\n         'Morrissey': 14,\n         'Kreyenhagen': 14,\n         'Livingstone': 14,\n         'Sullivan': 14,\n         'Tsezotene': 14,\n         'Marlbrook': 14,\n         'Windsor': 14,\n         'Nansen': 14,\n         'Nisku': 14,\n         'Nugget Sandstone': 14,\n         'Ozan': 14,\n         'Piney Point': 14,\n         'Plympton': 14,\n         'Pillsbury Shale': 14,\n         'Pitinga': 14,\n         'Point Burn': 14,\n         'Red Bluff': 14,\n         'Root Shale': 14,\n         'Roughlock': 14,\n         'Rowallan Sandstone': 14,\n         'Scranton Shale': 14,\n         'Severy Shale': 14,\n         'Stotler Limestone': 14,\n         'Swift Run': 14,\n         'Te Waewae': 14,\n         'Verulam': 14,\n         'Wood Siding': 14,\n         'Zeandale Limestone': 14,\n         'Willard Shale': 14,\n         'Onaga Shale': 13,\n         'Arnica': 13,\n         'Ladd': 13,\n         'Oquirrh': 13,\n         'Beaufort': 13,\n         'Epler': 13,\n         'Chuckanut': 13,\n         'Empire': 13,\n         'Goodland Limestone': 13,\n         'Black River Limestone': 13,\n         'Liberty Hall': 13,\n         'Ste Genevieve': 13,\n         'Highland Peak': 13,\n         'Purgatoire': 13,\n         'Wells Creek': 13,\n         'Clarita': 13,\n         'Price': 13,\n         'Viking': 13,\n         'Saddle Mountains Basalt': 13,\n         'Palliser': 13,\n         'Onondaga': 13,\n         'Rondout': 13,\n         'Ekwan River': 13,\n         'Maple Mill': 13,\n         'Shelburn': 13,\n         'Glorieta Sandstone': 13,\n         'Hell Creek': 13,\n         'Horn River': 13,\n         'Redwall Limestone': 13,\n         'Interlake': 13,\n         'Laketown Dolomite': 13,\n         'Lamotte Sandstone': 13,\n         'Lexington Limestone': 13,\n         'Madison Limestone': 13,\n         'Millboro Shale': 13,\n         'Severn River': 13,\n         'Shublik': 13,\n         'White River': 13,\n         'Abel Head': 12,\n         'Alapah Limestone': 12,\n         'Glenwood': 12,\n         'Eminence Dolomite': 12,\n         'Keokuk': 12,\n         'Brownstown': 12,\n         'Tokio': 12,\n         'Kwagunt': 12,\n         'Baillarge': 12,\n         'Moccasin Springs': 12,\n         'Chalky Island': 12,\n         'Baldonnel': 12,\n         'Bar River': 12,\n         'Michigamme': 12,\n         'Gaspe Sandstone': 12,\n         'Bays': 12,\n         'Bearpaw': 12,\n         'Rockdale Run': 12,\n         'Rickenbach': 12,\n         'Bonner Quartzite': 12,\n         'Mount Shields': 12,\n         'Travis Peak': 12,\n         'Gull River': 12,\n         'Bluefield': 12,\n         'Blueflower': 12,\n         'Bois Blanc': 12,\n         'Bossier': 12,\n         'Botucatu': 12,\n         'Bright Angel Shale': 12,\n         'Mutual': 12,\n         'Bruce': 12,\n         'Buckinghorse': 12,\n         'Cataract': 12,\n         'Guaruja': 12,\n         'Camboriu': 12,\n         'Deguynos': 12,\n         'Cape May': 12,\n         'Caversham Sandstone': 12,\n         'Cedar Hills Sandstone': 12,\n         'Naknek': 12,\n         'Claggett': 12,\n         'Yegua': 12,\n         'Weches': 12,\n         'Queen City': 12,\n         'Reklaw': 12,\n         'Cloverly': 12,\n         'Gordon Lake': 12,\n         'Lorrain': 12,\n         'Cypress Sandstone': 12,\n         'South Platte': 12,\n         'Newcastle': 12,\n         'Danish River': 12,\n         'Tsetso': 12,\n         'Denton': 12,\n         'Domengine': 12,\n         'Lawrence': 12,\n         'Dubuque': 12,\n         'Dunvegan': 12,\n         'Dunleith': 12,\n         'Eagle Ford': 12,\n         'Eleanor River': 12,\n         'Eldon': 12,\n         'McKim': 12,\n         'Espanola': 12,\n         'Etchegoin': 12,\n         'Raritan': 12,\n         'Sully': 12,\n         'Sikanni': 12,\n         'Fort Worth': 12,\n         'Forteau': 12,\n         'Franklin Mountain': 12,\n         'Goodland': 12,\n         'Kayenta': 12,\n         'Wakatu': 12,\n         'Island Sandstone': 12,\n         'Tangaroa': 12,\n         'McKee': 12,\n         'Hampshire': 12,\n         'New Scotland': 12,\n         'Herring': 12,\n         'Tyrone Limestone': 12,\n         'Hornerstown': 12,\n         'Mississagi': 12,\n         'Pecors': 12,\n         'Ramsay Lake': 12,\n         'Hume': 12,\n         'Serpent': 12,\n         'Ireton': 12,\n         'Jatapu': 12,\n         'Pastos Bons': 12,\n         'Kaibab Limestone': 12,\n         'Totara Limestone': 12,\n         'Mascot Dolomite': 12,\n         'Rose Run Sandstone': 12,\n         'Knox Dolomite': 12,\n         'Kope': 12,\n         'Leduc': 12,\n         'Longarm Quartzite': 12,\n         'Whales Back Limestone': 12,\n         'Marshalltown': 12,\n         'Omotumotu': 12,\n         'Merchantville': 12,\n         'Weatherall': 12,\n         'Mooringsport': 12,\n         'Southburn Sandstone': 12,\n         'Spy Glass': 12,\n         'Nanjemoy': 12,\n         'Ninnescah Shale': 12,\n         'Williston': 12,\n         'Wilhite': 12,\n         'Roaring Fork Sandstone': 12,\n         'Wading Branch': 12,\n         'Staunton': 12,\n         'Pika': 12,\n         'Pocahontas': 12,\n         'Pond Spring': 12,\n         'Tonel': 12,\n         'Shezal': 12,\n         'Sayunei': 12,\n         'San Andres': 12,\n         'Sexton Creek Limestone': 12,\n         'Tapeats Sandstone': 12,\n         'Whangarei Limestone': 12,\n         'Tuscumbia Limestone': 12,\n         'Whittaker': 12,\n         'Wells Creek Dolomite': 12,\n         'Abbott': 11,\n         'Altamaha': 11,\n         'Ankareh': 11,\n         'Roubidoux': 11,\n         'Attawapiskat': 11,\n         'Bedford Canyon': 11,\n         'Briones Sandstone': 11,\n         'Rockdale': 11,\n         'Canol': 11,\n         'Castle Hayne': 11,\n         'Castle Reef Dolomite': 11,\n         'Lay Dam': 11,\n         'Hampton': 11,\n         'Kongakut': 11,\n         'Demopolis Chalk': 11,\n         'Everton': 11,\n         'Fish Haven Dolomite': 11,\n         'Fusselman Limestone': 11,\n         'Gasconade Dolomite': 11,\n         'Gilmore City': 11,\n         'Hare Fiord': 11,\n         'Talkeetna': 11,\n         'Huntersville Chert': 11,\n         'Inklin': 11,\n         'Jefferson City Dolomite': 11,\n         'Kenogami River': 11,\n         'Salamonie Dolomite': 11,\n         'Lincolnshire Limestone': 11,\n         'Shawangunk': 11,\n         'Pioche': 11,\n         'Santiago Peak Volcanics': 11,\n         'Schoharie': 11,\n         'Serra Geral': 11,\n         'Stooping River': 11,\n         'Tully Limestone': 11,\n         'Weber Sandstone': 11,\n         'Woodford Shale': 11,\n         'Abo': 10,\n         'Alcova Limestone': 10,\n         'Mooreville Chalk': 10,\n         'Yates Sandstone': 10,\n         'Seven Rivers': 10,\n         'Grayburg': 10,\n         'Assistance': 10,\n         'B Evaporite': 10,\n         'Bader Limestone': 10,\n         'Sambaiba': 10,\n         'Dry Branch': 10,\n         'Barneston Limestone': 10,\n         'Beattie Limestone': 10,\n         'Beaver Bend Limestone': 10,\n         'Ontelaunee': 10,\n         'Sellersburg Limestone': 10,\n         'Stonehenge': 10,\n         'Bertie': 10,\n         'Bighorn Dolomite': 10,\n         'Blackford': 10,\n         'Bliss': 10,\n         'Blue Rapids Shale': 10,\n         'Paoli Limestone': 10,\n         'Bobcaygeon': 10,\n         'Boss Point': 10,\n         'Edwardsville': 10,\n         'Bradore': 10,\n         'Branchville': 10,\n         'Inkom': 10,\n         'Bromide': 10,\n         'Gething': 10,\n         'Cabecas': 10,\n         'Cabot Head Shale': 10,\n         'Ubatuba': 10,\n         'Cane River': 10,\n         'Poti': 10,\n         'Longa': 10,\n         'Pimenteiras': 10,\n         'Itaim': 10,\n         'Petersburg': 10,\n         'Marlife Shale': 10,\n         'Minnelusa': 10,\n         'Winfield Limestone': 10,\n         'Doyle Shale': 10,\n         'Matfield Shale': 10,\n         'Wreford Limestone': 10,\n         'Unicoi': 10,\n         'Popo Agie': 10,\n         'Red Peak': 10,\n         'Clays Ferry': 10,\n         'Clear Creek Limestone': 10,\n         'Cody Shale': 10,\n         'Second White Speckled Shale': 10,\n         'Pumpkin Valley Shale': 10,\n         'Cooking Lake': 10,\n         'Jordan': 10,\n         'Speiser Shale': 10,\n         'Funston Limestone': 10,\n         'Crouse Limestone': 10,\n         'Easly Creek Shale': 10,\n         'Stearns Shale': 10,\n         'Eskridge Shale': 10,\n         'Grenola Limestone': 10,\n         'Roca Shale': 10,\n         'Red Eagle Limestone': 10,\n         'Johnson Shale': 10,\n         'Cotter Dolomite': 10,\n         'Skull Creek Shale': 10,\n         'Sylvania Sandstone': 10,\n         'Drakes': 10,\n         'Nopah': 10,\n         'Grand Tower Limestone': 10,\n         'Edwards Limestone': 10,\n         'Mount Simon': 10,\n         'Kane Basin': 10,\n         'Elwren': 10,\n         'Englishtown': 10,\n         'F Evaporite': 10,\n         'Perdrix': 10,\n         'Gates': 10,\n         'Moosebar': 10,\n         'Slope': 10,\n         'Santos': 10,\n         'Paluxy Sandstone': 10,\n         'Gasport Dolomite': 10,\n         'Gateway': 10,\n         'Moenave': 10,\n         'Glen Rose Limestone': 10,\n         'Goat Island Dolomite': 10,\n         'Golata': 10,\n         'Grassy Creek Shale': 10,\n         'Greta': 10,\n         'Itapema': 10,\n         'Java': 10,\n         'Harper Sandstone': 10,\n         'Harrodsburg Limestone': 10,\n         'Shriver': 10,\n         'Notch Peak': 10,\n         'Holdenville Shale': 10,\n         'Humbug': 10,\n         'Iguape': 10,\n         'Ipu': 10,\n         'Ranger Canyon': 10,\n         'Lagoa Azul': 10,\n         'Jaicos': 10,\n         'Jordan Sandstone': 10,\n         'Kanosh Shale': 10,\n         'Karmutsen': 10,\n         'Kimmswick Limestone': 10,\n         'Longview Dolomite': 10,\n         'Lauge Koch Land': 10,\n         'Madera Limestone': 10,\n         'Main Street': 10,\n         'Marianna Limestone': 10,\n         'Marlboro Clay': 10,\n         'McLish': 10,\n         'Minnekahta Limestone': 10,\n         'Whiterock Limestone': 10,\n         'Nhamunda': 10,\n         'Oil Creek': 10,\n         'Opeche Shale': 10,\n         'Paskapoo': 10,\n         'Phillips': 10,\n         'Prospect Mountain Quartzite': 10,\n         'Roosville': 10,\n         'Sheppard': 10,\n         'Rabbitkettle': 10,\n         'Reelsville Limestone': 10,\n         'Ruatangata Sandstone': 10,\n         'Turner Valley': 10,\n         'Sabinetown': 10,\n         'Tiangua': 10,\n         'Tulip Creek': 10,\n         'Stone Corral': 10,\n         'Sylvester Allochthon': 10,\n         'Te Akatea': 10,\n         'Tensleep Sandstone': 10,\n         'Thaynes': 10,\n         'Tintic Quartzite': 10,\n         'Trold Fiord': 10,\n         'Warsaw Limestone': 10,\n         'Wilcox': 10,\n         'Lehigh Acres': 9,\n         'Brigus': 9,\n         'Smith Point': 9,\n         'Bonavista': 9,\n         'Annona Chalk': 9,\n         'Arctic Bay': 9,\n         'Glen Rose': 9,\n         'Bailey': 9,\n         'Banner': 9,\n         'Bass Islands': 9,\n         'Beaumont': 9,\n         'Beaverfoot': 9,\n         'Belcher Channel': 9,\n         'Garnet Range': 9,\n         'Libby': 9,\n         'McNamara': 9,\n         'Striped Peak': 9,\n         'Shepard': 9,\n         'Snowslip': 9,\n         'St Regis': 9,\n         'Revett': 9,\n         'Burke': 9,\n         'Horse Spring': 9,\n         'Welsh': 9,\n         'Borup Fiord': 9,\n         'Caddy Canyon Quartzite': 9,\n         'Strathcona Sound': 9,\n         'Victor Bay': 9,\n         'Society Cliffs': 9,\n         'Cades Sandstone': 9,\n         'Cape Phillips': 9,\n         'Cape Storm': 9,\n         'Chapiza': 9,\n         'Manuels River': 9,\n         'Citronelle': 9,\n         'Kosciusko': 9,\n         'Coffee': 9,\n         'Concord Greensand': 9,\n         'Copper Basin': 9,\n         'Darby': 9,\n         'Degerbols': 9,\n         'Deseret Limestone': 9,\n         'Eids': 9,\n         'Matinenda': 9,\n         'Pensacola Clay': 9,\n         'Flume': 9,\n         'Floyd Shale': 9,\n         'Gallatin': 9,\n         'Snowy Range': 9,\n         'Gametrail': 9,\n         'Gypsum Spring': 9,\n         'Woolshed': 9,\n         'Keele': 9,\n         'Wildcat Valley Sandstone': 9,\n         'Helderberg Limestone': 9,\n         'Waltham Canyon': 9,\n         'Waiareka Volcanics': 9,\n         'Kinkaid Limestone': 9,\n         'St Leon': 9,\n         'Lenoir Limestone': 9,\n         'Licklog': 9,\n         'Tejon': 9,\n         'Turret Peaks': 9,\n         'Mauch Chunk': 9,\n         ...})"
     },
     "execution_count": 3,
     "metadata": {},
     "output_type": "execute_result"
    }
   ],
   "source": [
    "from collections import Counter\n",
    "\n",
    "collection_dct = {k: None for k in ['Mbr', 'Fm', 'Gp', 'SGp']}\n",
    "\n",
    "for relation_key in collection_dct.keys():\n",
    "    collection_dct[relation_key] = [x[relation_key] for x in sn_dcts]\n",
    "\n",
    "\n",
    "Counter(collection_dct[\"Fm\"])"
   ],
   "metadata": {
    "collapsed": false,
    "ExecuteTime": {
     "end_time": "2024-03-07T03:42:11.325871Z",
     "start_time": "2024-03-07T03:42:11.267412Z"
    }
   },
   "id": "6755ddb4e81839a7",
   "execution_count": 3
  },
  {
   "cell_type": "markdown",
   "source": [
    "## create GKM format description for one macrostrat dict"
   ],
   "metadata": {
    "collapsed": false
   },
   "id": "89a963dba514b793"
  },
  {
   "cell_type": "code",
   "outputs": [
    {
     "name": "stdout",
     "output_type": "stream",
     "text": [
      "@prefix xdd: <https://w3id.org/gso/1.0/ex-xddlexicon#> .\n",
      "@prefix gsgu: <https://w3id.org/gso/1.0/geologicunit/> .\n",
      "@prefix gsoc: <https://w3id.org/gso/1.0/common/> .\n",
      "@prefix gsrm: <https://w3id.org/gso/1.0/rockmaterial/> .\n",
      "@prefix rdf: <http://www.w3.org/1999/02/22-rdf-syntax-ns#> .\n",
      "\n",
      "xdd:AdmiralFm ;\n",
      "\trdf:type gsgu:Formation ;\n",
      "\tgsoc:isPartOf xdd:AdmiralFm ;\n",
      "\tgsoc:isPartOf xdd:WichitaGp ;\n",
      "\tgsoc:hasConstituent xdd:shale ;\n",
      "\tgsoc:hasQuality gsoc: SpatialLocation [\n",
      "\t\tgsoc:hasSpatialValue [\n",
      "\t\t\tgsoc:WKTValue: POINT (33.733 -99.983)\n",
      "\t\t]\n",
      "\t\tgsoc:hasReferenceSystem [\n",
      "\t\t\tgsoc:GeographicCoordinateSystem gsoc:hasValue [\n",
      "\t\t\t\"WGS 84\"\n",
      "\t\t]\n",
      "\t] ;\n",
      ".\n"
     ]
    }
   ],
   "source": [
    "from text2graph.dict2ttl.convert import(\n",
    "    gkm_xdd_entity_from_macrostrat_unit_dict,\n",
    "    final_gkm_file\n",
    ")\n",
    "gxe = gkm_xdd_entity_from_macrostrat_unit_dict(macrostrat_unit_dict=sn_dcts[100])\n",
    "final_gkm_str = final_gkm_file([gxe])\n",
    "print(final_gkm_str)\n",
    "    \n"
   ],
   "metadata": {
    "collapsed": false,
    "ExecuteTime": {
     "end_time": "2024-03-07T03:42:11.335205Z",
     "start_time": "2024-03-07T03:42:11.328193Z"
    }
   },
   "id": "58ca44e23a5947a3",
   "execution_count": 4
  },
  {
   "cell_type": "markdown",
   "source": [
    "# demo with llm model response"
   ],
   "metadata": {
    "collapsed": false
   },
   "id": "68bd62d60ffae163"
  },
  {
   "cell_type": "code",
   "outputs": [],
   "source": [
    "example_model_response = [\n",
    "     {\n",
    "         'name': 'Little Pybus Bay',\n",
    "         'type': 'geographical-area',\n",
    "         'stratigraphic_units': [\n",
    "             'Kootznahoo Formation',\n",
    "             'Seymour Canal Formation',\n",
    "             'Cannery Formation',\n",
    "             'Admiralty Island Volcanics'\n",
    "          ]\n",
    "      },\n",
    "]"
   ],
   "metadata": {
    "collapsed": false,
    "ExecuteTime": {
     "end_time": "2024-03-07T03:42:11.339227Z",
     "start_time": "2024-03-07T03:42:11.336457Z"
    }
   },
   "id": "9b3e2a81d1d3d7fb",
   "execution_count": 5
  },
  {
   "cell_type": "code",
   "outputs": [
    {
     "name": "stdout",
     "output_type": "stream",
     "text": [
      "@prefix xdd: <https://w3id.org/gso/1.0/ex-xddlexicon#> .\n",
      "@prefix gsgu: <https://w3id.org/gso/1.0/geologicunit/> .\n",
      "@prefix gsoc: <https://w3id.org/gso/1.0/common/> .\n",
      "@prefix gsrm: <https://w3id.org/gso/1.0/rockmaterial/> .\n",
      "@prefix rdf: <http://www.w3.org/1999/02/22-rdf-syntax-ns#> .\n",
      "\n",
      "xdd:KootznahooFormation ;\n",
      "\trdf:type gsgu:Formation ;\n",
      "\tgsoc:hasQuality gsoc:SpatialLocation [\n",
      "\t\tgsoc:hasValue \"Little Pybus Bay\"\n",
      "\t] ;\n",
      ".\n",
      "xdd:SeymourCanalFormation ;\n",
      "\trdf:type gsgu:Formation ;\n",
      "\tgsoc:hasQuality gsoc:SpatialLocation [\n",
      "\t\tgsoc:hasValue \"Little Pybus Bay\"\n",
      "\t] ;\n",
      ".\n",
      "xdd:CanneryFormation ;\n",
      "\trdf:type gsgu:Formation ;\n",
      "\tgsoc:hasQuality gsoc:SpatialLocation [\n",
      "\t\tgsoc:hasValue \"Little Pybus Bay\"\n",
      "\t] ;\n",
      ".\n",
      "xdd:AdmiraltyIslandVolcanics ;\n",
      "\trdf:type gsgu:Volcanics ;\n",
      "\tgsoc:hasQuality gsoc:SpatialLocation [\n",
      "\t\tgsoc:hasValue \"Little Pybus Bay\"\n",
      "\t] ;\n",
      ".\n"
     ]
    }
   ],
   "source": [
    "from text2graph.dict2ttl.entities import GKMxDDEntity\n",
    "gkm_entities = []\n",
    "for location_dct in example_model_response:\n",
    "    for strat_name in location_dct[\"stratigraphic_units\"]:\n",
    "        gkm_entity = GKMxDDEntity(name=strat_name)\n",
    "        gkm_entity.add_location_name(name=location_dct['name'])\n",
    "        gkm_entities.append(gkm_entity)\n",
    "\n",
    "print(\n",
    "    final_gkm_file(gkm_entities)\n",
    ")"
   ],
   "metadata": {
    "collapsed": false,
    "ExecuteTime": {
     "end_time": "2024-03-07T03:42:11.343795Z",
     "start_time": "2024-03-07T03:42:11.340469Z"
    }
   },
   "id": "4b6041f16ef7b9bb",
   "execution_count": 6
  },
  {
   "cell_type": "code",
   "outputs": [],
   "source": [],
   "metadata": {
    "collapsed": false,
    "ExecuteTime": {
     "end_time": "2024-03-07T03:42:11.346954Z",
     "start_time": "2024-03-07T03:42:11.345121Z"
    }
   },
   "id": "8ed0714ba7cf2b5e",
   "execution_count": 6
  }
 ],
 "metadata": {
  "kernelspec": {
   "display_name": "Python 3",
   "language": "python",
   "name": "python3"
  },
  "language_info": {
   "codemirror_mode": {
    "name": "ipython",
    "version": 2
   },
   "file_extension": ".py",
   "mimetype": "text/x-python",
   "name": "python",
   "nbconvert_exporter": "python",
   "pygments_lexer": "ipython2",
   "version": "2.7.6"
  }
 },
 "nbformat": 4,
 "nbformat_minor": 5
}
