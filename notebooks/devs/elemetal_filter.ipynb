{
 "cells": [
  {
   "cell_type": "markdown",
   "metadata": {},
   "source": [
    "### Elemental parsing\n",
    "\n",
    "1. If a mineral is from Macrostrat, get the formula from it\n",
    "2. If a mineral is in USGS critical mineral (but not within Macrostrat), we need an extra mapping table to get the formula\n",
    "3. Mineral to list of Elements\n",
    "4. Filter by element? "
   ]
  },
  {
   "cell_type": "code",
   "execution_count": 1,
   "metadata": {},
   "outputs": [],
   "source": [
    "from text2graph.schema import Mineral"
   ]
  },
  {
   "cell_type": "code",
   "execution_count": 2,
   "metadata": {},
   "outputs": [
    {
     "data": {
      "text/plain": [
       "Mineral(mineral='Abenakiite-(Ce)', mineral_id=2, mineral_type='', formula='Na26Ce6(Si6O18)(PO4)6(CO3)6(SO2)O', formula_tags='Na<sub>26</sub>Ce<sub>6</sub>(Si<sub>6</sub>O<sub>18</sub>)(PO<sub>4</sub>)<sub>6</sub>(CO<sub c', url='http://www.mindat.org/min-2.html', hardness_min=4, hardness_max=5, crystal_form='Trigonal', mineral_color='Pale brown', lustre='Vitreous', provenance=Provenance(id=UUID('feceef1e-c313-4a7a-aa42-242fe67ab8aa'), source_name='Macrostrat', source_url='https://macrostrat.org/api/defs/minerals?mineral_id=2', source_version=2, requested=datetime.datetime(2024, 6, 3, 17, 28, 17, 995942, tzinfo=<UTC>), additional_values={}, previous=None), elements=['C', 'Ce', 'Na', 'O', 'P', 'S', 'Si'])"
      ]
     },
     "execution_count": 2,
     "metadata": {},
     "output_type": "execute_result"
    }
   ],
   "source": [
    "# Abenakiite-(Ce) is in Macrostrat\n",
    "x = Mineral(name=\"Abenakiite-(Ce)\")\n",
    "await x.hydrate()\n",
    "x"
   ]
  },
  {
   "cell_type": "code",
   "execution_count": 3,
   "metadata": {},
   "outputs": [
    {
     "name": "stderr",
     "output_type": "stream",
     "text": [
      "WARNING:root:No record found for 'Fluorspar'\n"
     ]
    },
    {
     "data": {
      "text/plain": [
       "Mineral(mineral='Fluorspar', mineral_id=None, mineral_type=None, formula='CaF2', formula_tags=None, url=None, hardness_min=None, hardness_max=None, crystal_form=None, mineral_color=None, lustre=None, provenance=Provenance(id=UUID('10cf3b14-9518-4dde-a758-62f7c808d150'), source_name='Mindat', source_url='https://api.mindat.org/', source_version=1.0, requested=datetime.datetime(2024, 6, 3, 17, 28, 17, 995942, tzinfo=<UTC>), additional_values={}, previous=None), elements=['Ca', 'F'])"
      ]
     },
     "execution_count": 3,
     "metadata": {},
     "output_type": "execute_result"
    }
   ],
   "source": [
    "# Fluorspar is USGS exclusive\n",
    "y = Mineral(name=\"Fluorspar\")\n",
    "await y.hydrate()\n",
    "y"
   ]
  },
  {
   "cell_type": "code",
   "execution_count": 4,
   "metadata": {},
   "outputs": [
    {
     "name": "stderr",
     "output_type": "stream",
     "text": [
      "WARNING:root:No record found for 'Unknown Mineral Name'\n",
      "WARNING:root:No records found for mineral 'Unknown Mineral Name'\n"
     ]
    },
    {
     "data": {
      "text/plain": [
       "Mineral(mineral='Unknown Mineral Name', mineral_id=None, mineral_type=None, formula=None, formula_tags=None, url=None, hardness_min=None, hardness_max=None, crystal_form=None, mineral_color=None, lustre=None, provenance=None, elements=None)"
      ]
     },
     "execution_count": 4,
     "metadata": {},
     "output_type": "execute_result"
    }
   ],
   "source": [
    "# Unknown Mineral\n",
    "\n",
    "z = Mineral(name=\"Unknown Mineral Name\")\n",
    "await z.hydrate()\n",
    "z"
   ]
  },
  {
   "cell_type": "code",
   "execution_count": null,
   "metadata": {},
   "outputs": [],
   "source": []
  }
 ],
 "metadata": {
  "kernelspec": {
   "display_name": "Python 3",
   "language": "python",
   "name": "python3"
  },
  "language_info": {
   "codemirror_mode": {
    "name": "ipython",
    "version": 3
   },
   "file_extension": ".py",
   "mimetype": "text/x-python",
   "name": "python",
   "nbconvert_exporter": "python",
   "pygments_lexer": "ipython3",
   "version": "3.12.3"
  }
 },
 "nbformat": 4,
 "nbformat_minor": 2
}
