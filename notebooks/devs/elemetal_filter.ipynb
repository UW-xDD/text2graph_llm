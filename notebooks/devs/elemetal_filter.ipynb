{
 "cells": [
  {
   "cell_type": "markdown",
   "metadata": {},
   "source": [
    "### Elemental parsing\n",
    "\n",
    "1. If a mineral is from Macrostrat, get the formula from it\n",
    "2. If a mineral is in USGS critical mineral (but not within Macrostrat), we need an extra mapping table to get the formula\n",
    "3. Mineral to list of Elements\n",
    "4. Filter by element? "
   ]
  },
  {
   "cell_type": "code",
   "execution_count": 1,
   "metadata": {},
   "outputs": [],
   "source": [
    "from text2graph.schema import Mineral\n",
    "from text2graph.macrostrat import get_all_mineral_names\n",
    "from time import sleep\n",
    "from random import sample\n",
    "\n",
    "minerals = get_all_mineral_names()"
   ]
  },
  {
   "cell_type": "code",
   "execution_count": 2,
   "metadata": {},
   "outputs": [],
   "source": [
    "sel_minerals = sample(minerals, 100)"
   ]
  },
  {
   "cell_type": "code",
   "execution_count": 3,
   "metadata": {},
   "outputs": [
    {
     "name": "stderr",
     "output_type": "stream",
     "text": [
      "WARNING:root:No record found for 'Fluoro-Nybøite' in Macrostrat.\n",
      "WARNING:root:When processing formula: (Na0.5REE0.25Ca0.25)(Ca0.75REE0.25)Sr1.5(CaNa0.25REE0.25)(PO4)3F0.5(OH)0.5, element: 'E' not recognized\n",
      "WARNING:root:When processing formula: (Na0.5REE0.25Ca0.25)(Ca0.75REE0.25)Sr1.5(CaNa0.25REE0.25)(PO4)3F0.5(OH)0.5, element: 'R' not recognized\n",
      "WARNING:root:No record found for 'Ferro-Ferri-Fluoro-Cannilloite' in Macrostrat.\n",
      "WARNING:root:No record found for 'Ferri-Arrojadite-(Bana)' in Macrostrat.\n",
      "WARNING:root:No record found for 'Potassic-Ferro-Sadanagaite' in Macrostrat.\n"
     ]
    }
   ],
   "source": [
    "for mineral in sel_minerals:\n",
    "    sleep(0.1)\n",
    "    x = Mineral(name=mineral.title())\n",
    "    await x.hydrate()\n",
    "\n",
    "    if x.formula and not x.elements:\n",
    "        print(x)"
   ]
  },
  {
   "cell_type": "code",
   "execution_count": 4,
   "metadata": {},
   "outputs": [],
   "source": [
    "# Example problematic known minerals in Macrostrat\n",
    "# Usually involves complex cases with group of elements substitution...\n",
    "\n",
    "# Problem \"Ln\", https://en.wikipedia.org/wiki/Lanthanide\n",
    "x = {\n",
    "    \"mineral_id\": 39556,\n",
    "    \"mineral\": \"Fluorbritholite-(Y)\",\n",
    "    \"mineral_type\": \"\",\n",
    "    \"formula\": \"Ca2(Y,Ca,Ln)3(SiO4,PO4)3(F,OH)\",\n",
    "    \"formula_tags\": \"Ca<sub>2</sub>(Y,Ca,Ln)<sub>3</sub>(SiO<sub>4</sub>,PO<sub>4</sub>)<sub>3</sub>(F,OH)\",\n",
    "    \"url\": \"http://www.mindat.org/min-39556.html\",\n",
    "    \"hardness_min\": 5.5,\n",
    "    \"hardness_max\": 5.5,\n",
    "    \"crystal_form\": \"Hexagonal\",\n",
    "    \"mineral_color\": \"Light pinkish-brown to brownish-pink; light brown; dark brown\",\n",
    "    \"lustre\": \"Vitreous, Resinous, Greasy\",\n",
    "}\n",
    "\n",
    "# Problem: \"REE\"\n",
    "y = {\n",
    "    \"mineral_id\": 27087,\n",
    "    \"mineral\": \"Hellandite-(Ce)\",\n",
    "    \"mineral_type\": \"\",\n",
    "    \"formula\": \"(Ca,REE)4Ce2Al(Be,Li)2-xB4Si4O22(OH)2\",\n",
    "    \"formula_tags\": \"(Ca,REE)<sub>4</sub>Ce<sub>2</sub>Al(Be,Li)<sub>2-x</sub>B<sub>4</sub>Si<sub>4</sub>O<sub>22</su\",\n",
    "    \"url\": \"http://www.mindat.org/min-27087.html\",\n",
    "    \"hardness_min\": None,\n",
    "    \"hardness_max\": None,\n",
    "    \"crystal_form\": \"\",\n",
    "    \"mineral_color\": \"Light green\",\n",
    "    \"lustre\": \"Vitreous\",\n",
    "}"
   ]
  },
  {
   "cell_type": "code",
   "execution_count": 5,
   "metadata": {},
   "outputs": [
    {
     "data": {
      "text/plain": [
       "Mineral(mineral='Aluminian nontronite', mineral_id=153, mineral_type='', formula='Na0.33Fe2.17Al0.83Si3·.17O10(OH)2', formula_tags='Na<sub>0.33</sub>Fe<sub>2.17</sub>Al<sub>0.83</sub>Si<sub>3</sub> &middot; <sub>.17</sub>O<sub>1', url='http://www.mindat.org/min-153.html', hardness_min=None, hardness_max=None, crystal_form='', mineral_color=None, lustre=None, provenance=Provenance(id=UUID('59d39b4b-7217-49be-8a7f-fe20c9572a66'), source_name='Macrostrat', source_url='https://macrostrat.org/api/defs/minerals?mineral_id=153', source_version=2, requested=datetime.datetime(2024, 6, 4, 19, 47, 56, 480123, tzinfo=<UTC>), additional_values={}, previous=None), elements=[<Element.Aluminium: 'Al'>, <Element.Iron: 'Fe'>, <Element.Hydrogen: 'H'>, <Element.Sodium: 'Na'>, <Element.Oxygen: 'O'>, <Element.Silicon: 'Si'>])"
      ]
     },
     "execution_count": 5,
     "metadata": {},
     "output_type": "execute_result"
    }
   ],
   "source": [
    "# Aluminian nontronite is in Macrostrat\n",
    "x = Mineral(name=\"Aluminian nontronite\")\n",
    "await x.hydrate()\n",
    "x"
   ]
  },
  {
   "cell_type": "code",
   "execution_count": 6,
   "metadata": {},
   "outputs": [
    {
     "name": "stderr",
     "output_type": "stream",
     "text": [
      "WARNING:root:No record found for 'Fluorspar' in Macrostrat.\n"
     ]
    },
    {
     "data": {
      "text/plain": [
       "Mineral(mineral='Fluorspar', mineral_id=None, mineral_type=None, formula='CaF2', formula_tags=None, url=None, hardness_min=None, hardness_max=None, crystal_form=None, mineral_color=None, lustre=None, provenance=Provenance(id=UUID('4a7aef96-bf33-4ef1-bd0c-2ca5c8dda994'), source_name='Mindat', source_url='https://api.mindat.org/', source_version=1.0, requested=datetime.datetime(2024, 6, 4, 19, 47, 56, 480123, tzinfo=<UTC>), additional_values={}, previous=None), elements=[<Element.Calcium: 'Ca'>, <Element.Fluorine: 'F'>])"
      ]
     },
     "execution_count": 6,
     "metadata": {},
     "output_type": "execute_result"
    }
   ],
   "source": [
    "# Fluorspar is USGS exclusive\n",
    "y = Mineral(name=\"Fluorspar\")\n",
    "await y.hydrate()\n",
    "y"
   ]
  },
  {
   "cell_type": "code",
   "execution_count": 7,
   "metadata": {},
   "outputs": [
    {
     "name": "stderr",
     "output_type": "stream",
     "text": [
      "WARNING:root:No record found for 'Unknown Mineral Name' in Macrostrat.\n"
     ]
    },
    {
     "data": {
      "text/plain": [
       "Mineral(mineral='Unknown Mineral Name', mineral_id=None, mineral_type=None, formula=None, formula_tags=None, url=None, hardness_min=None, hardness_max=None, crystal_form=None, mineral_color=None, lustre=None, provenance=None, elements=None)"
      ]
     },
     "execution_count": 7,
     "metadata": {},
     "output_type": "execute_result"
    }
   ],
   "source": [
    "# Unknown Mineral\n",
    "\n",
    "z = Mineral(name=\"Unknown Mineral Name\")\n",
    "await z.hydrate()\n",
    "z"
   ]
  }
 ],
 "metadata": {
  "kernelspec": {
   "display_name": "Python 3",
   "language": "python",
   "name": "python3"
  },
  "language_info": {
   "codemirror_mode": {
    "name": "ipython",
    "version": 3
   },
   "file_extension": ".py",
   "mimetype": "text/x-python",
   "name": "python",
   "nbconvert_exporter": "python",
   "pygments_lexer": "ipython3",
   "version": "3.11.9"
  }
 },
 "nbformat": 4,
 "nbformat_minor": 2
}
