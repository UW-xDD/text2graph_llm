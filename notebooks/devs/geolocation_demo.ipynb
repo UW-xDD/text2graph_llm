{
 "cells": [
  {
   "cell_type": "markdown",
   "id": "97dcab0a93ca4ab4",
   "metadata": {
    "collapsed": false
   },
   "source": [
    "# Geolocation with SERPAPI an Macrostrat APIs"
   ]
  },
  {
   "cell_type": "markdown",
   "id": "a530d0089d494fc7",
   "metadata": {
    "collapsed": false
   },
   "source": [
    "## Configuration - you must set .env value SERPAPI_KEY\n",
    "sign up for a free account here [https://serpapi.com/](https://serpapi.com/) to get a SERPAPI key \n",
    "\n",
    "## What the geolocation code does\n",
    "The geolocation code takes a model response (list of dicts) and adds an 'entity coords' key to each dict containing a dictionary of entities in that response dict that had gpus coordinates from serpapi and and macrostrat as follows:\n",
    "\n",
    "```\n",
    "'entity_coords': {\n",
    "        'entity with gps coords': (\n",
    "            lat, \n",
    "            lon\n",
    "        ),\n",
    "}\n",
    "```"
   ]
  },
  {
   "cell_type": "markdown",
   "id": "5d290f21b9e5debb",
   "metadata": {
    "collapsed": false
   },
   "source": [
    "# demonstration"
   ]
  },
  {
   "cell_type": "markdown",
   "id": "837acb6397dea682",
   "metadata": {
    "collapsed": false
   },
   "source": [
    "## imports, set example model response"
   ]
  },
  {
   "cell_type": "code",
   "execution_count": 6,
   "id": "96aff43b846bcd7f",
   "metadata": {
    "ExecuteTime": {
     "end_time": "2024-03-01T20:56:03.502586Z",
     "start_time": "2024-03-01T20:56:03.499191Z"
    },
    "collapsed": false
   },
   "outputs": [],
   "source": [
    "import json\n",
    "from text2graph.geolocation.postprocessing import geolocate_model_graph_extraction\n",
    "\n",
    "example_model_response = [\n",
    "    {\n",
    "        \"name\": \"western Pybus Bay\",\n",
    "        \"type\": \"geographical-area\",\n",
    "        \"stratigraphic_units\": [\n",
    "            \"Kootznahoo Formation\",\n",
    "            \"Seymour Canal Formation\",\n",
    "            \"Cannery Formation\",\n",
    "            \"Admiralty Island Volcanics\",\n",
    "        ],\n",
    "    },\n",
    "    {\n",
    "        \"name\": \"Little Pybus Bay\",\n",
    "        \"type\": \"geographical-area\",\n",
    "        \"stratigraphic_units\": [\n",
    "            \"Kootznahoo Formation\",\n",
    "            \"Seymour Canal Formation\",\n",
    "            \"Cannery Formation\",\n",
    "            \"Admiralty Island Volcanics\",\n",
    "        ],\n",
    "    },\n",
    "]"
   ]
  },
  {
   "cell_type": "markdown",
   "id": "1f55e251ba37a6e1",
   "metadata": {
    "collapsed": false
   },
   "source": [
    "# call geolocation code and print results"
   ]
  },
  {
   "cell_type": "code",
   "execution_count": 7,
   "id": "b892099c583a4051",
   "metadata": {
    "ExecuteTime": {
     "end_time": "2024-03-01T20:56:07.623539Z",
     "start_time": "2024-03-01T20:56:06.109129Z"
    },
    "collapsed": false
   },
   "outputs": [
    {
     "name": "stdout",
     "output_type": "stream",
     "text": [
      "[\n",
      "  {\n",
      "    \"name\": \"western Pybus Bay\",\n",
      "    \"type\": \"geographical-area\",\n",
      "    \"stratigraphic_units\": [\n",
      "      \"Kootznahoo Formation\",\n",
      "      \"Seymour Canal Formation\",\n",
      "      \"Cannery Formation\",\n",
      "      \"Admiralty Island Volcanics\"\n",
      "    ],\n",
      "    \"entity_coords\": {\n",
      "      \"western Pybus Bay\": [\n",
      "        57.3008453,\n",
      "        -134.0528569\n",
      "      ],\n",
      "      \"Seymour Canal Formation\": [\n",
      "        56.738,\n",
      "        -133.806\n",
      "      ],\n",
      "      \"Cannery Formation\": [\n",
      "        56.738,\n",
      "        -133.806\n",
      "      ]\n",
      "    }\n",
      "  },\n",
      "  {\n",
      "    \"name\": \"Little Pybus Bay\",\n",
      "    \"type\": \"geographical-area\",\n",
      "    \"stratigraphic_units\": [\n",
      "      \"Kootznahoo Formation\",\n",
      "      \"Seymour Canal Formation\",\n",
      "      \"Cannery Formation\",\n",
      "      \"Admiralty Island Volcanics\"\n",
      "    ],\n",
      "    \"entity_coords\": {\n",
      "      \"Little Pybus Bay\": [\n",
      "        57.222748499999994,\n",
      "        -134.14150999999998\n",
      "      ],\n",
      "      \"Seymour Canal Formation\": [\n",
      "        56.738,\n",
      "        -133.806\n",
      "      ],\n",
      "      \"Cannery Formation\": [\n",
      "        56.738,\n",
      "        -133.806\n",
      "      ]\n",
      "    }\n",
      "  }\n",
      "]\n"
     ]
    }
   ],
   "source": [
    "example_response_with_geolocation = geolocate_model_graph_extraction(\n",
    "    extracted_graphs=example_model_response\n",
    ")\n",
    "print(json.dumps(example_response_with_geolocation, indent=2))"
   ]
  },
  {
   "cell_type": "markdown",
   "id": "3a4644cf7ead2896",
   "metadata": {
    "collapsed": false
   },
   "source": []
  },
  {
   "cell_type": "code",
   "execution_count": 3,
   "id": "4dbe9d59d6f0fd1c",
   "metadata": {
    "ExecuteTime": {
     "end_time": "2024-03-17T16:43:56.014573Z",
     "start_time": "2024-03-17T16:43:54.663461Z"
    },
    "collapsed": false
   },
   "outputs": [
    {
     "data": {
      "text/plain": [
       "Location(name='Little Pybus Bay', lat=(57.222748499999994,), lon=-134.14150999999998)"
      ]
     },
     "execution_count": 3,
     "metadata": {},
     "output_type": "execute_result"
    }
   ],
   "source": [
    "from text2graph.schema import Location\n",
    "import dotenv\n",
    "\n",
    "\n",
    "dotenv.load_dotenv()\n",
    "lpb = Location(name=\"Little Pybus Bay\")\n",
    "lpb"
   ]
  },
  {
   "cell_type": "code",
   "execution_count": null,
   "id": "141e1896124d7832",
   "metadata": {
    "collapsed": false
   },
   "outputs": [],
   "source": []
  }
 ],
 "metadata": {
  "kernelspec": {
   "display_name": "Python 3",
   "language": "python",
   "name": "python3"
  },
  "language_info": {
   "codemirror_mode": {
    "name": "ipython",
    "version": 2
   },
   "file_extension": ".py",
   "mimetype": "text/x-python",
   "name": "python",
   "nbconvert_exporter": "python",
   "pygments_lexer": "ipython2",
   "version": "3.11.8"
  }
 },
 "nbformat": 4,
 "nbformat_minor": 5
}
