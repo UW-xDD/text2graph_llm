{
 "cells": [
  {
   "cell_type": "code",
   "execution_count": 1,
   "metadata": {
    "ExecuteTime": {
     "end_time": "2024-03-26T18:39:03.666488Z",
     "start_time": "2024-03-26T18:39:03.577816Z"
    }
   },
   "outputs": [
    {
     "data": {
      "text/plain": "True"
     },
     "execution_count": 1,
     "metadata": {},
     "output_type": "execute_result"
    }
   ],
   "source": [
    "import logging\n",
    "import os\n",
    "\n",
    "import requests\n",
    "from dotenv import load_dotenv\n",
    "\n",
    "load_dotenv()"
   ]
  },
  {
   "cell_type": "markdown",
   "metadata": {},
   "source": [
    "Step 1: Call the Ask-xDD hybrid endpoint to get\n",
    "\n",
    "- `paper_id`\n",
    "- `preprocessor_id`\n",
    "- `hashed_text` (I treat this as paragraph id)"
   ]
  },
  {
   "cell_type": "markdown",
   "metadata": {},
   "source": [
    "Step 2: Gather extra information from xDD\n",
    "\n",
    "- publisher's URL"
   ]
  },
  {
   "cell_type": "code",
   "execution_count": 2,
   "metadata": {
    "ExecuteTime": {
     "end_time": "2024-03-26T18:39:03.675308Z",
     "start_time": "2024-03-26T18:39:03.668720Z"
    }
   },
   "outputs": [],
   "source": [
    "class USGSRetriever:\n",
    "    \"\"\"This is a mockup for the USGS specific retriever.\"\"\"\n",
    "\n",
    "    def query_ask_xdd(self, query: str) -> dict:\n",
    "        \"\"\"Query the AskXDD API and return the response.\"\"\"\n",
    "\n",
    "        ASK_XDD_APIKEY = os.getenv(\"ASK_XDD_APIKEY\")\n",
    "        ASK_XDD_URL = os.getenv(\"ASK_XDD_URL\")\n",
    "        headers = {\"Content-Type\": \"application/json\", \"Api-Key\": ASK_XDD_APIKEY}\n",
    "        data = {\n",
    "            \"topic\": \"criticalmaas\",\n",
    "            \"question\": query,\n",
    "            \"top_k\": 1,\n",
    "        }\n",
    "\n",
    "        response = requests.post(ASK_XDD_URL + \"/hybrid\", headers=headers, json=data)\n",
    "        response.raise_for_status()\n",
    "        paragraph = response.json()[0]\n",
    "        paragraph[\"url\"] = self.get_url(paragraph[\"paper_id\"])\n",
    "        return paragraph\n",
    "\n",
    "    def get_url(self, paper_id: str) -> str | None:\n",
    "        \"\"\"Get the URL for a paper in the XDD database.\"\"\"\n",
    "\n",
    "        XDD_ARTICLE_ENDPOINT = os.getenv(\"XDD_ARTICLE_ENDPOINT\")\n",
    "        response = requests.get(f\"{XDD_ARTICLE_ENDPOINT}?docid={paper_id}\")\n",
    "        response.raise_for_status()\n",
    "\n",
    "        try:\n",
    "            data = response.json()[\"success\"][\"data\"]\n",
    "            # Return the first publisher link\n",
    "            for d in data:\n",
    "                links = d[\"link\"]\n",
    "                for link in links:\n",
    "                    if link[\"type\"] == \"publisher\":\n",
    "                        return link[\"url\"]\n",
    "            return links\n",
    "        except Exception as e:\n",
    "            logging.error(f\"Error getting URL for paper {paper_id}: {e}\")"
   ]
  },
  {
   "cell_type": "code",
   "execution_count": 3,
   "metadata": {
    "ExecuteTime": {
     "end_time": "2024-03-26T18:39:03.679721Z",
     "start_time": "2024-03-26T18:39:03.676609Z"
    }
   },
   "outputs": [],
   "source": [
    "retriever = USGSRetriever()"
   ]
  },
  {
   "cell_type": "code",
   "execution_count": 4,
   "metadata": {
    "ExecuteTime": {
     "end_time": "2024-03-26T18:40:19.192506Z",
     "start_time": "2024-03-26T18:39:03.681258Z"
    }
   },
   "outputs": [
    {
     "data": {
      "text/plain": "{'paper_id': '620e6889ad0e9c819b0c3e0f',\n 'preprocessor_id': 'haystack_v0.0.2',\n 'doc_type': 'paragraph',\n 'topic_list': ['criticalmaas', 'dolomites', 'geoarchive'],\n 'text_content': 'Assuming transportation costs of US$ 18.00 per tonne from Port Cartier to the China market, the realised price of the product at Port Cartier is: \\uf0b7 Iron concentrate 64.3% Fe\\nTotal Revenue FOB Port Cartier (LOM) Total Operating Costs including Royalty (LOM) Total Pre-production Capital Costs including Royalty Buy-back Total Sustaining Capital Costs (LOM) Initial Working Capital Mine Closure Costs Salvage Value\\nBEFORE TAX Total Cash Flow Payback Period NPV @ 8% NPV @ 6% NPV @ 10% IRR\\nAFTER TAX Total Tax Payments (LOM) Total Cash Flow Payback Period NPV @ 8% NPV @ 6% NPV @ 10% IRR\\nUnits $ M $ M $ M $ M $ M $ M $ M $ M years $ M $ M $ M % $ M $ M years $ M $ M $ M %',\n 'hashed_text': 'f8d910cc2e84be10b1a567dca256b5a2d61eb4c9bcaabc6326a6f5b80f650be2',\n 'cosmos_object_id': None,\n 'distance': -72.18213,\n 'url': 'https://www.zotero.org/groups/4530692/items/PMT8V4E8'}"
     },
     "execution_count": 4,
     "metadata": {},
     "output_type": "execute_result"
    }
   ],
   "source": [
    "retriever.query_ask_xdd(\"Iron ore in the US.\")"
   ]
  }
 ],
 "metadata": {
  "kernelspec": {
   "display_name": "Python 3",
   "language": "python",
   "name": "python3"
  },
  "language_info": {
   "codemirror_mode": {
    "name": "ipython",
    "version": 3
   },
   "file_extension": ".py",
   "mimetype": "text/x-python",
   "name": "python",
   "nbconvert_exporter": "python",
   "pygments_lexer": "ipython3",
   "version": "3.11.8"
  }
 },
 "nbformat": 4,
 "nbformat_minor": 2
}
