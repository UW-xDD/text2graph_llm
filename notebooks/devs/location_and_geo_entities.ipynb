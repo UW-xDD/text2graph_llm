{
 "cells": [
  {
   "cell_type": "code",
   "execution_count": 1,
   "metadata": {},
   "outputs": [
    {
     "data": {
      "text/plain": [
       "'/data/clo36/repo/text2graph_llm'"
      ]
     },
     "execution_count": 1,
     "metadata": {},
     "output_type": "execute_result"
    }
   ],
   "source": [
    "import json\n",
    "import pandas as pd\n",
    "from text2graph.llm import ask_llm, OpenSourceModel\n",
    "import os\n",
    "\n",
    "os.getcwd()"
   ]
  },
  {
   "cell_type": "code",
   "execution_count": 2,
   "metadata": {},
   "outputs": [
    {
     "name": "stdout",
     "output_type": "stream",
     "text": [
      "Supported open-source (OSS) models: ['mixtral', 'openhermes']\n"
     ]
    }
   ],
   "source": [
    "print(f\"Supported open-source (OSS) models: {[m.value for m in OpenSourceModel]}\")"
   ]
  },
  {
   "cell_type": "markdown",
   "metadata": {},
   "source": [
    "- `mixtral`: top open-source llm model based on [chatbot arean](https://huggingface.co/spaces/lmsys/chatbot-arena-leaderboard), ELO: 1118 ~= GPT3.5 turbo\n",
    "- `openhermes`: decent open-source small-ish (7b) model, ELO: 1078 (won't test on this yet, Bill is using this with somewhat decent results in similar use case?)"
   ]
  },
  {
   "cell_type": "markdown",
   "metadata": {},
   "source": [
    "## Extract locations based-on Shanan's example"
   ]
  },
  {
   "cell_type": "code",
   "execution_count": 3,
   "metadata": {},
   "outputs": [],
   "source": [
    "NEGATIVE_EXAMPLE = \"\"\"\n",
    "This community-vetted CO2 syn- thesis represents the most reliable data avail- able to date and a means to improve our understanding of past changes in global cli- mate and carbon cycling as well as organismal evolution. However, this effort is still incomplete. Data remain sparse during the earlier part of the record and in some instances are domi- nated by estimates from a single proxy system. Generating a paleo-CO2 record with even greater confidence will require further research using multiple proxies to fill in data gaps and increase overall data resolution, resolve discrepancies between estimates from contemporaneous proxy analyses, reduce uncertainty o\n",
    "\"\"\"\n",
    "\n",
    "POSITIVE_EXAMPLE = \"\"\"\n",
    "The top of the Sauk megasequence in Minnesota is at the unconformable contact of the Shakopee Formation with the St. Peter Sandstone. Younger rocks are present beneath the St. Peter Sandstone on the southern and east- ern flanks of the Ozark dome, where the upper Sauk succession includes the Roubidoux, Jefferson City, Cotter, Powell – Smithville – Black Rock, and Everton units in that stratigraphic order (Ethington et al., 2012; Palmer et al., 2012). The Shakopee Formation is equivalent to some lower part of this succession, but sparse inverte- brate faunas and long-ranging conodonts in these units preclude correlation with high resolution. The Jasper Member of the Everton Formation of northern Arkansas contains conodonts of the Histiodella holodentata Biozone, which demonstrates the latest early Whiterockian age for the top of the rocks of the GACB in that region. No faunal evidence is available there for the age of the base of the St. Peter Sandstone. The boundary between the Sauk and Tippecanoe megasequences may be a cor- relative conformity in the Reelfoot rift of southeastern Missouri and northeastern Missouri, but this has not been demonstrated.\n",
    "\"\"\""
   ]
  },
  {
   "cell_type": "markdown",
   "metadata": {},
   "source": [
    "In [Shanan's example](https://chat.openai.com/share/d14a5163-ddb4-4f28-b6d4-bbf4839f62cb), he forced the model to perform a guided 2 steps chain-of-thought.\n",
    "\n",
    "1. What locations are mentioned in the following paragraph?\n",
    "2. What geological entities are associated with those locations?\n",
    "\n",
    "We can try to make an exact replication on our OSS models.  "
   ]
  },
  {
   "cell_type": "code",
   "execution_count": 4,
   "metadata": {},
   "outputs": [
    {
     "name": "stdout",
     "output_type": "stream",
     "text": [
      " The paragraph does not mention any specific locations. It discusses a community-vetted CO2 synthesis and the need for further research to improve understanding of past changes in global climate, carbon cycling, and organismal evolution. The focus is on data gaps, discrepancies between proxy estimates, and increasing overall data resolution rather than specific geographic locations.\n"
     ]
    }
   ],
   "source": [
    "q1 = \"What locations are mentioned in the following paragraph?\"\n",
    "q2 = \"What geological entities are associated with those locations?\"\n",
    "\n",
    "message = {\"role\": \"user\", \"content\": f\"{q1}\\n{NEGATIVE_EXAMPLE}\"}\n",
    "response = ask_llm(messages=[message], model=\"mixtral\")\n",
    "print(response)"
   ]
  },
  {
   "cell_type": "markdown",
   "metadata": {},
   "source": [
    "For reference, this is the exact return from Shanan's example:\n",
    "```\n",
    "The paragraph does not mention specific locations. Instead, it discusses data synthesis and the need for further research to improve our understanding of past changes in global climate and carbon cycling. Therefore, specific locations are not mentioned in this paragraph.\n",
    "``````"
   ]
  },
  {
   "cell_type": "markdown",
   "metadata": {},
   "source": [
    "Somewhat close enough, perhaps GPT prefers a bit simpler wordings."
   ]
  },
  {
   "cell_type": "code",
   "execution_count": 5,
   "metadata": {},
   "outputs": [
    {
     "name": "stdout",
     "output_type": "stream",
     "text": [
      " The paragraph mentions several locations:\n",
      "\n",
      "* The top of the Sauk megasequence in Minnesota, specifically at the unconformable contact of the Shakopee Formation with the St. Peter Sandstone.\n",
      "* The southern and eastern flanks of the Ozark dome, where younger rocks are present beneath the St. Peter Sandstone.\n",
      "* Northern Arkansas, where the Jasper Member of the Everton Formation contains conodonts of the Histiodella holodentata Biozone, indicating a latest early Whiterockian age for the top of the rocks of the GACB in that region.\n",
      "* The Reelfoot rift of southeastern Missouri and northeastern Missouri, where the boundary between the Sauk and Tippecanoe megasequences may be a correlative conformity.\n",
      "\n",
      "Additionally, the paragraph mentions several geological formations and units, including:\n",
      "\n",
      "* The Shakopee Formation\n",
      "* The St. Peter Sandstone\n",
      "* The Roubidoux\n",
      "* The Jefferson City\n",
      "* The Cotter\n",
      "* The Powell – Smithville – Black Rock\n",
      "* The Everton units\n",
      "* The Jasper Member of the Everton Formation\n",
      "* The Sauk megasequence\n",
      "* The Tippecanoe megasequences\n",
      "* The Reelfoot rift.\n"
     ]
    }
   ],
   "source": [
    "message = {\"role\": \"user\", \"content\": f\"{q1}\\n{POSITIVE_EXAMPLE}\"}\n",
    "response = ask_llm(messages=[message], model=\"mixtral\")\n",
    "print(response)"
   ]
  },
  {
   "cell_type": "markdown",
   "metadata": {},
   "source": [
    "For reference, this is the exact return from Shanan's example:\n",
    "```\n",
    "The locations mentioned in the paragraph are:\n",
    "\n",
    "Minnesota\n",
    "Ozark dome (southern and eastern flanks)\n",
    "Northern Arkansas\n",
    "Reelfoot rift (southeastern Missouri and northeastern Missouri)\n",
    "```"
   ]
  },
  {
   "cell_type": "markdown",
   "metadata": {},
   "source": [
    "Simulate the conversation with follow-up question:"
   ]
  },
  {
   "cell_type": "code",
   "execution_count": 6,
   "metadata": {},
   "outputs": [
    {
     "name": "stdout",
     "output_type": "stream",
     "text": [
      " The following geological entities are associated with the locations mentioned in the paragraph:\n",
      "\n",
      "* The Sauk megasequence is a large-scale division of rock strata that represents a long period of geologic time. It is present in Minnesota, where it is represented by the Shakopee Formation and the St. Peter Sandstone, as well as in other locations such as the southern and eastern flanks of the Ozark dome, where it includes the Roubidoux, Jefferson City, Cotter, Powell – Smithville – Black Rock, and Everton units.\n",
      "* The Shakopee Formation is a geologic formation that is part of the Sauk megasequence in Minnesota. It is present at the top of the Sauk megasequence and is in unconformable contact with the St. Peter Sandstone.\n",
      "* The St. Peter Sandstone is a geologic formation that is part of the Sauk megasequence in Minnesota. It lies below the Shakopee Formation on the southern and eastern flanks of the Ozark dome, where it is covered by younger rocks.\n",
      "* The Roubidoux, Jefferson City, Cotter, Powell – Smithville – Black Rock, and Everton units are geologic formations that make up the upper Sauk succession on the southern and eastern flanks of the Ozark dome. These units are present beneath the St. Peter Sandstone in this region.\n",
      "* The Jasper Member of the Everton Formation is a specific unit within the Everton Formation, which is part of the Sauk megasequence in northern Arkansas. It contains conodonts of the Histiodella holodentata Biozone, indicating a latest early Whiterockian age for the top of the rocks of the GACB in that region.\n",
      "* The Reelfoot rift is a geologic feature located in southeastern Missouri and northeastern Missouri. It is mentioned as a possible location for the boundary between the Sauk and Tippecanoe megasequences, which may be a correlative conformity.\n"
     ]
    }
   ],
   "source": [
    "messages = [message]  # Last message\n",
    "messages.append({\"role\": \"assistant\", \"content\": response})  # Last response\n",
    "messages.append({\"role\": \"user\", \"content\": q2})\n",
    "response = ask_llm(messages=messages, model=\"mixtral\")\n",
    "print(response)"
   ]
  },
  {
   "cell_type": "markdown",
   "metadata": {},
   "source": [
    "For reference, this is the exact return from Shanan's example:\n",
    "```\n",
    "The geological entities associated with the mentioned locations are:\n",
    "\n",
    "Minnesota: Sauk megasequence, Shakopee Formation, St. Peter Sandstone.\n",
    "Ozark dome (southern and eastern flanks): Sauk megasequence, Roubidoux Formation, Jefferson City Formation, Cotter Formation, Powell-Smithville-Black Rock Formation, Everton Formation.\n",
    "Northern Arkansas: Everton Formation, Jasper Member.\n",
    "Reelfoot rift (southeastern Missouri and northeastern Missouri): Sauk megasequence, Tippecanoe megasequence.\n",
    "``````"
   ]
  },
  {
   "cell_type": "markdown",
   "metadata": {},
   "source": [
    "Interim conclusion:\n",
    "\n",
    "In this particular use case, perhaps `mixtral` is suffice?\n",
    "\n",
    "More issues to consider:\n",
    "\n",
    "1. Can we speed it up a bit by Reducing query round trip from 2 to 1?\n",
    "1. Can we return json format instead of plain text?\n",
    "1. How to lemmatize location or geo-entities? (Try traditional methods first, then we can try embedding distance based method)\n",
    "1. Test on larger test set. Use a subset of Devesh's test set. Perhaps 30 examples first, scale up later if we reach a good result. Need manual labeling. (Devesh's test set don't have labels) \n",
    "1. Serve API endpoint for user testing.\n",
    "1. Serve Demo for user testing.\n",
    "\n",
    "Backlog low-priority items:\n",
    "\n",
    "1. Geo-coding for extracted locations.\n",
    "1. How to use the Stratigraphy and Lithology list from MacroStrat?\n",
    "1. Multi-agent setup to improve quality.\n",
    "1. Logging and monitoring: Collect user feedback for fine-tuning (e.g., prompt-tune (interactive or generative) or Direct Preference Optimization (need around 20k labeled data))\n"
   ]
  },
  {
   "cell_type": "markdown",
   "metadata": {},
   "source": [
    "## Speed up experiment: Zero-shot CoT\n",
    "\n",
    "- Borrowing some system prompt idea from Sky's [ta2-extraction example](https://github.com/DARPA-CRITICALMAAS/ta2-extraction/blob/master/prompts.py)\n",
    "- Try to reduce round-trip from 2 to 1.\n",
    "- Improve response format from free text to json-like.\n"
   ]
  },
  {
   "cell_type": "code",
   "execution_count": 7,
   "metadata": {},
   "outputs": [],
   "source": [
    "def get_prompt(text: str) -> list[dict]:\n",
    "    \"\"\"V0 geo-location prompting.\"\"\"\n",
    "\n",
    "    system_prompt = {\n",
    "        \"role\": \"system\",\n",
    "        \"content\": \"You are a geology expert and you are very good in understanding mining reports. Think step by step: What locations are mentioned in the following paragraph? and What geological entities are associated with those locations? Return in json format like this: {'location1': ['entity1', 'entity2', ...], 'location2': ['entity3', 'entity4', ...]}. Return an empty dictionary if there is no location.\",\n",
    "    }\n",
    "    user_prompt = {\"role\": \"user\", \"content\": text}\n",
    "    return [system_prompt, user_prompt]\n",
    "\n",
    "\n",
    "def experiment1(text: str) -> str:\n",
    "    \"\"\"V0 geo-location experiment.\"\"\"\n",
    "    response = ask_llm(messages=get_prompt(text), model=\"mixtral\")\n",
    "    return response"
   ]
  },
  {
   "cell_type": "code",
   "execution_count": 8,
   "metadata": {},
   "outputs": [
    {
     "name": "stdout",
     "output_type": "stream",
     "text": [
      " {  }\n",
      "\n",
      "The paragraph does not mention any specific locations or geological entities associated with those locations.\n"
     ]
    }
   ],
   "source": [
    "print(experiment1(NEGATIVE_EXAMPLE))"
   ]
  },
  {
   "cell_type": "code",
   "execution_count": 9,
   "metadata": {},
   "outputs": [
    {
     "name": "stdout",
     "output_type": "stream",
     "text": [
      " {\n",
      "\"Minnesota\": [\"Sauk megasequence\", \"Shakopee Formation\", \"St. Peter Sandstone\"],\n",
      "\"southern and eastern flanks of the Ozark dome\": [\"younger rocks\", \"Roubidoux\", \"Jefferson City\", \"Cotter\", \"Powell – Smithville – Black Rock\", \"Everton units\"],\n",
      "\"northern Arkansas\": [\"Jasper Member of the Everton Formation\", \"Histiodella holodentata Biozone\"],\n",
      "\"Reelfoot rift of southeastern Missouri and northeastern Missouri\": [\"correlative conformity between Sauk and Tippecanoe megasequences\"]\n",
      "}\n"
     ]
    }
   ],
   "source": [
    "print(experiment1(POSITIVE_EXAMPLE))"
   ]
  },
  {
   "cell_type": "markdown",
   "metadata": {},
   "source": [
    "For reference, this is the exact return from Shanan's example:\n",
    "```\n",
    "The geological entities associated with the mentioned locations are:\n",
    "\n",
    "Minnesota: Sauk megasequence, Shakopee Formation, St. Peter Sandstone.\n",
    "Ozark dome (southern and eastern flanks): Sauk megasequence, Roubidoux Formation, Jefferson City Formation, Cotter Formation, Powell-Smithville-Black Rock Formation, Everton Formation.\n",
    "Northern Arkansas: Everton Formation, Jasper Member.\n",
    "Reelfoot rift (southeastern Missouri and northeastern Missouri): Sauk megasequence, Tippecanoe megasequence.\n",
    "``````"
   ]
  },
  {
   "cell_type": "markdown",
   "metadata": {},
   "source": [
    "## Micro testset (n=30)"
   ]
  },
  {
   "cell_type": "code",
   "execution_count": 10,
   "metadata": {},
   "outputs": [
    {
     "data": {
      "text/html": [
       "<div>\n",
       "<style scoped>\n",
       "    .dataframe tbody tr th:only-of-type {\n",
       "        vertical-align: middle;\n",
       "    }\n",
       "\n",
       "    .dataframe tbody tr th {\n",
       "        vertical-align: top;\n",
       "    }\n",
       "\n",
       "    .dataframe thead th {\n",
       "        text-align: right;\n",
       "    }\n",
       "</style>\n",
       "<table border=\"1\" class=\"dataframe\">\n",
       "  <thead>\n",
       "    <tr style=\"text-align: right;\">\n",
       "      <th></th>\n",
       "      <th>formation_name</th>\n",
       "      <th>paper_id</th>\n",
       "      <th>paragraph</th>\n",
       "    </tr>\n",
       "  </thead>\n",
       "  <tbody>\n",
       "    <tr>\n",
       "      <th>1156</th>\n",
       "      <td>Coyote Butte Formation</td>\n",
       "      <td>578e49dbcf58f15c7f6149cf</td>\n",
       "      <td>The Grindstone terrane contains some of the ol...</td>\n",
       "    </tr>\n",
       "    <tr>\n",
       "      <th>5663</th>\n",
       "      <td>Sepur Formation</td>\n",
       "      <td>54b43252e138239d8684b90c</td>\n",
       "      <td>At Campur, the rudist limestones of the Campur...</td>\n",
       "    </tr>\n",
       "    <tr>\n",
       "      <th>2890</th>\n",
       "      <td>Murdock Mountain Formation</td>\n",
       "      <td>5c64fd1e1faed6554895cac3</td>\n",
       "      <td>Occurrence.—Hinganella felderi occurs througho...</td>\n",
       "    </tr>\n",
       "  </tbody>\n",
       "</table>\n",
       "</div>"
      ],
      "text/plain": [
       "                  formation_name                  paper_id  \\\n",
       "1156      Coyote Butte Formation  578e49dbcf58f15c7f6149cf   \n",
       "5663             Sepur Formation  54b43252e138239d8684b90c   \n",
       "2890  Murdock Mountain Formation  5c64fd1e1faed6554895cac3   \n",
       "\n",
       "                                              paragraph  \n",
       "1156  The Grindstone terrane contains some of the ol...  \n",
       "5663  At Campur, the rudist limestones of the Campur...  \n",
       "2890  Occurrence.—Hinganella felderi occurs througho...  "
      ]
     },
     "execution_count": 10,
     "metadata": {},
     "output_type": "execute_result"
    }
   ],
   "source": [
    "# Run once\n",
    "# critical_maas_knowledge_graph_testset = pd.read_parquet(\"data/formation_sample.parquet.gzip\")\n",
    "# testset_micro = critical_maas_knowledge_graph_testset.sample(30)\n",
    "# testset_micro.to_parquet(\"data/testset_micro.parquet.gzip\", compression=\"gzip\")\n",
    "\n",
    "testset_micro = pd.read_parquet(\"data/testset_micro.parquet.gzip\")\n",
    "testset_micro.sample(3)"
   ]
  },
  {
   "cell_type": "code",
   "execution_count": 11,
   "metadata": {},
   "outputs": [],
   "source": [
    "results = {\n",
    "    \"note\": \"V0 geo-location experiment.\",\n",
    "    \"testset_path\": \"data/testset_micro.parquet.gzip\",\n",
    "    \"input\": [],\n",
    "    \"output\": [],\n",
    "}\n",
    "\n",
    "for i, row in testset_micro.iterrows():\n",
    "    input = row[\"paragraph\"]\n",
    "    output = experiment1(input)\n",
    "    results[\"input\"].append(input)\n",
    "    results[\"output\"].append(output)"
   ]
  },
  {
   "cell_type": "code",
   "execution_count": 12,
   "metadata": {},
   "outputs": [],
   "source": [
    "with open(\"results.json\", \"w\") as f:\n",
    "    json.dump(results, f, indent=4)"
   ]
  },
  {
   "cell_type": "code",
   "execution_count": 13,
   "metadata": {},
   "outputs": [
    {
     "name": "stdout",
     "output_type": "stream",
     "text": [
      "Input: (4) Depositional salinities high enough at times for the development of anhydrite crystals in fine-grained sediment (first recorded at - 27 m just below the top of the flakestone member). In the underlying strata the restriction of anhydrite pseudomorphs to permeable tempestites suggests formation during the deposition of the stromatolitic member (see later discussion).\n",
      "Overall these changes indicate a transition to a lagoonal environment, i.e., shallow, nonemergent, intermittently hypersaline. Higher in the stromatolitic member (above -15 m) an intermittently emergent and more actively evaporitic setting is recorded by desiccated surfaces, abundant generation of originally rigid intraclasts, and increased abundance of ooids and anhydrite pseudomorphs. Evidence for tidal currents is best seen in the basal sandstone of the Spiral Creek Formation. Here, the combination of apparently bimodal or polymodal palaeocurrents, the size of cross-stratification sets, and the presence of desiccated dolostone beds, compares closely with tidal sandflat facies described by Fairchild (1980, 1988) and Chow and James (1987).\n",
      "\n",
      "Output:  {\n",
      "\"the top of the flakestone member\": [\"depositional salinities\", \"anhydrite crystals\"],\n",
      "\"the underlying strata\": [\"anhydrite pseudomorphs\", \"tempestites\"],\n",
      "\"the stromatolitic member\": [\"lagoonal environment\", \"desiccated surfaces\", \"intraclasts\", \"ooids\", \"anhydrite pseudomorphs\", \"tidally influenced deposits\"],\n",
      "\"the basal sandstone of the Spiral Creek Formation\": [\"tidal currents\"]\n",
      "}\n",
      "========================================================================================================================================================================================================\n",
      "Input: In the western Pybus Bay and in the Little Pybus Bay areas (fig. 4) the Kootznahoo Formation consists of gently dipping conglomerate, arkosic and lithic sandstone, and minor amounts of shale. In this area the conglomerate to sandstone ratio is about three. The rounded cobbles of the conglomerate are composed mainly of argillite and plutonic rock. The matrix of the conglomerate is sandstone. The sandstone is characterized by an abundance of chlorite-bearing phyllite fragments, and it generally contains less than 15 per~ent quartz (Lathram and others, 1965). Carbonized wood fragments are common in the sandstone. The 2000-foot-thick Kootznahoo sequence unconformably overlies strongly deformed beds of the Upper Jurassic and Lower Cretaceous Seymour Canal Formation and the Devonian and Mississippian Cannery Formation. It is overlain by basaltic and andesitic flows of the Eocene and Oligocene Admiralty Island Volcanics and was intruded by felsic to mafic dikes and sills. Fossil leaves suggest a Paleocene age for the Kootznahoo in this area (Wolfe, in Lathram and others, 1965).\n",
      "\n",
      "Output:  {\n",
      "\"western Pybus Bay and Little Pybus Bay areas\": [\n",
      "\"Kootznahoo Formation\",\n",
      "\"conglomerate\",\n",
      "\"arkosic and lithic sandstone\",\n",
      "\"shale\",\n",
      "\"Upper Jurassic and Lower Cretaceous Seymour Canal Formation\",\n",
      "\"Devonian and Mississippian Cannery Formation\",\n",
      "\"Eocene and Oligocene Admiralty Island Volcanics\",\n",
      "\"felsic to mafic dikes and sills\"\n",
      "]\n",
      "}\n",
      "========================================================================================================================================================================================================\n",
      "Input: The lowest portion of the Paranoa´ Group corresponds to the Ribeir˜ao Sa˜o Miguel Formation (Fig. 3a,b). This unit has a significant contribu­ tion of 2100 and 2200 Ma grains, minor peaks related to 2700 Ma grains and its maximum depositional age is 1496 ± 23 Ma (Fig. 4). Minor 2700 Ma population is also reported by previous study (Martins-Ferreira et al., 2018a). The Serra da Boa Vista Formation’s main contribution is mostly related to 2100–2200 Ma grains. The Serra do Paran˜a Formation (Fig. 3c) reveals 3000 Ma, 1770 Ma, and 1500 Ma sources (Fig. 4). The Piçarra˜o Formation (Fig. 3d) presents a significant 2100 and 2200 Ma grains and 2700 Ma detrital zircon contribution. This unit has a maximum depositional age of 1436 ± 13 Ma.\n",
      "\n",
      "Output:  {\n",
      "\"Paranoa' Group\": [\"Ribeirão Saô Miguel Formation\", \"Serra da Boa Vista Formation\", \"Serra do Paraná Formation\", \"Piçarraõ Formation\"],\n",
      "\"Ribeirão Saô Miguel Formation\": [\"2100 and 2200 Ma grains\", \"2700 Ma grains\", \"1496 ± 23 Ma depositional age\"],\n",
      "\"Serra da Boa Vista Formation\": [\"2100–2200 Ma grains\"],\n",
      "\"Serra do Paraná Formation\": [\"3000 Ma sources\", \"1770 Ma sources\", \"1500 Ma sources\"],\n",
      "\"Piçarraõ Formation\": [\"2100 and 2200 Ma grains\", \"2700 Ma detrital zircon contribution\", \"1436 ± 13 Ma depositional age\"]\n",
      "}\n",
      "========================================================================================================================================================================================================\n",
      "Input: Additional petrographic logs in Hood (2000) show that planktic foraminifera decrease in abundance from the underlying Otaraoa Formation into Tikorangi Formation, and then show an overall increase up-core, reaching a maximum in upper sections where bioclastic contents are low. The more siliciclastic/matrix-rich beds are enriched in planktic foraminifera. Echinoderms generally follow a reverse trend to planktic foraminifera, decreasing up-core and being more abundant in bioclastic-rich upper beds.A similar trend occurs for bivalves and benthic foraminifera, and possibly also calcareous red algae. Spicules and spines remain persistent minor components throughout the formation. Unidentified skeletal fragments tend to follow the planktic foraminiferal trend, increasing up-core and being more prevalent in siliciclastic matrix-rich units. Interpreted siliciclastic compositions for Waihapa-5 show no major variation upcore, although a decrease in quartz and feldspar content and an increase in pyrite occurs on entering the basal Tikorangi Formation. Pyrite appears to be more prevalent in the bioclastic-rich units.\n",
      "\n",
      "Output:  {\n",
      "  \"Otaraoa Formation\": [\"planktic foraminifera\", \"siliciclastic/matrix-rich beds\"],\n",
      "  \"Tikorangi Formation\": [\n",
      "    \"planktic foraminifera\",\n",
      "    \"echinoderms\",\n",
      "    \"bivalves\",\n",
      "    \"benthic foraminifera\",\n",
      "    \"calcareous red algae\",\n",
      "    \"unidentified skeletal fragments\",\n",
      "    \"siliciclastic compositions\",\n",
      "    \"pyrite\"\n",
      "  ],\n",
      "  \"Waihapa-5\": [\"quartz\", \"feldspar\", \"bioclastic-rich units\", \"pyrite\"]\n",
      "}\n",
      "========================================================================================================================================================================================================\n",
      "Input: We carried out a preliminary cladistic analysis based on 25 taxa and 104 characters in PAUP* 4.0 b10 (Append. 1) and TNT 1.1 (Append. 2). The data matrix derives in large part from Marques and Collins (2004) and Van Iten et al. (2006) by supplementing new data from Kuanchuanpu medusozoans. The proposed fossils of Cubozoa, Coronate, Semaeostomae and Narcomedusae (referred respectively as ‘cormr’, ‘cubomr’, ‘narmr’, ‘semamr’ in Fig. 9 and Appends. 1–2) from the Middle Cambrian Marjum Formation (Cartwright et al., 2007) were listed into the new character matrix together with Kuanchuanpu medusozoans. All 104 characters have equal weight, 8 of them are constant, 26 variable characters are parsimony-uninformative, and the rest 70 characters are parsimony-informative. The unweighted analysis of the data matrix in PAUP analysis yielded 2628 trees (tree length (TL) = 184, consistency index (CI) = 0.6250, rescaled consistency index (RC) = 0.4732). The successive weighting analysis (Marques and Collins, 2004; Van Iten et al., 2006) resulted in three trees (TL = 95.86191, CI = 0.8415,\n",
      "\n",
      "Output:  {  \"Middle Cambrian Marjum Formation\": [\n",
      "    \"Cubozoa\",\n",
      "    \"Coronate\",\n",
      "    \"Semaeostomae\",\n",
      "    \"Narcomedusae\"\n",
      "  ],\n",
      "  \"Kuanchuanpu medusozoans\": [\n",
      "    \"medusozoans\"\n",
      "  ]\n",
      "}\n",
      "========================================================================================================================================================================================================\n",
      "Input: The lithosomes of the Gutschick sequence are different in separate parts of the study area, depending on the structural level of the exposures within the Sevier thrust belt. A palinspastically more eastern, and structurally lower, belt of Gutschick sequence exposures, extending from the Lakeside Mountains and Becks Spur southward to Blawn Mountain (fig. 3), comprises different lithosomes than those preserved in limited outcrops farther west in the Burbank Hills and Confusion Range and to the north in the Bear River Range, as at Leatham Hollow (figs. 2,3).\n",
      "The similarity of the uppermost Famennian and lower Kinderhookian Gutschick-sequence succession that forms the upper part of the Pilot Shale in the Confusion Range with that of the Leatham Formation in the Bear River Range, and the similarity of both of these successions with the Sappington Member of the Three Forks Formation (Upper Devonian and Lower Mississippian?) in southwestern Montana, has long been recognized. These sections are well described by Gutschick and Rodriguez (1979) who show that these disjunct occurrences represent remnants of a distinct depositional belt.\n",
      "\n",
      "Output:  {\n",
      "  \"Lakeside Mountains\": [\"Gutschick sequence exposures\"],\n",
      "  \"Becks Spur\": [\"Gutschick sequence exposures\"],\n",
      "  \"Blawn Mountain\": [\"Gutschick sequence exposures\"],\n",
      "  \"Confusion Range\": [\"limited outcrops of Gutschick sequence\", \"uppermost Famennian and lower Kinderhookian Gutschick-sequence succession\", \"Pilot Shale\"],\n",
      "  \"Bear River Range\": [\"Leatham Hollow\", \"Gutschick sequence exposures\", \"uppermost Famennian and lower Kinderhookian Gutschick-sequence succession\", \"Leatham Formation\"],\n",
      "  \"Leatham Hollow\": [\"Gutschick sequence exposures\"],\n",
      "  \"Bear River Range (north)\": [\"limited outcrops of Gutschick sequence\"],\n",
      "  \"Montana (southwestern)\": [\"Sappington Member of the Three Forks Formation\", \"Upper Devonian and Lower Mississippian?\"]\n",
      "}\n",
      "========================================================================================================================================================================================================\n",
      "Input: Occurrence.—Hinganella felderi occurs throughout the Sten­ odiscus beds, Murdock Mountain Formation, Wordian (Kazanian), Guadalupian Series, Elko County, Nevada.\n",
      "Diagnosis.—Dendroid zoaria; some encrusting or massive. Autozooecial chambers circular, oval, or polygonal; walls within exozone significantly thickened, containing numerous tiny tu­ bules. Complete diaphragms or heterophragms present in some species. Exilazooecia and acanthostyles present in varying num­ bers and size (modified from Morozova, 1970).\n",
      "Figure 4.1-4.6; Table 2 Diagnosis.—Neoeridotrypella with large autozooecia, large number of autozooecia per 2 mm, large acanthostyles, and few diaphragms. Description. —Zoaria dendroid, endozone oval to circular in cross-section. Exozone comprises one-fourth diameter of zoar­ ium. Autozooecia thin-walled, oval to polygonal in endozone; circular to irregular in peripheral exozone. Diaphragms few. If diaphragms present, one to three between endozonal/exozonal boundary and exozone; thin, straight to slightly concave.\n",
      "\n",
      "Output:  Based on the given paragraph, the following locations and associated geological entities can be identified:\n",
      "\n",
      "{\n",
      "  \"Sten­ odiscus beds, Murdock Mountain Formation, Wordian (Kazanian), Guadalupian Series, Elko County, Nevada\": [\n",
      "    \"Hinganella felderi\",\n",
      "    \"Neoeridotrypella\"\n",
      "  ]\n",
      "}\n",
      "\n",
      "The location mentioned is a specific formation in Elko County, Nevada, and two geological entities (Hinganella felderi and Neoeridotrypella) are associated with this location.\n",
      "========================================================================================================================================================================================================\n",
      "Input: Gualala 7.5' quadrangle *Field No. 97CB4601. Northeast side of Havens Neck, at base of cliff, in red mudstone. Latitude. 38°48'32\" N Longitude. 123°35'58\" W. Age. early Eocene, Zone CP9 or 10. Formation. Mapped as Paleocene part of German Rancho Formation by Wentworth (1966). Flora. Odd, abundant flora has Chiasmolithus consuetus. Coccolithus pelagicus. Sphenolithus radians. Transversopontis pulcher, Tribrachiatus orthostylus and Zygrhablithus bijugatus.\n",
      "*Field No. 97CB4601A. 7 ft stratigraphically above 97CB4601, from olive gray mudstone. Age. early Eocene, Zone CP10. Flora. Abundant flora has Coccolithus pelagicus. Discoaster barbadiensis. D. binodosus, D. lodoensis. Ellipsolithus macellus. Lophodolithus reniformis. Sphenolithus radians. Transversopontis pulcher, Tribrachiatus orthostylus and Zygrhablithus bijugatus.\n",
      "\n",
      "Output:  {\n",
      "\"Northeast side of Havens Neck\": [\"red mudstone\", \"Paleocene part of German Rancho Formation\", \"Chiasmolithus consuetus\", \"Coccolithus pelagicus\", \"Sphenolithus radians\", \"Transversopontis pulcher\", \"Tribrachiatus orthostylus\", \"Zygrhablithus bijugatus\"],\n",
      "\"7 ft stratigraphically above Northeast side of Havens Neck\": [\"olive gray mudstone\", \"Coccolithus pelagicus\", \"Discoaster barbadiensis\", \"D. binodosus\", \"D. lodoensis\", \"Ellipsolithus macellus\", \"Lophodolithus reniformis\"]\n",
      "}\n",
      "========================================================================================================================================================================================================\n",
      "Input: 5. Quartzite; lower 10 ft thin-bedded and 1 greenish, followed by two or three very massive ledges of medium-grained, palegreenish, quartzose quartzite, without feldspar, weathering pink. According to TVA report this bed lies unconformably on and truncates beds beneath, thinning by overlap in places to 35 ft. Forms very prominent ledge _________________ 55\n",
      "4. Covered by talus; according to TVA report, consists of medium to fine-grained, medium-bedded dark-gray quartzite_____\n",
      "Unicoi formation Continued Upper division Continued 3. Quartzite, medium-grained, gray to darkgray; mostly rounded quartz grains, but with some pink feldspar grains and rare rounded quartz pebbles as much as onefourth inch in diameter; some limonite flecks; forms beds 2 to 5 ft thick, but with thinner beds at top; laminae and crossbeds within the layer. Covered by talus on east side of river, but forms fairly strong ledges on west side_________ Lower division: 2. Not exposed. According to TVA report consists of fine-grained, medium-bedded, darkgreenish-gray quartzite, with arkose at top containing pink feldspar pebbles, and a 12-ft bed at base consisting of dense, hard, dark-greenish-gray sandy shale, with many chlorite-coated slickensided surfaces. King suggests that this basal bed may be an altered tuff___________________ 1. Quartzite, medium-grained, pale-greenishgray, vitreous; with a few grains of feldspar, in part laminated and crossbedded, in 1- to 2-ft beds, with some thinner beds between; top forms a sharp contact with beds above.\n",
      "\n",
      "Output:  {\n",
      "\"unexposed location\": [\"fine-grained, medium-bedded, darkgreenish-gray quartzite\", \"arkose at top containing pink feldspar pebbles\", \"12-ft bed at base consisting of dense, hard, dark-greenish-gray sandy shale\", \"many chlorite-coated slickensided surfaces\"],\n",
      "\"location on west side of river\": [\"Quartzite, medium-grained, gray to darkgray; mostly rounded quartz grains, but with some pink feldspar grains and rare rounded quartz pebbles as much as onefourth inch in diameter\", \"some limonite flecks\", \"forms beds 2 to 5 ft thick, but with thinner beds at top\", \"laminae and crossbeds within the layer\"],\n",
      "\"location on east side of river\": [\"Quartzite; lower 10 ft thin-bedded and 1 greenish\"]\n",
      "}\n",
      "========================================================================================================================================================================================================\n",
      "Input: The Grindstone terrane contains some of the oldest rock units in the Blue Mountains province and includes (1) Middle Devonian limestone interstratified with sandstone, chert, and argillite; (2) Mississippian limestone surrounded by, and intermixed with, calcareous and conglomeratic sandstone (Coffee Creek Formation of Merriam and Berthiaume, 1943); (3) Pennsylvanian? mudstone, sandstone, and conglomerate containing plant remains and minor limestone (Spotted Ridge Formation of Merriam and Berthiaume, 1943); (4) Lower Permian, partly fusulinacean-, brachiopod-, and bryozoan-bearing, volcaniclastic and dolomitic limestone (Coyote Butte Formation of Merriam and Berthiaume, 1943); (5) Permian and Lower Triassic, radiolarian-bearing, multicolored chert and dark mudstone; and (6) Upper Permian and Triassic, volcaniclastic sandstone and siltstone, limestone breccia, and pebble to boulder conglomerate (clasts containing Lower Permian fusulinaceans and Permian and Lower Triassic radiolarians).\n",
      "\n",
      "Output:  {}\n",
      "\n",
      "The given paragraph does not mention any specific locations. It describes different rock units and formations found in the Grindstone terrane of the Blue Mountains province, but it does not specify where these units are located.\n",
      "========================================================================================================================================================================================================\n",
      "Input: 1. Drilled well, 148 ft deep, Prentiss, Jefferson Davis Count• Miss. In clay of Hattiesburg Formation of Miocene age. Unpublished ata in U.S. Geol. Survey files; analyst, E. Zitnik.\n",
      "2. Spring, Park Lake, Fleming County,.Ky. From Ohio Shale of Devonian age. Unpublished data in U.S. Geol. Survey files; analysts, J. A. Shaughnessy and J. E. Whitney.\n",
      "B. Drilled well, 300 ft deep, Wyckoff, Bergen County, N.J. In Brunswick Shale of Triassic age. Unpublished data in U.S. Geol. Survey files; analyst, D. E. Weaver.\n",
      "4. Spring, one-quarter mile southeast of Sheaville, ser. 24, T. 28 S., R. 46 E., Malheur County, Oreg. From tuffaceous clay of Miocene age. Unpublished data in U.S. Geol. Survey files; analyst, R. A. Wilson.\n",
      "\n",
      "Output:  {\n",
      "\"Prentiss, Jefferson Davis Count• Miss\": [\"Hattiesburg Formation of Miocene age\"],\n",
      "\"Park Lake, Fleming County,.Ky\": [\"Ohio Shale of Devonian age\"],\n",
      "\"Wyckoff, Bergen County, N.J\": [\"Brunswick Shale of Triassic age\"],\n",
      "\"one-quarter mile southeast of Sheaville, ser. 24, T. 28 S., R. 46 E., Malheur County, Oreg\": [\"tuffaceous clay of Miocene age\"]\n",
      "}\n",
      "========================================================================================================================================================================================================\n",
      "Input: The Parkland Sand is a well sorted, mediumgrained sand that was blown from the glacial outwash and beach deposits into dunes and sheet-like deposits around the dunes (Willman, 1971, p. 50). The Parkland Sand is found along the Toleston Beach Ridge, the western flank of Blue Island, and at the Indiana Dunes National Lakeshore (figs. 3, 4). The Parkland Sand is equivalent to the dune facies of the Atherton Formation in Indiana (Shaver and others, 1970, p. 7).\n",
      "The glacial sluiceway eroded into, and in some areas through, the till along the path of the Calumet Sag Channel and was filled with fluvial sand and gravel deposits (fig. 3). These sands and gravels have a maximum thickness of about 25ft (fig. 8). Glacial outwash deposits of sand and gravel also are along the path of the Little Calumet River in parts of Indiana (fig. 3). Outwash and sluiceway deposits are part of the Martinsville Formation described by Shaver and others (1970, p. 107).\n",
      "\n",
      "Output:  {\n",
      "\"Toleston Beach Ridge\": [\"Parkland Sand\"],\n",
      "\"western flank of Blue Island\": [\"Parkland Sand\"],\n",
      "\"Indiana Dunes National Lakeshore\": [\"Parkland Sand\"],\n",
      "\"path of the Calumet Sag Channel\": [\"fluvial sand and gravel deposits\", \"till\"],\n",
      "\"parts of Indiana\": [\"glacial outwash deposits of sand and gravel\", \"Martinsville Formation\"]\n",
      "}\n",
      "========================================================================================================================================================================================================\n",
      "Input: Quaternary Terrace and Alluvium Cloud Chief Formation Rush Springs Formation Marlow Formation (Modified from Bingham and Moore, 1983; Hart, Jr., 1983; Carr and Bergman, 1976; Havens, 1977; Morton, 1980)\n",
      "10 20 KILOMETERS Figure 7. Surficial geologic units in the Rush Springs study area. 10 Hydrogeology, water quality, and geochemistry of the Rush Springs aquifer\n",
      "Hydrographs of ground-water levels indicate that climatic conditions such as droughts and periods of higher than normal precipitation affect the overall water levels in the Rush Springs aquifer. Daily average water levels from 1947 through 1996 plotted with total precipitation for climatic division 4 (fig. 9) show the effects of daily changes in water levels in response to precipitation for a site in central Caddo County. Hydrographs of annual water-level measurements (fig. 10) show the magnitude of annual water-level changes. Water-level fluctuations measured in well 10N-12W-31 DDB2 from 1988-1990 (fig. 10) are quarterly measurements and the steep declines and recoveries are probably the result of seasonal irrigation withdrawals.\n",
      "\n",
      "Output:  {}\n",
      "\n",
      "The paragraph provided does not mention any specific locations other than a general reference to central Caddo County. Additionally, it discusses hydrogeology, water quality, and geochemistry of the Rush Springs aquifer, but it does not associate any geological entities with specific locations. Therefore, an empty dictionary is returned.\n",
      "========================================================================================================================================================================================================\n",
      "Input: Fig. 7 shows the selected spatial subset scene covering the Bau gold mining district and surrounding terrain. Iron oxides are illustrated as iron rich zones or gossan in purple and moderate iron oxides soils or laterites in light green. Most of the detected iron oxides zones in Fig. 7 are moderate iron oxide soils or laterites especially in the center parts of the image, where there is no reported prospect or mineralized area.\n",
      "Several well-known prospects such as Jugan, Bukit Sarin, Sirenggok, Jumbusan and Kapor are associated with iron-rich rocks or gossan, which are indicated by numbers in Fig. 7. Potentially interesting areas have also been detected in the northeastern and southeastern parts of the scene. Prior to the opening of the pit of the gold deposits in the Bau area, the mining areas were covered by iron-rich rocks or gossan, which presented the surficial expression (Schuh, 1993). Fig. 8 shows the association of gossan with the surficial exposure of the Jugan prospects. Bau gold deposits occur near or adjacent to areas of silicification and argillically altered zones in the Bau Limestone and the Pedawan Formation. The alteration mineralogy includes kaolinite, dickite, illite, minor sericite, calcite, quartz, marcasite, and pyrite. Iron oxides are prevalent in the weathered altered rocks (Percival et al., 1990).\n",
      "\n",
      "Output:  {\n",
      "\"Bau gold mining district\": [\"iron oxides\", \"silicification\", \"argillically altered zones\", \"kaolinite\", \"dickite\", \"illite\", \"sericite\", \"calcite\", \"quartz\", \"marcasite\", \"pyrite\", \"iron oxides\"],\n",
      "\"Jugan\": [\"iron-rich rocks or gossan\", \"gossan\", \"surficial expression\"],\n",
      "\"Bukit Sarin\": [\"iron-rich rocks or gossan\"],\n",
      "\"Sirenggok\": [\"iron-rich rocks or gossan\"],\n",
      "\"Jumbusan\": [\"iron-rich rocks or gossan\"],\n",
      "\"Kapor\": [\"iron-rich rocks or gossan\"],\n",
      "\"northeastern parts of the scene\": [\"potentially interesting areas\"],\n",
      "\"southeastern parts of the scene\": [\"potentially interesting areas\"]\n",
      "}\n",
      "========================================================================================================================================================================================================\n",
      "Input: The less pronounced size sorting observed in the Salem limestones when compared to the echinoderm-bearing sandstones may be explained by the composition of the\n",
      "Crinoid columnal taphonomy 153 .Big Clifty Sandstone . ., . ,-I 1r _ r .\n",
      "Fig. 9. Size distribution (maximum diameter) of quartz grains and echinoderm grains in the same thin section from (A) the Elwren Sandstone (Mississippian)and (B) the Big Clifty Formation (Mississippian)near Sulfur, Indiana, and size distribution of echinoderm and non-echinoderm grains in two thin sections (C, D) from the Salem Limestone(Mississippian)near Oolitic, Indiana. Big Clifty and Elwren data based on 300 points counted for quartz and 141 and 150 points counted for echinoderms.Salem data based on 100 points counted for both echinoderms and non-echinoderms.\n",
      "\n",
      "Output:  {\n",
      "\"Sulfur, Indiana\": [\"Elwren Sandstone\", \"Big Clifty Sandstone\"],\n",
      "\"near Oolitic, Indiana\": [\"Salem Limestone\"]\n",
      "}\n",
      "========================================================================================================================================================================================================\n",
      "Input: The matrix bitumen contains significant micro- and mesoporous volumes due to further decomposition through secondary cracking. Matrix bitumen is the dominating organic matter within the Eagle Ford reservoir and FE-SEM and BSE analyses confirm that the dominating pore sizes (b 10 nm) identified by gas adsorption analyses are associated with the organic matter decomposition and subsequent “intergranular” pore development within the fine-grained “framework” of micrite grains (nano- and microfossil fragments). 4) Foraminifera are the dominant clast within the mudrock and do not directly influence the pore size distribution of the reservoir but do affect the organic matter volumes by reducing the organic-rich matrix volumes and associated porosity. 5) Unlike the Eagle Ford Formation in Tyler County (Siemers, 1978), no turbiditic sand bodies occur in the studied core in Karnes County, even though this well is located in a similar palaeogeographic location with respect to the continental slope. The Eagle Ford Formation does show a subtle change in mineralogy, texture and PSD that may signify the change from TST to HST. Although this core does not include turbiditic sands, the presence of grading beds, the greater influx of plagioclase, quartz and calcite and the reduction in bioclasts and peloids does suggest that area may have seen the distal toe sets of turbiditic sands at the transition from TST to HST.\n",
      "\n",
      "Output:  {\n",
      "\"Eagle Ford reservoir\": [\"matrix bitumen\", \"organic matter\"],\n",
      "\"mudrock\": [\"Foraminifera\"],\n",
      "\"studied core in Karnes County\": [\"turbiditic sand bodies\"],\n",
      "\"the area at the transition from TST to HST\": [\"grading beds\", \"plagioclase\", \"quartz\", \"calcite\", \"bioclasts\", \"peloids\"]\n",
      "}\n",
      "========================================================================================================================================================================================================\n",
      "Input: New Mexico-Texas :Frenzel, H.N., 1. Quirke group, Precambrian, Ontar- io, new: Roscoe, S. M., 2. Ralston Creek formation, Jurassic,\n",
      "Colorado: Van Horn, R., 2, 3. Ralston formation, Jurassic, Colo- rado: Frederickson, E. A., 3. Rapides shale, Cretaceous, Louisi- ana, new: Forgotson, J. M.\n",
      "GEOLOGIC FORMATIONS - Cont. Raritan formation. Cretaceous, New Jersey: Dorf, E., 2. Raton formation, Paleocene( ?), Colorado: Harbour, R. L., 2. Rattlesnake formation. Pliocene, Oregon, tuff member: Thayer, T. P., 6. Ravenscrag formation, Paleocene, Saskatchewan: Kupsch, W.Q, 7. Tertiary, Saskatchewan:Furnival, G. M. Read Bay formation, Silurian, Northwest Territories :Thorsteinsson, R., 5. Reclamation group, Pennsylvanian, Wyoming, new: Condra, G. E., 1. Rector formation, Cretaceous, California:Murphy, M. A., 1. Red Cloud sand and gravel, Pleistocene, Nebraska :Schultz, C. B., 4. Red Eagle formation, Permian, Kansas: O 1 Connor, H. G., 3. Red River formation, Ordovician, Manitoba:Andrichuk, J.M., 10. Manitoba, revised: Sinclair, G. W., 16. Redfield formation. Eocene, Arkansas, new: Wilbert, L.J., Jr., 2. Redoak Mtn. group, Pennsylvanian, Tennessee: Wilson, C. W.,Jr., 8. Redwall limestone, Mississippian, Arizona: Huddle, J. W., 2; McKee, E. D.,15. Reelsville limestone, Mississippian, Indiana: Gray, H. H., 2. Reno formation, Precambrian(?), British Columbia: Mathews, W. H., 7. Repetto formation, Pliocene, California: Durham, D. L. Retreat group, Triassic(?)-Cretaceous(?), Alaska:Barker, F., 1.\n",
      "\n",
      "Output:  {\n",
      "\"Ontario\": [\"Quirke group\", \"Precambrian\"],\n",
      "\"New Mexico-Texas\": [\"Ralston Creek formation\", \"Jurassic\"],\n",
      "\"Colorado\": [\"Ralston formation\", \"Jurassic\", \"Rapides shale\", \"Cretaceous\"],\n",
      "\"Louisiana\": [\"Rapides shale\", \"Cretaceous\"],\n",
      "\"New Jersey\": [\"Raritan formation\", \"Cretaceous\"],\n",
      "\"Northwest Territories\": [\"Read Bay formation\", \"Silurian\"],\n",
      "\"Wyoming\": [\"Reclamation group\", \"Pennsylvanian\"],\n",
      "\"California\": [\"Rector formation\", \"Cretaceous\", \"Redoak Mtn. group\", \"Pennsylvanian\", \"Retreat group\", \"Triassic(?)-Cretaceous(?)\"],\n",
      "\"Nebraska\": [\"Red Cloud sand and gravel\", \"Pleistocene\"],\n",
      "\"Kansas\": [\"Red Eagle formation\", \"Permian\"],\n",
      "\"Manitoba\": [\"Red River formation\", \"Ordovician\"],\n",
      "\"Saskatchewan\": [\"Ravenscrag formation\", \"Paleocene\", \"Tertiary\"],\n",
      "\"Arkansas\": [\"Redfield formation\", \"Eocene\"],\n",
      "\"Tennessee\": [\"Redoak Mtn. group\", \"Pennsylvanian\"],\n",
      "\"Arizona\": [\"Redwall limestone\", \"Mississippian\"],\n",
      "\"Indiana\": [\"Reelsville limestone\", \"Mississippian\"],\n",
      "\"British Columbia\": [\"Reno formation\", \"Precambrian(?)\"],\n",
      "\"Alaska\": [\"Retreat group\", \"Triassic(?)-Cretaceous(?)\"]\n",
      "}\n",
      "========================================================================================================================================================================================================\n",
      "Input: Barosh, P.J., Fahey, R.J., and Pease, M.H., Jr., 1977, Preliminary compilation of the bedrock geology of the land area of the Boston 2° sheet, Massachusetts, Connecticut, Rhode Island, and New Hampshire: U.S. Geological Survey Open-File Report 77-285, 142 p., 1 pi., scale 1:125,000.\n",
      "Bell, K.G., and Alvord, D.C., 1976, Pre-Silurian stratigraphy of northeastern Massachusetts, in Page, L.R., ed., Contributions to the stratigraphy of New England: Geological Society of America Memoir 148, p. 179-216.\n",
      "Berry, H.N., IV, 1985, The Silurian Smalls Falls Formation in southcentral Massachusetts and adjacent Connecticut [abs.]: Geological Society of America Abstracts with Programs, v. 17, no. 1, p. 4.\n",
      "\n",
      "Output:  {}\n",
      "\n",
      "The paragraph does not provide any specific locations, but instead references several geology reports and publications. The first report by Barosh, Fahey, and Pease covers the bedrock geology of a region including parts of Massachusetts, Connecticut, Rhode Island, and New Hampshire. The second reference by Bell and Alvord discusses the pre-Silurian stratigraphy in northeastern Massachusetts. The third abstract by Berry focuses on the Silurian Smalls Falls Formation in southcentral Massachusetts and adjacent Connecticut. However, without specific details or quotes from these sources, it's impossible to accurately associate geological entities with particular locations.\n",
      "========================================================================================================================================================================================================\n",
      "Input: Rose´ measured the 24.4-m (80-ft.) section near Sand Point in Alger County, Michigan (NW 1/4, SW1/4, NE1/4, sec. 30, T47N, R19W, Indian Town 7.5 Minute Quadrangle; Figs. 1, 2). He referred the lower 13.7 m (43 ft.) of the section to the upper Miners Castle Member of the Munising Formation and the remaining 10.7 m (35 ft.) to the lower Au Train Formation. The contact between these units was placed at the change from massive beds of crossstratified, burrowed sandstone (assigned to the Munising) to mostly thinner beds of glauconitic, pyritic, and dolomitic sandstone; sandy dolostone; and intraformational conglomerate (assigned to the Au Train).\n",
      "\n",
      "Output:  {\n",
      "\"Sand Point, Alger County, Michigan\": [\"NW 1/4, SW1/4, NE1/4, sec. 30, T47N, R19W\", \"Indian Town 7.5 Minute Quadrangle\", \"Miners Castle Member of the Munising Formation\", \"Au Train Formation\"]\n",
      "}\n",
      "\n",
      "The locations mentioned in the paragraph are \"Sand Point, Alger County, Michigan\" and several sections/townships in the county (NW 1/4, SW1/4, NE1/4, sec. 30, T47N, R19W). The geological entities associated with these locations include the \"Miners Castle Member of the Munising Formation\" and the \"Au Train Formation\", as well as various rock types such as sandstone, dolomitic sandstone, and intraformational conglomerate.\n",
      "========================================================================================================================================================================================================\n",
      "Input: At Campur, the rudist limestones of the Campur Formation are early Campanian in age and not Coniacian–Campanian, as indicated by Vinson (1962). Although, the rudist limestones with alveolinids in the Southern Pete´n Basin are of late Campanian–Maastrichtian age. The assignment of these younger limestones to the Campur Formation, as has been done by some authors (cf. above), is not justified. It is not possible, therefore, to refer to the Campur Formation in the Southern Pete´n Basin.\n",
      "The rudist and alveolinid limestones of the Southern Pete´n Basin are the same age, consist of the same lithologies and contain the same fossils as the limestones of the Angostura Formation in Chiapas. Moreover, they form part of the same carbonate platform. We propose, therefore, to attribute these limestones to the Angostura Formation. It appears that the upper Campanian–Maastrichtian platform carbonates of the Angostura Formation in the Southern Pete´n Basin can be correlated with the siliciclastic deposits of the lower part of the Sepur Formation that accumulated in a foredeep basin in central Guatemala (Figure 3).\n",
      "\n",
      "Output:  {\n",
      "\"Campur\": [\"Campur Formation\", \"rudist limestones\"],\n",
      "\"Southern Pete'n Basin\": [\"rudist limestones with alveolinids\", \"limestones of the Angostura Formation\", \"carbonate platform\"],\n",
      "\"Chiapas\": [\"limestones of the Angostura Formation\"],\n",
      "\"central Guatemala\": [\"siliciclastic deposits of the lower part of the Sepur Formation\"]\n",
      "}\n",
      "========================================================================================================================================================================================================\n",
      "Input: section intercepted by wells, on the western margin of the basin, revealed aggradational units represented by channels and point bar facies, progressive channel abandonment and flood plain and crevasse splay facies related to run off events (Fig. 4I). This sequence constitutes the topmost strata of the Jaicós Formation interpreted by Cruz (2016) as related to a normal regression in a highstand system tract (HST).\n",
      "The boundary of this sequence (called SB-B – Fig. 2) was mapped using data from regional correlation sections as presented by Della Fávera (1990) and Vaz et al. (2007). The sequence boundary was depicted in one well log (Fig. 4I). It is a widespread unconformity regionally marking the contact between the Silurian to latest Pragian Jaicós Formation and the overlying Itaim Formation (Caputo et al., 2006). On the western side of the basin (intercepted by the well ARN1-TO), it is punctuated by successive Sc medium-grained sandstones, fining upward to red mudstones and with thin sets of coarse-grained conglomeratic sandstones with quartz and white sandstone pebbles, iron rich sediments (possible weathered iron crusts) that are recovered by marine heteroliths of the transition zone lower shoreface/offshore facies with red rip-up clasts of the underlying iron concretions. This boundary represents an erosive and sub-parallel contact separating fluvial sediments from inner shelf sediments (Fig.\n",
      "\n",
      "Output:  {\n",
      "\"western margin of the basin\": [\"aggradational units represented by channels and point bar facies\", \"progressive channel abandonment and flood plain and crevasse splay facies\", \"run off events\", \"normal regression in a highstand system tract (HST)\", \"SB-B\", \"contact between the Silurian to latest Pragian Jaicós Formation and the overlying Itaim Formation\"],\n",
      "\"well ARN1-TO\": [\"Sc medium-grained sandstones\", \"red mudstones\", \"coarse-grained conglomeratic sandstones with quartz and white sandstone pebbles\", \"iron rich sediments (possible weathered iron crusts)\", \"marine heteroliths of the transition zone lower shoreface/offshore facies\", \"red rip-up clasts of the underlying iron concretions\", \"erosive and sub-parallel contact separating fluvial sediments from inner shelf sediments\"]\n",
      "}\n",
      "========================================================================================================================================================================================================\n",
      "Input: The only direct age control on the lower member of the Peale Formation comes from the lenses of limestone interbedded with lapilli tuff on Peel Ridge (loc. 16) and at\n",
      "Fraizer Falls (loc. 17). Conodonts from the limestone lenses are indicative of the Siphonodella isosticha-Vpper S. crenulata zone of the Early Mississippian (late Kinder-\n",
      "18 Stratigraphy of Paleozoic and Lower Mesozoic Rocks in the Northern Sierra Terrane, California hookian) (A.G. Harris, written commun., 1984; K.E. Denkler, written commun., 1985). However, the age of the lower member can be no older than Late Devonian (midFamennian), based on fossils from the underlying Sierra Buttes Formation, and no younger than mid-Mississippian (Osagean), based on radiolarians obtained from the overlying chert member. Thus, the age of the lower member is regarded as Early Mississippian (Kinderhookian) in this report (fig. 5).\n",
      "\n",
      "Output:  {\n",
      "\"Peel Ridge (loc. 16)\": [\"limestone lenses\", \"Siphonodella isosticha-Vpper S. crenulata zone of the Early Mississippian\"],\n",
      "\"Fraizer Falls (loc. 17)\": [\"limestone lenses\", \"Siphonodella isosticha-Vpper S. crenulata zone of the Early Mississippian\"],\n",
      "\"the underlying Sierra Buttes Formation\": [\"Late Devonian (midFamennian) fossils\"],\n",
      "\"the overlying chert member\": [\"mid-Mississippian (Osagean) radiolarians\"]\n",
      "}\n",
      "========================================================================================================================================================================================================\n",
      "Input: The Bermeja Complex of Jurassic to Early Cretaceous age (Schellekers and others, 1990) consists primarily of serpentinite, amphibolite, basalt, and chert. It is highly deformed and metamorphism has destroyed most primary textures, bedding, and lithological reactions. It is most extensively exposed in the southern part of the Lajas region in the Sierra Bermeja.\n",
      "The basement rock under the central Valle de Lajas is igneous rock (quartz diorite or andesite; Graves, 1991). The volcanic, volcaniclastic, plutonic, and sedimentary rocks outcrop on the ridges to the north of the valley (Volckmann,1984a).\n",
      "Limestone of Tertiary and Cretaceous age and quartz sand deposits of Tertiary age are found locally in the surrounding ridges. The limestone deposits described by Volckmann (1984a) in the Lajas region are the Guanajibo Formation, Ponce Limestone, Sabana Grande Formation, Cotuf Limestone, Melones Limestone, and the Parguera Limestone. The quartz sand deposits consist of extremely angular, moderately sorted, quartz grains and minor amounts of hematite, limonite, or clay.\n",
      "\n",
      "Output:  {\n",
      "\"Southern part of the Lajas region in the Sierra Bermeja\": [\"Bermeja Complex\", \"serpentinite\", \"amphibolite\", \"basalt\", \"chert\"],\n",
      "\"central Valle de Lajas\": [\"igneous rock\", \"quartz diorite\", \"andesite\"],\n",
      "\"ridges to the north of the valley\": [\"volcanic rocks\", \"volcaniclastic rocks\", \"plutonic rocks\", \"sedimentary rocks\"],\n",
      "\"surrounding ridges\": [\"Tertiary and Cretaceous limestone\", \"Tertiary quartz sand deposits\"]\n",
      "}\n",
      "========================================================================================================================================================================================================\n",
      "Input: Triassic \"fiu. Ankareh Formation (Upper and Lower Triassic) and Thaynes, Woodside, Red Peak, and Dinwoody Formations (Lower Triassic)—Ankareh is fluviatile and lacustrine in upper part.\n",
      "\"fis. . Spearfish Formation (part)— Red sandy shale, siltstone, and sandstone; beds of massive white gypsum in lower half.\n",
      "youngest beds under and the oldest beds over the unconfor­ mity anywhere within the area in which the unconformity occurs; (2) determining the European stages represented by these stratigraphic units as recognized in the Western Interior United States by Imlay (1947, 1952a, 1952b, 1956, 1964, 1968, 1973) and by Reeside and others (1957); and (3) using the time values assigned to the stages in the Phanerozoic time scale as summarized by the Geological Society of London (1964, p. 261) and as modified for the\n",
      "\n",
      "Output:  {}\n",
      "\n",
      "This paragraph does not mention any specific locations. It discusses various geological formations and their characteristics, but it does not specify where these formations are located.\n",
      "========================================================================================================================================================================================================\n",
      "Input: Extensive stromatolitic carbonate platforms developed during and after the Palaeoproterozoic Great Oxidation Event (GOE), which records a significant increase of oxygen in the atmosphere and oceans. Stromatolites link biological and non-biological processes through their microscopic organo-sedimentary structures that have the potential to provide information about microbial and diagenetic processes that operate during their formation. This study aims to document the mineralogy and organic geochemistry of microscopic diagenetic structures in the exceptionally-preserved late Palaeoproterozoic stromatolitic dolomite from the McLeary Formation of the Belcher Islands, in Nunavut, Canada. This is done to test the hypothesis that chemically oscillating reactions can influence the formation of diagenetic spheroids such as rosettes, granules, concretions, and botryoids; these reactions occur over short timescales during diagenesis, i.e. before the lithification of the sediment. Decimetresize columnar stromatolites from the McLeary Formation contain centimetre-size pyrite concretions, which themselves also contain framboids. Inside rounded, black chert concretions and coarse quartz granules, there are filamentous microfossils composed of organic matter partly replaced by pyrite. These observations are consistent with post-depositional oxidation–reduction reactions involving organic matter and sulphate. In comparison, decimetre-size tabular bioherms of millimetre-to-centimetre size stromatolite columns contain microscopic dolomitic carbonate structures including circularly-concentric rosettes, zoned dolomite rhombs, and cavity structures of rounded equidistant laminations, all of which are layered with organic matter.\n",
      "\n",
      "Output:  {\n",
      "  \"Belcher Islands, Nunavut, Canada\": [\n",
      "    \"stromatolitic dolomite\",\n",
      "    \"microscopic diagenetic structures\",\n",
      "    \"Palaeoproterozoic stromatolites\",\n",
      "    \"centimetre-size pyrite concretions\",\n",
      "    \"filamentous microfossils composed of organic matter partly replaced by pyrite\",\n",
      "    \"rounded, black chert concretions\",\n",
      "    \"coarse quartz granules\"\n",
      "  ],\n",
      "  \"decimetrise columnar stromatolites\": [\n",
      "    \"centimetre-size pyrite concretions\",\n",
      "    \"framboids\"\n",
      "  ],\n",
      "  \"decimetre-size tabular bioherms\": [\n",
      "    \"millimetre-to-centimetre size stromatolite columns\",\n",
      "    \"microscopic dolomitic carbonate structures\",\n",
      "    \"circularly-concentric rosettes\",\n",
      "    \"zoned dolomite rhombs\",\n",
      "    \"cavity structures of rounded equidistant laminations\",\n",
      "    \"organic matter\"\n",
      "  ]\n",
      "}\n",
      "========================================================================================================================================================================================================\n",
      "Input: The Parnaiba Basin covers an area of approximately 600,000 sq. km in northeast Brazil (Text-Figure 1). It is delimited by the Tocantins and Ferrer/Urbano Santos highs in the north, and by the Sao Francisco High in the south. The geological development of the Parnaiba Basin during the Silurian and Devonian was probably similar to that in the Amazonas Basin, although the lithologies in the former indicate shallower water in the Silurian.\n",
      "The first positive evidences for Silurian rocks in the Parnaiba Basin were a palynological study by Miiller (1962), and a specimen of Arthrophycus sp. tentatively identified by Moore (1963) in the basal part of the Serra Grande Formation (Small, 1914 sensu Kegel, 1953). Arthrophycus was at the time known in Brazil only from Silurian beds in the Amazonas Basin (Derby, 1878; Clarke, 1899a). Brito (1967c) described Silurian acritarchs from what he thought to be the Itaim Member (later Jaicds and Itaim formations) of the Pimenteira Formation. Lange (1972) considered the Serra Grande Formation to be contemporaneous with the Trombetas Formation in the Amazonas Basin. Besides, he doubted that the acritarchs described by Brito (1967c) really came from the Itaim. Investigations by Daemon (1976) and Grahn (1991) indicate the presence of Silurian spores and acritarchs in the Tiangua Formation, defined by Rodrigues (1967) as a member of the Serra Grande Formation that overlies the Ipu and underlies the Jaic6s Formation.\n",
      "\n",
      "Output:  {\n",
      "\"Parnaiba Basin\": [\"Silurian and Devonian geological development\", \"Tocantins and Ferrer/Urbano Santos highs\", \"Sao Francisco High\", \"Serra Grande Formation\", \"Itaim Member\", \"Jaicds and Itaim formations\", \"Pimenteira Formation\", \"Tiangua Formation\", \"Ipu\"],\n",
      "\"Amazonas Basin\": [\"Silurian rocks\", \"Arthrophycus sp.\", \"Silurian beds\", \"acritarchs\"],\n",
      "\"Trombetas Formation\": [\"contemporaneous with the Serra Grande Formation\"]\n",
      "}\n",
      "========================================================================================================================================================================================================\n",
      "Input: More rarely, calcite replaces dolomite euhedra formed during the first stage of dolomitization. This calcite retains the rhombohedral shape of the dolomite and contains iron oxides which occur as rhombohedral frames that outline the original dolomite euhedra or occur within them, similar to iron oxides associated with similar calcite pseudomorphs reported by Folkman (1969).\n",
      "Experimental work in the laboratory (Groot, 1967) and most petrographic observations (Schmidt, 1965; Evamy, 1967; Goldberg, 1967; Folkman, 1969) indicate that calcitization of doIomite may be related to weathering surfaces that may either be ancient or modern. The reaction is brought about by interstitial waters with high Ca/Mg ratios and low partial pressure of carbon dioxide that react with dolomite to form calcium carbonate. There is no evidence for an ancient unconformity between the Swope Formation and overlying detrital sediments, indicating that the calcitizatlon probably occurred during the Holocene.\n",
      "\n",
      "Output:  Based on the given paragraph, there are two locations and associated geological entities mentioned:\n",
      "\n",
      "{\n",
      "  \"laboratory\": [\"calcitization of dolomite\", \"interstitial waters with high Ca/Mg ratios and low partial pressure of carbon dioxide\"],\n",
      "  \"Swope Formation\": [\"dolomite\", \"overlying detrital sediments\"]\n",
      "}\n",
      "========================================================================================================================================================================================================\n",
      "Input: The overlying Cahuasas Formation (Carrillo-Bravo, 1965, p. 87-38), formerly included in the Huizachal Formation (Imlay, Cepeda, and others, 1948, p. 17551757; Erben, 1956a, p. 31-34, 1956b, p. 9-12), rests with angular unconformity on the Huayacocotla Forma­ tion. The Cahuasas is overlain disconformably by the Santiago Formation or in places by the Taman Forma­ tion, is locally absent within its area of distribution, is more extensive in the subsurface than the Huayacocotla Formation (Lopez Ramos, 1972, compare sections CC to FF),and is dated as Bajocian to Bathonianon the basis of stratigraphic and structural relationships. The Cahuasas Formation must be older than Callovian because in out­ crops it lies disconformably below beds of early to middle Callovian Age (Erben, 1956b, p. 12; Carrillo Bravo, 1965, p. 88; Cantii Chapa, 1971, p. 36), and in the subsurface it probably underlies beds of latest Bathonian Age (Cantii Chapa, 1969, p. 4, 5). The Cahuasas must be younger than Toarcian because in the Pemex-Comales test well 102, about 75 km south-southeast of Tampico, it passes downward into beds containing plant species identical with species that in Oaxaca occur in the upper part of the Rosario Formation, which part is dated as early Mid­ dle Jurassic (Erben, 1957a, p. 45; 1956a, p. 137).\n",
      "\n",
      "Output:  {}\n",
      "\n",
      "This paragraph does not mention any specific locations. It discusses various geological formations and their relationships to each other, but it does not specify where these formations are found.\n",
      "========================================================================================================================================================================================================\n",
      "Input: Formation was not deeply buried before the event since in zones 1 to 3 its material was largely reworked in the matrix of the Ayabacas Formation. However, large lithified blocks derived from the Angostura and Huancané formations and from Palaeozoic strata (up to 100s of m\n",
      "P. Callot et al. / Sedimentary Geology 212 (2008) 49–69 in length and width, and up to several 10s of m in stratigraphic thickness; Callot et al., 2008) are notably observed in the collapse unit within 30 km on both sides of the SFUACC fault system. Rounded clasts of the Mitu Formation (Permian–Trias) are also locally observed in the Ayabacas Formation (Type-3 resedimentation facies, Section 3.1.3 above). The occurrence of such clasts and large blocks in the collapse unit implies that these pre-Ayabacas units were exposed to catastrophic erosion; it indicates that offset on the SFUACC fault system during the collapse was sufficient to expose those units (Fig. 16). The position of the large lithified rafts suggests that some of them were able to slide over several kilometres, probably supported by a slide sole.\n",
      "\n",
      "Output:  {\n",
      "\"within 30 km on both sides of the SFUACC fault system\": [\"Ayabacas Formation\", \"Angostura formation\", \"Huancané formations\", \"Palaeozoic strata\"],\n",
      "\"Ayabacas Formation\": [\"Mitu Formation (Permian–Trias)\"]\n",
      "}\n",
      "========================================================================================================================================================================================================\n",
      "Input: The Miocene sediments of southeastern Georgia record five major sea level rises across the continental shelf and into a low area that underlay eastern Georgia (the Waycross Basin and Gulf Trough of Figures V-3 and V-4) . The high sea-level stands are separated by intervening sea-level falls that produced recognizable unconformities under the shelf. The major phosphorite enrichment zones occur along these unconformities and can be traced the seismic stratigraphic data. The following observations are preliminary and are based on only three of the eight TACTS boreholes, plus restudied sections of earlier boreholes.\n",
      "The first major sea-level rise was a continuation of a rise that began in the late Oligocene (Chattian) , and continued with only a minor fall into the earliest Miocene (Aquitanian). During the late Oligocene, the continental shelf and a low area that constituted eastern and central Georgia were flooded by marine seas. During this flooding, the Suwannee Limestone was deposited across much of central Georgia and the more clastic Cooper Formation was deposited in eastern South Carolina. Following a slight fall of sea level at the close of the Oligocene, the rise continued and the Parachucla Formation of Georgia and Edisto Formation of South Carolina, both of Aquitanian age, were deposited in the seaway across southern and central Georgia.\n",
      "\n",
      "Output:  {\n",
      "\"continental shelf\": [\"Miocene sediments\", \"sea level rises\", \"unconformities\"],\n",
      "\"eastern and central Georgia\": [\"Suwannee Limestone\"],\n",
      "\"eastern Georgia (Waycross Basin and Gulf Trough)\": [\"major phosphorite enrichment zones\", \"Parachucla Formation of Georgia\"],\n",
      "\"southern and central Georgia\": [\"Edisto Formation of South Carolina\"],\n",
      "\"seaway across southern and central Georgia\": [\"Parachucla Formation of Georgia\", \"Edisto Formation of South Carolina\"]\n",
      "}\n",
      "========================================================================================================================================================================================================\n"
     ]
    }
   ],
   "source": [
    "def print_output(index: int, results: dict) -> None:\n",
    "    print(f\"Input: {results['input'][index]}\")\n",
    "    print()\n",
    "    print(f\"Output: {results['output'][index]}\")\n",
    "\n",
    "\n",
    "for i in range(30):\n",
    "    print_output(i, results)\n",
    "    print(\"=\" * 200)"
   ]
  }
 ],
 "metadata": {
  "kernelspec": {
   "display_name": "Python 3",
   "language": "python",
   "name": "python3"
  },
  "language_info": {
   "codemirror_mode": {
    "name": "ipython",
    "version": 3
   },
   "file_extension": ".py",
   "mimetype": "text/x-python",
   "name": "python",
   "nbconvert_exporter": "python",
   "pygments_lexer": "ipython3",
   "version": "3.11.6"
  }
 },
 "nbformat": 4,
 "nbformat_minor": 2
}
