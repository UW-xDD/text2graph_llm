{
 "cells": [
  {
   "cell_type": "code",
   "execution_count": null,
   "metadata": {},
   "outputs": [],
   "source": [
    "import os\n",
    "import pickle\n",
    "\n",
    "import pandas as pd\n",
    "\n",
    "from chtc.preprocess_extraction_direct import hard_reset, push, Triplets\n",
    "\n",
    "os.chdir(\"..\")"
   ]
  },
  {
   "cell_type": "code",
   "execution_count": null,
   "metadata": {},
   "outputs": [],
   "source": [
    "# Dump the data\n",
    "# df = export(\"triplets\")\n",
    "# df.to_parquet(\"backup.parquet.gzip\", compression=\"gzip\")\n",
    "\n",
    "df = pd.read_parquet(\"backup.parquet.gzip\")\n",
    "len(df)"
   ]
  },
  {
   "cell_type": "code",
   "execution_count": null,
   "metadata": {},
   "outputs": [],
   "source": [
    "# Purge the database and recreate with new schema\n",
    "hard_reset()"
   ]
  },
  {
   "cell_type": "code",
   "execution_count": null,
   "metadata": {},
   "outputs": [],
   "source": [
    "# Load the master ids list\n",
    "all_ids_pickle = \"geoarchive_paragraph_ids.pkl\"\n",
    "with open(all_ids_pickle, \"rb\") as f:\n",
    "    all_ids = pickle.load(f)\n",
    "\n",
    "# Split the ids into jobs\n",
    "n_jobs = (len(all_ids) // 2000) + 1\n",
    "job_ids = range(n_jobs)\n",
    "\n",
    "# Create a mapping from id to job_id\n",
    "id2job = {}\n",
    "for job_id in job_ids:\n",
    "    this_job_ids = all_ids[job_id * 2000 : (job_id + 1) * 2000]\n",
    "    id2job.update({i: job_id for i in this_job_ids})"
   ]
  },
  {
   "cell_type": "code",
   "execution_count": null,
   "metadata": {},
   "outputs": [],
   "source": [
    "# Append the job_id to the data\n",
    "triplets = []\n",
    "\n",
    "for row in df.iterrows():\n",
    "    data_pack = {\n",
    "        \"id\": row[1][\"id\"],\n",
    "        \"job_id\": id2job[row[1][\"id\"]],\n",
    "        \"hashed_text\": row[1][\"hashed_text\"],\n",
    "        \"paper_id\": row[1][\"paper_id\"],\n",
    "        \"triplets\": row[1][\"triplets\"],\n",
    "    }\n",
    "    triplets.append(Triplets(**data_pack))"
   ]
  },
  {
   "cell_type": "code",
   "execution_count": null,
   "metadata": {},
   "outputs": [],
   "source": [
    "from tqdm.auto import tqdm\n",
    "\n",
    "batch_size = 100\n",
    "for i in tqdm(range(0, len(triplets), batch_size)):\n",
    "    push(triplets[i : i + batch_size])"
   ]
  }
 ],
 "metadata": {
  "kernelspec": {
   "display_name": "Python 3",
   "language": "python",
   "name": "python3"
  },
  "language_info": {
   "codemirror_mode": {
    "name": "ipython",
    "version": 3
   },
   "file_extension": ".py",
   "mimetype": "text/x-python",
   "name": "python",
   "nbconvert_exporter": "python",
   "pygments_lexer": "ipython3",
   "version": "3.11.8"
  }
 },
 "nbformat": 4,
 "nbformat_minor": 2
}
