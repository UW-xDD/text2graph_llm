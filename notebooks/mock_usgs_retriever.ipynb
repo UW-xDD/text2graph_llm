{
 "cells": [
  {
   "cell_type": "code",
   "execution_count": 1,
   "metadata": {},
   "outputs": [
    {
     "data": {
      "text/plain": [
       "True"
      ]
     },
     "execution_count": 1,
     "metadata": {},
     "output_type": "execute_result"
    }
   ],
   "source": [
    "import logging\n",
    "import os\n",
    "\n",
    "import requests\n",
    "from dotenv import load_dotenv\n",
    "\n",
    "load_dotenv()"
   ]
  },
  {
   "cell_type": "markdown",
   "metadata": {},
   "source": [
    "Step 1: Call the Ask-xDD hybrid endpoint to get\n",
    "\n",
    "- `paper_id`\n",
    "- `preprocessor_id`\n",
    "- `hashed_text` (I treat this as paragraph id)"
   ]
  },
  {
   "cell_type": "markdown",
   "metadata": {},
   "source": [
    "Step 2: Gather extra information from xDD\n",
    "\n",
    "- publisher's URL"
   ]
  },
  {
   "cell_type": "code",
   "execution_count": 5,
   "metadata": {},
   "outputs": [],
   "source": [
    "class USGSRetriever:\n",
    "    \"\"\"This is a mockup for the USGS specific retriever.\"\"\"\n",
    "\n",
    "    def query_ask_xdd(self, query: str) -> dict:\n",
    "        \"\"\"Query the AskXDD API and return the response.\"\"\"\n",
    "\n",
    "        ASK_XDD_APIKEY = os.getenv(\"ASK_XDD_APIKEY\")\n",
    "        ASK_XDD_URL = os.getenv(\"ASK_XDD_URL\")\n",
    "        headers = {\"Content-Type\": \"application/json\", \"Api-Key\": ASK_XDD_APIKEY}\n",
    "        data = {\n",
    "            \"topic\": \"criticalmaas\",\n",
    "            \"question\": query,\n",
    "            \"top_k\": 1,\n",
    "        }\n",
    "\n",
    "        response = requests.post(ASK_XDD_URL + \"/hybrid\", headers=headers, json=data)\n",
    "        response.raise_for_status()\n",
    "        paragraph = response.json()[0]\n",
    "        paragraph[\"url\"] = self.get_url(paragraph[\"paper_id\"])\n",
    "        return paragraph\n",
    "\n",
    "    def get_url(self, paper_id: str) -> str | None:\n",
    "        \"\"\"Get the URL for a paper in the XDD database.\"\"\"\n",
    "\n",
    "        XDD_ARTICLE_ENDPOINT = os.getenv(\"XDD_ARTICLE_ENDPOINT\")\n",
    "        response = requests.get(f\"{XDD_ARTICLE_ENDPOINT}?docid={paper_id}\")\n",
    "        response.raise_for_status()\n",
    "\n",
    "        try:\n",
    "            data = response.json()[\"success\"][\"data\"]\n",
    "            # Return the first publisher link\n",
    "            for d in data:\n",
    "                links = d[\"link\"]\n",
    "                for link in links:\n",
    "                    if link[\"type\"] == \"publisher\":\n",
    "                        return link[\"url\"]\n",
    "            return links\n",
    "        except Exception as e:\n",
    "            logging.error(f\"Error getting URL for paper {paper_id}: {e}\")"
   ]
  },
  {
   "cell_type": "code",
   "execution_count": 6,
   "metadata": {},
   "outputs": [],
   "source": [
    "retriever = USGSRetriever()"
   ]
  },
  {
   "cell_type": "code",
   "execution_count": 7,
   "metadata": {},
   "outputs": [
    {
     "data": {
      "text/plain": [
       "{'paper_id': '55b7deb7e13823bd29ba840d',\n",
       " 'preprocessor_id': 'haystack_v0.0.2',\n",
       " 'doc_type': 'paragraph',\n",
       " 'topic_list': ['criticalmaas'],\n",
       " 'text_content': 'The iron industry on the Pacific coast................................. 7 Literature............................................................. 8 Scope of the work..................................................... 9 Acknowledgements................................................... 10 Geography and topography................................................ 10 Location of the district................................................ 10\\nWatering places...................................................... 14 Cottonwood springs............................................... 14 Boulder well....................................^................ 15 Placer Canyon reservoir........................................... 15 Eagle tank...................................................... 15 Other watering places............................................ 16\\nGeneral geology........................................................ 16 Rocks of the southeastern Mohave and Colorado deserts ................ 16 Previous work................................................... 16 Present investigations ............................................ 19 General succession of deposits................................. 19 Amboy Basin ............................................... 19 Sheephole Mountains........................................ 20 Mountains near Dale......................................... 20 Coxcomb Mountains......................................... 20 Palen Mountains.............................................. 20 Maria Mountains............................................. 20 Eagle Mountains............................................. 20 Cottonwood Mountains........................................ 21 Orocopia Mountains.......................................... 21 Chuckwalla Mountains........................................ 21 Chocolate Mountains.......................................... 21 Physiographic history of the desert region............................. 21 General geology of the Eagle Mountain iron-oro area..................... 22 Rock formations and structure.................................... 22 Iron-ore deposits................................................. 25 Geologic history.................................................. 27',\n",
       " 'hashed_text': 'a703d6e81119aff34212e0e09c9828922f0e76112d47ea35f4b644ddbecdf7bf',\n",
       " 'cosmos_object_id': None,\n",
       " 'distance': -71.64148,\n",
       " 'url': 'https://pubs.er.usgs.gov/publication/b503'}"
      ]
     },
     "execution_count": 7,
     "metadata": {},
     "output_type": "execute_result"
    }
   ],
   "source": [
    "retriever.query_ask_xdd(\"Iron ore in the US.\")"
   ]
  }
 ],
 "metadata": {
  "kernelspec": {
   "display_name": "Python 3",
   "language": "python",
   "name": "python3"
  },
  "language_info": {
   "codemirror_mode": {
    "name": "ipython",
    "version": 3
   },
   "file_extension": ".py",
   "mimetype": "text/x-python",
   "name": "python",
   "nbconvert_exporter": "python",
   "pygments_lexer": "ipython3",
   "version": "3.11.8"
  }
 },
 "nbformat": 4,
 "nbformat_minor": 2
}
