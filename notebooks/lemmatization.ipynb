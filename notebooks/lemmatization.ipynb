{
 "cells": [
  {
   "cell_type": "markdown",
   "metadata": {},
   "source": [
    "## Lemmatization experiment (Somewhat not working yet, can skip for now)\n",
    "\n",
    "Problem statement: The current geographic details and entities are overly specific for generating an aggregated graph. We must simplify them into broader terms, which will then serve as the basis for the nodes in the knowledge graph.\n",
    "\n",
    "tl;dr;\n",
    "\n",
    "- traditional methods don't work, they are more design for word level lemmatization, not phrase level.\n",
    "\n",
    "Options:\n",
    "\n",
    "1. nltk\n",
    "1. spacy\n",
    "1. embedding distance\n",
    "1. llm"
   ]
  },
  {
   "cell_type": "markdown",
   "metadata": {},
   "source": [
    "### nltk lemmatization"
   ]
  },
  {
   "cell_type": "code",
   "execution_count": null,
   "metadata": {},
   "outputs": [],
   "source": [
    "test_locations = set()\n",
    "for r in results[\"output\"]:\n",
    "    try:\n",
    "        test_locations.update(json.loads(r).keys())\n",
    "    except json.JSONDecodeError:\n",
    "        print(r)\n",
    "        pass"
   ]
  },
  {
   "cell_type": "markdown",
   "metadata": {},
   "source": [
    "Note to self: TODO: need better json format.\n",
    "\n",
    "- \",\" in location\n",
    "- other special characters in location"
   ]
  },
  {
   "cell_type": "code",
   "execution_count": null,
   "metadata": {},
   "outputs": [],
   "source": [
    "test_locations = list(test_locations)\n",
    "print(test_locations)"
   ]
  },
  {
   "cell_type": "code",
   "execution_count": null,
   "metadata": {},
   "outputs": [],
   "source": [
    "nltk = lemmatizer.NLTK()\n",
    "spacy = lemmatizer.Spacy()\n",
    "llm = lemmatizer.LLM()"
   ]
  },
  {
   "cell_type": "code",
   "execution_count": null,
   "metadata": {},
   "outputs": [],
   "source": [
    "df_lemma = pd.DataFrame(\n",
    "    {\n",
    "        \"locations\": test_locations,\n",
    "        \"nltk\": [nltk.lemmatize(location) for location in test_locations],\n",
    "        \"spacy\": [spacy.lemmatize(location) for location in test_locations],\n",
    "        \"llm\": [llm.lemmatize(location) for location in test_locations],\n",
    "    }\n",
    ")"
   ]
  },
  {
   "cell_type": "code",
   "execution_count": null,
   "metadata": {},
   "outputs": [],
   "source": [
    "df_lemma"
   ]
  },
  {
   "cell_type": "markdown",
   "metadata": {},
   "source": [
    "Should have much room for improvement...\n",
    "Maybe try embedding-based entity alignment"
   ]
  }
 ],
 "metadata": {
  "kernelspec": {
   "display_name": "Python 3",
   "language": "python",
   "name": "python3"
  },
  "language_info": {
   "codemirror_mode": {
    "name": "ipython",
    "version": 3
   },
   "file_extension": ".py",
   "mimetype": "text/x-python",
   "name": "python",
   "nbconvert_exporter": "python",
   "pygments_lexer": "ipython3",
   "version": "3.11.6"
  }
 },
 "nbformat": 4,
 "nbformat_minor": 2
}
