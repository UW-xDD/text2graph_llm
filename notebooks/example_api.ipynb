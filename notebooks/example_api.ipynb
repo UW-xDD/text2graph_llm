{
 "cells": [
  {
   "cell_type": "code",
   "execution_count": null,
   "metadata": {},
   "outputs": [],
   "source": [
    "import requests\n",
    "import os\n",
    "from dotenv import load_dotenv"
   ]
  },
  {
   "cell_type": "markdown",
   "metadata": {},
   "source": [
    "### Get sample text from `CriticalMAAS` dataset"
   ]
  },
  {
   "cell_type": "code",
   "execution_count": null,
   "metadata": {},
   "outputs": [],
   "source": [
    "ASK_XDD_APIKEY = os.getenv(\"ASK_XDD_APIKEY\")\n",
    "ENDPOINT = \"http://cosmos0001.chtc.wisc.edu:4502/hybrid\"\n",
    "\n",
    "headers = {\"Content-Type\": \"application/json\", \"Api-Key\": ASK_XDD_APIKEY}\n",
    "data = {\n",
    "    \"topic\": \"criticalmaas\",\n",
    "    \"question\": \"Mines in California and their geological formations\",\n",
    "    \"top_k\": 1,\n",
    "}\n",
    "\n",
    "response = requests.post(ENDPOINT, headers=headers, json=data)\n",
    "response.json()"
   ]
  },
  {
   "cell_type": "code",
   "execution_count": null,
   "metadata": {},
   "outputs": [],
   "source": [
    "sample_text = response.json()[0][\"text_content\"]\n",
    "sample_text"
   ]
  },
  {
   "cell_type": "markdown",
   "metadata": {},
   "source": [
    "### Feed text to text2graph endpoint\n",
    "\n",
    "[docs](http://cosmos0002.chtc.wisc.edu:4503/docs)\n",
    "\n",
    "TODO: Improve documentation\n",
    "\n"
   ]
  },
  {
   "cell_type": "markdown",
   "metadata": {},
   "source": [
    "#### GPT-4-turbo-preview"
   ]
  },
  {
   "cell_type": "code",
   "execution_count": null,
   "metadata": {},
   "outputs": [],
   "source": [
    "TEXT2GRAPH_ENDPOINT = \"http://cosmos0002.chtc.wisc.edu:4503/llm_graph\"\n",
    "TEXT2GRAPH_APIKEY = os.getenv(\"API_KEY\")\n",
    "\n",
    "headers = {\"Content-Type\": \"application/json\", \"Api-Key\": TEXT2GRAPH_APIKEY}\n",
    "data = {\"text\": sample_text, \"model\": \"gpt-4-turbo-preview\"}\n",
    "response = requests.post(TEXT2GRAPH_ENDPOINT, headers=headers, json=data)"
   ]
  },
  {
   "cell_type": "code",
   "execution_count": null,
   "metadata": {},
   "outputs": [],
   "source": [
    "response.json()"
   ]
  },
  {
   "cell_type": "markdown",
   "metadata": {},
   "source": [
    "#### Mixtral (Open source model)"
   ]
  },
  {
   "cell_type": "code",
   "execution_count": null,
   "metadata": {},
   "outputs": [],
   "source": [
    "data = {\"text\": sample_text, \"model\": \"mixtral\"}\n",
    "response = requests.post(TEXT2GRAPH_ENDPOINT, headers=headers, json=data)"
   ]
  },
  {
   "cell_type": "code",
   "execution_count": null,
   "metadata": {},
   "outputs": [],
   "source": [
    "response.json()"
   ]
  }
 ],
 "metadata": {
  "kernelspec": {
   "display_name": "Python 3",
   "language": "python",
   "name": "python3"
  },
  "language_info": {
   "codemirror_mode": {
    "name": "ipython",
    "version": 3
   },
   "file_extension": ".py",
   "mimetype": "text/x-python",
   "name": "python",
   "nbconvert_exporter": "python",
   "pygments_lexer": "ipython3",
   "version": "3.10.0"
  }
 },
 "nbformat": 4,
 "nbformat_minor": 2
}
