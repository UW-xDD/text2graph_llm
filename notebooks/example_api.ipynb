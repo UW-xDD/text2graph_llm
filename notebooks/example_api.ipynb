{
 "cells": [
  {
   "cell_type": "markdown",
   "metadata": {},
   "source": [
    "# End-to-end example of using Ask-xDD and text2graph_llm (location extraction)"
   ]
  },
  {
   "cell_type": "code",
   "execution_count": 3,
   "metadata": {},
   "outputs": [
    {
     "data": {
      "text/plain": [
       "True"
      ]
     },
     "execution_count": 3,
     "metadata": {},
     "output_type": "execute_result"
    }
   ],
   "source": [
    "import requests\n",
    "import os\n",
    "from dotenv import load_dotenv\n",
    "\n",
    "load_dotenv()"
   ]
  },
  {
   "cell_type": "markdown",
   "metadata": {},
   "source": [
    "Let's say we are interested in critical minerals and their locations."
   ]
  },
  {
   "cell_type": "code",
   "execution_count": 4,
   "metadata": {},
   "outputs": [],
   "source": [
    "# https://www.usgs.gov/news/national-news-release/us-geological-survey-releases-2022-list-critical-minerals\n",
    "\n",
    "critical_minerals = [\n",
    "    \"Aluminum\",\n",
    "    \"antimony\",\n",
    "    \"arsenic\",\n",
    "    \"barite\",\n",
    "    \"beryllium\",\n",
    "    \"bismuth\",\n",
    "    \"cerium\",\n",
    "    \"cesium\",\n",
    "    \"chromium\",\n",
    "    \"cobalt\",\n",
    "    \"dysprosium\",\n",
    "    \"erbium\",\n",
    "    \"europium\",\n",
    "    \"fluorspar\",\n",
    "    \"gadolinium\",\n",
    "    \"gallium\",\n",
    "    \"germanium\",\n",
    "    \"graphite\",\n",
    "    \"hafnium\",\n",
    "    \"holmium\",\n",
    "    \"indium\",\n",
    "    \"iridium\",\n",
    "    \"lanthanum\",\n",
    "    \"lithium\",\n",
    "    \"lutetium\",\n",
    "    \"magnesium\",\n",
    "    \"manganese\",\n",
    "    \"neodymium\",\n",
    "    \"nickel\",\n",
    "    \"niobium\",\n",
    "    \"palladium\",\n",
    "    \"platinum\",\n",
    "    \"praseodymium\",\n",
    "    \"rhodium\",\n",
    "    \"rubidium\",\n",
    "    \"ruthenium\",\n",
    "    \"samarium\",\n",
    "    \"scandium\",\n",
    "    \"tantalum\",\n",
    "    \"tellurium\",\n",
    "    \"terbium\",\n",
    "    \"thulium\",\n",
    "    \"tin\",\n",
    "    \"titanium\",\n",
    "    \"tungsten\",\n",
    "    \"vanadium\",\n",
    "    \"ytterbium\",\n",
    "    \"yttrium\",\n",
    "    \"zinc\",\n",
    "    \"zirconium\",\n",
    "]"
   ]
  },
  {
   "cell_type": "markdown",
   "metadata": {},
   "source": [
    "### Get sample text from `CriticalMAAS` dataset"
   ]
  },
  {
   "cell_type": "code",
   "execution_count": 15,
   "metadata": {},
   "outputs": [
    {
     "data": {
      "text/plain": [
       "[{'paper_id': '557ca80ae138239225f86935',\n",
       "  'preprocessor_id': 'haystack_v0.0.2',\n",
       "  'doc_type': 'paragraph',\n",
       "  'topic_list': ['criticalmaas'],\n",
       "  'text_content': 'ALUMINUM, TOTAL RECOVERABLE (UG/L AS AL) ARSENIC, TOTAL RECOVERABLE (UG/L AS AS) BERYLLIUM, TOTAL RECOVERABLE (UG/L AS BE) CADMIUM TOTAL RECOVERABLE (UG/L AS CD) CHROMIUM, TOTAL RECOVERABLE (UG/L AS CR) COPPER, TOTAL RECOVERABLE (UG/L AS CU) IRON, TOTAL RECOVERABLE (UG/L AS FE) LEAD, TOTAL RECOVERABLE (UG/L AS PB) LITHIUM, TOTAL RECOVERABLE (UG/L AS LI) MANGANESE, TOTAL RECOVERABLE (UG/L AS MN) MERCURY, TOTAL RECOVERABLE (UG/L AS HG) MOLYBDENUM, TOTAL RECOVERABLE (UG/L AS MO) NICKEL, TOTAL RECOVERABLE (UG/L AS NI ) SELENIUM, TOTAL RECOVERABLE (UG/L AS SE) ZINC, TOTAL RECOVERABLE (UG/L AS ZN)\\nTABLt 14. SUMMARY OF WATER-QUALITY ANALYSES, MULE CREEK SITE D (07245594) [MG/L=MILLIGRAMS PER LITER, DEC C=DEGREES CELSIUS, PCI/L=PICOCURIES PER LITER, UMHO=MICROMHOS PER CENTIMETER AT 25 DEGREES CELSIUS, UG/L=MICROGRAMS PER LITER]',\n",
       "  'hashed_text': 'e7e52d39efdaeb31e2114d651b825119a83c05d4d07a4c0a3e19f2875538d5a8',\n",
       "  'cosmos_object_id': None,\n",
       "  'distance': -71.12478},\n",
       " {'paper_id': '557ca80ae138239225f86935',\n",
       "  'preprocessor_id': 'haystack_v0.0.2',\n",
       "  'doc_type': 'paragraph',\n",
       "  'topic_list': ['criticalmaas'],\n",
       "  'text_content': 'ALUMINUM, DISSOLVED (UG/L AS AL ) ARSENIC, DISSOLVED (UG/L AS AS) BERYLLIUM, DISSOLVED (UG/L AS BE) CADMIUM, DISSOLVED (UG/L AS CD) CHROMIUM, DISSOLVED (UG/L AS CR ) COPPER, DISSOLVED (UG/L AS CU ) IRON, DISSOLVED (UG/L AS FE ) LEAD, DISSOLVED (UG/L AS PB) LITHIUM, DISSOLVED (UG/L AS LI) MANGANESE, DISSOLVED (UG/L AS MN ) MERCURY, DISSOLVED (UG/L AS HG ) MOLYBDENUM, DISSOLVED (UG/L AS MO) NICKEL, DISSOLVED (UG/L AS NI) SELENIUM, DISSOLVED (UG/L AS SE ) STRONTIUM, DISSOLVED (UG/L AS SR ) VANADIUM, DISSOLVED (UG/L AS V) ZINC, DISSOLVED (UG/L AS ZN )\\nALUMINUM, TOTAL RECOVERABLE (UG/L AS AL ) ARSENIC, TOTAL RECOVERABLE (UG/L AS AS) BERYLLIUM, TOTAL RECOVERABLE (UG/L AS BE) CADMIUM TOTAL RECOVERABLE (UG/L AS CD) CHROMIUM, TOTAL RECOVERABLE (UG/L AS CR ) COPPER, TOTAL RECOVERABLE (UG/L AS CU ) IRON, TOTAL RECOVERABLE (UG/L AS FE) LEAD, TOTAL RECOVERABLE (UG/L AS PB) LITHIUM, TOTAL RECOVERABLE (UG/L AS LI) MANGANESE, TOTAL RECOVERABLE (UG/L AS MN ) MERCURY, TOTAL RECOVERABLE (UG/L AS HG ) MOLYBDENUM, TOTAL RECOVERABLE (UG/L AS MO) NICKEL, TOTAL RECOVERABLE (UG/L AS NI ) SELENIUM, TOTAL RECOVERABLE (UG/L AS SE ) ZINC, TOTAL RECOVERABLE (UG/L AS ZN )',\n",
       "  'hashed_text': '8dda22def4a00345809a9e726eed7bb1a80fbf0f8a5f782ab61f330812eb925c',\n",
       "  'cosmos_object_id': None,\n",
       "  'distance': -70.07955},\n",
       " {'paper_id': '557a0f1fe138233a711e177c',\n",
       "  'preprocessor_id': 'haystack_v0.0.2',\n",
       "  'doc_type': 'paragraph',\n",
       "  'topic_list': ['criticalmaas'],\n",
       "  'text_content': 'Figure 16. Summary diagram of mass transfer of aluminum in mixing zones downstream from Mineral and Cement Creeks\\nFigure 17. Summary diagram of mass transfer of iron in mixing zones downstream from Mineral and Cement Creeks\\nFigure 18. Comparison of metal loads for aluminum, iron, zinc, cadmium, copper and lead at low flow (Oct., 1995) and high flow (May-June, 1996)\\nFigure 28. Metal distribution profiles for Animas River: Silverton, Colo. to Aztec, New Mexico 74\\nFigure 31. Downstream variation of the iron, aluminum, and copper to zinc ratios in colloids and bed sediments in the Animas River: Silverton to Aztec\\nWater quality standards for metals, Colorado Lead-isotopic data from mineral deposits and mill sites, Silverton area Semi-quantitative emission spectrographic data from heavy-mineral separates,',\n",
       "  'hashed_text': '4019ef129649c053790c94c47c4b166377ac241d0023e3b7366ff67e68b77065',\n",
       "  'cosmos_object_id': None,\n",
       "  'distance': -69.38256},\n",
       " {'paper_id': '55b70305e13823bd29ba7ecd',\n",
       "  'preprocessor_id': 'haystack_v0.0.2',\n",
       "  'doc_type': 'paragraph',\n",
       "  'topic_list': ['criticalmaas', 'dolomites'],\n",
       "  'text_content': '1. Map showing location of principal bauxite reserves and potential resources of the world__________________ In pocket\\n2. Map showing location of bauxite districts and areas in southern United States ________________ ------ ___ In pocket\\n2. Diagrams showing typical occurrences of bauxite________ 3. Generalized geologic map of the Arkansas bauxite district__ 4. Diagrammatic section showing principal types of deposits in the Arkansas bauxite district_____________________\\n6. Northern South America_______________________ 7. Central and southern BraziL___________________ 8. Europe______________________________________ 9. West Africa__________________________________ 10. China (mainland)_____________________________ 11. India and West Pakistan_______________________\\n13. Map showing location of potential sources of aluminum other than bauxite in the United States______________ 121\\n2. United States imports of bauxite for consumption, by countries, 1950-64_ ___ __ ___ _____ _____ _____ _________',\n",
       "  'hashed_text': '64d6ef72da7a220ff1aa1c5500c500733a34749536e22828e92bf650d0119914',\n",
       "  'cosmos_object_id': None,\n",
       "  'distance': -68.708565},\n",
       " {'paper_id': '558b16f9e13823109f3ed183',\n",
       "  'preprocessor_id': 'haystack_v0.0.2',\n",
       "  'doc_type': 'paragraph',\n",
       "  'topic_list': ['criticalmaas'],\n",
       "  'text_content': 'The uranium content of the sections is enriched by supergene processes at the base of the pseudowavellite-apatite zone (See (2) above*)\\nHie origin of the surface sands and the source of the uranium are two major problems in the leached zone of the land pebble district* Field evidence indicates either a residual or depositional origin for the surface sands* In either case, the uranium in the leached zone could be a concentrated product of a once thicker section of slightly phosphatic 5 clayey quartz sand*\\n2. Altschulerj, Z* S., Jaffe, E* B,, and Cuttitta, F«, The aluminum phosphate z.one of the Bone Valley formation and its uranium deposits (abstract): Contribution to the International Conference on Peaceful Uses of Atomic Energy, Geneva, Switzerland^, August 1955$ Session C,-p Role of Nuclear Energy 0 (in press)« /Rap No« l£ The Pliocene Bone Valley formation which contains most of the \"Land Pebble\" phosphates, occurs in west~central Florida east of the Tampa Bay region, unconformably overlying the lower and middle Miocene Hawthorn formation and covered by a surface mantle of quartz sands* It contains graded-bedded pebbly and clayey phosphatic sands in its lower two-thirds, which are mined, and a less phosphatic, massive-bedded, clayey sand, approximately 8 to',\n",
       "  'hashed_text': '90ad42b5ed7d696aea1d751b3f94f9197beb2f8a8b04cf80285194d528de7af8',\n",
       "  'cosmos_object_id': None,\n",
       "  'distance': -68.60281},\n",
       " {'paper_id': '558e5cc3e13823109f3ee2df',\n",
       "  'preprocessor_id': 'haystack_v0.0.2',\n",
       "  'doc_type': 'paragraph',\n",
       "  'topic_list': ['criticalmaas', 'dolomites'],\n",
       "  'text_content': 'Other Geological Survey publications relating to the appraisal of resources of specific mineral commodities include the following:\\nProfessional Paper 820 \"United States Mineral Resources\" Professional Paper 907 \"Geology and Resources of Copper Deposits\" Professional Paper 926 \"Geology and Resources of Vanadium Deposits\" Professional Paper 933 \"Geology and Resources of Fluorine in the United States\" Professional Paper 959 \"Geology and Resources of Titanium in the United States\"\\nVeins _________________—— Replacements __________—————— Sedimentary deposits _______———— Alunite as an aluminum resource ____———— Pure alunite versus alunitic rock _——— Problems __________________ Acknowledgments __________________ Domestic resources ________________———— Utah __________________________ Marysvale district (Piute and Sevier Counties) Southern Wah Wah Mountains (Beaver and Iron Counties) ___________—————— Deposits in other areas ____________ Nevada ___________________————— Lincoln County _______________——— Clark County __________————————— Esmeralda County __—_______———— Mineral County _________________ Lyon County _______________———— Humboldt County ________________ Deposits in other areas ________—_— Arizona ____________________———_— Santa Cruz County ________________ Yuma County _______________—— Deposits in other areas ____________ Colorado _________________________ Hinsdale County _________________ Rio Grande County ________________ Custer County ___________________ Dolores County __________________ Deposits in other areas ______________ New Mexico __________________—___ Grant County ___________________ Sierra County ___________________ Luna County __________________ Deposits in other areas ______________ Washington __________________——__ California ________________________ Wyoming __________________———_____ Texas __________________________ Deposits in other States _______________ Minnesota _____________________ Arkansas ______________________ Kansas ______________________ Missouri _______________________ Indiana _______________________ South Dakota __________________ Pennsylvania ____________________ Alaska _______________________ Hawaii ________________________ Puerto Rico ______________________',\n",
       "  'hashed_text': '7fe543f3f8352380e9ed3f9e55890110e88b07c1fe1ba5d8939c924861d27280',\n",
       "  'cosmos_object_id': None,\n",
       "  'distance': -68.21669},\n",
       " {'paper_id': '55b8fb22e13823bd29ba8b46',\n",
       "  'preprocessor_id': 'haystack_v0.0.2',\n",
       "  'doc_type': 'paragraph',\n",
       "  'topic_list': ['criticalmaas'],\n",
       "  'text_content': \"U.S. Interagency Working Group on Industrial Ecology, Material and Energy Flow, 2000, Industrial ecology material and energy flows in the United States: U.S. Interagency Working Group or Industrial Ecology, Material and Energy Flow, 95 p.\\nWhelpdale, D.M., 1992, An overview of the atmospheric sulphur cycle, in Howath, R.W., Stewart, J.W.B., and Ivanov, M.V., ec's., SCOPE\\n48-Sulphur Cycling on the Continents-Wetlands, Terrestrial Ecosystems and Associated Water Bodies: New York, John Wiley and Sons, p. 5-26.\\nWilburn, D.R., and Wagner, L.A., 1993, Aluminum availability and supply-A minerals availability appraisal: U.S. Bureau of Mines Information Circular 9371, 140 p.\\nManuscript approved for publication December 5, 2001 Published in the USGS Central Region, Denver, Colorado Editing, layout, photocomposition-Richard W. Scott, Jr. Cover design, figures 2, 8-10, 14-Carol A. Quesenberry Figures 1, 3-7, 11-13-Springfield and Springfield\",\n",
       "  'hashed_text': '6226e4335bedfa80833cf9326ee041adc011e14a7bb556c70b3cce90d3ac7c3c',\n",
       "  'cosmos_object_id': None,\n",
       "  'distance': -68.101776},\n",
       " {'paper_id': '558b16f9e13823109f3ed183',\n",
       "  'preprocessor_id': 'haystack_v0.0.2',\n",
       "  'doc_type': 'paragraph',\n",
       "  'topic_list': ['criticalmaas'],\n",
       "  'text_content': 'The Canfield phosphate mine is about 2 miles west of Dover, Morris County, New Jersey* The ore is a granular aggregate of magnetite and greenish-gray apatite* with quartz* feldspar, and biotite the minor constituents« The mine was originally explored for magnetite, but the high apatite content of 35 percent made the ore worthless for smelting for iron, and the mine was abandoned* Among the rocks on the dump, those with the highest apatite content are also the most radioactive* Monazite is also present in small amounts and is radioactive*\\nThe rocks of the Rutgers Mine, Clinton County, New York, and the Mulligan Quarry, Hunterdon County, New Jersey, also have some apatite, but the geology is described only briefly in this report*',\n",
       "  'hashed_text': 'f302796023a518b20b3732a14b1d6d787bedafcfd4a8fa20b8eaecc15cf78f75',\n",
       "  'cosmos_object_id': None,\n",
       "  'distance': -67.90485},\n",
       " {'paper_id': '5d25161e0b45c76caf921719',\n",
       "  'preprocessor_id': 'haystack_v0.0.2',\n",
       "  'doc_type': 'paragraph',\n",
       "  'topic_list': ['criticalmaas'],\n",
       "  'text_content': 'Aluminum, dissolved (ug/L) Aluminum, bed material (pg/g) Iron, total (ug/L) Iron, dissolved (ug/L) Iron, bed material (ug/g) Manganese, total (ug/L)\\nManganese, dissolved (ug/L) Manganese, bed material (pg/g) Nickel, dissolved (ug/L) Nickel, bed material (pg/g) Zinc, dissolved (pg/L) Zinc, bed material (pg/g)\\nAlkalinity (mg/L as CaCOo) Sulfate, dissolved (mg/L) Dissolved solids (mg/L) Aluminum, total (pg/L) Aluminum, dissolved (pg/L) Aluminum, bed material (pg/g) Iron, total (pg/L) Iron, dissolved (pg/L)\\nIron, bed material (pg/g) Manganese, total (pg/L) Manganese, dissolved (pg/L) Manganese, bed material (pg/g) Nickel f dissolved (jug/L) Nickel, bed material (pg/g) Zinc, dissolved (pg/L) Zinc, bed material (pg/g)\\nTable 3. Summary of univariate statistics for observations grouped bv disturbance type in the Allegheny and Mononaahela Formations Continued',\n",
       "  'hashed_text': '9374f7d7034b21f40eae0eb09609e8994b019ac2a755c7b94087fb41fa3954cf',\n",
       "  'cosmos_object_id': None,\n",
       "  'distance': -67.59513},\n",
       " {'paper_id': '5d505fea0b45c76cafa477a2',\n",
       "  'preprocessor_id': 'haystack_v0.0.2',\n",
       "  'doc_type': 'paragraph',\n",
       "  'topic_list': ['criticalmaas'],\n",
       "  'text_content': 'Aluminum, total Manganese, total recoverable dissolved recoverable (µg/L (µg/L (µg/L as Mn as Mn) as Al)\\nAluminum, dissolved (µg/L as Al) -- -- -- -- -- -- -- -- -- -- -- -- -- --\\nAluminum, total Manganese, total recoverable dissolved recoverable (µg/L (µg/L (µg/L as Mn as Mn) as Al)\\nAluminum, dissolved (µg/L as Al) -- -- -- -- -- -- -- -- -- -- -- -- -- -- -- --\\nAluminum, total Manganese, total recoverable dissolved recoverable (µg/L (µg/L (µg/L as Mn as Mn) as Al)\\nAppendix 4. Prioritization index (PI) for all mine discharges [lb/d, pounds per day; gal/min, gallons per minute; <, less than] Appendix 4. Prioritization index (PI) for all mine discharges—Continued',\n",
       "  'hashed_text': 'f9fef1b9c80c921f5db06fe53446a2debcdb746d347350f280ac3dd605859bab',\n",
       "  'cosmos_object_id': None,\n",
       "  'distance': -67.06022}]"
      ]
     },
     "execution_count": 15,
     "metadata": {},
     "output_type": "execute_result"
    }
   ],
   "source": [
    "ASK_XDD_APIKEY = os.getenv(\"ASK_XDD_APIKEY\")\n",
    "ENDPOINT = \"http://cosmos0001.chtc.wisc.edu:4502/hybrid\"\n",
    "\n",
    "headers = {\"Content-Type\": \"application/json\", \"Api-Key\": ASK_XDD_APIKEY}\n",
    "data = {\n",
    "    \"topic\": \"criticalmaas\",\n",
    "    \"question\": \"Aluminum Mines in USA.\",\n",
    "    \"top_k\": 10,\n",
    "    \"temperature\": 1.0,\n",
    "}\n",
    "\n",
    "response = requests.post(ENDPOINT, headers=headers, json=data)\n",
    "response.json()"
   ]
  },
  {
   "cell_type": "code",
   "execution_count": 16,
   "metadata": {},
   "outputs": [
    {
     "data": {
      "text/plain": [
       "'Figure 16. Summary diagram of mass transfer of aluminum in mixing zones downstream from Mineral and Cement Creeks\\nFigure 17. Summary diagram of mass transfer of iron in mixing zones downstream from Mineral and Cement Creeks\\nFigure 18. Comparison of metal loads for aluminum, iron, zinc, cadmium, copper and lead at low flow (Oct., 1995) and high flow (May-June, 1996)\\nFigure 28. Metal distribution profiles for Animas River: Silverton, Colo. to Aztec, New Mexico 74\\nFigure 31. Downstream variation of the iron, aluminum, and copper to zinc ratios in colloids and bed sediments in the Animas River: Silverton to Aztec\\nWater quality standards for metals, Colorado Lead-isotopic data from mineral deposits and mill sites, Silverton area Semi-quantitative emission spectrographic data from heavy-mineral separates,'"
      ]
     },
     "execution_count": 16,
     "metadata": {},
     "output_type": "execute_result"
    }
   ],
   "source": [
    "sample_text = response.json()[2][\"text_content\"]\n",
    "sample_text"
   ]
  },
  {
   "cell_type": "markdown",
   "metadata": {},
   "source": [
    "### Feed text to text2graph endpoint\n",
    "\n",
    "[docs](http://cosmos0002.chtc.wisc.edu:4503/docs)\n",
    "\n",
    "TODO: Improve documentation\n",
    "\n"
   ]
  },
  {
   "cell_type": "markdown",
   "metadata": {},
   "source": [
    "#### GPT-4-turbo-preview"
   ]
  },
  {
   "cell_type": "code",
   "execution_count": 10,
   "metadata": {},
   "outputs": [],
   "source": [
    "# TEXT2GRAPH_ENDPOINT = \"http://cosmos0002.chtc.wisc.edu:4503/llm_graph\"\n",
    "TEXT2GRAPH_ENDPOINT = \"http://localhost:4510/llm_graph\"\n",
    "TEXT2GRAPH_APIKEY = os.getenv(\"API_KEY\")\n",
    "\n",
    "headers = {\"Content-Type\": \"application/json\", \"Api-Key\": TEXT2GRAPH_APIKEY}\n",
    "data = {\"text\": sample_text, \"model\": \"gpt-4-turbo-preview\", \"prompt_version\": \"v0\"}\n",
    "response = requests.post(TEXT2GRAPH_ENDPOINT, headers=headers, json=data)"
   ]
  },
  {
   "cell_type": "code",
   "execution_count": 11,
   "metadata": {},
   "outputs": [
    {
     "data": {
      "text/plain": [
       "{'Mineral and Cement Creeks': ['aluminum', 'iron'],\n",
       " 'Animas River': ['aluminum',\n",
       "  'iron',\n",
       "  'zinc',\n",
       "  'cadmium',\n",
       "  'copper',\n",
       "  'lead',\n",
       "  'colloids',\n",
       "  'bed sediments'],\n",
       " 'Silverton, Colo. to Aztec, New Mexico': ['metal distribution profiles'],\n",
       " 'Colorado': ['water quality standards for metals'],\n",
       " 'Silverton area': ['Lead-isotopic data',\n",
       "  'mineral deposits',\n",
       "  'mill sites',\n",
       "  'Semi-quantitative emission spectrographic data',\n",
       "  'heavy-mineral separates']}"
      ]
     },
     "execution_count": 11,
     "metadata": {},
     "output_type": "execute_result"
    }
   ],
   "source": [
    "response.json()"
   ]
  },
  {
   "cell_type": "markdown",
   "metadata": {},
   "source": [
    "#### Mixtral (Open source model)"
   ]
  },
  {
   "cell_type": "code",
   "execution_count": 12,
   "metadata": {},
   "outputs": [],
   "source": [
    "data = {\"text\": sample_text, \"model\": \"mixtral\", \"prompt_version\": \"v0\"}\n",
    "response = requests.post(TEXT2GRAPH_ENDPOINT, headers=headers, json=data)"
   ]
  },
  {
   "cell_type": "code",
   "execution_count": 13,
   "metadata": {},
   "outputs": [
    {
     "data": {
      "text/plain": [
       "{'Mining and Cement Creeks': ['aluminum', 'iron'],\n",
       " 'Animas River: Silverton to Aztec': ['aluminum', 'iron', 'copper', 'zinc'],\n",
       " 'Silverton, Colo.': ['metals'],\n",
       " 'Colorado': ['water quality standards for metals'],\n",
       " 'Silverton area': ['Lead-isotopic data from mineral deposits and mill sites']}"
      ]
     },
     "execution_count": 13,
     "metadata": {},
     "output_type": "execute_result"
    }
   ],
   "source": [
    "response.json()"
   ]
  }
 ],
 "metadata": {
  "kernelspec": {
   "display_name": "Python 3",
   "language": "python",
   "name": "python3"
  },
  "language_info": {
   "codemirror_mode": {
    "name": "ipython",
    "version": 3
   },
   "file_extension": ".py",
   "mimetype": "text/x-python",
   "name": "python",
   "nbconvert_exporter": "python",
   "pygments_lexer": "ipython3",
   "version": "3.10.0"
  }
 },
 "nbformat": 4,
 "nbformat_minor": 2
}
