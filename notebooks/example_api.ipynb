{
 "cells": [
  {
   "cell_type": "code",
   "execution_count": 1,
   "metadata": {},
   "outputs": [],
   "source": [
    "import requests\n",
    "import os\n",
    "from dotenv import load_dotenv"
   ]
  },
  {
   "cell_type": "markdown",
   "metadata": {},
   "source": [
    "### Get sample text from `CriticalMAAS` dataset"
   ]
  },
  {
   "cell_type": "code",
   "execution_count": 2,
   "metadata": {},
   "outputs": [
    {
     "data": {
      "text/plain": [
       "[{'paper_id': '55b8caefe13823bd29ba8a08',\n",
       "  'preprocessor_id': 'haystack_v0.0.2',\n",
       "  'doc_type': 'paragraph',\n",
       "  'topic_list': ['criticalmaas', 'dolomites'],\n",
       "  'text_content': 'Shallow marine carbonate terrane 3 Shallow marine noncarbonate terranes 3 Batholithic terranes 3 Island-arc terranes 3 Oceanic terranes 3 Composite terranes 4 Cover terranes 4 Tectonic history of California 4 California mineral potential 5 California desert region 5 Introduction 5 Geologic history of the region 8 History of mineralization 8 History of mineral resource production 9 Metals 10 Special metals (rare-earth elements, uranium) 11 Nonmetallic commodities 11 Peninsular Ranges and Salton Trough 11 Transverse Ranges 12 Sierra Nevada 12 Great Valley 13 Coast Ranges 13 Klamath Mountains 14 Modoc Plateau and Southern Cascade Range 14 References cited 14 Appendix-geologic time chart 16',\n",
       "  'hashed_text': '03c782aef70f16318733d31c3f851a3fdd98443f486d7158e5640353086e521f',\n",
       "  'cosmos_object_id': None,\n",
       "  'distance': -76.47309}]"
      ]
     },
     "execution_count": 2,
     "metadata": {},
     "output_type": "execute_result"
    }
   ],
   "source": [
    "ASK_XDD_APIKEY = os.getenv(\"ASK_XDD_APIKEY\")\n",
    "ENDPOINT = \"http://cosmos0001.chtc.wisc.edu:4502/hybrid\"\n",
    "\n",
    "headers = {\"Content-Type\": \"application/json\", \"Api-Key\": ASK_XDD_APIKEY}\n",
    "data = {\n",
    "    \"topic\": \"criticalmaas\",\n",
    "    \"question\": \"Mines in California and their geological formations\",\n",
    "    \"top_k\": 1,\n",
    "    \"temperature\": 1.0,\n",
    "}\n",
    "\n",
    "response = requests.post(ENDPOINT, headers=headers, json=data)\n",
    "response.json()"
   ]
  },
  {
   "cell_type": "code",
   "execution_count": 3,
   "metadata": {},
   "outputs": [
    {
     "data": {
      "text/plain": [
       "'Shallow marine carbonate terrane 3 Shallow marine noncarbonate terranes 3 Batholithic terranes 3 Island-arc terranes 3 Oceanic terranes 3 Composite terranes 4 Cover terranes 4 Tectonic history of California 4 California mineral potential 5 California desert region 5 Introduction 5 Geologic history of the region 8 History of mineralization 8 History of mineral resource production 9 Metals 10 Special metals (rare-earth elements, uranium) 11 Nonmetallic commodities 11 Peninsular Ranges and Salton Trough 11 Transverse Ranges 12 Sierra Nevada 12 Great Valley 13 Coast Ranges 13 Klamath Mountains 14 Modoc Plateau and Southern Cascade Range 14 References cited 14 Appendix-geologic time chart 16'"
      ]
     },
     "execution_count": 3,
     "metadata": {},
     "output_type": "execute_result"
    }
   ],
   "source": [
    "sample_text = response.json()[0][\"text_content\"]\n",
    "sample_text"
   ]
  },
  {
   "cell_type": "markdown",
   "metadata": {},
   "source": [
    "### Feed text to text2graph endpoint\n",
    "\n",
    "[docs](http://cosmos0002.chtc.wisc.edu:4503/docs)\n",
    "\n",
    "TODO: Improve documentation\n",
    "\n"
   ]
  },
  {
   "cell_type": "markdown",
   "metadata": {},
   "source": [
    "#### GPT-4-turbo-preview"
   ]
  },
  {
   "cell_type": "code",
   "execution_count": 11,
   "metadata": {},
   "outputs": [],
   "source": [
    "# TEXT2GRAPH_ENDPOINT = \"http://cosmos0002.chtc.wisc.edu:4503/llm_graph\"\n",
    "TEXT2GRAPH_ENDPOINT = \"http://localhost:4503/llm_graph\"\n",
    "TEXT2GRAPH_APIKEY = os.getenv(\"API_KEY\")\n",
    "\n",
    "headers = {\"Content-Type\": \"application/json\", \"Api-Key\": TEXT2GRAPH_APIKEY}\n",
    "data = {\"text\": sample_text, \"model\": \"gpt-4-turbo-preview\", \"prompt_version\": \"v0\"}\n",
    "response = requests.post(TEXT2GRAPH_ENDPOINT, headers=headers, json=data)"
   ]
  },
  {
   "cell_type": "code",
   "execution_count": 12,
   "metadata": {},
   "outputs": [
    {
     "data": {
      "text/plain": [
       "{'California': ['Shallow marine carbonate terrane',\n",
       "  'Shallow marine noncarbonate terranes',\n",
       "  'Batholithic terranes',\n",
       "  'Island-arc terranes',\n",
       "  'Oceanic terranes',\n",
       "  'Composite terranes',\n",
       "  'Cover terranes',\n",
       "  'mineral potential',\n",
       "  'desert region'],\n",
       " 'Peninsular Ranges and Salton Trough': ['Geologic history',\n",
       "  'History of mineralization',\n",
       "  'History of mineral resource production',\n",
       "  'Metals',\n",
       "  'Special metals (rare-earth elements, uranium)',\n",
       "  'Nonmetallic commodities'],\n",
       " 'Transverse Ranges': [],\n",
       " 'Sierra Nevada': [],\n",
       " 'Great Valley': [],\n",
       " 'Coast Ranges': [],\n",
       " 'Klamath Mountains': [],\n",
       " 'Modoc Plateau and Southern Cascade Range': []}"
      ]
     },
     "execution_count": 12,
     "metadata": {},
     "output_type": "execute_result"
    }
   ],
   "source": [
    "response.json()"
   ]
  },
  {
   "cell_type": "markdown",
   "metadata": {},
   "source": [
    "#### Mixtral (Open source model)"
   ]
  },
  {
   "cell_type": "code",
   "execution_count": 13,
   "metadata": {},
   "outputs": [],
   "source": [
    "data = {\"text\": sample_text, \"model\": \"mixtral\", \"prompt_version\": \"v0\"}\n",
    "response = requests.post(TEXT2GRAPH_ENDPOINT, headers=headers, json=data)"
   ]
  },
  {
   "cell_type": "code",
   "execution_count": 14,
   "metadata": {},
   "outputs": [
    {
     "data": {
      "text/plain": [
       "{'California': ['Tectonic history of California',\n",
       "  'California mineral potential',\n",
       "  'California desert region',\n",
       "  'Geologic history of the region',\n",
       "  'History of mineralization',\n",
       "  'History of mineral resource production',\n",
       "  'Metals',\n",
       "  'Special metals (rare-earth elements, uranium)',\n",
       "  'Nonmetallic commodities',\n",
       "  'Peninsular Ranges and Salton Trough',\n",
       "  'Transverse Ranges',\n",
       "  'Sierra Nevada',\n",
       "  'Great Valley',\n",
       "  'Coast Ranges',\n",
       "  'Klamath Mountains',\n",
       "  'Modoc Plateau and Southern Cascade Range'],\n",
       " 'Shallow marine carbonate terranes 3': ['Shallow marine carbonate terranes'],\n",
       " 'Shallow marine noncarbonate terranes 3': ['Shallow marine noncarbonate terranes'],\n",
       " 'Batholithic terranes 3': ['Batholithic terranes'],\n",
       " 'Island-arc terranes 3': ['Island-arc terranes'],\n",
       " 'Oceanic terranes 3': ['Oceanic terranes'],\n",
       " 'Composite terranes 4': ['Composite terranes'],\n",
       " 'Cover terranes 4': ['Cover terranes']}"
      ]
     },
     "execution_count": 14,
     "metadata": {},
     "output_type": "execute_result"
    }
   ],
   "source": [
    "response.json()"
   ]
  }
 ],
 "metadata": {
  "kernelspec": {
   "display_name": "Python 3",
   "language": "python",
   "name": "python3"
  },
  "language_info": {
   "codemirror_mode": {
    "name": "ipython",
    "version": 3
   },
   "file_extension": ".py",
   "mimetype": "text/x-python",
   "name": "python",
   "nbconvert_exporter": "python",
   "pygments_lexer": "ipython3",
   "version": "3.11.7"
  }
 },
 "nbformat": 4,
 "nbformat_minor": 2
}
