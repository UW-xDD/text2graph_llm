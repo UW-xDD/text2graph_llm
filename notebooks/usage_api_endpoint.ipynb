{
 "cells": [
  {
   "cell_type": "markdown",
   "metadata": {},
   "source": [
    "# Using text2graph API\n",
    "\n"
   ]
  },
  {
   "cell_type": "code",
   "execution_count": 1,
   "metadata": {},
   "outputs": [
    {
     "data": {
      "text/plain": [
       "True"
      ]
     },
     "execution_count": 1,
     "metadata": {},
     "output_type": "execute_result"
    }
   ],
   "source": [
    "import os\n",
    "import requests\n",
    "from dotenv import load_dotenv\n",
    "\n",
    "load_dotenv()"
   ]
  },
  {
   "cell_type": "code",
   "execution_count": 2,
   "metadata": {},
   "outputs": [
    {
     "data": {
      "text/plain": [
       "{'locations': {'Minnesota': ['Sauk megasequence',\n",
       "   'Shakopee Formation',\n",
       "   'St. Peter Sandstone'],\n",
       "  'Ozark dome': ['younger rocks',\n",
       "   'upper Sauk succession',\n",
       "   'Roubidoux',\n",
       "   'Jefferson City',\n",
       "   'Cotter',\n",
       "   'Powell – Smithville – Black Rock',\n",
       "   'Everton units'],\n",
       "  'northern Arkansas': ['Jasper Member of the Everton Formation',\n",
       "   'Histiodella holodentata Biozone',\n",
       "   'latest early Whiterockian age']}}"
      ]
     },
     "execution_count": 2,
     "metadata": {},
     "output_type": "execute_result"
    }
   ],
   "source": [
    "ENDPOINT = \"http://localhost:4502/llm_graph\"\n",
    "APIKEY = os.getenv(\"APIKEY\")\n",
    "\n",
    "example_text = \"\"\"\n",
    "The top of the Sauk megasequence in Minnesota is at the unconformable contact of the Shakopee Formation with the St. Peter Sandstone. Younger rocks are present beneath the St. Peter Sandstone on the southern and east- ern flanks of the Ozark dome, where the upper Sauk succession includes the Roubidoux, Jefferson City, Cotter, Powell – Smithville – Black Rock, and Everton units in that stratigraphic order (Ethington et al., 2012; Palmer et al., 2012). The Shakopee Formation is equivalent to some lower part of this succession, but sparse inverte- brate faunas and long-ranging conodonts in these units preclude correlation with high resolution. The Jasper Member of the Everton Formation of northern Arkansas contains conodonts of the Histiodella holodentata Biozone, which demonstrates the latest early Whiterockian age for the top of the rocks of the GACB in that region. No faunal evidence is available there for the age of the base of the St. Peter Sandstone. The boundary between the Sauk and Tippecanoe megasequences may be a cor- relative conformity in the Reelfoot rift of southeastern Missouri and northeastern Missouri, but this has not been demonstrated.\n",
    "\"\"\"\n",
    "\n",
    "headers = {\"Content-Type\": \"application/json\", \"Api-Key\": APIKEY}\n",
    "data = {\n",
    "    \"text\": example_text,\n",
    "    \"model\": \"mixtral\",\n",
    "}\n",
    "\n",
    "response = requests.post(ENDPOINT, headers=headers, json=data)\n",
    "response.json()"
   ]
  }
 ],
 "metadata": {
  "kernelspec": {
   "display_name": "Python 3",
   "language": "python",
   "name": "python3"
  },
  "language_info": {
   "codemirror_mode": {
    "name": "ipython",
    "version": 3
   },
   "file_extension": ".py",
   "mimetype": "text/x-python",
   "name": "python",
   "nbconvert_exporter": "python",
   "pygments_lexer": "ipython3",
   "version": "3.11.6"
  }
 },
 "nbformat": 4,
 "nbformat_minor": 2
}
