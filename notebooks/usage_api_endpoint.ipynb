{
 "cells": [
  {
   "cell_type": "markdown",
   "metadata": {},
   "source": [
    "# Using text2graph API\n",
    "\n"
   ]
  },
  {
   "cell_type": "code",
   "execution_count": 1,
   "metadata": {
    "ExecuteTime": {
     "end_time": "2024-04-08T17:30:15.742862Z",
     "start_time": "2024-04-08T17:30:15.641919Z"
    }
   },
   "outputs": [
    {
     "data": {
      "text/plain": "True"
     },
     "execution_count": 1,
     "metadata": {},
     "output_type": "execute_result"
    }
   ],
   "source": [
    "import os\n",
    "import requests\n",
    "from dotenv import load_dotenv\n",
    "\n",
    "load_dotenv()"
   ]
  },
  {
   "cell_type": "code",
   "execution_count": 2,
   "metadata": {
    "ExecuteTime": {
     "end_time": "2024-04-08T17:31:51.966197Z",
     "start_time": "2024-04-08T17:30:15.745082Z"
    }
   },
   "outputs": [
    {
     "data": {
      "text/plain": "{'triplets': [{'subject': {'name': 'Minnesota', 'lat': None, 'lon': None},\n   'predicate': 'unconformable contact',\n   'object': {'strat_name': 'Shakopee',\n    'strat_name_long': 'Shakopee Formation',\n    'rank': 'Fm',\n    'strat_name_id': 1876,\n    'concept_id': 10342,\n    'bed': '',\n    'bed_id': 0,\n    'mbr': '',\n    'mbr_id': 0,\n    'fm': 'Shakopee',\n    'fm_id': 1876,\n    'subgp': '',\n    'subgp_id': 0,\n    'gp': 'Prairie du Chien',\n    'gp_id': 2622,\n    'sgp': '',\n    'sgp_id': 0,\n    'b_age': 479.625,\n    't_age': 475.775,\n    'b_period': 'Ordovician',\n    't_period': 'Ordovician',\n    'c_interval': '',\n    't_units': 10,\n    'ref_id': 1}},\n  {'subject': {'name': 'southern and eastern flanks of the Ozark dome',\n    'lat': None,\n    'lon': None},\n   'predicate': 'present beneath',\n   'object': {'strat_name': 'St Peter Sandstone',\n    'strat_name_long': 'St Peter Sandstone',\n    'rank': 'Fm',\n    'strat_name_id': 65762,\n    'concept_id': 3945,\n    'bed': '',\n    'bed_id': 0,\n    'mbr': '',\n    'mbr_id': 0,\n    'fm': 'St Peter Sandstone',\n    'fm_id': 65762,\n    'subgp': '',\n    'subgp_id': 0,\n    'gp': 'Buffalo River',\n    'gp_id': 75603,\n    'sgp': '',\n    'sgp_id': 0,\n    'b_age': 470.0,\n    't_age': 451.0,\n    'b_period': 'Ordovician',\n    't_period': 'Ordovician',\n    'c_interval': '',\n    't_units': 0,\n    'ref_id': 2}},\n  {'subject': {'name': 'southern and eastern flanks of the Ozark dome',\n    'lat': None,\n    'lon': None},\n   'predicate': 'includes',\n   'object': {'strat_name': 'Roubidoux',\n    'strat_name_long': 'Roubidoux Formation',\n    'rank': 'Fm',\n    'strat_name_id': 1770,\n    'concept_id': 10243,\n    'bed': '',\n    'bed_id': 0,\n    'mbr': '',\n    'mbr_id': 0,\n    'fm': 'Roubidoux',\n    'fm_id': 1770,\n    'subgp': '',\n    'subgp_id': 0,\n    'gp': '',\n    'gp_id': 0,\n    'sgp': '',\n    'sgp_id': 0,\n    'b_age': 483.475,\n    't_age': 475.775,\n    'b_period': 'Ordovician',\n    't_period': 'Ordovician',\n    'c_interval': '',\n    't_units': 9,\n    'ref_id': 1}},\n  {'subject': {'name': 'southern and eastern flanks of the Ozark dome',\n    'lat': None,\n    'lon': None},\n   'predicate': 'includes',\n   'object': {'strat_name': 'Jefferson City',\n    'strat_name_long': 'Jefferson City Group',\n    'rank': 'Gp',\n    'strat_name_id': 80589,\n    'concept_id': 2231,\n    'bed': '',\n    'bed_id': 0,\n    'mbr': '',\n    'mbr_id': 0,\n    'fm': '',\n    'fm_id': 0,\n    'subgp': '',\n    'subgp_id': 0,\n    'gp': 'Jefferson City',\n    'gp_id': 80589,\n    'sgp': '',\n    'sgp_id': 0,\n    'b_age': 485.4,\n    't_age': 470.0,\n    'b_period': 'Ordovician',\n    't_period': 'Ordovician',\n    'c_interval': '',\n    't_units': 0,\n    'ref_id': 19}},\n  {'subject': {'name': 'southern and eastern flanks of the Ozark dome',\n    'lat': None,\n    'lon': None},\n   'predicate': 'includes',\n   'object': {'strat_name': 'Cotter',\n    'strat_name_long': None,\n    'rank': None,\n    'strat_name_id': None,\n    'concept_id': None,\n    'bed': None,\n    'bed_id': None,\n    'mbr': None,\n    'mbr_id': None,\n    'fm': None,\n    'fm_id': None,\n    'subgp': None,\n    'subgp_id': None,\n    'gp': None,\n    'gp_id': None,\n    'sgp': None,\n    'sgp_id': None,\n    'b_age': None,\n    't_age': None,\n    'b_period': None,\n    't_period': None,\n    'c_interval': None,\n    't_units': None,\n    'ref_id': None}},\n  {'subject': {'name': 'southern and eastern flanks of the Ozark dome',\n    'lat': None,\n    'lon': None},\n   'predicate': 'includes',\n   'object': {'strat_name': 'Powell',\n    'strat_name_long': 'Powell Formation',\n    'rank': 'Fm',\n    'strat_name_id': 64974,\n    'concept_id': 3399,\n    'bed': '',\n    'bed_id': 0,\n    'mbr': '',\n    'mbr_id': 0,\n    'fm': 'Powell',\n    'fm_id': 64974,\n    'subgp': '',\n    'subgp_id': 0,\n    'gp': '',\n    'gp_id': 0,\n    'sgp': '',\n    'sgp_id': 0,\n    'b_age': 485.4,\n    't_age': 470.0,\n    'b_period': 'Ordovician',\n    't_period': 'Ordovician',\n    'c_interval': '',\n    't_units': 0,\n    'ref_id': 2}},\n  {'subject': {'name': 'southern and eastern flanks of the Ozark dome',\n    'lat': None,\n    'lon': None},\n   'predicate': 'includes',\n   'object': {'strat_name': 'Smithville',\n    'strat_name_long': 'Smithville Formation',\n    'rank': 'Fm',\n    'strat_name_id': 5933,\n    'concept_id': 3863,\n    'bed': '',\n    'bed_id': 0,\n    'mbr': '',\n    'mbr_id': 0,\n    'fm': 'Smithville',\n    'fm_id': 5933,\n    'subgp': '',\n    'subgp_id': 0,\n    'gp': '',\n    'gp_id': 0,\n    'sgp': '',\n    'sgp_id': 0,\n    'b_age': 471.2834,\n    't_age': 465.5,\n    'b_period': 'Ordovician',\n    't_period': 'Ordovician',\n    'c_interval': '',\n    't_units': 1,\n    'ref_id': 1}},\n  {'subject': {'name': 'southern and eastern flanks of the Ozark dome',\n    'lat': None,\n    'lon': None},\n   'predicate': 'includes',\n   'object': {'strat_name': 'Black Rock',\n    'strat_name_long': 'Black Rock Subgroup',\n    'rank': 'SubGp',\n    'strat_name_id': 92922,\n    'concept_id': 30341,\n    'bed': '',\n    'bed_id': 0,\n    'mbr': '',\n    'mbr_id': 0,\n    'fm': '',\n    'fm_id': 0,\n    'subgp': 'Black Rock',\n    'subgp_id': 92922,\n    'gp': 'Catombal',\n    'gp_id': 81359,\n    'sgp': '',\n    'sgp_id': 0,\n    'b_age': 382.7,\n    't_age': 358.9,\n    'b_period': 'Devonian',\n    't_period': 'Devonian',\n    'c_interval': '',\n    't_units': 0,\n    'ref_id': 22}},\n  {'subject': {'name': 'southern and eastern flanks of the Ozark dome',\n    'lat': None,\n    'lon': None},\n   'predicate': 'includes',\n   'object': {'strat_name': 'Everton',\n    'strat_name_long': 'Everton Group',\n    'rank': 'Gp',\n    'strat_name_id': 62249,\n    'concept_id': 1575,\n    'bed': '',\n    'bed_id': 0,\n    'mbr': '',\n    'mbr_id': 0,\n    'fm': '',\n    'fm_id': 0,\n    'subgp': '',\n    'subgp_id': 0,\n    'gp': 'Everton',\n    'gp_id': 62249,\n    'sgp': '',\n    'sgp_id': 0,\n    'b_age': 470.0,\n    't_age': 458.4,\n    'b_period': 'Ordovician',\n    't_period': 'Ordovician',\n    'c_interval': '',\n    't_units': 0,\n    'ref_id': 1}},\n  {'subject': {'name': 'northern Arkansas', 'lat': None, 'lon': None},\n   'predicate': 'contains',\n   'object': {'strat_name': 'Jasper Member of the Everton Formation',\n    'strat_name_long': None,\n    'rank': None,\n    'strat_name_id': None,\n    'concept_id': None,\n    'bed': None,\n    'bed_id': None,\n    'mbr': None,\n    'mbr_id': None,\n    'fm': None,\n    'fm_id': None,\n    'subgp': None,\n    'subgp_id': None,\n    'gp': None,\n    'gp_id': None,\n    'sgp': None,\n    'sgp_id': None,\n    'b_age': None,\n    't_age': None,\n    'b_period': None,\n    't_period': None,\n    'c_interval': None,\n    't_units': None,\n    'ref_id': None}},\n  {'subject': {'name': 'Reelfoot rift of southeastern Missouri and northeastern Missouri',\n    'lat': None,\n    'lon': None},\n   'predicate': 'may be correlative conformity',\n   'object': {'strat_name': 'Sauk',\n    'strat_name_long': None,\n    'rank': None,\n    'strat_name_id': None,\n    'concept_id': None,\n    'bed': None,\n    'bed_id': None,\n    'mbr': None,\n    'mbr_id': None,\n    'fm': None,\n    'fm_id': None,\n    'subgp': None,\n    'subgp_id': None,\n    'gp': None,\n    'gp_id': None,\n    'sgp': None,\n    'sgp_id': None,\n    'b_age': None,\n    't_age': None,\n    'b_period': None,\n    't_period': None,\n    'c_interval': None,\n    't_units': None,\n    'ref_id': None}}]}"
     },
     "execution_count": 2,
     "metadata": {},
     "output_type": "execute_result"
    }
   ],
   "source": [
    "ENDPOINT = os.getenv(\"API_URL\", \"http://localhost\") + \"/llm_graph\"\n",
    "API_KEY = os.getenv(\"API_KEY\")\n",
    "\n",
    "example_text = \"\"\"\n",
    "The top of the Sauk megasequence in Minnesota is at the unconformable contact of the Shakopee Formation with the St. Peter Sandstone. Younger rocks are present beneath the St. Peter Sandstone on the southern and east- ern flanks of the Ozark dome, where the upper Sauk succession includes the Roubidoux, Jefferson City, Cotter, Powell – Smithville – Black Rock, and Everton units in that stratigraphic order (Ethington et al., 2012; Palmer et al., 2012). The Shakopee Formation is equivalent to some lower part of this succession, but sparse inverte- brate faunas and long-ranging conodonts in these units preclude correlation with high resolution. The Jasper Member of the Everton Formation of northern Arkansas contains conodonts of the Histiodella holodentata Biozone, which demonstrates the latest early Whiterockian age for the top of the rocks of the GACB in that region. No faunal evidence is available there for the age of the base of the St. Peter Sandstone. The boundary between the Sauk and Tippecanoe megasequences may be a cor- relative conformity in the Reelfoot rift of southeastern Missouri and northeastern Missouri, but this has not been demonstrated.\n",
    "\"\"\"\n",
    "\n",
    "headers = {\"Content-Type\": \"application/json\", \"Api-Key\": API_KEY}\n",
    "data = {\n",
    "    \"text\": example_text,\n",
    "    \"model\": \"claude-3-opus-20240229\",\n",
    "}\n",
    "\n",
    "response = requests.post(ENDPOINT, headers=headers, json=data)\n",
    "response.json()"
   ]
  }
 ],
 "metadata": {
  "kernelspec": {
   "display_name": "Python 3",
   "language": "python",
   "name": "python3"
  },
  "language_info": {
   "codemirror_mode": {
    "name": "ipython",
    "version": 3
   },
   "file_extension": ".py",
   "mimetype": "text/x-python",
   "name": "python",
   "nbconvert_exporter": "python",
   "pygments_lexer": "ipython3",
   "version": "3.11.8"
  }
 },
 "nbformat": 4,
 "nbformat_minor": 2
}
