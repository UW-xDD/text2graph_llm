{
 "cells": [
  {
   "cell_type": "markdown",
   "metadata": {},
   "source": [
    "# Using text2graph API\n",
    "\n",
    "This is a minimal example for using text2graph API. For more information, please refer to our [repo](https://github.com/UW-xDD/text2graph_llm#readme)."
   ]
  },
  {
   "cell_type": "code",
   "execution_count": null,
   "metadata": {},
   "outputs": [],
   "source": [
    "import requests\n",
    "\n",
    "API_ENDPOINT = \"http://cosmos0002.chtc.wisc.edu:4510/llm_graph\"\n",
    "API_KEY = input(\n",
    "    \"Enter your text2graph API here:\"\n",
    ")  # Email jason.lo@wisc.edu to request an API key if you need access.\n",
    "\n",
    "headers = {\"Content-Type\": \"application/json\", \"Api-Key\": API_KEY}\n",
    "\n",
    "data = {\n",
    "    \"query\": \"Gold mines in Nevada.\",\n",
    "    \"top_k\": 1,\n",
    "    \"ttl\": True,  # Return in TTL format or not\n",
    "    \"hydrate\": False,  # Get additional data from external services (e.g., GPS). Due to rate limit, it is very slow. Do not use with top_k > 3\n",
    "}\n",
    "\n",
    "response = requests.post(API_ENDPOINT, headers=headers, json=data)\n",
    "response.raise_for_status()\n",
    "print(response.json())"
   ]
  }
 ],
 "metadata": {
  "kernelspec": {
   "display_name": "Python 3",
   "language": "python",
   "name": "python3"
  },
  "language_info": {
   "codemirror_mode": {
    "name": "ipython",
    "version": 3
   },
   "file_extension": ".py",
   "mimetype": "text/x-python",
   "name": "python",
   "nbconvert_exporter": "python",
   "pygments_lexer": "ipython3",
   "version": "3.11.8"
  }
 },
 "nbformat": 4,
 "nbformat_minor": 2
}
