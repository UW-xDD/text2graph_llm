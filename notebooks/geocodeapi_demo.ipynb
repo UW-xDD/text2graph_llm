{
 "cells": [
  {
   "metadata": {},
   "cell_type": "markdown",
   "source": "# demonstrate geolocation with geocode API",
   "id": "39a5c62a94974254"
  },
  {
   "metadata": {
    "ExecuteTime": {
     "end_time": "2024-04-23T20:53:44.972350Z",
     "start_time": "2024-04-23T20:53:44.841859Z"
    }
   },
   "cell_type": "code",
   "source": [
    "from text2graph.geolocation.geocode import get_gps\n",
    "from text2graph.schema import RateLimitedClient\n",
    "\n",
    "\n",
    "lat, lon, url = await get_gps(\"little pybus bay\", client=RateLimitedClient(interval=1., count=1, timeout=30))\n",
    "print(lat, lon, url)"
   ],
   "id": "77ef73521cc55056",
   "outputs": [
    {
     "name": "stdout",
     "output_type": "stream",
     "text": [
      "57.2436111 -134.1333333 https://geocode.maps.co/search?&q=little pybus bay\n"
     ]
    }
   ],
   "execution_count": 10
  },
  {
   "metadata": {
    "ExecuteTime": {
     "end_time": "2024-04-23T20:53:51.059940Z",
     "start_time": "2024-04-23T20:53:51.057Z"
    }
   },
   "cell_type": "code",
   "source": [
    "# # get text from hybrid endpoint\n",
    "\n",
    "# import os\n",
    "# import requests\n",
    "# \n",
    "# \n",
    "# ASK_XDD_APIKEY = os.getenv(\"ASK_XDD_APIKEY\")\n",
    "# ENDPOINT = \"http://cosmos0001.chtc.wisc.edu:4502/hybrid\"\n",
    "# \n",
    "# headers = {\"Content-Type\": \"application/json\", \"Api-Key\": ASK_XDD_APIKEY}\n",
    "# data = {\n",
    "#     \"topic\": \"criticalmaas\",\n",
    "#     \"question\": \"Little Pybus Bay Stratigraphy\",\n",
    "#     \"top_k\": 10,\n",
    "#     \"temperature\": 1.0,\n",
    "# }\n",
    "# \n",
    "# response = requests.post(ENDPOINT, headers=headers, json=data)\n",
    "# text = response.json()[2]['text_content']\n",
    "# text"
   ],
   "id": "c980f4a15cb1e270",
   "outputs": [],
   "execution_count": 11
  },
  {
   "metadata": {
    "ExecuteTime": {
     "end_time": "2024-04-23T20:54:28.664689Z",
     "start_time": "2024-04-23T20:54:06.329877Z"
    }
   },
   "cell_type": "code",
   "source": [
    "from text2graph.llm import ask_llm, OpenSourceModel, OpenAIModel\n",
    "from text2graph.prompt import PromptHandlerV3\n",
    "from text2graph.alignment import AlignmentHandler\n",
    "\n",
    "text = 'In the county of Annapolis, Nova Scotia, and in the vicinity of Nictaux Silurian strata occur, including the Nictaux iron ore beds and the Torbrook sandstone formation, whilst near Kentville the Kentville formation is seen, as well as on Angus Brook, in the Gaspereau Valley, also at New Canaan, with Dictyonema websteTi Dawson, and at Wolfville, in King\\'s County, where coralline limestones, red and green graptolitic slates, and other strata, at times highly cleaved, squeezed, and metamorphosed, form conspicuous ridges and constitute the oldest sedimentaries in the vicinity of the Bay of Fundy and the Blomidon region in the \"land of Evangeline.\\'\\''\n",
    "\n",
    "# model = OpenSourceModel(\"mixtral\")\n",
    "model = OpenAIModel.GPT4T\n",
    "results = await ask_llm(\n",
    "        text=text,\n",
    "        prompt_handler=PromptHandlerV3(),\n",
    "        model=model,\n",
    "        temperature=0.0,\n",
    "        to_triplets=True,\n",
    "        alignment_handler=AlignmentHandler.load(\n",
    "            \"data/known_entity_embeddings/all-MiniLM-L6-v2\"\n",
    "        ),\n",
    "    )\n"
   ],
   "id": "9b0bf8c908d4ea21",
   "outputs": [
    {
     "name": "stderr",
     "output_type": "stream",
     "text": [
      "WARNING:root:No stratigraphic name found for 'Nictaux'\n",
      "WARNING:root:No stratigraphic name found for 'Bay of Fundy'\n",
      "WARNING:root:Location hydrate geocode api request failed for Wolfville, in King's County: response.status_code=200 response.content=b'[]'\n",
      "WARNING:root:Location hydrate geocode api request failed for Wolfville, in King's County: response.status_code=200 response.content=b'[]'\n"
     ]
    }
   ],
   "execution_count": 12
  },
  {
   "metadata": {
    "ExecuteTime": {
     "end_time": "2024-04-23T20:54:28.670020Z",
     "start_time": "2024-04-23T20:54:28.666260Z"
    }
   },
   "cell_type": "code",
   "source": [
    "strat_name = results.triplets[1].object\n",
    "location = results.triplets[1].subject\n",
    "\n",
    "print(f\"{strat_name.strat_name_long=}\")\n",
    "print(f\"{location.name=}\")\n",
    "print(f\"{location.lat=}\")\n",
    "print(f\"{location.lon=}\")"
   ],
   "id": "79f76d7ee25c1fec",
   "outputs": [
    {
     "name": "stdout",
     "output_type": "stream",
     "text": [
      "strat_name.strat_name_long='Torbrook Formation'\n",
      "location.name='Annapolis, Nova Scotia'\n",
      "location.lat='44.7064932'\n",
      "location.lon='-65.2498142'\n"
     ]
    }
   ],
   "execution_count": 13
  },
  {
   "metadata": {},
   "cell_type": "code",
   "outputs": [],
   "execution_count": null,
   "source": "",
   "id": "7fdc842d9ee1cde5"
  }
 ],
 "metadata": {
  "kernelspec": {
   "display_name": "Python 3",
   "language": "python",
   "name": "python3"
  },
  "language_info": {
   "codemirror_mode": {
    "name": "ipython",
    "version": 2
   },
   "file_extension": ".py",
   "mimetype": "text/x-python",
   "name": "python",
   "nbconvert_exporter": "python",
   "pygments_lexer": "ipython2",
   "version": "2.7.6"
  }
 },
 "nbformat": 4,
 "nbformat_minor": 5
}
