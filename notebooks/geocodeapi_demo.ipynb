{
 "cells": [
  {
   "metadata": {},
   "cell_type": "markdown",
   "source": "# demonstrate geolocation with geocode API",
   "id": "39a5c62a94974254"
  },
  {
   "metadata": {
    "ExecuteTime": {
     "end_time": "2024-04-23T20:14:02.606195Z",
     "start_time": "2024-04-23T20:14:02.032486Z"
    }
   },
   "cell_type": "code",
   "source": [
    "from text2graph.geolocation.geocode import get_gps\n",
    "from text2graph.schema import RateLimitedClient\n",
    "\n",
    "\n",
    "lat, lon, url = await get_gps(\"little pybus bay\", client=RateLimitedClient(interval=1., count=1, timeout=30))\n",
    "print(lat, lon, url)"
   ],
   "id": "77ef73521cc55056",
   "outputs": [
    {
     "name": "stdout",
     "output_type": "stream",
     "text": [
      "57.2436111 -134.1333333 https://geocode.maps.co/search?&q=little pybus bay\n"
     ]
    }
   ],
   "execution_count": 1
  },
  {
   "metadata": {},
   "cell_type": "markdown",
   "source": "",
   "id": "4cb121c62f2daac4"
  },
  {
   "metadata": {
    "ExecuteTime": {
     "end_time": "2024-04-23T20:39:25.579850Z",
     "start_time": "2024-04-23T20:39:25.575656Z"
    }
   },
   "cell_type": "code",
   "source": [
    "# # get text from hybrid endpoint\n",
    "\n",
    "# import os\n",
    "# import requests\n",
    "# \n",
    "# \n",
    "# ASK_XDD_APIKEY = os.getenv(\"ASK_XDD_APIKEY\")\n",
    "# ENDPOINT = \"http://cosmos0001.chtc.wisc.edu:4502/hybrid\"\n",
    "# \n",
    "# headers = {\"Content-Type\": \"application/json\", \"Api-Key\": ASK_XDD_APIKEY}\n",
    "# data = {\n",
    "#     \"topic\": \"criticalmaas\",\n",
    "#     \"question\": \"Little Pybus Bay Stratigraphy\",\n",
    "#     \"top_k\": 10,\n",
    "#     \"temperature\": 1.0,\n",
    "# }\n",
    "# \n",
    "# response = requests.post(ENDPOINT, headers=headers, json=data)\n",
    "# text = response.json()[2]['text_content']\n",
    "# text"
   ],
   "id": "c980f4a15cb1e270",
   "outputs": [],
   "execution_count": 2
  },
  {
   "metadata": {
    "ExecuteTime": {
     "end_time": "2024-04-23T20:28:35.746978Z",
     "start_time": "2024-04-23T20:28:09.871883Z"
    }
   },
   "cell_type": "code",
   "source": [
    "from text2graph.llm import ask_llm, OpenSourceModel, OpenAIModel\n",
    "from text2graph.prompt import PromptHandlerV3\n",
    "from text2graph.alignment import AlignmentHandler\n",
    "\n",
    "text = 'In the county of Annapolis, Nova Scotia, and in the vicinity of Nictaux Silurian strata occur, including the Nictaux iron ore beds and the Torbrook sandstone formation, whilst near Kentville the Kentville formation is seen, as well as on Angus Brook, in the Gaspereau Valley, also at New Canaan, with Dictyonema websteTi Dawson, and at Wolfville, in King\\'s County, where coralline limestones, red and green graptolitic slates, and other strata, at times highly cleaved, squeezed, and metamorphosed, form conspicuous ridges and constitute the oldest sedimentaries in the vicinity of the Bay of Fundy and the Blomidon region in the \"land of Evangeline.\\'\\''\n",
    "\n",
    "# model = OpenSourceModel(\"mixtral\")\n",
    "model = OpenAIModel.GPT4T\n",
    "results = await ask_llm(\n",
    "        text=text,\n",
    "        prompt_handler=PromptHandlerV3(),\n",
    "        model=model,\n",
    "        temperature=0.0,\n",
    "        to_triplets=True,\n",
    "        alignment_handler=AlignmentHandler.load(\n",
    "            \"data/known_entity_embeddings/all-MiniLM-L6-v2\"\n",
    "        ),\n",
    "    )\n",
    "\n",
    "results"
   ],
   "id": "9b0bf8c908d4ea21",
   "outputs": [
    {
     "name": "stderr",
     "output_type": "stream",
     "text": [
      "WARNING:root:No stratigraphic name found for 'Nictaux'\n",
      "WARNING:root:No stratigraphic name found for 'Bay of Fundy'\n",
      "WARNING:root:Location hydrate geocode api request failed for Wolfville, in King's County: response.status_code=200 response.content=b'[]'\n",
      "WARNING:root:Location hydrate geocode api request failed for Wolfville, in King's County: response.status_code=200 response.content=b'[]'\n"
     ]
    },
    {
     "data": {
      "text/plain": [
       "GraphOutput(triplets=[RelationshipTriplet(subject=Location(name='Annapolis, Nova Scotia', lat='44.7064932', lon='-65.2498142', provenance=Provenance(id=UUID('a1d81649-1556-423c-a7e4-98e1915e62fd'), source_name='GeocodeAPI', source_url='https://geocode.maps.co/search?&q=Annapolis, Nova Scotia', source_version=None, requested=datetime.datetime(2024, 4, 23, 15, 28, 30, 771453), additional_values={}, previous=Provenance(id=UUID('0d9e3086-cfa0-4fc5-96da-52f95569b0f3'), source_name='OpenAIModel', source_url=None, source_version='gpt-4-turbo-preview', requested=datetime.datetime(2024, 4, 23, 20, 28, 13, 651180, tzinfo=datetime.timezone.utc), additional_values={'temperature': 0.0, 'prompt': 'v3', 'doc_ids': []}, previous=None))), predicate='occur', object=Stratigraphy(strat_name='Nictaux', strat_name_long=None, rank=None, strat_name_id=None, concept_id=None, bed=None, bed_id=None, mbr=None, mbr_id=None, fm=None, fm_id=None, subgp=None, subgp_id=None, gp=None, gp_id=None, sgp=None, sgp_id=None, b_age=None, t_age=None, b_period=None, t_period=None, c_interval=None, t_units=None, ref_id=None, provenance=Provenance(id=UUID('0d9e3086-cfa0-4fc5-96da-52f95569b0f3'), source_name='OpenAIModel', source_url=None, source_version='gpt-4-turbo-preview', requested=datetime.datetime(2024, 4, 23, 20, 28, 13, 651180, tzinfo=datetime.timezone.utc), additional_values={'temperature': 0.0, 'prompt': 'v3', 'doc_ids': []}, previous=None)), provenance=Provenance(id=UUID('0d9e3086-cfa0-4fc5-96da-52f95569b0f3'), source_name='OpenAIModel', source_url=None, source_version='gpt-4-turbo-preview', requested=datetime.datetime(2024, 4, 23, 20, 28, 13, 651180, tzinfo=datetime.timezone.utc), additional_values={'temperature': 0.0, 'prompt': 'v3', 'doc_ids': []}, previous=None)), RelationshipTriplet(subject=Location(name='Annapolis, Nova Scotia', lat='44.7064932', lon='-65.2498142', provenance=Provenance(id=UUID('03db5d8d-6698-408e-8123-d9cae224816c'), source_name='GeocodeAPI', source_url='https://geocode.maps.co/search?&q=Annapolis, Nova Scotia', source_version=None, requested=datetime.datetime(2024, 4, 23, 15, 28, 31, 682858), additional_values={}, previous=Provenance(id=UUID('0d9e3086-cfa0-4fc5-96da-52f95569b0f3'), source_name='OpenAIModel', source_url=None, source_version='gpt-4-turbo-preview', requested=datetime.datetime(2024, 4, 23, 20, 28, 13, 651180, tzinfo=datetime.timezone.utc), additional_values={'temperature': 0.0, 'prompt': 'v3', 'doc_ids': []}, previous=None))), predicate='including', object=Stratigraphy(strat_name='Torbrook', strat_name_long='Torbrook Formation', rank='Fm', strat_name_id=6045, concept_id=29553, bed='', bed_id=0, mbr='', mbr_id=0, fm='Torbrook', fm_id=6045, subgp='', subgp_id=0, gp='', gp_id=0, sgp='', sgp_id=0, b_age=419.2, t_age=407.6, b_period='Devonian', t_period='Devonian', c_interval='', t_units=1, ref_id=2, provenance=Provenance(id=UUID('2d60e27a-5d9e-4664-8d00-af82fa90bda1'), source_name='Macrostrat', source_url='https://macrostrat.org/api/defs/strat_names?strat_name_id=6045', source_version=2, requested=datetime.datetime(2024, 4, 23, 20, 28, 13, 651180, tzinfo=datetime.timezone.utc), additional_values={}, previous=Provenance(id=UUID('0d9e3086-cfa0-4fc5-96da-52f95569b0f3'), source_name='OpenAIModel', source_url=None, source_version='gpt-4-turbo-preview', requested=datetime.datetime(2024, 4, 23, 20, 28, 13, 651180, tzinfo=datetime.timezone.utc), additional_values={'temperature': 0.0, 'prompt': 'v3', 'doc_ids': []}, previous=None))), provenance=Provenance(id=UUID('0d9e3086-cfa0-4fc5-96da-52f95569b0f3'), source_name='OpenAIModel', source_url=None, source_version='gpt-4-turbo-preview', requested=datetime.datetime(2024, 4, 23, 20, 28, 13, 651180, tzinfo=datetime.timezone.utc), additional_values={'temperature': 0.0, 'prompt': 'v3', 'doc_ids': []}, previous=None)), RelationshipTriplet(subject=Location(name='Kentville', lat='45.0784875', lon='-64.495212', provenance=Provenance(id=UUID('7c3249b3-7c70-4732-9252-327fe749560a'), source_name='GeocodeAPI', source_url='https://geocode.maps.co/search?&q=Kentville', source_version=None, requested=datetime.datetime(2024, 4, 23, 15, 28, 32, 698257), additional_values={}, previous=Provenance(id=UUID('0d9e3086-cfa0-4fc5-96da-52f95569b0f3'), source_name='OpenAIModel', source_url=None, source_version='gpt-4-turbo-preview', requested=datetime.datetime(2024, 4, 23, 20, 28, 13, 651180, tzinfo=datetime.timezone.utc), additional_values={'temperature': 0.0, 'prompt': 'v3', 'doc_ids': []}, previous=None))), predicate='seen', object=Stratigraphy(strat_name='Kentville', strat_name_long='Kentville Formation', rank='Fm', strat_name_id=5428, concept_id=29493, bed='', bed_id=0, mbr='', mbr_id=0, fm='Kentville', fm_id=5428, subgp='', subgp_id=0, gp='', gp_id=0, sgp='', sgp_id=0, b_age=427.4, t_age=419.2, b_period='Silurian', t_period='Silurian', c_interval='', t_units=1, ref_id=2, provenance=Provenance(id=UUID('f0d00f77-0aa8-4753-a235-adc66e4b8aa1'), source_name='Macrostrat', source_url='https://macrostrat.org/api/defs/strat_names?strat_name_id=5428', source_version=2, requested=datetime.datetime(2024, 4, 23, 20, 28, 13, 651180, tzinfo=datetime.timezone.utc), additional_values={}, previous=Provenance(id=UUID('0d9e3086-cfa0-4fc5-96da-52f95569b0f3'), source_name='OpenAIModel', source_url=None, source_version='gpt-4-turbo-preview', requested=datetime.datetime(2024, 4, 23, 20, 28, 13, 651180, tzinfo=datetime.timezone.utc), additional_values={'temperature': 0.0, 'prompt': 'v3', 'doc_ids': []}, previous=None))), provenance=Provenance(id=UUID('0d9e3086-cfa0-4fc5-96da-52f95569b0f3'), source_name='OpenAIModel', source_url=None, source_version='gpt-4-turbo-preview', requested=datetime.datetime(2024, 4, 23, 20, 28, 13, 651180, tzinfo=datetime.timezone.utc), additional_values={'temperature': 0.0, 'prompt': 'v3', 'doc_ids': []}, previous=None)), RelationshipTriplet(subject=Location(name='New Canaan', lat='41.146763', lon='-73.4948446', provenance=Provenance(id=UUID('2bac393b-21c1-4b78-9e5e-292708295356'), source_name='GeocodeAPI', source_url='https://geocode.maps.co/search?&q=New Canaan', source_version=None, requested=datetime.datetime(2024, 4, 23, 15, 28, 33, 691903), additional_values={}, previous=Provenance(id=UUID('0d9e3086-cfa0-4fc5-96da-52f95569b0f3'), source_name='OpenAIModel', source_url=None, source_version='gpt-4-turbo-preview', requested=datetime.datetime(2024, 4, 23, 20, 28, 13, 651180, tzinfo=datetime.timezone.utc), additional_values={'temperature': 0.0, 'prompt': 'v3', 'doc_ids': []}, previous=None))), predicate='at', object=Stratigraphy(strat_name='Dawson', strat_name_long='Dawson Formation', rank='Fm', strat_name_id=70288, concept_id=7850, bed='', bed_id=0, mbr='', mbr_id=0, fm='Dawson', fm_id=70288, subgp='', subgp_id=0, gp='', gp_id=0, sgp='', sgp_id=0, b_age=72.1, t_age=33.9, b_period='Cretaceous', t_period='Paleogene', c_interval='', t_units=0, ref_id=19, provenance=Provenance(id=UUID('e9fd677d-8af7-4cfb-b4cb-b1264b199356'), source_name='Macrostrat', source_url='https://macrostrat.org/api/defs/strat_names?strat_name_id=70288', source_version=2, requested=datetime.datetime(2024, 4, 23, 20, 28, 13, 651180, tzinfo=datetime.timezone.utc), additional_values={}, previous=Provenance(id=UUID('0d9e3086-cfa0-4fc5-96da-52f95569b0f3'), source_name='OpenAIModel', source_url=None, source_version='gpt-4-turbo-preview', requested=datetime.datetime(2024, 4, 23, 20, 28, 13, 651180, tzinfo=datetime.timezone.utc), additional_values={'temperature': 0.0, 'prompt': 'v3', 'doc_ids': []}, previous=None))), provenance=Provenance(id=UUID('0d9e3086-cfa0-4fc5-96da-52f95569b0f3'), source_name='OpenAIModel', source_url=None, source_version='gpt-4-turbo-preview', requested=datetime.datetime(2024, 4, 23, 20, 28, 13, 651180, tzinfo=datetime.timezone.utc), additional_values={'temperature': 0.0, 'prompt': 'v3', 'doc_ids': []}, previous=None)), RelationshipTriplet(subject=Location(name=\"Wolfville, in King's County\", lat=None, lon=None, provenance=Provenance(id=UUID('0d9e3086-cfa0-4fc5-96da-52f95569b0f3'), source_name='OpenAIModel', source_url=None, source_version='gpt-4-turbo-preview', requested=datetime.datetime(2024, 4, 23, 20, 28, 13, 651180, tzinfo=datetime.timezone.utc), additional_values={'temperature': 0.0, 'prompt': 'v3', 'doc_ids': []}, previous=None)), predicate='where', object=Stratigraphy(strat_name='Bay of Fundy', strat_name_long=None, rank=None, strat_name_id=None, concept_id=None, bed=None, bed_id=None, mbr=None, mbr_id=None, fm=None, fm_id=None, subgp=None, subgp_id=None, gp=None, gp_id=None, sgp=None, sgp_id=None, b_age=None, t_age=None, b_period=None, t_period=None, c_interval=None, t_units=None, ref_id=None, provenance=Provenance(id=UUID('0d9e3086-cfa0-4fc5-96da-52f95569b0f3'), source_name='OpenAIModel', source_url=None, source_version='gpt-4-turbo-preview', requested=datetime.datetime(2024, 4, 23, 20, 28, 13, 651180, tzinfo=datetime.timezone.utc), additional_values={'temperature': 0.0, 'prompt': 'v3', 'doc_ids': []}, previous=None)), provenance=Provenance(id=UUID('0d9e3086-cfa0-4fc5-96da-52f95569b0f3'), source_name='OpenAIModel', source_url=None, source_version='gpt-4-turbo-preview', requested=datetime.datetime(2024, 4, 23, 20, 28, 13, 651180, tzinfo=datetime.timezone.utc), additional_values={'temperature': 0.0, 'prompt': 'v3', 'doc_ids': []}, previous=None)), RelationshipTriplet(subject=Location(name=\"Wolfville, in King's County\", lat=None, lon=None, provenance=Provenance(id=UUID('0d9e3086-cfa0-4fc5-96da-52f95569b0f3'), source_name='OpenAIModel', source_url=None, source_version='gpt-4-turbo-preview', requested=datetime.datetime(2024, 4, 23, 20, 28, 13, 651180, tzinfo=datetime.timezone.utc), additional_values={'temperature': 0.0, 'prompt': 'v3', 'doc_ids': []}, previous=None)), predicate='where', object=Stratigraphy(strat_name='Blomidon', strat_name_long='Blomidon Formation', rank='Fm', strat_name_id=4909, concept_id=29918, bed='', bed_id=0, mbr='', mbr_id=0, fm='Blomidon', fm_id=4909, subgp='', subgp_id=0, gp='Fundy', gp_id=7968, sgp='', sgp_id=0, b_age=228.7, t_age=223.9475, b_period='Triassic', t_period='Jurassic', c_interval='', t_units=1, ref_id=2, provenance=Provenance(id=UUID('6a5839b8-347b-483e-bf50-39736cd60490'), source_name='Macrostrat', source_url='https://macrostrat.org/api/defs/strat_names?strat_name_id=4909', source_version=2, requested=datetime.datetime(2024, 4, 23, 20, 28, 13, 651180, tzinfo=datetime.timezone.utc), additional_values={}, previous=Provenance(id=UUID('0d9e3086-cfa0-4fc5-96da-52f95569b0f3'), source_name='OpenAIModel', source_url=None, source_version='gpt-4-turbo-preview', requested=datetime.datetime(2024, 4, 23, 20, 28, 13, 651180, tzinfo=datetime.timezone.utc), additional_values={'temperature': 0.0, 'prompt': 'v3', 'doc_ids': []}, previous=None))), provenance=Provenance(id=UUID('0d9e3086-cfa0-4fc5-96da-52f95569b0f3'), source_name='OpenAIModel', source_url=None, source_version='gpt-4-turbo-preview', requested=datetime.datetime(2024, 4, 23, 20, 28, 13, 651180, tzinfo=datetime.timezone.utc), additional_values={'temperature': 0.0, 'prompt': 'v3', 'doc_ids': []}, previous=None))])"
      ]
     },
     "execution_count": 1,
     "metadata": {},
     "output_type": "execute_result"
    }
   ],
   "execution_count": 1
  },
  {
   "metadata": {},
   "cell_type": "code",
   "outputs": [
    {
     "name": "stdout",
     "output_type": "stream",
     "text": [
      "strat_name.strat_name_long='Torbrook Formation'\n",
      "location.name='Annapolis, Nova Scotia'\n",
      "location.lat='44.7064932'\n",
      "location.lon='-65.2498142'\n"
     ]
    }
   ],
   "execution_count": 9,
   "source": [
    "strat_name = results.triplets[1].object\n",
    "location = results.triplets[1].subject\n",
    "\n",
    "print(f\"{strat_name.strat_name_long=}\")\n",
    "print(f\"{location.name=}\")\n",
    "print(f\"{location.lat=}\")\n",
    "print(f\"{location.lon=}\")"
   ],
   "id": "79f76d7ee25c1fec"
  }
 ],
 "metadata": {
  "kernelspec": {
   "display_name": "Python 3",
   "language": "python",
   "name": "python3"
  },
  "language_info": {
   "codemirror_mode": {
    "name": "ipython",
    "version": 2
   },
   "file_extension": ".py",
   "mimetype": "text/x-python",
   "name": "python",
   "nbconvert_exporter": "python",
   "pygments_lexer": "ipython2",
   "version": "2.7.6"
  }
 },
 "nbformat": 4,
 "nbformat_minor": 5
}
