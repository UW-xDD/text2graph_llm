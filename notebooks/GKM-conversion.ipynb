{
 "cells": [
  {
   "cell_type": "markdown",
   "source": [
    "# GKM Ontology conversion of llm derived triplets"
   ],
   "metadata": {
    "collapsed": false
   },
   "id": "122406b76068101"
  },
  {
   "cell_type": "markdown",
   "source": [
    "## import triple data"
   ],
   "metadata": {
    "collapsed": false
   },
   "id": "e3d1dd9f08402719"
  },
  {
   "cell_type": "code",
   "outputs": [
    {
     "name": "stderr",
     "output_type": "stream",
     "text": [
      "INFO:root:loaded shakopee_triplet from disk\n"
     ]
    },
    {
     "data": {
      "text/plain": "{'subject': {'strat_name': 'Shakopee',\n  'strat_name_long': 'Shakopee Formation',\n  'rank': 'Fm',\n  'strat_name_id': 1876,\n  'concept_id': 10342,\n  'bed': '',\n  'bed_id': 0,\n  'mbr': '',\n  'mbr_id': 0,\n  'fm': 'Shakopee',\n  'fm_id': 1876,\n  'subgp': '',\n  'subgp_id': 0,\n  'gp': 'Prairie du Chien',\n  'gp_id': 2622,\n  'sgp': '',\n  'sgp_id': 0,\n  'b_age': 479.625,\n  't_age': 475.775,\n  'b_period': 'Ordovician',\n  't_period': 'Ordovician',\n  'c_interval': '',\n  't_units': 10,\n  'ref_id': 1},\n 'predicate': 'is_in',\n 'object': {'name': 'Minnesota',\n  'lat': 46.729552999999996,\n  'lon': -94.6858998}}"
     },
     "execution_count": 1,
     "metadata": {},
     "output_type": "execute_result"
    }
   ],
   "source": [
    "from text2graph.schema import RelationshipTriples\n",
    "from pathlib import Path\n",
    "import json\n",
    "import dotenv\n",
    "import logging\n",
    "\n",
    "\n",
    "logging.basicConfig(level=logging.INFO)\n",
    "dotenv.load_dotenv()\n",
    "\n",
    "\n",
    "shakopee_triplet_path = Path(\"../data/shakopee_triplet.json\")  \n",
    "try:\n",
    "    with open(shakopee_triplet_path, 'r') as f:\n",
    "        shakopee_triplet = json.load(f)\n",
    "    logging.info(\"loaded shakopee_triplet from disk\")\n",
    "        \n",
    "except FileNotFoundError:\n",
    "    logging.warning(\"no shakopee_triplet file found, calling SERPAPI...\")\n",
    "    raw_llm_output = (\"Shakopee\", \"Minnesota\", \"is_in\")\n",
    "    subject, object, predicate = raw_llm_output\n",
    "    triplet = RelationshipTriples(subject=subject, object=object, predicate=predicate)\n",
    "    shakopee_triplet = triplet.dict()\n",
    "    with open(shakopee_triplet_path, \"w\") as f:\n",
    "        json.dump(shakopee_triplet, f)\n",
    "\n",
    "shakopee_triplet"
   ],
   "metadata": {
    "collapsed": false,
    "ExecuteTime": {
     "end_time": "2024-03-20T18:53:37.782144Z",
     "start_time": "2024-03-20T18:53:37.618475Z"
    }
   },
   "id": "344521ab32c5713d",
   "execution_count": 1
  },
  {
   "cell_type": "markdown",
   "source": [
    "## Convert to GKM TTL"
   ],
   "metadata": {
    "collapsed": false
   },
   "id": "f5c22478b5753fd2"
  },
  {
   "cell_type": "code",
   "outputs": [
    {
     "name": "stdout",
     "output_type": "stream",
     "text": [
      "@prefix gsgu: <https://w3id.org/gso/geologicunit/> .\n",
      "@prefix rdfs: <http://www.w3.org/2000/01/rdf-schema#> .\n",
      "\n",
      "<http://w3id.org/gso/1.0/ShakopeeFormation> a gsgu:Formation ;\n",
      "    rdfs:label \"Shakopee Formation\"@en .\n",
      "\n"
     ]
    }
   ],
   "source": [
    "from text2graph.gkm import triplet_to_rdf, graph_to_ttl_string\n",
    "\n",
    "shakopee_triplet_graph = triplet_to_rdf(shakopee_triplet)\n",
    "print(\n",
    "    graph_to_ttl_string(\n",
    "        g=shakopee_triplet_graph,\n",
    "        filename=Path(\"./shakopee_triplet.ttl\")   \n",
    "    )\n",
    ")\n"
   ],
   "metadata": {
    "collapsed": false,
    "ExecuteTime": {
     "end_time": "2024-03-20T18:53:37.940783Z",
     "start_time": "2024-03-20T18:53:37.783867Z"
    }
   },
   "id": "a6af685e72b384a7",
   "execution_count": 2
  },
  {
   "cell_type": "code",
   "outputs": [],
   "source": [],
   "metadata": {
    "collapsed": false,
    "ExecuteTime": {
     "end_time": "2024-03-20T18:53:37.943898Z",
     "start_time": "2024-03-20T18:53:37.942214Z"
    }
   },
   "id": "6004255615edeb5b",
   "execution_count": 2
  }
 ],
 "metadata": {
  "kernelspec": {
   "display_name": "Python 3",
   "language": "python",
   "name": "python3"
  },
  "language_info": {
   "codemirror_mode": {
    "name": "ipython",
    "version": 2
   },
   "file_extension": ".py",
   "mimetype": "text/x-python",
   "name": "python",
   "nbconvert_exporter": "python",
   "pygments_lexer": "ipython2",
   "version": "2.7.6"
  }
 },
 "nbformat": 4,
 "nbformat_minor": 5
}
