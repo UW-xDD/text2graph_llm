{
 "cells": [
  {
   "cell_type": "markdown",
   "source": [
    "# GKM Ontology conversion of llm derived triplets"
   ],
   "metadata": {
    "collapsed": false
   },
   "id": "122406b76068101"
  },
  {
   "cell_type": "code",
   "outputs": [
    {
     "data": {
      "text/plain": "{'subject': {'strat_name': 'Shakopee',\n  'strat_name_long': 'Shakopee Formation',\n  'rank': 'Fm',\n  'strat_name_id': 1876,\n  'concept_id': 10342,\n  'bed': '',\n  'bed_id': 0,\n  'mbr': '',\n  'mbr_id': 0,\n  'fm': 'Shakopee',\n  'fm_id': 1876,\n  'subgp': '',\n  'subgp_id': 0,\n  'gp': 'Prairie du Chien',\n  'gp_id': 2622,\n  'sgp': '',\n  'sgp_id': 0,\n  'b_age': 479.625,\n  't_age': 475.775,\n  'b_period': 'Ordovician',\n  't_period': 'Ordovician',\n  'c_interval': '',\n  't_units': 10,\n  'ref_id': 1},\n 'predicate': 'is_in',\n 'object': {'name': 'Minnesota',\n  'lat': 46.729552999999996,\n  'lon': -94.6858998}}"
     },
     "execution_count": 1,
     "metadata": {},
     "output_type": "execute_result"
    }
   ],
   "source": [
    "from text2graph.schema import RelationshipTriples\n",
    "from pathlib import Path\n",
    "import json\n",
    "import dotenv\n",
    "\n",
    "\n",
    "dotenv.load_dotenv()\n",
    "shakopee_triplet_path = Path(\"../data/shakopee_triplet.json\")  \n",
    "try:\n",
    "    with open(shakopee_triplet_path, 'r') as f:\n",
    "        shakopee_triplet = json.load(f)\n",
    "        \n",
    "except FileNotFoundError:\n",
    "    raw_llm_output = (\"Shakopee\", \"Minnesota\", \"is_in\")\n",
    "    subject, object, predicate = raw_llm_output\n",
    "    triplet = RelationshipTriples(subject=subject, object=object, predicate=predicate)\n",
    "    shakopee_triplet = triplet.dict()\n",
    "    with open(shakopee_triplet_path, \"w\") as f:\n",
    "        json.dump(shakopee_triplet, f)\n",
    "\n",
    "shakopee_triplet"
   ],
   "metadata": {
    "collapsed": false,
    "ExecuteTime": {
     "end_time": "2024-03-17T19:13:28.577465Z",
     "start_time": "2024-03-17T19:13:28.366109Z"
    }
   },
   "id": "344521ab32c5713d",
   "execution_count": 1
  },
  {
   "cell_type": "code",
   "outputs": [
    {
     "data": {
      "text/plain": "[{'name': 'xdd:ShakopeeFormation'},\n {'gsoc:hasQuality': {'xdd:rank': {'hasValue:': 'Fm'}}},\n {'gsoc:hasQuality': {'xdd:fm': {'hasValue:': 'Shakopee'}}},\n {'gsoc:hasQuality': {'xdd:gp': {'hasValue:': 'Prairie du Chien'}}},\n {'gsoc:hasQuality': {'xdd:b_age': {'hasValue:': 479.625}}},\n {'gsoc:hasQuality': {'xdd:t_age': {'hasValue:': 475.775}}},\n {'gsoc:hasQuality': {'xdd:b_period': {'hasValue:': 'Ordovician'}}},\n {'gsoc:hasQuality': {'xdd:t_period': {'hasValue:': 'Ordovician'}}},\n {'xdd:isIn': {'gsoc:SpatialLocation': {'gsoc:hasValue': 'Minnesota'}}},\n {'gsoc:hasQuality': {'gsoc:SpatialLocation': {'gsoc:hasValue': 'Minnesota'}}},\n {'gsoc:hasQuality': {'gsoc:SpatialLocation': {'gsoc:hasValue': {'gsocSpatialValue': '(POINT 46.729552999999996 -94.6858998'}}}}]"
     },
     "execution_count": 2,
     "metadata": {},
     "output_type": "execute_result"
    }
   ],
   "source": [
    "from text2graph.gkm import triplet_to_gkm\n",
    "\n",
    "gkm_list = triplet_to_gkm(shakopee_triplet)\n",
    "gkm_list\n"
   ],
   "metadata": {
    "collapsed": false,
    "ExecuteTime": {
     "end_time": "2024-03-17T19:13:37.444775Z",
     "start_time": "2024-03-17T19:13:37.438504Z"
    }
   },
   "id": "3ed18a757bba802c",
   "execution_count": 2
  },
  {
   "cell_type": "code",
   "outputs": [
    {
     "data": {
      "text/plain": "'gsoc:hasQuality xdd:rank hasValue: Fm'"
     },
     "execution_count": 3,
     "metadata": {},
     "output_type": "execute_result"
    }
   ],
   "source": [
    "from text2graph.gkm import nested_dict_to_str\n",
    "        \n",
    "    \n",
    "result = nested_dict_to_str(gkm_list[1])\n",
    "result\n"
   ],
   "metadata": {
    "collapsed": false,
    "ExecuteTime": {
     "end_time": "2024-03-17T19:13:40.249180Z",
     "start_time": "2024-03-17T19:13:40.245103Z"
    }
   },
   "id": "7964f906c42bcbd4",
   "execution_count": 3
  },
  {
   "cell_type": "code",
   "outputs": [
    {
     "name": "stdout",
     "output_type": "stream",
     "text": [
      "{'name': 'xdd:ShakopeeFormation'}\n",
      "{'gsoc:hasQuality': {'xdd:rank': {'hasValue:': 'Fm'}}}\n",
      "{'gsoc:hasQuality': {'xdd:fm': {'hasValue:': 'Shakopee'}}}\n",
      "{'gsoc:hasQuality': {'xdd:gp': {'hasValue:': 'Prairie du Chien'}}}\n",
      "{'gsoc:hasQuality': {'xdd:b_age': {'hasValue:': 479.625}}}\n",
      "Unnesting error: {'gsoc:hasQuality': {'xdd:b_age': {'hasValue:': 479.625}}}\n",
      "{'gsoc:hasQuality': {'xdd:t_age': {'hasValue:': 475.775}}}\n",
      "Unnesting error: {'gsoc:hasQuality': {'xdd:t_age': {'hasValue:': 475.775}}}\n",
      "{'gsoc:hasQuality': {'xdd:b_period': {'hasValue:': 'Ordovician'}}}\n",
      "{'gsoc:hasQuality': {'xdd:t_period': {'hasValue:': 'Ordovician'}}}\n",
      "{'xdd:isIn': {'gsoc:SpatialLocation': {'gsoc:hasValue': 'Minnesota'}}}\n",
      "{'gsoc:hasQuality': {'gsoc:SpatialLocation': {'gsoc:hasValue': 'Minnesota'}}}\n",
      "{'gsoc:hasQuality': {'gsoc:SpatialLocation': {'gsoc:hasValue': {'gsocSpatialValue': '(POINT 46.729552999999996 -94.6858998'}}}}\n"
     ]
    },
    {
     "data": {
      "text/plain": "'xdd:ShakopeeFormation ;\\ngsoc:hasQuality xdd:rank hasValue: Fm ;\\ngsoc:hasQuality xdd:fm hasValue: Shakopee ;\\ngsoc:hasQuality xdd:gp hasValue: Prairie du Chien ;\\ngsoc:hasQuality xdd:b_period hasValue: Ordovician ;\\ngsoc:hasQuality xdd:t_period hasValue: Ordovician ;\\nxdd:isIn gsoc:SpatialLocation gsoc:hasValue Minnesota ;\\ngsoc:hasQuality gsoc:SpatialLocation gsoc:hasValue Minnesota ;\\ngsoc:hasQuality gsoc:SpatialLocation gsoc:hasValue gsocSpatialValue (POINT 46.729552999999996 -94.6858998 ;\\n'"
     },
     "execution_count": 4,
     "metadata": {},
     "output_type": "execute_result"
    }
   ],
   "source": [
    "from text2graph.gkm import gkm_to_string\n",
    "\n",
    "result = gkm_to_string(gkm_list)\n",
    "result"
   ],
   "metadata": {
    "collapsed": false,
    "ExecuteTime": {
     "end_time": "2024-03-17T19:13:42.553090Z",
     "start_time": "2024-03-17T19:13:42.548013Z"
    }
   },
   "id": "9d41ffc9637ee5f1",
   "execution_count": 4
  },
  {
   "cell_type": "code",
   "outputs": [],
   "source": [],
   "metadata": {
    "collapsed": false
   },
   "id": "76b2e10b29b5f4cb"
  }
 ],
 "metadata": {
  "kernelspec": {
   "display_name": "Python 3",
   "language": "python",
   "name": "python3"
  },
  "language_info": {
   "codemirror_mode": {
    "name": "ipython",
    "version": 2
   },
   "file_extension": ".py",
   "mimetype": "text/x-python",
   "name": "python",
   "nbconvert_exporter": "python",
   "pygments_lexer": "ipython2",
   "version": "2.7.6"
  }
 },
 "nbformat": 4,
 "nbformat_minor": 5
}
