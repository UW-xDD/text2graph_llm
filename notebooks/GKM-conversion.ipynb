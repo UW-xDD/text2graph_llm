{
 "cells": [
  {
   "cell_type": "markdown",
   "source": [
    "# GKM Ontology conversion of llm derived triplets"
   ],
   "metadata": {
    "collapsed": false
   },
   "id": "122406b76068101"
  },
  {
   "cell_type": "code",
   "outputs": [
    {
     "name": "stderr",
     "output_type": "stream",
     "text": [
      "INFO:root:loaded shakopee_triplet from disk\n"
     ]
    },
    {
     "data": {
      "text/plain": "{'subject': {'strat_name': 'Shakopee',\n  'strat_name_long': 'Shakopee Formation',\n  'rank': 'Fm',\n  'strat_name_id': 1876,\n  'concept_id': 10342,\n  'bed': '',\n  'bed_id': 0,\n  'mbr': '',\n  'mbr_id': 0,\n  'fm': 'Shakopee',\n  'fm_id': 1876,\n  'subgp': '',\n  'subgp_id': 0,\n  'gp': 'Prairie du Chien',\n  'gp_id': 2622,\n  'sgp': '',\n  'sgp_id': 0,\n  'b_age': 479.625,\n  't_age': 475.775,\n  'b_period': 'Ordovician',\n  't_period': 'Ordovician',\n  'c_interval': '',\n  't_units': 10,\n  'ref_id': 1},\n 'predicate': 'is_in',\n 'object': {'name': 'Minnesota',\n  'lat': 46.729552999999996,\n  'lon': -94.6858998}}"
     },
     "execution_count": 1,
     "metadata": {},
     "output_type": "execute_result"
    }
   ],
   "source": [
    "from text2graph.schema import RelationshipTriples\n",
    "from pathlib import Path\n",
    "import json\n",
    "import dotenv\n",
    "import logging\n",
    "\n",
    "\n",
    "logging.basicConfig(level=logging.INFO)\n",
    "dotenv.load_dotenv()\n",
    "\n",
    "\n",
    "shakopee_triplet_path = Path(\"../data/shakopee_triplet.json\")  \n",
    "try:\n",
    "    with open(shakopee_triplet_path, 'r') as f:\n",
    "        shakopee_triplet = json.load(f)\n",
    "    logging.info(\"loaded shakopee_triplet from disk\")\n",
    "        \n",
    "except FileNotFoundError:\n",
    "    logging.warning(\"no shakopee_triplet file found, calling SERPAPI...\")\n",
    "    raw_llm_output = (\"Shakopee\", \"Minnesota\", \"is_in\")\n",
    "    subject, object, predicate = raw_llm_output\n",
    "    triplet = RelationshipTriples(subject=subject, object=object, predicate=predicate)\n",
    "    shakopee_triplet = triplet.dict()\n",
    "    with open(shakopee_triplet_path, \"w\") as f:\n",
    "        json.dump(shakopee_triplet, f)\n",
    "\n",
    "shakopee_triplet"
   ],
   "metadata": {
    "collapsed": false,
    "ExecuteTime": {
     "end_time": "2024-03-18T16:41:09.057045Z",
     "start_time": "2024-03-18T16:41:08.894202Z"
    }
   },
   "id": "344521ab32c5713d",
   "execution_count": 1
  },
  {
   "cell_type": "code",
   "outputs": [
    {
     "data": {
      "text/plain": "[{'name': 'xdd:ShakopeeFormation'},\n {'rdf:type': 'gsgu:Formation'},\n {'gsoc:hasQuality': {'xdd:fm': {'gsoc:hasValue': '\"Shakopee\"'}}},\n {'gsoc:hasQuality': {'xdd:gp': {'gsoc:hasValue': '\"Prairie du Chien\"'}}},\n {'gsoc:hasQuality': {'xdd:b_age': {'gsoc:hasValue': '479.625'}}},\n {'gsoc:hasQuality': {'xdd:t_age': {'gsoc:hasValue': '475.775'}}},\n {'gsoc:hasQuality': {'xdd:b_period': {'gsoc:hasValue': '\"Ordovician\"'}}},\n {'gsoc:hasQuality': {'xdd:t_period': {'gsoc:hasValue': '\"Ordovician\"'}}},\n {'xdd:isIn': {'gsoc:SpatialLocation': {'gsoc:hasValue': '\"Minnesota\"'}}},\n {'gsoc:hasQuality': {'gsoc:SpatialLocation': {'gsoc:hasValue': '\"Minnesota\"'}}},\n {'gsoc:hasValue': {'gsoc:SpatialLocation': {'gsoc:hasValue': {'gsoc:SpatialValue': '(POINT 46.729552999999996 -94.6858998)'}}}}]"
     },
     "execution_count": 2,
     "metadata": {},
     "output_type": "execute_result"
    }
   ],
   "source": [
    "from text2graph.gkm import triplet_to_gkm\n",
    "\n",
    "gkm_list = triplet_to_gkm(shakopee_triplet)\n",
    "gkm_list\n"
   ],
   "metadata": {
    "collapsed": false,
    "ExecuteTime": {
     "end_time": "2024-03-18T16:41:09.147383Z",
     "start_time": "2024-03-18T16:41:09.059279Z"
    }
   },
   "id": "3ed18a757bba802c",
   "execution_count": 2
  },
  {
   "cell_type": "code",
   "outputs": [
    {
     "name": "stdout",
     "output_type": "stream",
     "text": [
      "xdd:ShakopeeFormation\n",
      "  rdf:type gsgu:Formation ;\n",
      "  gsoc:hasQuality [\n",
      "     xdd:fm gsoc:hasValue [\n",
      "       \"Shakopee\" ; \n",
      "    ] ;     \n",
      "  ] ;  \n",
      "  gsoc:hasQuality [\n",
      "     xdd:gp gsoc:hasValue [\n",
      "       \"Prairie du Chien\" ; \n",
      "    ] ;     \n",
      "  ] ;  \n",
      "  gsoc:hasQuality [\n",
      "     xdd:b_age gsoc:hasValue [\n",
      "       479.625 ; \n",
      "    ] ;     \n",
      "  ] ;  \n",
      "  gsoc:hasQuality [\n",
      "     xdd:t_age gsoc:hasValue [\n",
      "       475.775 ; \n",
      "    ] ;     \n",
      "  ] ;  \n",
      "  gsoc:hasQuality [\n",
      "     xdd:b_period gsoc:hasValue [\n",
      "       \"Ordovician\" ; \n",
      "    ] ;     \n",
      "  ] ;  \n",
      "  gsoc:hasQuality [\n",
      "     xdd:t_period gsoc:hasValue [\n",
      "       \"Ordovician\" ; \n",
      "    ] ;     \n",
      "  ] ;  \n",
      "  xdd:isIn gsoc:SpatialLocation [\n",
      "     gsoc:hasValue [\n",
      "       \"Minnesota\" ; \n",
      "    ] ;     \n",
      "  ] ;  \n",
      "  gsoc:hasQuality [\n",
      "     gsoc:SpatialLocation [\n",
      "       gsoc:hasValue [\n",
      "         \"Minnesota\" ; \n",
      "      ] ;       \n",
      "    ] ;     \n",
      "  ] ;  \n",
      "  gsoc:hasValue [\n",
      "     gsoc:SpatialLocation [\n",
      "       gsoc:hasValue [\n",
      "         gsoc:SpatialValue [\n",
      "           (POINT 46.729552999999996 -94.6858998) ; \n",
      "        ] ;         \n",
      "      ] ;       \n",
      "    ] ;     \n",
      "  ] ;\n",
      ".\n"
     ]
    }
   ],
   "source": [
    "from text2graph.gkm import gkm_to_string\n",
    "\n",
    "result = gkm_to_string(gkm_list)\n",
    "print(result)"
   ],
   "metadata": {
    "collapsed": false,
    "ExecuteTime": {
     "end_time": "2024-03-18T16:41:09.158555Z",
     "start_time": "2024-03-18T16:41:09.155065Z"
    }
   },
   "id": "9d41ffc9637ee5f1",
   "execution_count": 4
  },
  {
   "cell_type": "code",
   "outputs": [],
   "source": [],
   "metadata": {
    "collapsed": false,
    "ExecuteTime": {
     "end_time": "2024-03-18T16:41:09.164441Z",
     "start_time": "2024-03-18T16:41:09.162401Z"
    }
   },
   "id": "9ba8aa2236de2e9b",
   "execution_count": 4
  }
 ],
 "metadata": {
  "kernelspec": {
   "display_name": "Python 3",
   "language": "python",
   "name": "python3"
  },
  "language_info": {
   "codemirror_mode": {
    "name": "ipython",
    "version": 2
   },
   "file_extension": ".py",
   "mimetype": "text/x-python",
   "name": "python",
   "nbconvert_exporter": "python",
   "pygments_lexer": "ipython2",
   "version": "2.7.6"
  }
 },
 "nbformat": 4,
 "nbformat_minor": 5
}
