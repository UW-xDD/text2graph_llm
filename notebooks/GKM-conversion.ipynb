{
 "cells": [
  {
   "cell_type": "markdown",
   "id": "122406b76068101",
   "metadata": {
    "collapsed": false
   },
   "source": [
    "# GKM Ontology conversion of llm derived triplets"
   ]
  },
  {
   "cell_type": "markdown",
   "id": "e3d1dd9f08402719",
   "metadata": {
    "collapsed": false
   },
   "source": [
    "## import triple data"
   ]
  },
  {
   "cell_type": "code",
   "execution_count": 1,
   "id": "344521ab32c5713d",
   "metadata": {
    "ExecuteTime": {
     "end_time": "2024-03-20T19:08:29.411975Z",
     "start_time": "2024-03-20T19:08:29.247716Z"
    },
    "collapsed": false
   },
   "outputs": [
    {
     "name": "stderr",
     "output_type": "stream",
     "text": [
      "INFO:root:loaded shakopee_triplet from disk\n"
     ]
    },
    {
     "data": {
      "text/plain": "{'subject': {'strat_name': 'Shakopee',\n  'strat_name_long': 'Shakopee Formation',\n  'rank': 'Fm',\n  'strat_name_id': 1876,\n  'concept_id': 10342,\n  'bed': '',\n  'bed_id': 0,\n  'mbr': '',\n  'mbr_id': 0,\n  'fm': 'Shakopee',\n  'fm_id': 1876,\n  'subgp': '',\n  'subgp_id': 0,\n  'gp': 'Prairie du Chien',\n  'gp_id': 2622,\n  'sgp': '',\n  'sgp_id': 0,\n  'b_age': 479.625,\n  't_age': 475.775,\n  'b_period': 'Ordovician',\n  't_period': 'Ordovician',\n  'c_interval': '',\n  't_units': 10,\n  'ref_id': 1},\n 'predicate': 'is_in',\n 'object': {'name': 'Minnesota',\n  'lat': 46.729552999999996,\n  'lon': -94.6858998}}"
     },
     "execution_count": 1,
     "metadata": {},
     "output_type": "execute_result"
    }
   ],
   "source": [
    "from text2graph.schema import RelationshipTriplet\n",
    "from pathlib import Path\n",
    "import json\n",
    "import dotenv\n",
    "import logging\n",
    "\n",
    "\n",
    "logging.basicConfig(level=logging.INFO)\n",
    "dotenv.load_dotenv()\n",
    "\n",
    "\n",
    "shakopee_triplet_path = Path(\"../data/shakopee_triplet.json\")\n",
    "try:\n",
    "    with open(shakopee_triplet_path, \"r\") as f:\n",
    "        shakopee_triplet = json.load(f)\n",
    "    logging.info(\"loaded shakopee_triplet from disk\")\n",
    "\n",
    "except FileNotFoundError:\n",
    "    logging.warning(\"no shakopee_triplet file found, calling SERPAPI...\")\n",
    "    raw_llm_output = (\"Shakopee\", \"Minnesota\", \"is_in\")\n",
    "    subject, object, predicate = raw_llm_output\n",
    "    triplet = RelationshipTriplet (subject=subject, object=object, predicate=predicate)\n",
    "    shakopee_triplet = triplet.dict()\n",
    "    with open(shakopee_triplet_path, \"w\") as f:\n",
    "        json.dump(shakopee_triplet, f)\n",
    "\n",
    "shakopee_triplet"
   ]
  },
  {
   "cell_type": "markdown",
   "id": "f5c22478b5753fd2",
   "metadata": {
    "collapsed": false
   },
   "source": [
    "## Convert to GKM TTL"
   ]
  },
  {
   "cell_type": "code",
   "execution_count": 3,
   "id": "a6af685e72b384a7",
   "metadata": {
    "ExecuteTime": {
     "end_time": "2024-03-20T19:09:39.172800Z",
     "start_time": "2024-03-20T19:09:39.165617Z"
    },
    "collapsed": false
   },
   "outputs": [
    {
     "name": "stdout",
     "output_type": "stream",
     "text": [
      "@prefix gsgu: <https://w3id.org/gso/geologicunit/> .\n",
      "@prefix gsoc: <https://w3id.org/gso/1.0/common/> .\n",
      "@prefix gsog: <https://w3id.org/gso/geology/> .\n",
      "@prefix gspr: <https://w3id.org/gso/geologicprocess/> .\n",
      "@prefix gst: <https://w3id.org/gso/geologictime/> .\n",
      "@prefix msl: <https://macrostrat.org/lexicon/> .\n",
      "@prefix rdfs: <http://www.w3.org/2000/01/rdf-schema#> .\n",
      "@prefix xsd: <http://www.w3.org/2001/XMLSchema#> .\n",
      "\n",
      "msl:ShakopeeFormation a gsgu:Formation ;\n",
      "    rdfs:label \"Shakopee Formation\"@en ;\n",
      "    gsoc:hasQuality [ a gsoc:SpatialLocation ;\n",
      "            gsoc:hasValue [ a gsoc:WKT_Value ;\n",
      "                    gsoc:hasDataValue \"( POINT -94.6858998 46.729552999999996 )\" ;\n",
      "                    gsoc:hasReferenceSystem <https://epsg.io/4326> ],\n",
      "                [ a gsoc:SpatialValue ;\n",
      "                    gsoc:hasDataValue \"Minnesota\"@en ] ] ;\n",
      "    gsoc:isPartOf msl:PrairieduChienGroup ;\n",
      "    gsoc:isParticipantIn [ a gspr:Deposition ;\n",
      "            rdfs:label \"Deposition during Ordovician\"@en ;\n",
      "            gsoc:occupiesTimeDirectly gst:OrdovicianPeriod ] ;\n",
      "    gsoc:occupiesTimeDirectly [ a gsog:Geologic_Time_Interval ;\n",
      "            gsoc:hasQuality [ a gsoc:Time_Interval_Location ;\n",
      "                    gsoc:hasValue [ a gsoc:Temporal_Range ;\n",
      "                            gsoc:hasEndValue [ a gsoc:Time_Numeric_Value ;\n",
      "                                    gsoc:hasDataValue 4.75775e+02 ] ;\n",
      "                            gsoc:hasStartValue [ a gsoc:Time_Numeric_Value ;\n",
      "                                    gsoc:hasDataValue 4.79625e+02 ] ] ] ] .\n",
      "\n",
      "<https://epsg.io/4326> a gsoc:Geographic_Coordinate_System .\n",
      "\n",
      "msl:PrairieduChienGroup a gsgu:Group .\n"
     ]
    }
   ],
   "source": [
    "from text2graph.gkm import triplet_to_rdf, graph_to_ttl_string\n",
    "\n",
    "shakopee_triplet_graph = triplet_to_rdf(shakopee_triplet)\n",
    "print(\n",
    "    graph_to_ttl_string(\n",
    "        g=shakopee_triplet_graph, filename=Path(\"./shakopee_triplet.ttl\")\n",
    "    )\n",
    ")"
   ]
  },
  {
   "cell_type": "code",
   "execution_count": 2,
   "id": "6004255615edeb5b",
   "metadata": {
    "ExecuteTime": {
     "end_time": "2024-03-20T19:08:29.600667Z",
     "start_time": "2024-03-20T19:08:29.598618Z"
    },
    "collapsed": false
   },
   "outputs": [],
   "source": []
  }
 ],
 "metadata": {
  "kernelspec": {
   "display_name": "Python 3",
   "language": "python",
   "name": "python3"
  },
  "language_info": {
   "codemirror_mode": {
    "name": "ipython",
    "version": 2
   },
   "file_extension": ".py",
   "mimetype": "text/x-python",
   "name": "python",
   "nbconvert_exporter": "python",
   "pygments_lexer": "ipython2",
   "version": "2.7.6"
  }
 },
 "nbformat": 4,
 "nbformat_minor": 5
}
