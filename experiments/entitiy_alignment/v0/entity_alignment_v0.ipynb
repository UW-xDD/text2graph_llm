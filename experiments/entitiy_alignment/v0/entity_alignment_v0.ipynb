{
 "cells": [
  {
   "cell_type": "markdown",
   "metadata": {},
   "source": [
    "# Entity Alignment Experiment\n",
    "\n",
    "Problem Statement: Entities extracted from Large Language Models (LLMs) often lack consistency, leading to messy data. Our goal is to standardize these entities into a canonical form to ensure they reference the same concept.\n",
    "\n",
    "Procedure:\n",
    "\n",
    "1. Extract Entities: Identify and isolate entities from the data provided by the LLM.\n",
    "1. Project to Semantic Space: Map these entities onto a semantic space where they can be analyzed based on meaning.\n",
    "1. Define Canonical Form: Determine the canonical form of entities by measuring the semantic distance between them. This involves setting a similarity threshold manually to decide when entities are considered equivalent."
   ]
  },
  {
   "cell_type": "code",
   "execution_count": null,
   "metadata": {},
   "outputs": [],
   "source": [
    "import altair as alt\n",
    "import numpy as np\n",
    "import pandas as pd\n",
    "from sentence_transformers import SentenceTransformer\n",
    "from sklearn.manifold import TSNE\n",
    "from sklearn.metrics.pairwise import cosine_similarity\n",
    "\n",
    "from text2graph.macrostrat import get_all_lithologies, get_all_strat_names\n",
    "\n",
    "alt.data_transformers.disable_max_rows()"
   ]
  },
  {
   "cell_type": "code",
   "execution_count": null,
   "metadata": {},
   "outputs": [],
   "source": [
    "# # Pre-process entities\n",
    "# df = pd.read_sql(\"SELECT * FROM entities\", \"sqlite:///data/entities.db\")\n",
    "\n",
    "\n",
    "# def flatten(x: pd.Series) -> list[str]:\n",
    "#     \"\"\"Flatten a list of lists.\"\"\"\n",
    "#     outputs = []\n",
    "#     for i in x:\n",
    "#         outputs.extend([j.strip() for j in i.split(\",\") if j.strip()])\n",
    "#     return sorted(list(set(outputs)))\n",
    "\n",
    "\n",
    "# locations = flatten(df.locations)\n",
    "# strats = flatten(df.stratigraphic_names)\n",
    "# liths = flatten(df.lithologies)\n",
    "\n",
    "\n",
    "# df = pd.DataFrame(\n",
    "#     {\n",
    "#         \"category\": [\"location\"] * len(locations)\n",
    "#         + [\"stratigraphic_name\"] * len(strats)\n",
    "#         + [\"lithology\"] * len(liths),\n",
    "#         \"name\": locations + strats + liths,\n",
    "#     }\n",
    "# )\n",
    "\n",
    "# df.to_parquet(\"data/llm_entities_v0.parquet\", index=False)"
   ]
  },
  {
   "cell_type": "code",
   "execution_count": null,
   "metadata": {},
   "outputs": [],
   "source": [
    "# # Calculate embeddings\n",
    "\n",
    "# model = SentenceTransformer(\"sentence-transformers/all-MiniLM-L6-v2\")\n",
    "# embeddings = model.encode(df.name.to_list())\n",
    "# np.savez(\"data/llm_entities_v0.npz\", embeddings=embeddings)"
   ]
  },
  {
   "cell_type": "code",
   "execution_count": null,
   "metadata": {},
   "outputs": [],
   "source": [
    "df_llm = pd.read_parquet(\"data/llm_entities_v0.parquet\")\n",
    "embeddings_llm = np.load(\"data/llm_entities_v0.npz\")[\"embeddings\"]"
   ]
  },
  {
   "cell_type": "markdown",
   "metadata": {},
   "source": [
    "Try to anchor with the known entities (strat and lith)"
   ]
  },
  {
   "cell_type": "code",
   "execution_count": null,
   "metadata": {},
   "outputs": [],
   "source": [
    "macrostrat_strat_names = get_all_strat_names(long=True)\n",
    "macrostrat_lithologies = get_all_lithologies()"
   ]
  },
  {
   "cell_type": "code",
   "execution_count": null,
   "metadata": {},
   "outputs": [],
   "source": [
    "# macrostrat_embeddings = model.encode(macrostrat_strat_names + macrostrat_lithologies)\n",
    "# macrostrat_df = pd.DataFrame(\n",
    "#     {\n",
    "#         \"category\": [\"known_stratigraphic_name\"] * len(macrostrat_strat_names)\n",
    "#         + [\"known_lithology\"] * len(macrostrat_lithologies),\n",
    "#         \"name\": macrostrat_strat_names + macrostrat_lithologies,\n",
    "#     }\n",
    "# )\n",
    "\n",
    "# np.savez(\"data/known_entities_v0.npz\", embeddings=macrostrat_embeddings)\n",
    "# macrostrat_df.to_parquet(\"data/known_entities_v0.parquet\", index=False)"
   ]
  },
  {
   "cell_type": "code",
   "execution_count": null,
   "metadata": {},
   "outputs": [],
   "source": [
    "df_known = pd.read_parquet(\"data/known_entities_v0.parquet\")\n",
    "embeddings_known = np.load(\"data/known_entities_v0.npz\")[\"embeddings\"]"
   ]
  },
  {
   "cell_type": "markdown",
   "metadata": {},
   "source": [
    "## Plot every llm and known entities in 2D"
   ]
  },
  {
   "cell_type": "code",
   "execution_count": null,
   "metadata": {},
   "outputs": [],
   "source": [
    "df = pd.concat([df_llm, macrostrat_df]).reset_index(drop=True)\n",
    "embeddings = np.concatenate([embeddings_llm, embeddings_known])\n",
    "\n",
    "# t-sne projection\n",
    "tsne = TSNE(n_components=2, random_state=0)\n",
    "x_2d = tsne.fit_transform(embeddings)"
   ]
  },
  {
   "cell_type": "code",
   "execution_count": null,
   "metadata": {},
   "outputs": [],
   "source": [
    "df[\"x\"] = x_2d[:, 0]\n",
    "df[\"y\"] = x_2d[:, 1]"
   ]
  },
  {
   "cell_type": "code",
   "execution_count": null,
   "metadata": {},
   "outputs": [],
   "source": [
    "df.to_parquet(\"data/df_merged_v0.parquet\", index=False)"
   ]
  },
  {
   "cell_type": "code",
   "execution_count": null,
   "metadata": {},
   "outputs": [],
   "source": [
    "plot = (\n",
    "    (\n",
    "        alt.Chart(df)\n",
    "        .mark_circle()\n",
    "        .encode(\n",
    "            x=\"x\",\n",
    "            y=\"y\",\n",
    "            color=\"category\",\n",
    "            tooltip=[\"category\", \"name\"],\n",
    "        )\n",
    "        .interactive()\n",
    "    )\n",
    "    .properties(width=1000, height=1000)\n",
    "    .save(\"data/entities_v0_tsne.html\")\n",
    ")"
   ]
  },
  {
   "cell_type": "markdown",
   "metadata": {},
   "source": [
    "- location and lithology seems to be quite separated \n",
    "- strat name seems to covers quite a board area, which could separate is subgroup? However, the subgroups are very superficial, e.g., \"granite\", \"sandstone\", \"limestone\", \"volcanics\", \" -member\", \" -formation\". \n",
    "- Somewhat dead-end. Strat name's namespace perhaps is too sparse (in the training data) to encode any geologically meaning information."
   ]
  },
  {
   "cell_type": "markdown",
   "metadata": {},
   "source": [
    "## Closest known entity\n",
    "\n",
    "Will the closet known entity make sense?"
   ]
  },
  {
   "cell_type": "code",
   "execution_count": null,
   "metadata": {},
   "outputs": [],
   "source": [
    "df.category.unique()"
   ]
  },
  {
   "cell_type": "code",
   "execution_count": null,
   "metadata": {},
   "outputs": [],
   "source": [
    "def get_closest_known_entity(\n",
    "    row: pd.Series,\n",
    "    embeddings: np.ndarray,\n",
    "    known_df: pd.DataFrame,\n",
    "    known_embeddings: np.ndarray,\n",
    ") -> tuple[str | None, str | None, float | None]:\n",
    "    assert len(known_df) == known_embeddings.shape[0]\n",
    "    \"\"\"Get the closest known entity to a given case according to its category.\"\"\"\n",
    "\n",
    "    # Get the embedding of the case\n",
    "    idx = row.name\n",
    "    x = embeddings[idx].reshape(1, -1)\n",
    "\n",
    "    # Return the closest known entity in the same category\n",
    "    x_category = df.iloc[idx][\"category\"]\n",
    "    known_df_in_category = known_df[known_df[\"category\"] == f\"known_{x_category}\"]\n",
    "\n",
    "    if known_df_in_category.empty:\n",
    "        return (None, None, None)\n",
    "\n",
    "    known_embeddings_in_category = known_embeddings[known_df_in_category.index]\n",
    "\n",
    "    similarity = cosine_similarity(x, known_embeddings_in_category).flatten()\n",
    "    idx_closest = np.argmax(similarity)\n",
    "    return (\n",
    "        row.name,  # idx\n",
    "        row[\"name\"],\n",
    "        row[\"category\"],\n",
    "        known_df_in_category.iloc[idx_closest][\"name\"],\n",
    "        known_df_in_category.iloc[idx_closest][\"category\"],\n",
    "        similarity[idx_closest],\n",
    "    )"
   ]
  },
  {
   "cell_type": "code",
   "execution_count": null,
   "metadata": {},
   "outputs": [],
   "source": [
    "# Let's test the function on 10 cases to be save time\n",
    "df_test = df.query(\"category in ['stratigraphic_name', 'lithology']\").sample(10)\n",
    "df_test"
   ]
  },
  {
   "cell_type": "code",
   "execution_count": null,
   "metadata": {},
   "outputs": [],
   "source": [
    "tmp = df_test.apply(\n",
    "    get_closest_known_entity,\n",
    "    args=(embeddings_llm, df_known, embeddings_known),\n",
    "    axis=1,\n",
    ")"
   ]
  },
  {
   "cell_type": "code",
   "execution_count": null,
   "metadata": {},
   "outputs": [],
   "source": [
    "closest_df = pd.DataFrame(\n",
    "    tmp.to_list(),\n",
    "    columns=[\n",
    "        \"idx\",\n",
    "        \"name\",\n",
    "        \"category\",\n",
    "        \"closest_known_entity\",\n",
    "        \"closest_category\",\n",
    "        \"closest_similarity\",\n",
    "    ],\n",
    ")\n",
    "closest_df"
   ]
  },
  {
   "cell_type": "code",
   "execution_count": null,
   "metadata": {},
   "outputs": [],
   "source": [
    "# Apply to whole test set\n",
    "\n",
    "df_test = df.query(\"category in ['stratigraphic_name', 'lithology']\")\n",
    "tmp = df_test.apply(\n",
    "    get_closest_known_entity,\n",
    "    args=(embeddings_llm, df_known, embeddings_known),\n",
    "    axis=1,\n",
    ")\n",
    "closest_df = pd.DataFrame(\n",
    "    tmp.to_list(),\n",
    "    columns=[\n",
    "        \"idx\",\n",
    "        \"name\",\n",
    "        \"category\",\n",
    "        \"closest_known_entity\",\n",
    "        \"closest_category\",\n",
    "        \"closest_similarity\",\n",
    "    ],\n",
    ")\n",
    "closest_df.to_parquet(\"data/closest_known_entities_v0.parquet\", index=False)"
   ]
  },
  {
   "cell_type": "markdown",
   "metadata": {},
   "source": [
    "We may want to select an arbitrary threshold for similarity cutoff. Let see when will the similarity metrics breaks, where it wrongfully map an entity to an irrelevant known entity.  "
   ]
  },
  {
   "cell_type": "code",
   "execution_count": null,
   "metadata": {},
   "outputs": [],
   "source": [
    "closest_df.sort_values(\"closest_similarity\", ascending=False).to_csv(\n",
    "    \"data/closest_known_entities_v0.csv\", index=True\n",
    ")"
   ]
  }
 ],
 "metadata": {
  "kernelspec": {
   "display_name": "Python 3",
   "language": "python",
   "name": "python3"
  },
  "language_info": {
   "codemirror_mode": {
    "name": "ipython",
    "version": 3
   },
   "file_extension": ".py",
   "mimetype": "text/x-python",
   "name": "python",
   "nbconvert_exporter": "python",
   "pygments_lexer": "ipython3",
   "version": "3.11.8"
  }
 },
 "nbformat": 4,
 "nbformat_minor": 2
}
