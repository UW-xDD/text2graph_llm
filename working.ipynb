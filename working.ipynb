{
 "cells": [
  {
   "cell_type": "markdown",
   "metadata": {},
   "source": [
    "1. Load batch data\n",
    "2. Loop cases\n",
    "3. Push results back to staging SQLite"
   ]
  },
  {
   "cell_type": "code",
   "execution_count": null,
   "metadata": {},
   "outputs": [],
   "source": [
    "import sqlite3\n",
    "import logging\n",
    "import pandas as pd\n",
    "import json\n",
    "\n",
    "from text2graph.utils import get_output_info, get_eta\n",
    "\n",
    "logging.basicConfig(level=logging.INFO)"
   ]
  },
  {
   "cell_type": "code",
   "execution_count": null,
   "metadata": {},
   "outputs": [],
   "source": [
    "run_name = \"olvi\"\n",
    "\n",
    "get_eta(\n",
    "    eval_db=\"data/eval.db\",\n",
    "    test_set=\"data/formation_sample.parquet.gzip\",\n",
    "    run_name=run_name,\n",
    "    n_workers=2,\n",
    ")"
   ]
  },
  {
   "cell_type": "markdown",
   "metadata": {},
   "source": [
    "Calculate the estimated finish time for the run"
   ]
  },
  {
   "cell_type": "markdown",
   "metadata": {},
   "source": [
    "Parsing output to triplet format"
   ]
  },
  {
   "cell_type": "code",
   "execution_count": 16,
   "metadata": {},
   "outputs": [],
   "source": [
    "def get_content(output: str) -> list[dict]:\n",
    "    \"\"\"Get the content from the record.\"\"\"\n",
    "    if not output:\n",
    "        return []\n",
    "    return get_output_info(output, [\"message\", \"content\"])\n",
    "\n",
    "\n",
    "def to_json(x: str) -> dict:\n",
    "    \"\"\"Parse to proper json.\"\"\"\n",
    "    try:\n",
    "        return json.loads(x)\n",
    "    except Exception:\n",
    "        return None"
   ]
  },
  {
   "cell_type": "markdown",
   "metadata": {},
   "source": [
    "### Extract output data"
   ]
  },
  {
   "cell_type": "code",
   "execution_count": null,
   "metadata": {},
   "outputs": [],
   "source": [
    "conn = sqlite3.connect(\"data/eval.db\")\n",
    "db_df = pd.read_sql_query(\"SELECT * FROM olvi;\", conn)\n",
    "\n",
    "db_df[\"raw_triplets\"] = db_df[\"output\"].apply(get_content)\n",
    "db_df[\"triplet\"] = db_df.raw_triplets.apply(to_json)"
   ]
  },
  {
   "cell_type": "code",
   "execution_count": null,
   "metadata": {},
   "outputs": [],
   "source": [
    "# Save the problematic cases\n",
    "problematic = db_df[~db_df[\"triplet\"].apply(bool)]\n",
    "problematic.to_parquet(\"problematic.parquet.gzip\", compression=\"gzip\")\n",
    "print(problematic.id.tolist())"
   ]
  }
 ],
 "metadata": {
  "kernelspec": {
   "display_name": "Python 3",
   "language": "python",
   "name": "python3"
  },
  "language_info": {
   "codemirror_mode": {
    "name": "ipython",
    "version": 3
   },
   "file_extension": ".py",
   "mimetype": "text/x-python",
   "name": "python",
   "nbconvert_exporter": "python",
   "pygments_lexer": "ipython3",
   "version": "3.11.6"
  }
 },
 "nbformat": 4,
 "nbformat_minor": 2
}
