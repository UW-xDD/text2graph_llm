{
 "cells": [
  {
   "cell_type": "markdown",
   "metadata": {},
   "source": [
    "1. Load batch data\n",
    "2. Loop cases\n",
    "3. Push results back to staging SQLite"
   ]
  },
  {
   "cell_type": "code",
   "execution_count": null,
   "metadata": {},
   "outputs": [],
   "source": [
    "import sqlite3\n",
    "import pandas as pd\n",
    "import json"
   ]
  },
  {
   "cell_type": "code",
   "execution_count": null,
   "metadata": {},
   "outputs": [],
   "source": [
    "df = pd.read_parquet(\"data/formation_sample.parquet.gzip\")\n",
    "n = len(df)"
   ]
  },
  {
   "cell_type": "code",
   "execution_count": null,
   "metadata": {},
   "outputs": [],
   "source": [
    "run_name = \"olvi\"\n",
    "conn = sqlite3.connect(\"data/eval.db\")\n",
    "cursor = conn.cursor()\n",
    "y = cursor.execute(f\"SELECT DISTINCT id FROM {run_name}\")\n",
    "record = y.fetchall()\n",
    "len(record)"
   ]
  },
  {
   "cell_type": "code",
   "execution_count": null,
   "metadata": {},
   "outputs": [],
   "source": [
    "ids = [r[0] for r in record]\n",
    "print(ids)"
   ]
  },
  {
   "cell_type": "code",
   "execution_count": null,
   "metadata": {},
   "outputs": [],
   "source": [
    "y = cursor.execute(f\"SELECT * FROM {run_name} LIMIT 10\")\n",
    "record = y.fetchall()"
   ]
  },
  {
   "cell_type": "code",
   "execution_count": null,
   "metadata": {},
   "outputs": [],
   "source": [
    "def get_output_info(output: str, route: list[str]) -> str:\n",
    "    \"\"\"Get the information from the output.\"\"\"\n",
    "    response = json.loads(output)\n",
    "    for r in route:\n",
    "        response = response[r]\n",
    "    return response\n",
    "\n",
    "\n",
    "def parse_output(output: str) -> list[dict]:\n",
    "    \"\"\"Parse the json output from the database.\"\"\"\n",
    "\n",
    "    response = json.loads(output)\n",
    "    return json.loads(response[\"message\"][\"content\"])"
   ]
  },
  {
   "cell_type": "code",
   "execution_count": null,
   "metadata": {},
   "outputs": [],
   "source": [
    "get_output_info(record[0][2], route=[\"eval_duration\"])"
   ]
  },
  {
   "cell_type": "code",
   "execution_count": null,
   "metadata": {},
   "outputs": [],
   "source": [
    "eval_durations = []\n",
    "for r in record:\n",
    "    eval_durations.append(get_output_info(r[2], route=[\"eval_duration\"]))\n",
    "\n",
    "expected_finish_hours = n * (max(eval_durations) / 1e9) / 3600 / 6\n",
    "\n",
    "import datetime\n",
    "\n",
    "finish_time = datetime.datetime.now() + datetime.timedelta(hours=expected_finish_hours)\n",
    "print(f\"ETA: {finish_time.strftime('%Y-%m-%d %H:%M:%S')}\")"
   ]
  },
  {
   "cell_type": "code",
   "execution_count": null,
   "metadata": {},
   "outputs": [],
   "source": [
    "parse_output(record[0][2])"
   ]
  }
 ],
 "metadata": {
  "kernelspec": {
   "display_name": "Python 3",
   "language": "python",
   "name": "python3"
  },
  "language_info": {
   "codemirror_mode": {
    "name": "ipython",
    "version": 3
   },
   "file_extension": ".py",
   "mimetype": "text/x-python",
   "name": "python",
   "nbconvert_exporter": "python",
   "pygments_lexer": "ipython3",
   "version": "3.11.6"
  }
 },
 "nbformat": 4,
 "nbformat_minor": 2
}
