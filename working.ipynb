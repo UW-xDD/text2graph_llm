{
 "cells": [
  {
   "cell_type": "markdown",
   "metadata": {},
   "source": [
    "1. Load batch data\n",
    "2. Loop cases\n",
    "3. Push results back to staging SQLite"
   ]
  },
  {
   "cell_type": "code",
   "execution_count": null,
   "metadata": {},
   "outputs": [],
   "source": [
    "import sqlite3\n",
    "import pandas as pd\n",
    "import numpy as np\n",
    "import json\n",
    "import datetime"
   ]
  },
  {
   "cell_type": "code",
   "execution_count": null,
   "metadata": {},
   "outputs": [],
   "source": [
    "df = pd.read_parquet(\"data/formation_sample.parquet.gzip\")\n",
    "n = len(df)"
   ]
  },
  {
   "cell_type": "code",
   "execution_count": null,
   "metadata": {},
   "outputs": [],
   "source": [
    "run_name = \"olvi\"\n",
    "conn = sqlite3.connect(\"data/eval.db\")\n",
    "cursor = conn.cursor()\n",
    "y = cursor.execute(f\"SELECT DISTINCT id FROM {run_name}\")\n",
    "records = y.fetchall()\n",
    "completed = len(records)\n",
    "completed"
   ]
  },
  {
   "cell_type": "code",
   "execution_count": null,
   "metadata": {},
   "outputs": [],
   "source": [
    "ids = [r[0] for r in records]\n",
    "print(ids)"
   ]
  },
  {
   "cell_type": "code",
   "execution_count": null,
   "metadata": {},
   "outputs": [],
   "source": [
    "y = cursor.execute(f\"SELECT * FROM {run_name} LIMIT 100\")\n",
    "records = y.fetchall()"
   ]
  },
  {
   "cell_type": "code",
   "execution_count": null,
   "metadata": {},
   "outputs": [],
   "source": [
    "def get_output_info(output: str, route: list[str]) -> str:\n",
    "    \"\"\"Get the information from the output.\"\"\"\n",
    "    response = json.loads(output)\n",
    "    for r in route:\n",
    "        response = response[r]\n",
    "\n",
    "    try:\n",
    "        return json.loads(response)\n",
    "    except TypeError:\n",
    "        return response"
   ]
  },
  {
   "cell_type": "markdown",
   "metadata": {},
   "source": [
    "Calculate the estimated finish time for the run"
   ]
  },
  {
   "cell_type": "code",
   "execution_count": null,
   "metadata": {},
   "outputs": [],
   "source": [
    "eval_durations = []\n",
    "for r in records:\n",
    "    output = r[2]\n",
    "    eval_durations.append(get_output_info(output, route=[\"eval_duration\"]))\n",
    "expected_finish_hours = (n - completed) * (np.mean(eval_durations) / 1e9) / 3600 / 6\n",
    "\n",
    "\n",
    "finish_time = datetime.datetime.now() + datetime.timedelta(hours=expected_finish_hours)\n",
    "print(f\"ETA: {finish_time.strftime('%Y-%m-%d %H:%M:%S')}\")"
   ]
  },
  {
   "cell_type": "markdown",
   "metadata": {},
   "source": [
    "Parsing output to triplet format"
   ]
  },
  {
   "cell_type": "code",
   "execution_count": null,
   "metadata": {},
   "outputs": [],
   "source": [
    "def parse_output(output: str) -> list[dict]:\n",
    "    \"\"\"Parse the json output from the record.\"\"\"\n",
    "    return get_output_info(output, [\"message\", \"content\"])\n",
    "\n",
    "\n",
    "parse_output(records[0][2])"
   ]
  },
  {
   "cell_type": "markdown",
   "metadata": {},
   "source": [
    "Drop obsolete testing tables"
   ]
  },
  {
   "cell_type": "code",
   "execution_count": null,
   "metadata": {},
   "outputs": [],
   "source": [
    "# Drop test table\n",
    "drop_table_name = \"test_olvi\"\n",
    "cursor.execute(f\"DROP TABLE IF EXISTS {drop_table_name}\")"
   ]
  }
 ],
 "metadata": {
  "kernelspec": {
   "display_name": "Python 3",
   "language": "python",
   "name": "python3"
  },
  "language_info": {
   "codemirror_mode": {
    "name": "ipython",
    "version": 3
   },
   "file_extension": ".py",
   "mimetype": "text/x-python",
   "name": "python",
   "nbconvert_exporter": "python",
   "pygments_lexer": "ipython3",
   "version": "3.11.6"
  }
 },
 "nbformat": 4,
 "nbformat_minor": 2
}
