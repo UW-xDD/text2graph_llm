{
 "cells": [
  {
   "cell_type": "markdown",
   "metadata": {},
   "source": [
    "# Entity alignment experiment\n",
    "\n",
    "Problem: The entities extracted from LLM can be messy, we need to align it into some canonical form to make sure they are referring to the same thing.\n",
    "\n",
    "Steps:\n",
    "\n",
    "1. Extract entities\n",
    "2. Project to semantic space\n",
    "3. Use distance metric to defines it canonical form, semi-manually"
   ]
  },
  {
   "cell_type": "code",
   "execution_count": 1,
   "metadata": {},
   "outputs": [],
   "source": [
    "import pandas as pd"
   ]
  },
  {
   "cell_type": "code",
   "execution_count": 15,
   "metadata": {},
   "outputs": [
    {
     "data": {
      "text/html": [
       "<div>\n",
       "<style scoped>\n",
       "    .dataframe tbody tr th:only-of-type {\n",
       "        vertical-align: middle;\n",
       "    }\n",
       "\n",
       "    .dataframe tbody tr th {\n",
       "        vertical-align: top;\n",
       "    }\n",
       "\n",
       "    .dataframe thead th {\n",
       "        text-align: right;\n",
       "    }\n",
       "</style>\n",
       "<table border=\"1\" class=\"dataframe\">\n",
       "  <thead>\n",
       "    <tr style=\"text-align: right;\">\n",
       "      <th></th>\n",
       "      <th>hashed_text</th>\n",
       "      <th>paper_id</th>\n",
       "      <th>locations</th>\n",
       "      <th>stratigraphic_names</th>\n",
       "      <th>lithologies</th>\n",
       "    </tr>\n",
       "  </thead>\n",
       "  <tbody>\n",
       "    <tr>\n",
       "      <th>0</th>\n",
       "      <td>e4e6002ff052b9a38219850ded0fb4d6e7a71c78a22558...</td>\n",
       "      <td>5579aff0e138231c9f6883e9</td>\n",
       "      <td>Fortieth Parallel, Danforth Hills KRCRA, White...</td>\n",
       "      <td>coal fields</td>\n",
       "      <td>coal</td>\n",
       "    </tr>\n",
       "    <tr>\n",
       "      <th>1</th>\n",
       "      <td>3350d7bfada96f205f228e871c3685de2a9005bb6cecca...</td>\n",
       "      <td>5579aff0e138231c9f6883e9</td>\n",
       "      <td>Fort Union, Wasatch, Green River</td>\n",
       "      <td>Fort Union Formation, Wasatch Formation, Green...</td>\n",
       "      <td>detrital material, conglomerates, sandstones, ...</td>\n",
       "    </tr>\n",
       "    <tr>\n",
       "      <th>2</th>\n",
       "      <td>9c1ac904c7057e1bb19ad43f41b6bc9b2eda5af5ce71b0...</td>\n",
       "      <td>5579aff0e138231c9f6883e9</td>\n",
       "      <td>northeastern part of the quadrangle</td>\n",
       "      <td>Williams Fork Formation, Trout Creek Sandstone...</td>\n",
       "      <td>sandstone, siltstone, claystone, carbonaceous ...</td>\n",
       "    </tr>\n",
       "    <tr>\n",
       "      <th>3</th>\n",
       "      <td>02916f6d7e87ab1c8065656bcb7a56428d02c81e946bc8...</td>\n",
       "      <td>5579aff0e138231c9f6883e9</td>\n",
       "      <td>western half and south-central parts of the qu...</td>\n",
       "      <td>Wasatch Formation, Green River Formation, Anvi...</td>\n",
       "      <td>fluvialte sandstone, siltstone, shale, dark-gr...</td>\n",
       "    </tr>\n",
       "    <tr>\n",
       "      <th>4</th>\n",
       "      <td>9273c5ae295642f4990cfbd61a9b4b887e30b70506612e...</td>\n",
       "      <td>5579aff0e138231c9f6883e9</td>\n",
       "      <td>Tennessee Gas Transmission No. 1 USA Chorney w...</td>\n",
       "      <td>Mesaverde Group, Late Cretaceous age, Mancos S...</td>\n",
       "      <td>fine-grained thick-bedded to massive sandstone...</td>\n",
       "    </tr>\n",
       "  </tbody>\n",
       "</table>\n",
       "</div>"
      ],
      "text/plain": [
       "                                         hashed_text  \\\n",
       "0  e4e6002ff052b9a38219850ded0fb4d6e7a71c78a22558...   \n",
       "1  3350d7bfada96f205f228e871c3685de2a9005bb6cecca...   \n",
       "2  9c1ac904c7057e1bb19ad43f41b6bc9b2eda5af5ce71b0...   \n",
       "3  02916f6d7e87ab1c8065656bcb7a56428d02c81e946bc8...   \n",
       "4  9273c5ae295642f4990cfbd61a9b4b887e30b70506612e...   \n",
       "\n",
       "                   paper_id  \\\n",
       "0  5579aff0e138231c9f6883e9   \n",
       "1  5579aff0e138231c9f6883e9   \n",
       "2  5579aff0e138231c9f6883e9   \n",
       "3  5579aff0e138231c9f6883e9   \n",
       "4  5579aff0e138231c9f6883e9   \n",
       "\n",
       "                                           locations  \\\n",
       "0  Fortieth Parallel, Danforth Hills KRCRA, White...   \n",
       "1                   Fort Union, Wasatch, Green River   \n",
       "2                northeastern part of the quadrangle   \n",
       "3  western half and south-central parts of the qu...   \n",
       "4  Tennessee Gas Transmission No. 1 USA Chorney w...   \n",
       "\n",
       "                                 stratigraphic_names  \\\n",
       "0                                        coal fields   \n",
       "1  Fort Union Formation, Wasatch Formation, Green...   \n",
       "2  Williams Fork Formation, Trout Creek Sandstone...   \n",
       "3  Wasatch Formation, Green River Formation, Anvi...   \n",
       "4  Mesaverde Group, Late Cretaceous age, Mancos S...   \n",
       "\n",
       "                                         lithologies  \n",
       "0                                               coal  \n",
       "1  detrital material, conglomerates, sandstones, ...  \n",
       "2  sandstone, siltstone, claystone, carbonaceous ...  \n",
       "3  fluvialte sandstone, siltstone, shale, dark-gr...  \n",
       "4  fine-grained thick-bedded to massive sandstone...  "
      ]
     },
     "execution_count": 15,
     "metadata": {},
     "output_type": "execute_result"
    }
   ],
   "source": [
    "df = pd.read_sql(\"SELECT * FROM entities\", \"sqlite:///data/entities.db\")\n",
    "df.head()"
   ]
  },
  {
   "cell_type": "code",
   "execution_count": 30,
   "metadata": {},
   "outputs": [],
   "source": [
    "def flatten(x: pd.Series) -> list[str]:\n",
    "    \"\"\"Flatten a list of lists.\"\"\"\n",
    "    outputs = []\n",
    "    for i in x:\n",
    "        outputs.extend([j.strip() for j in i.split(\",\") if j.strip()])\n",
    "    return sorted(list(set(outputs)))"
   ]
  },
  {
   "cell_type": "code",
   "execution_count": 31,
   "metadata": {},
   "outputs": [
    {
     "data": {
      "text/plain": [
       "['! see. 19', '% mile northeast of Anchorage', '% miles northwest of well 155']"
      ]
     },
     "execution_count": 31,
     "metadata": {},
     "output_type": "execute_result"
    }
   ],
   "source": [
    "locations = flatten(df.locations)\n",
    "locations[:3]"
   ]
  },
  {
   "cell_type": "code",
   "execution_count": 32,
   "metadata": {},
   "outputs": [
    {
     "data": {
      "text/plain": [
       "[\"'Bend series'\", \"'Cascade River Schist of Misch (1966)'\", \"'D' coal bed\"]"
      ]
     },
     "execution_count": 32,
     "metadata": {},
     "output_type": "execute_result"
    }
   ],
   "source": [
    "strats = flatten(df.stratigraphic_names)\n",
    "strats[:3]"
   ]
  },
  {
   "cell_type": "code",
   "execution_count": 33,
   "metadata": {},
   "outputs": [
    {
     "data": {
      "text/plain": [
       "[\"'Stratified\",\n",
       " \"'bedded intervals several meters thick of light-gray to white diatomaceous earth'\",\n",
       " \"'bedding faults'\"]"
      ]
     },
     "execution_count": 33,
     "metadata": {},
     "output_type": "execute_result"
    }
   ],
   "source": [
    "liths = flatten(df.lithologies)\n",
    "liths[:3]"
   ]
  },
  {
   "cell_type": "code",
   "execution_count": 34,
   "metadata": {},
   "outputs": [],
   "source": [
    "df = pd.DataFrame(\n",
    "    {\n",
    "        \"category\": [\"location\"] * len(locations)\n",
    "        + [\"stratigraphic_name\"] * len(strats)\n",
    "        + [\"lithology\"] * len(liths),\n",
    "        \"name\": locations + strats + liths,\n",
    "    }\n",
    ")"
   ]
  },
  {
   "cell_type": "code",
   "execution_count": 35,
   "metadata": {},
   "outputs": [
    {
     "data": {
      "text/html": [
       "<div>\n",
       "<style scoped>\n",
       "    .dataframe tbody tr th:only-of-type {\n",
       "        vertical-align: middle;\n",
       "    }\n",
       "\n",
       "    .dataframe tbody tr th {\n",
       "        vertical-align: top;\n",
       "    }\n",
       "\n",
       "    .dataframe thead th {\n",
       "        text-align: right;\n",
       "    }\n",
       "</style>\n",
       "<table border=\"1\" class=\"dataframe\">\n",
       "  <thead>\n",
       "    <tr style=\"text-align: right;\">\n",
       "      <th></th>\n",
       "      <th>category</th>\n",
       "      <th>name</th>\n",
       "    </tr>\n",
       "  </thead>\n",
       "  <tbody>\n",
       "    <tr>\n",
       "      <th>0</th>\n",
       "      <td>location</td>\n",
       "      <td>! see. 19</td>\n",
       "    </tr>\n",
       "    <tr>\n",
       "      <th>1</th>\n",
       "      <td>location</td>\n",
       "      <td>% mile northeast of Anchorage</td>\n",
       "    </tr>\n",
       "    <tr>\n",
       "      <th>2</th>\n",
       "      <td>location</td>\n",
       "      <td>% miles northwest of well 155</td>\n",
       "    </tr>\n",
       "    <tr>\n",
       "      <th>3</th>\n",
       "      <td>location</td>\n",
       "      <td>% miles south of Derby</td>\n",
       "    </tr>\n",
       "    <tr>\n",
       "      <th>4</th>\n",
       "      <td>location</td>\n",
       "      <td>'1'. 12 S.</td>\n",
       "    </tr>\n",
       "    <tr>\n",
       "      <th>...</th>\n",
       "      <td>...</td>\n",
       "      <td>...</td>\n",
       "    </tr>\n",
       "    <tr>\n",
       "      <th>21887</th>\n",
       "      <td>lithology</td>\n",
       "      <td>zoisite</td>\n",
       "    </tr>\n",
       "    <tr>\n",
       "      <th>21888</th>\n",
       "      <td>lithology</td>\n",
       "      <td>zoisite(?)</td>\n",
       "    </tr>\n",
       "    <tr>\n",
       "      <th>21889</th>\n",
       "      <td>lithology</td>\n",
       "      <td>zone of gash veins</td>\n",
       "    </tr>\n",
       "    <tr>\n",
       "      <th>21890</th>\n",
       "      <td>lithology</td>\n",
       "      <td>zoned plagioclase</td>\n",
       "    </tr>\n",
       "    <tr>\n",
       "      <th>21891</th>\n",
       "      <td>lithology</td>\n",
       "      <td>zones</td>\n",
       "    </tr>\n",
       "  </tbody>\n",
       "</table>\n",
       "<p>21892 rows × 2 columns</p>\n",
       "</div>"
      ],
      "text/plain": [
       "        category                           name\n",
       "0       location                      ! see. 19\n",
       "1       location  % mile northeast of Anchorage\n",
       "2       location  % miles northwest of well 155\n",
       "3       location         % miles south of Derby\n",
       "4       location                     '1'. 12 S.\n",
       "...          ...                            ...\n",
       "21887  lithology                        zoisite\n",
       "21888  lithology                     zoisite(?)\n",
       "21889  lithology             zone of gash veins\n",
       "21890  lithology              zoned plagioclase\n",
       "21891  lithology                          zones\n",
       "\n",
       "[21892 rows x 2 columns]"
      ]
     },
     "execution_count": 35,
     "metadata": {},
     "output_type": "execute_result"
    }
   ],
   "source": [
    "df"
   ]
  },
  {
   "cell_type": "code",
   "execution_count": null,
   "metadata": {},
   "outputs": [],
   "source": [
    "from sentence_transformers import SentenceTransformer\n",
    "\n",
    "sentences = [\"This is an example sentence\", \"Each sentence is converted\"]\n",
    "\n",
    "model = SentenceTransformer(\"sentence-transformers/all-MiniLM-L6-v2\")\n",
    "embeddings = model.encode(sentences)\n",
    "print(embeddings)"
   ]
  }
 ],
 "metadata": {
  "kernelspec": {
   "display_name": "Python 3",
   "language": "python",
   "name": "python3"
  },
  "language_info": {
   "codemirror_mode": {
    "name": "ipython",
    "version": 3
   },
   "file_extension": ".py",
   "mimetype": "text/x-python",
   "name": "python",
   "nbconvert_exporter": "python",
   "pygments_lexer": "ipython3",
   "version": "3.11.8"
  }
 },
 "nbformat": 4,
 "nbformat_minor": 2
}
